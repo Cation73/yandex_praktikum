{
 "cells": [
  {
   "cell_type": "markdown",
   "metadata": {},
   "source": [
    "## Определение перспективного тарифа для телеком компании"
   ]
  },
  {
   "cell_type": "markdown",
   "metadata": {},
   "source": [
    "Сфера деятельности - федеральный оператор сотовой связи (телеком).\n",
    "Клиентам предлагают два тарифных плана: «Смарт» и «Ультра». Коммерческий отдел хочет понять, какой тариф приносит больше денег. \n",
    "\n",
    "Необходимо сделать предварительный анализ тарифов на небольшой выборке клиентов. Доступны данные 500 пользователей оператора сотовой связи: кто они, откуда, каким тарифом пользуются, сколько звонков и сообщений каждый отправил за 2018 год. Нужно проанализировать поведение клиентов и сделать вывод — какой тариф лучше."
   ]
  },
  {
   "cell_type": "markdown",
   "metadata": {},
   "source": [
    "<p> <font size=\"+1\"> <b>\n",
    "Шаг 1. Изучение общей информации о данных \n",
    "</b>  </font> </p>"
   ]
  },
  {
   "cell_type": "code",
   "execution_count": 1,
   "metadata": {},
   "outputs": [],
   "source": [
    "import pandas as pd\n",
    "import warnings\n",
    "warnings.filterwarnings('ignore')\n",
    "import numpy as np\n",
    "from scipy import stats as st\n",
    "import random\n",
    "import matplotlib as mpl\n",
    "import matplotlib.pyplot as plt\n",
    "import seaborn as sns\n",
    "import warnings; warnings.filterwarnings(action='ignore')\n",
    "from scipy import stats"
   ]
  },
  {
   "cell_type": "code",
   "execution_count": 2,
   "metadata": {},
   "outputs": [],
   "source": [
    "# Создадим функцию для прочтения датафреймов и вывода общей информации\n",
    "def info(df):\n",
    "    print(df.info())\n",
    "    print(df.describe())\n",
    "    print(df.head())"
   ]
  },
  {
   "cell_type": "code",
   "execution_count": 3,
   "metadata": {},
   "outputs": [
    {
     "name": "stdout",
     "output_type": "stream",
     "text": [
      "<class 'pandas.core.frame.DataFrame'>\n",
      "RangeIndex: 202607 entries, 0 to 202606\n",
      "Data columns (total 4 columns):\n",
      "id           202607 non-null object\n",
      "call_date    202607 non-null object\n",
      "duration     202607 non-null float64\n",
      "user_id      202607 non-null int64\n",
      "dtypes: float64(1), int64(1), object(2)\n",
      "memory usage: 6.2+ MB\n",
      "None\n",
      "            duration        user_id\n",
      "count  202607.000000  202607.000000\n",
      "mean        6.755887    1253.940619\n",
      "std         5.843365     144.722751\n",
      "min         0.000000    1000.000000\n",
      "25%         1.300000    1126.000000\n",
      "50%         6.000000    1260.000000\n",
      "75%        10.700000    1379.000000\n",
      "max        38.000000    1499.000000\n",
      "       id   call_date  duration  user_id\n",
      "0  1000_0  2018-07-25      0.00     1000\n",
      "1  1000_1  2018-08-17      0.00     1000\n",
      "2  1000_2  2018-06-11      2.85     1000\n",
      "3  1000_3  2018-09-21     13.80     1000\n",
      "4  1000_4  2018-12-15      5.18     1000\n"
     ]
    }
   ],
   "source": [
    "df_calls = pd.read_csv('/datasets/calls.csv')\n",
    "info(df_calls)\n",
    "# Явных пропусков нет, однако есть в столбце \"продолжительность\" значения, равные нулю\n",
    "# Необходимо с ними поработать! (возможно, что будут найдены другие аномальные значения) \n",
    "# Call_date имеет тип object, нужно поменять на временной тип, \n",
    "# id - тоже необходимо сменить тип данных"
   ]
  },
  {
   "cell_type": "code",
   "execution_count": 4,
   "metadata": {},
   "outputs": [
    {
     "name": "stdout",
     "output_type": "stream",
     "text": [
      "<class 'pandas.core.frame.DataFrame'>\n",
      "RangeIndex: 149396 entries, 0 to 149395\n",
      "Data columns (total 5 columns):\n",
      "Unnamed: 0      149396 non-null int64\n",
      "id              149396 non-null object\n",
      "mb_used         149396 non-null float64\n",
      "session_date    149396 non-null object\n",
      "user_id         149396 non-null int64\n",
      "dtypes: float64(1), int64(2), object(2)\n",
      "memory usage: 5.7+ MB\n",
      "None\n",
      "          Unnamed: 0        mb_used        user_id\n",
      "count  149396.000000  149396.000000  149396.000000\n",
      "mean    74697.500000     370.192426    1252.099842\n",
      "std     43127.054745     278.300951     144.050823\n",
      "min         0.000000       0.000000    1000.000000\n",
      "25%     37348.750000     138.187500    1130.000000\n",
      "50%     74697.500000     348.015000    1251.000000\n",
      "75%    112046.250000     559.552500    1380.000000\n",
      "max    149395.000000    1724.830000    1499.000000\n",
      "   Unnamed: 0      id  mb_used session_date  user_id\n",
      "0           0  1000_0   112.95   2018-11-25     1000\n",
      "1           1  1000_1  1052.81   2018-09-07     1000\n",
      "2           2  1000_2  1197.26   2018-06-25     1000\n",
      "3           3  1000_3   550.27   2018-08-22     1000\n",
      "4           4  1000_4   302.56   2018-09-24     1000\n"
     ]
    }
   ],
   "source": [
    "df_internet = pd.read_csv('/datasets/internet.csv')\n",
    "info(df_internet)\n",
    "# Явных пропусков нет. \n",
    "# для id, mb_used и session_date необходимо сменить тип данных"
   ]
  },
  {
   "cell_type": "code",
   "execution_count": 5,
   "metadata": {},
   "outputs": [
    {
     "name": "stdout",
     "output_type": "stream",
     "text": [
      "<class 'pandas.core.frame.DataFrame'>\n",
      "RangeIndex: 123036 entries, 0 to 123035\n",
      "Data columns (total 3 columns):\n",
      "id              123036 non-null object\n",
      "message_date    123036 non-null object\n",
      "user_id         123036 non-null int64\n",
      "dtypes: int64(1), object(2)\n",
      "memory usage: 2.8+ MB\n",
      "None\n",
      "             user_id\n",
      "count  123036.000000\n",
      "mean     1256.989410\n",
      "std       143.523967\n",
      "min      1000.000000\n",
      "25%      1134.000000\n",
      "50%      1271.000000\n",
      "75%      1381.000000\n",
      "max      1499.000000\n",
      "       id message_date  user_id\n",
      "0  1000_0   2018-06-27     1000\n",
      "1  1000_1   2018-10-08     1000\n",
      "2  1000_2   2018-08-04     1000\n",
      "3  1000_3   2018-06-16     1000\n",
      "4  1000_4   2018-12-05     1000\n"
     ]
    }
   ],
   "source": [
    "df_messages = pd.read_csv('/datasets/messages.csv')\n",
    "info(df_messages)\n",
    "# Явных пропусков нет. Та же история с id и message_date. "
   ]
  },
  {
   "cell_type": "code",
   "execution_count": 6,
   "metadata": {},
   "outputs": [
    {
     "name": "stdout",
     "output_type": "stream",
     "text": [
      "<class 'pandas.core.frame.DataFrame'>\n",
      "RangeIndex: 2 entries, 0 to 1\n",
      "Data columns (total 8 columns):\n",
      "messages_included        2 non-null int64\n",
      "mb_per_month_included    2 non-null int64\n",
      "minutes_included         2 non-null int64\n",
      "rub_monthly_fee          2 non-null int64\n",
      "rub_per_gb               2 non-null int64\n",
      "rub_per_message          2 non-null int64\n",
      "rub_per_minute           2 non-null int64\n",
      "tariff_name              2 non-null object\n",
      "dtypes: int64(7), object(1)\n",
      "memory usage: 256.0+ bytes\n",
      "None\n",
      "       messages_included  mb_per_month_included  minutes_included  \\\n",
      "count           2.000000               2.000000          2.000000   \n",
      "mean          525.000000           23040.000000       1750.000000   \n",
      "std           671.751442           10861.160159       1767.766953   \n",
      "min            50.000000           15360.000000        500.000000   \n",
      "25%           287.500000           19200.000000       1125.000000   \n",
      "50%           525.000000           23040.000000       1750.000000   \n",
      "75%           762.500000           26880.000000       2375.000000   \n",
      "max          1000.000000           30720.000000       3000.000000   \n",
      "\n",
      "       rub_monthly_fee  rub_per_gb  rub_per_message  rub_per_minute  \n",
      "count         2.000000    2.000000         2.000000        2.000000  \n",
      "mean       1250.000000  175.000000         2.000000        2.000000  \n",
      "std         989.949494   35.355339         1.414214        1.414214  \n",
      "min         550.000000  150.000000         1.000000        1.000000  \n",
      "25%         900.000000  162.500000         1.500000        1.500000  \n",
      "50%        1250.000000  175.000000         2.000000        2.000000  \n",
      "75%        1600.000000  187.500000         2.500000        2.500000  \n",
      "max        1950.000000  200.000000         3.000000        3.000000  \n",
      "   messages_included  mb_per_month_included  minutes_included  \\\n",
      "0                 50                  15360               500   \n",
      "1               1000                  30720              3000   \n",
      "\n",
      "   rub_monthly_fee  rub_per_gb  rub_per_message  rub_per_minute tariff_name  \n",
      "0              550         200                3               3       smart  \n",
      "1             1950         150                1               1       ultra  \n"
     ]
    }
   ],
   "source": [
    "df_tariffs = pd.read_csv('/datasets/tariffs.csv')\n",
    "info(df_tariffs)\n",
    "# Cудя по всему - данные в порядке: название - object, остальные значения - int64 (в данном случае - это верное решение)"
   ]
  },
  {
   "cell_type": "code",
   "execution_count": 7,
   "metadata": {},
   "outputs": [
    {
     "name": "stdout",
     "output_type": "stream",
     "text": [
      "<class 'pandas.core.frame.DataFrame'>\n",
      "RangeIndex: 500 entries, 0 to 499\n",
      "Data columns (total 8 columns):\n",
      "user_id       500 non-null int64\n",
      "age           500 non-null int64\n",
      "churn_date    38 non-null object\n",
      "city          500 non-null object\n",
      "first_name    500 non-null object\n",
      "last_name     500 non-null object\n",
      "reg_date      500 non-null object\n",
      "tariff        500 non-null object\n",
      "dtypes: int64(2), object(6)\n",
      "memory usage: 31.4+ KB\n",
      "None\n",
      "           user_id        age\n",
      "count   500.000000  500.00000\n",
      "mean   1249.500000   46.58800\n",
      "std     144.481833   16.66763\n",
      "min    1000.000000   18.00000\n",
      "25%    1124.750000   32.00000\n",
      "50%    1249.500000   46.00000\n",
      "75%    1374.250000   62.00000\n",
      "max    1499.000000   75.00000\n",
      "   user_id  age churn_date         city first_name  last_name    reg_date  \\\n",
      "0     1000   52        NaN    Краснодар     Рафаил  Верещагин  2018-05-25   \n",
      "1     1001   41        NaN       Москва       Иван       Ежов  2018-11-01   \n",
      "2     1002   59        NaN  Стерлитамак    Евгений  Абрамович  2018-06-17   \n",
      "3     1003   23        NaN       Москва      Белла   Белякова  2018-08-17   \n",
      "4     1004   68        NaN  Новокузнецк    Татьяна   Авдеенко  2018-05-14   \n",
      "\n",
      "  tariff  \n",
      "0  ultra  \n",
      "1  smart  \n",
      "2  smart  \n",
      "3  ultra  \n",
      "4  ultra  \n"
     ]
    }
   ],
   "source": [
    "df_users = pd.read_csv('/datasets/users.csv')\n",
    "info(df_users)\n",
    "# в столбце churn_date много пропусков, необходимо решить, что с ними делать\n",
    "# Необходимо поменять тип данных для дат и посмотреть, нужны ли целочисленные значения для user_id и age."
   ]
  },
  {
   "cell_type": "code",
   "execution_count": 8,
   "metadata": {},
   "outputs": [
    {
     "data": {
      "text/plain": [
       "0.00    19598\n",
       "0.41        6\n",
       "0.52        4\n",
       "0.86        3\n",
       "0.17        3\n",
       "        ...  \n",
       "0.27        1\n",
       "0.04        1\n",
       "0.23        1\n",
       "0.84        1\n",
       "0.47        1\n",
       "Name: mb_used, Length: 63, dtype: int64"
      ]
     },
     "execution_count": 8,
     "metadata": {},
     "output_type": "execute_result"
    }
   ],
   "source": [
    "df = df_internet.query('mb_used < 1')\n",
    "df['mb_used'].value_counts()"
   ]
  },
  {
   "cell_type": "markdown",
   "metadata": {},
   "source": [
    "<p> <font size=\"+1\"> <b>\n",
    "    Вывод\n",
    "    </b> </font> </p>"
   ]
  },
  {
   "cell_type": "markdown",
   "metadata": {},
   "source": [
    "На первый взгляд - данные не такие проблемные, как в предыдущих проектах. Однако не стоит расслабляться! Необходимо тщательно изучить данные. \n",
    "Для дальнейшего анализа нужно будет соединять несколько датафреймов в один."
   ]
  },
  {
   "cell_type": "markdown",
   "metadata": {},
   "source": [
    "<p> <font size=\"+1\"> <b>\n",
    "Шаг 2. Подготовка данных\n",
    "    </font>  </b>"
   ]
  },
  {
   "cell_type": "code",
   "execution_count": 9,
   "metadata": {},
   "outputs": [
    {
     "data": {
      "text/html": [
       "<div>\n",
       "<style scoped>\n",
       "    .dataframe tbody tr th:only-of-type {\n",
       "        vertical-align: middle;\n",
       "    }\n",
       "\n",
       "    .dataframe tbody tr th {\n",
       "        vertical-align: top;\n",
       "    }\n",
       "\n",
       "    .dataframe thead th {\n",
       "        text-align: right;\n",
       "    }\n",
       "</style>\n",
       "<table border=\"1\" class=\"dataframe\">\n",
       "  <thead>\n",
       "    <tr style=\"text-align: right;\">\n",
       "      <th></th>\n",
       "      <th>id</th>\n",
       "      <th>call_date</th>\n",
       "      <th>duration</th>\n",
       "      <th>user_id</th>\n",
       "    </tr>\n",
       "  </thead>\n",
       "  <tbody>\n",
       "    <tr>\n",
       "      <td>0</td>\n",
       "      <td>1000_0</td>\n",
       "      <td>2018-07-25</td>\n",
       "      <td>0.00</td>\n",
       "      <td>1000</td>\n",
       "    </tr>\n",
       "    <tr>\n",
       "      <td>1</td>\n",
       "      <td>1000_1</td>\n",
       "      <td>2018-08-17</td>\n",
       "      <td>0.00</td>\n",
       "      <td>1000</td>\n",
       "    </tr>\n",
       "    <tr>\n",
       "      <td>2</td>\n",
       "      <td>1000_2</td>\n",
       "      <td>2018-06-11</td>\n",
       "      <td>2.85</td>\n",
       "      <td>1000</td>\n",
       "    </tr>\n",
       "    <tr>\n",
       "      <td>3</td>\n",
       "      <td>1000_3</td>\n",
       "      <td>2018-09-21</td>\n",
       "      <td>13.80</td>\n",
       "      <td>1000</td>\n",
       "    </tr>\n",
       "    <tr>\n",
       "      <td>4</td>\n",
       "      <td>1000_4</td>\n",
       "      <td>2018-12-15</td>\n",
       "      <td>5.18</td>\n",
       "      <td>1000</td>\n",
       "    </tr>\n",
       "  </tbody>\n",
       "</table>\n",
       "</div>"
      ],
      "text/plain": [
       "       id   call_date  duration  user_id\n",
       "0  1000_0  2018-07-25      0.00     1000\n",
       "1  1000_1  2018-08-17      0.00     1000\n",
       "2  1000_2  2018-06-11      2.85     1000\n",
       "3  1000_3  2018-09-21     13.80     1000\n",
       "4  1000_4  2018-12-15      5.18     1000"
      ]
     },
     "execution_count": 9,
     "metadata": {},
     "output_type": "execute_result"
    }
   ],
   "source": [
    "df_calls.head()"
   ]
  },
  {
   "cell_type": "markdown",
   "metadata": {},
   "source": [
    "<p> <li>Приведите данные к нужным типам</li> </p>  "
   ]
  },
  {
   "cell_type": "code",
   "execution_count": 10,
   "metadata": {},
   "outputs": [
    {
     "data": {
      "text/plain": [
       "0.00    39613\n",
       "0.23      115\n",
       "0.96      105\n",
       "0.68      103\n",
       "0.83      102\n",
       "        ...  \n",
       "0.11       67\n",
       "0.21       67\n",
       "0.53       64\n",
       "0.52       63\n",
       "0.14       63\n",
       "Name: duration, Length: 100, dtype: int64"
      ]
     },
     "execution_count": 10,
     "metadata": {},
     "output_type": "execute_result"
    }
   ],
   "source": [
    "# Для начала поработаем по отдельности с каждым датасэтом\n",
    "# 1. df_calls\n",
    "# Поменяем для call_date тип данных на datetime\n",
    "df_calls['call_date'] = pd.to_datetime(df_calls['call_date'], format='%Y-%m-%d')\n",
    "# Проверим, можно ли округлять и менять тип данных для duration \n",
    "# может быть при округлении потеряем часть значений, которые близки к 0\n",
    "df_calls_type = df_calls.query('duration < 1')\n",
    "df_calls_type['duration'].value_counts()\n",
    "# Исходя из результатов - округлять и менять тип данных для этого столбца не имеет смысла (потеряем много данных)"
   ]
  },
  {
   "cell_type": "code",
   "execution_count": 11,
   "metadata": {},
   "outputs": [
    {
     "name": "stdout",
     "output_type": "stream",
     "text": [
      "<class 'pandas.core.frame.DataFrame'>\n",
      "RangeIndex: 202607 entries, 0 to 202606\n",
      "Data columns (total 4 columns):\n",
      "id           202607 non-null object\n",
      "call_date    202607 non-null datetime64[ns]\n",
      "duration     202607 non-null float64\n",
      "user_id      202607 non-null int64\n",
      "dtypes: datetime64[ns](1), float64(1), int64(1), object(1)\n",
      "memory usage: 6.2+ MB\n"
     ]
    }
   ],
   "source": [
    "# Проверим изменения\n",
    "df_calls.info()"
   ]
  },
  {
   "cell_type": "code",
   "execution_count": 12,
   "metadata": {},
   "outputs": [
    {
     "name": "stdout",
     "output_type": "stream",
     "text": [
      "<class 'pandas.core.frame.DataFrame'>\n",
      "RangeIndex: 149396 entries, 0 to 149395\n",
      "Data columns (total 5 columns):\n",
      "Unnamed: 0      149396 non-null int64\n",
      "id              149396 non-null object\n",
      "mb_used         149396 non-null int64\n",
      "session_date    149396 non-null datetime64[ns]\n",
      "user_id         149396 non-null int64\n",
      "dtypes: datetime64[ns](1), int64(3), object(1)\n",
      "memory usage: 5.7+ MB\n"
     ]
    }
   ],
   "source": [
    "# 2.df_internet\n",
    "# Поменяем для session_date тип данных на datetime\n",
    "df_internet['session_date'] = pd.to_datetime(df_internet['session_date'], format='%Y-%m-%d')\n",
    "# Поменяем float на int для mb_used (точность до нескольких знаков после запятой тут не нужна)\n",
    "# Для начала правильно округлим значения\n",
    "df_internet['mb_used'] = round(df_internet['mb_used'], 0)\n",
    "df_internet['mb_used'] = df_internet['mb_used'].astype('int')\n",
    "# Проверим изменения\n",
    "df_internet.info()"
   ]
  },
  {
   "cell_type": "code",
   "execution_count": 13,
   "metadata": {},
   "outputs": [
    {
     "name": "stdout",
     "output_type": "stream",
     "text": [
      "<class 'pandas.core.frame.DataFrame'>\n",
      "RangeIndex: 149396 entries, 0 to 149395\n",
      "Data columns (total 5 columns):\n",
      "Unnamed: 0      149396 non-null int64\n",
      "id              149396 non-null object\n",
      "mb_used         149396 non-null int64\n",
      "session_date    149396 non-null datetime64[ns]\n",
      "user_id         149396 non-null int64\n",
      "dtypes: datetime64[ns](1), int64(3), object(1)\n",
      "memory usage: 5.7+ MB\n"
     ]
    }
   ],
   "source": [
    "# 3. df_messages\n",
    "# Поменяем для message_date тип данных на datetime\n",
    "df_messages['message_date'] = pd.to_datetime(df_messages['message_date'], format='%Y-%m-%d')\n",
    "# Проверим изменения\n",
    "df_internet.info()"
   ]
  },
  {
   "cell_type": "code",
   "execution_count": 14,
   "metadata": {},
   "outputs": [],
   "source": [
    "# 4.df_tariffs\n",
    "# Менять тип данных не нужно для этого датафрейма"
   ]
  },
  {
   "cell_type": "code",
   "execution_count": 15,
   "metadata": {},
   "outputs": [
    {
     "name": "stdout",
     "output_type": "stream",
     "text": [
      "<class 'pandas.core.frame.DataFrame'>\n",
      "RangeIndex: 500 entries, 0 to 499\n",
      "Data columns (total 8 columns):\n",
      "user_id       500 non-null int64\n",
      "age           500 non-null int64\n",
      "churn_date    38 non-null datetime64[ns]\n",
      "city          500 non-null object\n",
      "first_name    500 non-null object\n",
      "last_name     500 non-null object\n",
      "reg_date      500 non-null datetime64[ns]\n",
      "tariff        500 non-null object\n",
      "dtypes: datetime64[ns](2), int64(2), object(4)\n",
      "memory usage: 31.4+ KB\n"
     ]
    }
   ],
   "source": [
    "# 5. df_users\n",
    "# Необходимо поменять тип данных для churn_date и reg_date на datetime\n",
    "df_users['churn_date'] = pd.to_datetime(df_users['churn_date'], format='%Y-%m-%d')\n",
    "df_users['reg_date'] = pd.to_datetime(df_users['reg_date'], format='%Y-%m-%d')\n",
    "# Проверим \n",
    "df_users.info()"
   ]
  },
  {
   "cell_type": "markdown",
   "metadata": {},
   "source": [
    "<p> <li>Найдите и исправьте ошибки в данных</li> </p> "
   ]
  },
  {
   "cell_type": "code",
   "execution_count": 16,
   "metadata": {
    "scrolled": true
   },
   "outputs": [
    {
     "data": {
      "text/plain": [
       "0.00     39613\n",
       "4.49       142\n",
       "5.50       142\n",
       "6.15       141\n",
       "6.38       141\n",
       "         ...  \n",
       "27.02        1\n",
       "26.19        1\n",
       "25.34        1\n",
       "27.13        1\n",
       "24.28        1\n",
       "Name: duration, Length: 2871, dtype: int64"
      ]
     },
     "execution_count": 16,
     "metadata": {},
     "output_type": "execute_result"
    }
   ],
   "source": [
    "# Посмотрим по порядку каждый датасет\n",
    "# 1. df_calls\n",
    "df_calls['duration'].value_counts()\n",
    "# Как видно - аномально большой продолжительности разговора нет, \n",
    "# однако есть много звонков с продолжительностью разговора 0 мин."
   ]
  },
  {
   "cell_type": "code",
   "execution_count": 17,
   "metadata": {
    "scrolled": true
   },
   "outputs": [
    {
     "data": {
      "text/plain": [
       "-9999.00    39613\n",
       " 4.49         142\n",
       " 5.50         142\n",
       " 6.38         141\n",
       " 6.15         141\n",
       "            ...  \n",
       " 27.02          1\n",
       " 25.34          1\n",
       " 31.18          1\n",
       " 27.13          1\n",
       " 24.28          1\n",
       "Name: duration, Length: 2871, dtype: int64"
      ]
     },
     "execution_count": 17,
     "metadata": {},
     "output_type": "execute_result"
    }
   ],
   "source": [
    "# Будем считать, что если звонок занял 0 минут, значит разговор не состоялся \n",
    "# (вне зоне доступа/никто не взял трубку)\n",
    "# Поэтому заменим на отрицательное значение нули\n",
    "df_calls['duration'] = df_calls['duration'].replace(0.00, -9999)\n",
    "# Проверим\n",
    "df_calls['duration'].value_counts()"
   ]
  },
  {
   "cell_type": "code",
   "execution_count": 18,
   "metadata": {},
   "outputs": [
    {
     "data": {
      "text/plain": [
       "0       19649\n",
       "253       222\n",
       "382       219\n",
       "333       219\n",
       "286       219\n",
       "        ...  \n",
       "1518        1\n",
       "1437        1\n",
       "1309        1\n",
       "1389        1\n",
       "1490        1\n",
       "Name: mb_used, Length: 1425, dtype: int64"
      ]
     },
     "execution_count": 18,
     "metadata": {},
     "output_type": "execute_result"
    }
   ],
   "source": [
    "# 2.df_internet\n",
    "# Посмотрим какие значения чаще всего встречаются в столбце mb_used\n",
    "df_internet['mb_used'].value_counts()\n",
    "# Около 15% не используют интернет, что вполне логично (кнопочные телефоны, не все пенсионеры умеют пользоваться интернетом)\n",
    "# Было бы интересно посмотреть по годам как этот процент изменяется (есть подозрение, что с каждый годом будет стремительно падать)\n",
    "\n",
    "# Cудя по всему - на первый взгляд, ошибок в данных нет."
   ]
  },
  {
   "cell_type": "code",
   "execution_count": 19,
   "metadata": {},
   "outputs": [],
   "source": [
    "# 3. df_messages\n",
    "# На первый взгляд - данные в порядке"
   ]
  },
  {
   "cell_type": "code",
   "execution_count": 20,
   "metadata": {},
   "outputs": [],
   "source": [
    "# 4. df_tariffs\n",
    "# Такая же история, как и с 3."
   ]
  },
  {
   "cell_type": "code",
   "execution_count": 21,
   "metadata": {},
   "outputs": [
    {
     "data": {
      "text/plain": [
       "53    14\n",
       "42    14\n",
       "63    13\n",
       "71    13\n",
       "64    13\n",
       "73    12\n",
       "21    12\n",
       "40    12\n",
       "39    11\n",
       "47    11\n",
       "29    11\n",
       "26    11\n",
       "37    11\n",
       "41    10\n",
       "36    10\n",
       "58    10\n",
       "45    10\n",
       "70    10\n",
       "52    10\n",
       "51     9\n",
       "27     9\n",
       "48     9\n",
       "50     9\n",
       "28     9\n",
       "30     9\n",
       "24     9\n",
       "20     9\n",
       "19     9\n",
       "56     9\n",
       "23     9\n",
       "68     9\n",
       "66     9\n",
       "65     9\n",
       "69     8\n",
       "62     8\n",
       "60     8\n",
       "44     8\n",
       "55     8\n",
       "25     7\n",
       "43     7\n",
       "67     7\n",
       "35     7\n",
       "74     7\n",
       "32     7\n",
       "31     7\n",
       "46     7\n",
       "75     6\n",
       "54     6\n",
       "59     6\n",
       "18     6\n",
       "33     5\n",
       "34     5\n",
       "38     5\n",
       "22     5\n",
       "72     5\n",
       "49     4\n",
       "57     4\n",
       "61     3\n",
       "Name: age, dtype: int64"
      ]
     },
     "execution_count": 21,
     "metadata": {},
     "output_type": "execute_result"
    }
   ],
   "source": [
    "# 5. df_users\n",
    "# Проверим неочевидные вопросы для столбца возраста\n",
    "df_users['age'].value_counts()\n",
    "# Аномальных значений выявлено не было"
   ]
  },
  {
   "cell_type": "code",
   "execution_count": 22,
   "metadata": {},
   "outputs": [
    {
     "data": {
      "text/plain": [
       "Москва             99\n",
       "Санкт-Петербург    39\n",
       "Новосибирск        16\n",
       "Омск               14\n",
       "Казань             14\n",
       "                   ..\n",
       "Нижневартовск       1\n",
       "Иваново             1\n",
       "Химки               1\n",
       "Подольск            1\n",
       "Архангельск         1\n",
       "Name: city, Length: 76, dtype: int64"
      ]
     },
     "execution_count": 22,
     "metadata": {},
     "output_type": "execute_result"
    }
   ],
   "source": [
    "# Проверим city\n",
    "df_users['city'].value_counts()\n",
    "# Судя по всему - с данными все в порядке"
   ]
  },
  {
   "cell_type": "code",
   "execution_count": 23,
   "metadata": {},
   "outputs": [
    {
     "data": {
      "text/plain": [
       "Радим       6\n",
       "Леонид      5\n",
       "Пётр        5\n",
       "Адам        4\n",
       "Всеволод    4\n",
       "           ..\n",
       "Илья        1\n",
       "Алёна       1\n",
       "Людмила     1\n",
       "Леся        1\n",
       "Исаак       1\n",
       "Name: first_name, Length: 246, dtype: int64"
      ]
     },
     "execution_count": 23,
     "metadata": {},
     "output_type": "execute_result"
    }
   ],
   "source": [
    "# Проверим first_name\n",
    "df_users['first_name'].value_counts()\n",
    "# На первый взгляд - с данными все в порядке\n",
    "# Удивляет наличие в топе такого большого количества редких имен, однако, скорее всего, дело в маленькой выборке"
   ]
  },
  {
   "cell_type": "code",
   "execution_count": 24,
   "metadata": {},
   "outputs": [
    {
     "data": {
      "text/plain": [
       "Андреенко    5\n",
       "Абашкина     3\n",
       "Аркадьев     3\n",
       "Анищенко     3\n",
       "Булгаков     3\n",
       "            ..\n",
       "Медведев     1\n",
       "Болдырева    1\n",
       "Акимов       1\n",
       "Костин       1\n",
       "Сергеева     1\n",
       "Name: last_name, Length: 419, dtype: int64"
      ]
     },
     "execution_count": 24,
     "metadata": {},
     "output_type": "execute_result"
    }
   ],
   "source": [
    "# Проверим last_name \n",
    "df_users['last_name'].value_counts()\n",
    "# С данными все хорошо"
   ]
  },
  {
   "cell_type": "code",
   "execution_count": 25,
   "metadata": {},
   "outputs": [
    {
     "data": {
      "text/plain": [
       "smart    351\n",
       "ultra    149\n",
       "Name: tariff, dtype: int64"
      ]
     },
     "execution_count": 25,
     "metadata": {},
     "output_type": "execute_result"
    }
   ],
   "source": [
    "# Проверим tariff\n",
    "df_users['tariff'].value_counts()\n",
    "# Лишнего здесь нет - всего 2 тарифа"
   ]
  },
  {
   "cell_type": "code",
   "execution_count": 26,
   "metadata": {},
   "outputs": [
    {
     "name": "stdout",
     "output_type": "stream",
     "text": [
      "<class 'pandas.core.frame.DataFrame'>\n",
      "RangeIndex: 500 entries, 0 to 499\n",
      "Data columns (total 8 columns):\n",
      "user_id       500 non-null int64\n",
      "age           500 non-null int64\n",
      "churn_date    500 non-null object\n",
      "city          500 non-null object\n",
      "first_name    500 non-null object\n",
      "last_name     500 non-null object\n",
      "reg_date      500 non-null datetime64[ns]\n",
      "tariff        500 non-null object\n",
      "dtypes: datetime64[ns](1), int64(2), object(5)\n",
      "memory usage: 31.4+ KB\n"
     ]
    }
   ],
   "source": [
    "# Теперь нужно подумать, что делать с пропусками в churn_date\n",
    "# - это дата прекращения пользования тарифом.\n",
    "# Логично предположить, что если нет информации, то значит человек не переключался на другой тариф\n",
    "# Значит, мы можем заменить эти значения на такие даты, когда человек ещё не мог переключать тариф\n",
    "# Например, на 1900 год.\n",
    "df_users['churn_date'] = df_users['churn_date'].fillna('1900-01-01 00:00:00')\n",
    "# Проверим тип данных\n",
    "df_users.info()"
   ]
  },
  {
   "cell_type": "code",
   "execution_count": 27,
   "metadata": {},
   "outputs": [
    {
     "name": "stdout",
     "output_type": "stream",
     "text": [
      "<class 'pandas.core.frame.DataFrame'>\n",
      "RangeIndex: 500 entries, 0 to 499\n",
      "Data columns (total 8 columns):\n",
      "user_id       500 non-null int64\n",
      "age           500 non-null int64\n",
      "churn_date    500 non-null datetime64[ns]\n",
      "city          500 non-null object\n",
      "first_name    500 non-null object\n",
      "last_name     500 non-null object\n",
      "reg_date      500 non-null datetime64[ns]\n",
      "tariff        500 non-null object\n",
      "dtypes: datetime64[ns](2), int64(2), object(4)\n",
      "memory usage: 31.4+ KB\n"
     ]
    }
   ],
   "source": [
    "# Так как изменился тип данных при замене на заглушки, то поменяем обратно на datetime\n",
    "df_users['churn_date'] = pd.to_datetime(df_users['churn_date'], format='%Y-%m-%d')\n",
    "# Проверим тип данных\n",
    "df_users.info()"
   ]
  },
  {
   "cell_type": "code",
   "execution_count": 28,
   "metadata": {},
   "outputs": [
    {
     "data": {
      "text/plain": [
       "1900-01-01    462\n",
       "2018-12-21      2\n",
       "2018-12-09      2\n",
       "2018-10-14      2\n",
       "2018-12-03      2\n",
       "2018-10-03      2\n",
       "2018-12-18      1\n",
       "2018-09-02      1\n",
       "2018-10-28      1\n",
       "2018-11-26      1\n",
       "2018-12-26      1\n",
       "2018-10-25      1\n",
       "2018-12-23      1\n",
       "2018-11-22      1\n",
       "2018-10-05      1\n",
       "2018-12-20      1\n",
       "2018-09-27      1\n",
       "2018-12-24      1\n",
       "2018-11-30      1\n",
       "2018-12-14      1\n",
       "2018-11-13      1\n",
       "2018-11-27      1\n",
       "2018-10-27      1\n",
       "2018-09-26      1\n",
       "2018-12-11      1\n",
       "2018-12-25      1\n",
       "2018-11-07      1\n",
       "2018-11-21      1\n",
       "2018-10-04      1\n",
       "2018-08-17      1\n",
       "2018-08-31      1\n",
       "2018-12-16      1\n",
       "2018-12-30      1\n",
       "2018-11-16      1\n",
       "Name: churn_date, dtype: int64"
      ]
     },
     "execution_count": 28,
     "metadata": {},
     "output_type": "execute_result"
    }
   ],
   "source": [
    "# Проверим как заменились значения\n",
    "df_users['churn_date'].value_counts()"
   ]
  },
  {
   "cell_type": "markdown",
   "metadata": {},
   "source": [
    "<p> Посчитайте для каждого пользователя: </p>"
   ]
  },
  {
   "cell_type": "markdown",
   "metadata": {},
   "source": [
    "<p> <li> количество сделанных звонков и израсходованных минут разговора по месяцам </li> </p>  "
   ]
  },
  {
   "cell_type": "code",
   "execution_count": 29,
   "metadata": {},
   "outputs": [
    {
     "data": {
      "text/plain": [
       "user_id  month_call_date\n",
       "1000     5                  17\n",
       "         6                  28\n",
       "         7                  41\n",
       "         8                  42\n",
       "         9                  46\n",
       "                            ..\n",
       "1498     10                 30\n",
       "1499     9                   8\n",
       "         10                 44\n",
       "         11                 62\n",
       "         12                 56\n",
       "Name: duration, Length: 3168, dtype: int64"
      ]
     },
     "execution_count": 29,
     "metadata": {},
     "output_type": "execute_result"
    }
   ],
   "source": [
    "# Вспоминая, что мы сделали замену нулей на -9999, нельзя сразу приступать к заданию\n",
    "# Необходимо для начала сделать срез данных\n",
    "df_calls_for_question = df_calls.query('duration >= 0.00')\n",
    "# Добавим в срез столбец, отвечающих за месяц, когда был сделан звонок\n",
    "df_calls_for_question['month_call_date'] = df_calls_for_question['call_date'].dt.month\n",
    "# Посчитаем количество звонков для каждого пользователя \n",
    "table_calls_count = df_calls_for_question.groupby(['user_id', 'month_call_date'])['duration'].count()\n",
    "table_calls_count"
   ]
  },
  {
   "cell_type": "code",
   "execution_count": 30,
   "metadata": {},
   "outputs": [
    {
     "data": {
      "text/plain": [
       "user_id  month_call_date\n",
       "1000     5                  150.06\n",
       "         6                  158.90\n",
       "         7                  318.80\n",
       "         8                  389.87\n",
       "         9                  440.14\n",
       "                             ...  \n",
       "1498     10                 232.63\n",
       "1499     9                   64.65\n",
       "         10                 429.91\n",
       "         11                 576.50\n",
       "         12                 465.16\n",
       "Name: duration, Length: 3168, dtype: float64"
      ]
     },
     "execution_count": 30,
     "metadata": {},
     "output_type": "execute_result"
    }
   ],
   "source": [
    "# Посчитаем исрасходованные минуты для каждого пользователя \n",
    "table_calls_duration = df_calls_for_question.groupby(['user_id', 'month_call_date'])['duration'].sum()\n",
    "table_calls_duration"
   ]
  },
  {
   "cell_type": "markdown",
   "metadata": {},
   "source": [
    "<p> <li> количество отправленных сообщений по месяцам </li> </p> "
   ]
  },
  {
   "cell_type": "code",
   "execution_count": 31,
   "metadata": {},
   "outputs": [
    {
     "data": {
      "text/plain": [
       "user_id  month_message_date\n",
       "1000     5                     22\n",
       "         6                     60\n",
       "         7                     75\n",
       "         8                     81\n",
       "         9                     57\n",
       "                               ..\n",
       "1498     10                    42\n",
       "1499     9                     11\n",
       "         10                    48\n",
       "         11                    59\n",
       "         12                    66\n",
       "Name: id, Length: 2717, dtype: int64"
      ]
     },
     "execution_count": 31,
     "metadata": {},
     "output_type": "execute_result"
    }
   ],
   "source": [
    "# Добавим столбец, отвечающих за месяц, когда были отправлены сообщения\n",
    "df_messages['month_message_date'] = df_messages['message_date'].dt.month\n",
    "# Посчитаем количество сообщений для каждого пользователя \n",
    "table_messages_count = df_messages.groupby(['user_id','month_message_date'])['id'].count()\n",
    "table_messages_count"
   ]
  },
  {
   "cell_type": "markdown",
   "metadata": {},
   "source": [
    "<p> <li> объем израсходованного интернет-трафика по месяцам </li></p>"
   ]
  },
  {
   "cell_type": "code",
   "execution_count": 32,
   "metadata": {},
   "outputs": [
    {
     "data": {
      "text/plain": [
       "user_id  month_session_date\n",
       "1000     5                      2253\n",
       "         6                     23232\n",
       "         7                     14004\n",
       "         8                     14054\n",
       "         9                     14569\n",
       "                               ...  \n",
       "1498     10                    20581\n",
       "1499     9                      1846\n",
       "         10                    17792\n",
       "         11                    17963\n",
       "         12                    13055\n",
       "Name: mb_used, Length: 3203, dtype: int64"
      ]
     },
     "execution_count": 32,
     "metadata": {},
     "output_type": "execute_result"
    }
   ],
   "source": [
    "## Добавим столбец, отвечающий за потраченное кол-во мегабайт интернета в месяц\n",
    "df_internet['month_session_date'] = df_internet['session_date'].dt.month\n",
    "# Посчитаем объем израсходованного интернет-трафика для каждого пользователя по месяцам \n",
    "table_internet_volume = df_internet.groupby(['user_id', 'month_session_date'])['mb_used'].sum()\n",
    "table_internet_volume"
   ]
  },
  {
   "cell_type": "markdown",
   "metadata": {},
   "source": [
    "<p> <li> помесячную выручку с каждого пользователя </li> </p>"
   ]
  },
  {
   "cell_type": "code",
   "execution_count": 33,
   "metadata": {},
   "outputs": [
    {
     "data": {
      "text/html": [
       "<div>\n",
       "<style scoped>\n",
       "    .dataframe tbody tr th:only-of-type {\n",
       "        vertical-align: middle;\n",
       "    }\n",
       "\n",
       "    .dataframe tbody tr th {\n",
       "        vertical-align: top;\n",
       "    }\n",
       "\n",
       "    .dataframe thead th {\n",
       "        text-align: right;\n",
       "    }\n",
       "</style>\n",
       "<table border=\"1\" class=\"dataframe\">\n",
       "  <thead>\n",
       "    <tr style=\"text-align: right;\">\n",
       "      <th></th>\n",
       "      <th>messages_included</th>\n",
       "      <th>mb_per_month_included</th>\n",
       "      <th>minutes_included</th>\n",
       "      <th>rub_monthly_fee</th>\n",
       "      <th>rub_per_gb</th>\n",
       "      <th>rub_per_message</th>\n",
       "      <th>rub_per_minute</th>\n",
       "      <th>tariff_name</th>\n",
       "    </tr>\n",
       "  </thead>\n",
       "  <tbody>\n",
       "    <tr>\n",
       "      <td>0</td>\n",
       "      <td>50</td>\n",
       "      <td>15360</td>\n",
       "      <td>500</td>\n",
       "      <td>550</td>\n",
       "      <td>200</td>\n",
       "      <td>3</td>\n",
       "      <td>3</td>\n",
       "      <td>smart</td>\n",
       "    </tr>\n",
       "    <tr>\n",
       "      <td>1</td>\n",
       "      <td>1000</td>\n",
       "      <td>30720</td>\n",
       "      <td>3000</td>\n",
       "      <td>1950</td>\n",
       "      <td>150</td>\n",
       "      <td>1</td>\n",
       "      <td>1</td>\n",
       "      <td>ultra</td>\n",
       "    </tr>\n",
       "  </tbody>\n",
       "</table>\n",
       "</div>"
      ],
      "text/plain": [
       "   messages_included  mb_per_month_included  minutes_included  \\\n",
       "0                 50                  15360               500   \n",
       "1               1000                  30720              3000   \n",
       "\n",
       "   rub_monthly_fee  rub_per_gb  rub_per_message  rub_per_minute tariff_name  \n",
       "0              550         200                3               3       smart  \n",
       "1             1950         150                1               1       ultra  "
      ]
     },
     "execution_count": 33,
     "metadata": {},
     "output_type": "execute_result"
    }
   ],
   "source": [
    "# Посмотрим таблицу с тарифами\n",
    "df_tariffs.head()"
   ]
  },
  {
   "cell_type": "code",
   "execution_count": 34,
   "metadata": {},
   "outputs": [],
   "source": [
    "# Переименуем столбцы, что имена соответстовали с именами других таблиц\n",
    "df_tariffs.columns = ['messages_included', 'mb_per_month_included', 'minutes_included', 'rub_monthly_fee', 'rub_per_gb', 'rub_per_message','rub_per_minute', 'tariff']"
   ]
  },
  {
   "cell_type": "code",
   "execution_count": 35,
   "metadata": {},
   "outputs": [
    {
     "data": {
      "text/html": [
       "<div>\n",
       "<style scoped>\n",
       "    .dataframe tbody tr th:only-of-type {\n",
       "        vertical-align: middle;\n",
       "    }\n",
       "\n",
       "    .dataframe tbody tr th {\n",
       "        vertical-align: top;\n",
       "    }\n",
       "\n",
       "    .dataframe thead th {\n",
       "        text-align: right;\n",
       "    }\n",
       "</style>\n",
       "<table border=\"1\" class=\"dataframe\">\n",
       "  <thead>\n",
       "    <tr style=\"text-align: right;\">\n",
       "      <th></th>\n",
       "      <th>month_message_date</th>\n",
       "      <th>user_id</th>\n",
       "      <th>id</th>\n",
       "      <th>rub_monthly_fee</th>\n",
       "      <th>tariff</th>\n",
       "      <th>messages_included</th>\n",
       "      <th>rub_per_message</th>\n",
       "    </tr>\n",
       "  </thead>\n",
       "  <tbody>\n",
       "    <tr>\n",
       "      <td>0</td>\n",
       "      <td>6</td>\n",
       "      <td>1000</td>\n",
       "      <td>1000_0</td>\n",
       "      <td>1950</td>\n",
       "      <td>ultra</td>\n",
       "      <td>1000</td>\n",
       "      <td>1</td>\n",
       "    </tr>\n",
       "    <tr>\n",
       "      <td>1</td>\n",
       "      <td>10</td>\n",
       "      <td>1000</td>\n",
       "      <td>1000_1</td>\n",
       "      <td>1950</td>\n",
       "      <td>ultra</td>\n",
       "      <td>1000</td>\n",
       "      <td>1</td>\n",
       "    </tr>\n",
       "    <tr>\n",
       "      <td>2</td>\n",
       "      <td>8</td>\n",
       "      <td>1000</td>\n",
       "      <td>1000_2</td>\n",
       "      <td>1950</td>\n",
       "      <td>ultra</td>\n",
       "      <td>1000</td>\n",
       "      <td>1</td>\n",
       "    </tr>\n",
       "    <tr>\n",
       "      <td>3</td>\n",
       "      <td>6</td>\n",
       "      <td>1000</td>\n",
       "      <td>1000_3</td>\n",
       "      <td>1950</td>\n",
       "      <td>ultra</td>\n",
       "      <td>1000</td>\n",
       "      <td>1</td>\n",
       "    </tr>\n",
       "    <tr>\n",
       "      <td>4</td>\n",
       "      <td>12</td>\n",
       "      <td>1000</td>\n",
       "      <td>1000_4</td>\n",
       "      <td>1950</td>\n",
       "      <td>ultra</td>\n",
       "      <td>1000</td>\n",
       "      <td>1</td>\n",
       "    </tr>\n",
       "  </tbody>\n",
       "</table>\n",
       "</div>"
      ],
      "text/plain": [
       "   month_message_date  user_id      id  rub_monthly_fee tariff  \\\n",
       "0                   6     1000  1000_0             1950  ultra   \n",
       "1                  10     1000  1000_1             1950  ultra   \n",
       "2                   8     1000  1000_2             1950  ultra   \n",
       "3                   6     1000  1000_3             1950  ultra   \n",
       "4                  12     1000  1000_4             1950  ultra   \n",
       "\n",
       "   messages_included  rub_per_message  \n",
       "0               1000                1  \n",
       "1               1000                1  \n",
       "2               1000                1  \n",
       "3               1000                1  \n",
       "4               1000                1  "
      ]
     },
     "execution_count": 35,
     "metadata": {},
     "output_type": "execute_result"
    }
   ],
   "source": [
    "# Рассмотрим выручку с сообщений\n",
    "# Присоединим к таблице users таблицу tariffs по столбцу tariff\n",
    "df_users_plus_tariffs_for_messages = df_users.merge(df_tariffs, on='tariff')\n",
    "# Выделим из общей таблицы нужные столбцы\n",
    "df_users_plus_tariffs_for_messages = df_users_plus_tariffs_for_messages[{'user_id', 'tariff', 'messages_included', 'rub_monthly_fee', 'rub_per_message'}]\n",
    "# Сделаем такой же этап и для таблицы messages\n",
    "df_messages = df_messages[{'id', 'user_id', 'month_message_date'}]\n",
    "# Присоединим таблицу messages и df_users_plus_tariffs_for_messages\n",
    "df_users_plus_tariffs_for_messages = df_messages.merge(df_users_plus_tariffs_for_messages, on='user_id')\n",
    "df_users_plus_tariffs_for_messages.head()"
   ]
  },
  {
   "cell_type": "code",
   "execution_count": 36,
   "metadata": {},
   "outputs": [
    {
     "data": {
      "text/html": [
       "<div>\n",
       "<style scoped>\n",
       "    .dataframe tbody tr th:only-of-type {\n",
       "        vertical-align: middle;\n",
       "    }\n",
       "\n",
       "    .dataframe tbody tr th {\n",
       "        vertical-align: top;\n",
       "    }\n",
       "\n",
       "    .dataframe thead th {\n",
       "        text-align: right;\n",
       "    }\n",
       "</style>\n",
       "<table border=\"1\" class=\"dataframe\">\n",
       "  <thead>\n",
       "    <tr style=\"text-align: right;\">\n",
       "      <th></th>\n",
       "      <th>user_id</th>\n",
       "      <th>month_message_date</th>\n",
       "      <th>tariff</th>\n",
       "      <th>messages_included</th>\n",
       "      <th>rub_monthly_fee</th>\n",
       "      <th>rub_per_message</th>\n",
       "      <th>id</th>\n",
       "    </tr>\n",
       "  </thead>\n",
       "  <tbody>\n",
       "    <tr>\n",
       "      <td>0</td>\n",
       "      <td>1000</td>\n",
       "      <td>5</td>\n",
       "      <td>ultra</td>\n",
       "      <td>1000</td>\n",
       "      <td>1950</td>\n",
       "      <td>1</td>\n",
       "      <td>22</td>\n",
       "    </tr>\n",
       "    <tr>\n",
       "      <td>1</td>\n",
       "      <td>1000</td>\n",
       "      <td>6</td>\n",
       "      <td>ultra</td>\n",
       "      <td>1000</td>\n",
       "      <td>1950</td>\n",
       "      <td>1</td>\n",
       "      <td>60</td>\n",
       "    </tr>\n",
       "    <tr>\n",
       "      <td>2</td>\n",
       "      <td>1000</td>\n",
       "      <td>7</td>\n",
       "      <td>ultra</td>\n",
       "      <td>1000</td>\n",
       "      <td>1950</td>\n",
       "      <td>1</td>\n",
       "      <td>75</td>\n",
       "    </tr>\n",
       "    <tr>\n",
       "      <td>3</td>\n",
       "      <td>1000</td>\n",
       "      <td>8</td>\n",
       "      <td>ultra</td>\n",
       "      <td>1000</td>\n",
       "      <td>1950</td>\n",
       "      <td>1</td>\n",
       "      <td>81</td>\n",
       "    </tr>\n",
       "    <tr>\n",
       "      <td>4</td>\n",
       "      <td>1000</td>\n",
       "      <td>9</td>\n",
       "      <td>ultra</td>\n",
       "      <td>1000</td>\n",
       "      <td>1950</td>\n",
       "      <td>1</td>\n",
       "      <td>57</td>\n",
       "    </tr>\n",
       "  </tbody>\n",
       "</table>\n",
       "</div>"
      ],
      "text/plain": [
       "   user_id  month_message_date tariff  messages_included  rub_monthly_fee  \\\n",
       "0     1000                   5  ultra               1000             1950   \n",
       "1     1000                   6  ultra               1000             1950   \n",
       "2     1000                   7  ultra               1000             1950   \n",
       "3     1000                   8  ultra               1000             1950   \n",
       "4     1000                   9  ultra               1000             1950   \n",
       "\n",
       "   rub_per_message  id  \n",
       "0                1  22  \n",
       "1                1  60  \n",
       "2                1  75  \n",
       "3                1  81  \n",
       "4                1  57  "
      ]
     },
     "execution_count": 36,
     "metadata": {},
     "output_type": "execute_result"
    }
   ],
   "source": [
    "# Сгруппируем те данные, которые нам нужны, дабы использовать их для нахождения выручки от сообщений\n",
    "df_users_plus_tariffs_for_messages = df_users_plus_tariffs_for_messages.groupby(['user_id','month_message_date', 'tariff', 'messages_included', 'rub_monthly_fee', 'rub_per_message'], as_index=False)['id'].count()\n",
    "df_users_plus_tariffs_for_messages.head()"
   ]
  },
  {
   "cell_type": "code",
   "execution_count": 37,
   "metadata": {},
   "outputs": [
    {
     "data": {
      "text/html": [
       "<div>\n",
       "<style scoped>\n",
       "    .dataframe tbody tr th:only-of-type {\n",
       "        vertical-align: middle;\n",
       "    }\n",
       "\n",
       "    .dataframe tbody tr th {\n",
       "        vertical-align: top;\n",
       "    }\n",
       "\n",
       "    .dataframe thead th {\n",
       "        text-align: right;\n",
       "    }\n",
       "</style>\n",
       "<table border=\"1\" class=\"dataframe\">\n",
       "  <thead>\n",
       "    <tr style=\"text-align: right;\">\n",
       "      <th></th>\n",
       "      <th>user_id</th>\n",
       "      <th>month_message_date</th>\n",
       "      <th>tariff</th>\n",
       "      <th>messages_included</th>\n",
       "      <th>rub_monthly_fee</th>\n",
       "      <th>rub_per_message</th>\n",
       "      <th>id</th>\n",
       "      <th>messages_end_month</th>\n",
       "    </tr>\n",
       "  </thead>\n",
       "  <tbody>\n",
       "    <tr>\n",
       "      <td>0</td>\n",
       "      <td>1000</td>\n",
       "      <td>5</td>\n",
       "      <td>ultra</td>\n",
       "      <td>1000</td>\n",
       "      <td>1950</td>\n",
       "      <td>1</td>\n",
       "      <td>22</td>\n",
       "      <td>978</td>\n",
       "    </tr>\n",
       "    <tr>\n",
       "      <td>1</td>\n",
       "      <td>1000</td>\n",
       "      <td>6</td>\n",
       "      <td>ultra</td>\n",
       "      <td>1000</td>\n",
       "      <td>1950</td>\n",
       "      <td>1</td>\n",
       "      <td>60</td>\n",
       "      <td>940</td>\n",
       "    </tr>\n",
       "    <tr>\n",
       "      <td>2</td>\n",
       "      <td>1000</td>\n",
       "      <td>7</td>\n",
       "      <td>ultra</td>\n",
       "      <td>1000</td>\n",
       "      <td>1950</td>\n",
       "      <td>1</td>\n",
       "      <td>75</td>\n",
       "      <td>925</td>\n",
       "    </tr>\n",
       "    <tr>\n",
       "      <td>3</td>\n",
       "      <td>1000</td>\n",
       "      <td>8</td>\n",
       "      <td>ultra</td>\n",
       "      <td>1000</td>\n",
       "      <td>1950</td>\n",
       "      <td>1</td>\n",
       "      <td>81</td>\n",
       "      <td>919</td>\n",
       "    </tr>\n",
       "    <tr>\n",
       "      <td>4</td>\n",
       "      <td>1000</td>\n",
       "      <td>9</td>\n",
       "      <td>ultra</td>\n",
       "      <td>1000</td>\n",
       "      <td>1950</td>\n",
       "      <td>1</td>\n",
       "      <td>57</td>\n",
       "      <td>943</td>\n",
       "    </tr>\n",
       "  </tbody>\n",
       "</table>\n",
       "</div>"
      ],
      "text/plain": [
       "   user_id  month_message_date tariff  messages_included  rub_monthly_fee  \\\n",
       "0     1000                   5  ultra               1000             1950   \n",
       "1     1000                   6  ultra               1000             1950   \n",
       "2     1000                   7  ultra               1000             1950   \n",
       "3     1000                   8  ultra               1000             1950   \n",
       "4     1000                   9  ultra               1000             1950   \n",
       "\n",
       "   rub_per_message  id  messages_end_month  \n",
       "0                1  22                 978  \n",
       "1                1  60                 940  \n",
       "2                1  75                 925  \n",
       "3                1  81                 919  \n",
       "4                1  57                 943  "
      ]
     },
     "execution_count": 37,
     "metadata": {},
     "output_type": "execute_result"
    }
   ],
   "source": [
    "# Посчитаем количество сообщений, которое осталось (или не осталось) по окончанию месяца\n",
    "df_users_plus_tariffs_for_messages['messages_end_month'] = df_users_plus_tariffs_for_messages['messages_included'] - df_users_plus_tariffs_for_messages['id']\n",
    "df_users_plus_tariffs_for_messages.head()"
   ]
  },
  {
   "cell_type": "code",
   "execution_count": 38,
   "metadata": {},
   "outputs": [],
   "source": [
    "# Напишем функцию, которая по итогу добавит столбец с дополнительными за конкретный месяц сообщениями\n",
    "def gain_message(messages_end_month):\n",
    "    if messages_end_month < 0:\n",
    "        return messages_end_month * -1\n",
    "    if messages_end_month >=0:\n",
    "        return 0\n",
    "df_users_plus_tariffs_for_messages['gain_messages'] = df_users_plus_tariffs_for_messages['messages_end_month'].apply(gain_message)\n",
    "# Домножим полученный столбец на стоимость каждого сообщения\n",
    "df_users_plus_tariffs_for_messages['gain_messages'] = (df_users_plus_tariffs_for_messages['gain_messages'] * df_users_plus_tariffs_for_messages['rub_per_message']) \n",
    "#df_users_plus_tariffs_for_messages"
   ]
  },
  {
   "cell_type": "code",
   "execution_count": 39,
   "metadata": {},
   "outputs": [
    {
     "data": {
      "text/html": [
       "<div>\n",
       "<style scoped>\n",
       "    .dataframe tbody tr th:only-of-type {\n",
       "        vertical-align: middle;\n",
       "    }\n",
       "\n",
       "    .dataframe tbody tr th {\n",
       "        vertical-align: top;\n",
       "    }\n",
       "\n",
       "    .dataframe thead th {\n",
       "        text-align: right;\n",
       "    }\n",
       "</style>\n",
       "<table border=\"1\" class=\"dataframe\">\n",
       "  <thead>\n",
       "    <tr style=\"text-align: right;\">\n",
       "      <th></th>\n",
       "      <th>month_call_date</th>\n",
       "      <th>user_id</th>\n",
       "      <th>duration</th>\n",
       "      <th>minutes_included</th>\n",
       "      <th>rub_monthly_fee</th>\n",
       "      <th>tariff</th>\n",
       "      <th>rub_per_minute</th>\n",
       "    </tr>\n",
       "  </thead>\n",
       "  <tbody>\n",
       "    <tr>\n",
       "      <td>0</td>\n",
       "      <td>6</td>\n",
       "      <td>1000</td>\n",
       "      <td>2.85</td>\n",
       "      <td>3000</td>\n",
       "      <td>1950</td>\n",
       "      <td>ultra</td>\n",
       "      <td>1</td>\n",
       "    </tr>\n",
       "    <tr>\n",
       "      <td>1</td>\n",
       "      <td>9</td>\n",
       "      <td>1000</td>\n",
       "      <td>13.80</td>\n",
       "      <td>3000</td>\n",
       "      <td>1950</td>\n",
       "      <td>ultra</td>\n",
       "      <td>1</td>\n",
       "    </tr>\n",
       "    <tr>\n",
       "      <td>2</td>\n",
       "      <td>12</td>\n",
       "      <td>1000</td>\n",
       "      <td>5.18</td>\n",
       "      <td>3000</td>\n",
       "      <td>1950</td>\n",
       "      <td>ultra</td>\n",
       "      <td>1</td>\n",
       "    </tr>\n",
       "    <tr>\n",
       "      <td>3</td>\n",
       "      <td>8</td>\n",
       "      <td>1000</td>\n",
       "      <td>18.31</td>\n",
       "      <td>3000</td>\n",
       "      <td>1950</td>\n",
       "      <td>ultra</td>\n",
       "      <td>1</td>\n",
       "    </tr>\n",
       "    <tr>\n",
       "      <td>4</td>\n",
       "      <td>9</td>\n",
       "      <td>1000</td>\n",
       "      <td>18.44</td>\n",
       "      <td>3000</td>\n",
       "      <td>1950</td>\n",
       "      <td>ultra</td>\n",
       "      <td>1</td>\n",
       "    </tr>\n",
       "  </tbody>\n",
       "</table>\n",
       "</div>"
      ],
      "text/plain": [
       "   month_call_date  user_id  duration  minutes_included  rub_monthly_fee  \\\n",
       "0                6     1000      2.85              3000             1950   \n",
       "1                9     1000     13.80              3000             1950   \n",
       "2               12     1000      5.18              3000             1950   \n",
       "3                8     1000     18.31              3000             1950   \n",
       "4                9     1000     18.44              3000             1950   \n",
       "\n",
       "  tariff  rub_per_minute  \n",
       "0  ultra               1  \n",
       "1  ultra               1  \n",
       "2  ultra               1  \n",
       "3  ultra               1  \n",
       "4  ultra               1  "
      ]
     },
     "execution_count": 39,
     "metadata": {},
     "output_type": "execute_result"
    }
   ],
   "source": [
    "# Рассмотрим выручку со звонков\n",
    "# Присоединим к таблице users таблицу tariffs по столбцу tariff\n",
    "df_users_plus_tariffs_for_calls = df_users.merge(df_tariffs, on='tariff')\n",
    "# Выделим из общей таблицы нужные столбцы\n",
    "df_users_plus_tariffs_for_calls = df_users_plus_tariffs_for_calls[{'user_id', 'tariff', 'minutes_included', 'rub_monthly_fee', 'rub_per_minute'}]\n",
    "# Сделаем такой же этап и для таблицы df_calls_for_question\n",
    "df_calls_for_question = df_calls_for_question[{'user_id', 'duration', 'month_call_date'}]\n",
    "# Присоединим таблицу df_calls_for_question и df_users_plus_tariffs_for_calls\n",
    "df_users_plus_tariffs_for_calls = df_calls_for_question.merge(df_users_plus_tariffs_for_calls, on='user_id')\n",
    "\n",
    "df_users_plus_tariffs_for_calls.head()"
   ]
  },
  {
   "cell_type": "code",
   "execution_count": 40,
   "metadata": {},
   "outputs": [
    {
     "data": {
      "text/html": [
       "<div>\n",
       "<style scoped>\n",
       "    .dataframe tbody tr th:only-of-type {\n",
       "        vertical-align: middle;\n",
       "    }\n",
       "\n",
       "    .dataframe tbody tr th {\n",
       "        vertical-align: top;\n",
       "    }\n",
       "\n",
       "    .dataframe thead th {\n",
       "        text-align: right;\n",
       "    }\n",
       "</style>\n",
       "<table border=\"1\" class=\"dataframe\">\n",
       "  <thead>\n",
       "    <tr style=\"text-align: right;\">\n",
       "      <th></th>\n",
       "      <th>user_id</th>\n",
       "      <th>month_call_date</th>\n",
       "      <th>tariff</th>\n",
       "      <th>minutes_included</th>\n",
       "      <th>rub_monthly_fee</th>\n",
       "      <th>rub_per_minute</th>\n",
       "      <th>duration</th>\n",
       "    </tr>\n",
       "  </thead>\n",
       "  <tbody>\n",
       "    <tr>\n",
       "      <td>0</td>\n",
       "      <td>1000</td>\n",
       "      <td>5</td>\n",
       "      <td>ultra</td>\n",
       "      <td>3000</td>\n",
       "      <td>1950</td>\n",
       "      <td>1</td>\n",
       "      <td>150.06</td>\n",
       "    </tr>\n",
       "    <tr>\n",
       "      <td>1</td>\n",
       "      <td>1000</td>\n",
       "      <td>6</td>\n",
       "      <td>ultra</td>\n",
       "      <td>3000</td>\n",
       "      <td>1950</td>\n",
       "      <td>1</td>\n",
       "      <td>158.90</td>\n",
       "    </tr>\n",
       "    <tr>\n",
       "      <td>2</td>\n",
       "      <td>1000</td>\n",
       "      <td>7</td>\n",
       "      <td>ultra</td>\n",
       "      <td>3000</td>\n",
       "      <td>1950</td>\n",
       "      <td>1</td>\n",
       "      <td>318.80</td>\n",
       "    </tr>\n",
       "    <tr>\n",
       "      <td>3</td>\n",
       "      <td>1000</td>\n",
       "      <td>8</td>\n",
       "      <td>ultra</td>\n",
       "      <td>3000</td>\n",
       "      <td>1950</td>\n",
       "      <td>1</td>\n",
       "      <td>389.87</td>\n",
       "    </tr>\n",
       "    <tr>\n",
       "      <td>4</td>\n",
       "      <td>1000</td>\n",
       "      <td>9</td>\n",
       "      <td>ultra</td>\n",
       "      <td>3000</td>\n",
       "      <td>1950</td>\n",
       "      <td>1</td>\n",
       "      <td>440.14</td>\n",
       "    </tr>\n",
       "  </tbody>\n",
       "</table>\n",
       "</div>"
      ],
      "text/plain": [
       "   user_id  month_call_date tariff  minutes_included  rub_monthly_fee  \\\n",
       "0     1000                5  ultra              3000             1950   \n",
       "1     1000                6  ultra              3000             1950   \n",
       "2     1000                7  ultra              3000             1950   \n",
       "3     1000                8  ultra              3000             1950   \n",
       "4     1000                9  ultra              3000             1950   \n",
       "\n",
       "   rub_per_minute  duration  \n",
       "0               1    150.06  \n",
       "1               1    158.90  \n",
       "2               1    318.80  \n",
       "3               1    389.87  \n",
       "4               1    440.14  "
      ]
     },
     "execution_count": 40,
     "metadata": {},
     "output_type": "execute_result"
    }
   ],
   "source": [
    "# Сгруппируем те данные, которые нам нужны, дабы использовать их для нахождения выручки от звонков\n",
    "df_users_plus_tariffs_for_calls = df_users_plus_tariffs_for_calls.groupby(['user_id','month_call_date', 'tariff', 'minutes_included', 'rub_monthly_fee', 'rub_per_minute'], as_index=False)['duration'].sum()\n",
    "df_users_plus_tariffs_for_calls.head()"
   ]
  },
  {
   "cell_type": "code",
   "execution_count": 41,
   "metadata": {},
   "outputs": [
    {
     "data": {
      "text/html": [
       "<div>\n",
       "<style scoped>\n",
       "    .dataframe tbody tr th:only-of-type {\n",
       "        vertical-align: middle;\n",
       "    }\n",
       "\n",
       "    .dataframe tbody tr th {\n",
       "        vertical-align: top;\n",
       "    }\n",
       "\n",
       "    .dataframe thead th {\n",
       "        text-align: right;\n",
       "    }\n",
       "</style>\n",
       "<table border=\"1\" class=\"dataframe\">\n",
       "  <thead>\n",
       "    <tr style=\"text-align: right;\">\n",
       "      <th></th>\n",
       "      <th>user_id</th>\n",
       "      <th>month_call_date</th>\n",
       "      <th>tariff</th>\n",
       "      <th>minutes_included</th>\n",
       "      <th>rub_monthly_fee</th>\n",
       "      <th>rub_per_minute</th>\n",
       "      <th>duration</th>\n",
       "      <th>minute_end_month</th>\n",
       "    </tr>\n",
       "  </thead>\n",
       "  <tbody>\n",
       "    <tr>\n",
       "      <td>0</td>\n",
       "      <td>1000</td>\n",
       "      <td>5</td>\n",
       "      <td>ultra</td>\n",
       "      <td>3000</td>\n",
       "      <td>1950</td>\n",
       "      <td>1</td>\n",
       "      <td>150.06</td>\n",
       "      <td>2849.94</td>\n",
       "    </tr>\n",
       "    <tr>\n",
       "      <td>1</td>\n",
       "      <td>1000</td>\n",
       "      <td>6</td>\n",
       "      <td>ultra</td>\n",
       "      <td>3000</td>\n",
       "      <td>1950</td>\n",
       "      <td>1</td>\n",
       "      <td>158.90</td>\n",
       "      <td>2841.10</td>\n",
       "    </tr>\n",
       "    <tr>\n",
       "      <td>2</td>\n",
       "      <td>1000</td>\n",
       "      <td>7</td>\n",
       "      <td>ultra</td>\n",
       "      <td>3000</td>\n",
       "      <td>1950</td>\n",
       "      <td>1</td>\n",
       "      <td>318.80</td>\n",
       "      <td>2681.20</td>\n",
       "    </tr>\n",
       "    <tr>\n",
       "      <td>3</td>\n",
       "      <td>1000</td>\n",
       "      <td>8</td>\n",
       "      <td>ultra</td>\n",
       "      <td>3000</td>\n",
       "      <td>1950</td>\n",
       "      <td>1</td>\n",
       "      <td>389.87</td>\n",
       "      <td>2610.13</td>\n",
       "    </tr>\n",
       "    <tr>\n",
       "      <td>4</td>\n",
       "      <td>1000</td>\n",
       "      <td>9</td>\n",
       "      <td>ultra</td>\n",
       "      <td>3000</td>\n",
       "      <td>1950</td>\n",
       "      <td>1</td>\n",
       "      <td>440.14</td>\n",
       "      <td>2559.86</td>\n",
       "    </tr>\n",
       "  </tbody>\n",
       "</table>\n",
       "</div>"
      ],
      "text/plain": [
       "   user_id  month_call_date tariff  minutes_included  rub_monthly_fee  \\\n",
       "0     1000                5  ultra              3000             1950   \n",
       "1     1000                6  ultra              3000             1950   \n",
       "2     1000                7  ultra              3000             1950   \n",
       "3     1000                8  ultra              3000             1950   \n",
       "4     1000                9  ultra              3000             1950   \n",
       "\n",
       "   rub_per_minute  duration  minute_end_month  \n",
       "0               1    150.06           2849.94  \n",
       "1               1    158.90           2841.10  \n",
       "2               1    318.80           2681.20  \n",
       "3               1    389.87           2610.13  \n",
       "4               1    440.14           2559.86  "
      ]
     },
     "execution_count": 41,
     "metadata": {},
     "output_type": "execute_result"
    }
   ],
   "source": [
    "# Посчитаем количество минут, которое осталось (или не осталось) по окончанию месяца\n",
    "df_users_plus_tariffs_for_calls['minute_end_month'] = df_users_plus_tariffs_for_calls['minutes_included'] - df_users_plus_tariffs_for_calls['duration']\n",
    "df_users_plus_tariffs_for_calls.head()"
   ]
  },
  {
   "cell_type": "code",
   "execution_count": 42,
   "metadata": {},
   "outputs": [
    {
     "data": {
      "text/html": [
       "<div>\n",
       "<style scoped>\n",
       "    .dataframe tbody tr th:only-of-type {\n",
       "        vertical-align: middle;\n",
       "    }\n",
       "\n",
       "    .dataframe tbody tr th {\n",
       "        vertical-align: top;\n",
       "    }\n",
       "\n",
       "    .dataframe thead th {\n",
       "        text-align: right;\n",
       "    }\n",
       "</style>\n",
       "<table border=\"1\" class=\"dataframe\">\n",
       "  <thead>\n",
       "    <tr style=\"text-align: right;\">\n",
       "      <th></th>\n",
       "      <th>user_id</th>\n",
       "      <th>month_call_date</th>\n",
       "      <th>tariff</th>\n",
       "      <th>minutes_included</th>\n",
       "      <th>rub_monthly_fee</th>\n",
       "      <th>rub_per_minute</th>\n",
       "      <th>duration</th>\n",
       "      <th>minute_end_month</th>\n",
       "      <th>gain_calls</th>\n",
       "    </tr>\n",
       "  </thead>\n",
       "  <tbody>\n",
       "    <tr>\n",
       "      <td>0</td>\n",
       "      <td>1000</td>\n",
       "      <td>5</td>\n",
       "      <td>ultra</td>\n",
       "      <td>3000</td>\n",
       "      <td>1950</td>\n",
       "      <td>1</td>\n",
       "      <td>150.06</td>\n",
       "      <td>2849.94</td>\n",
       "      <td>0.0</td>\n",
       "    </tr>\n",
       "    <tr>\n",
       "      <td>1</td>\n",
       "      <td>1000</td>\n",
       "      <td>6</td>\n",
       "      <td>ultra</td>\n",
       "      <td>3000</td>\n",
       "      <td>1950</td>\n",
       "      <td>1</td>\n",
       "      <td>158.90</td>\n",
       "      <td>2841.10</td>\n",
       "      <td>0.0</td>\n",
       "    </tr>\n",
       "    <tr>\n",
       "      <td>2</td>\n",
       "      <td>1000</td>\n",
       "      <td>7</td>\n",
       "      <td>ultra</td>\n",
       "      <td>3000</td>\n",
       "      <td>1950</td>\n",
       "      <td>1</td>\n",
       "      <td>318.80</td>\n",
       "      <td>2681.20</td>\n",
       "      <td>0.0</td>\n",
       "    </tr>\n",
       "    <tr>\n",
       "      <td>3</td>\n",
       "      <td>1000</td>\n",
       "      <td>8</td>\n",
       "      <td>ultra</td>\n",
       "      <td>3000</td>\n",
       "      <td>1950</td>\n",
       "      <td>1</td>\n",
       "      <td>389.87</td>\n",
       "      <td>2610.13</td>\n",
       "      <td>0.0</td>\n",
       "    </tr>\n",
       "    <tr>\n",
       "      <td>4</td>\n",
       "      <td>1000</td>\n",
       "      <td>9</td>\n",
       "      <td>ultra</td>\n",
       "      <td>3000</td>\n",
       "      <td>1950</td>\n",
       "      <td>1</td>\n",
       "      <td>440.14</td>\n",
       "      <td>2559.86</td>\n",
       "      <td>0.0</td>\n",
       "    </tr>\n",
       "    <tr>\n",
       "      <td>...</td>\n",
       "      <td>...</td>\n",
       "      <td>...</td>\n",
       "      <td>...</td>\n",
       "      <td>...</td>\n",
       "      <td>...</td>\n",
       "      <td>...</td>\n",
       "      <td>...</td>\n",
       "      <td>...</td>\n",
       "      <td>...</td>\n",
       "    </tr>\n",
       "    <tr>\n",
       "      <td>3163</td>\n",
       "      <td>1498</td>\n",
       "      <td>10</td>\n",
       "      <td>smart</td>\n",
       "      <td>500</td>\n",
       "      <td>550</td>\n",
       "      <td>3</td>\n",
       "      <td>232.63</td>\n",
       "      <td>267.37</td>\n",
       "      <td>0.0</td>\n",
       "    </tr>\n",
       "    <tr>\n",
       "      <td>3164</td>\n",
       "      <td>1499</td>\n",
       "      <td>9</td>\n",
       "      <td>smart</td>\n",
       "      <td>500</td>\n",
       "      <td>550</td>\n",
       "      <td>3</td>\n",
       "      <td>64.65</td>\n",
       "      <td>435.35</td>\n",
       "      <td>0.0</td>\n",
       "    </tr>\n",
       "    <tr>\n",
       "      <td>3165</td>\n",
       "      <td>1499</td>\n",
       "      <td>10</td>\n",
       "      <td>smart</td>\n",
       "      <td>500</td>\n",
       "      <td>550</td>\n",
       "      <td>3</td>\n",
       "      <td>429.91</td>\n",
       "      <td>70.09</td>\n",
       "      <td>0.0</td>\n",
       "    </tr>\n",
       "    <tr>\n",
       "      <td>3166</td>\n",
       "      <td>1499</td>\n",
       "      <td>11</td>\n",
       "      <td>smart</td>\n",
       "      <td>500</td>\n",
       "      <td>550</td>\n",
       "      <td>3</td>\n",
       "      <td>576.50</td>\n",
       "      <td>-76.50</td>\n",
       "      <td>229.5</td>\n",
       "    </tr>\n",
       "    <tr>\n",
       "      <td>3167</td>\n",
       "      <td>1499</td>\n",
       "      <td>12</td>\n",
       "      <td>smart</td>\n",
       "      <td>500</td>\n",
       "      <td>550</td>\n",
       "      <td>3</td>\n",
       "      <td>465.16</td>\n",
       "      <td>34.84</td>\n",
       "      <td>0.0</td>\n",
       "    </tr>\n",
       "  </tbody>\n",
       "</table>\n",
       "<p>3168 rows × 9 columns</p>\n",
       "</div>"
      ],
      "text/plain": [
       "      user_id  month_call_date tariff  minutes_included  rub_monthly_fee  \\\n",
       "0        1000                5  ultra              3000             1950   \n",
       "1        1000                6  ultra              3000             1950   \n",
       "2        1000                7  ultra              3000             1950   \n",
       "3        1000                8  ultra              3000             1950   \n",
       "4        1000                9  ultra              3000             1950   \n",
       "...       ...              ...    ...               ...              ...   \n",
       "3163     1498               10  smart               500              550   \n",
       "3164     1499                9  smart               500              550   \n",
       "3165     1499               10  smart               500              550   \n",
       "3166     1499               11  smart               500              550   \n",
       "3167     1499               12  smart               500              550   \n",
       "\n",
       "      rub_per_minute  duration  minute_end_month  gain_calls  \n",
       "0                  1    150.06           2849.94         0.0  \n",
       "1                  1    158.90           2841.10         0.0  \n",
       "2                  1    318.80           2681.20         0.0  \n",
       "3                  1    389.87           2610.13         0.0  \n",
       "4                  1    440.14           2559.86         0.0  \n",
       "...              ...       ...               ...         ...  \n",
       "3163               3    232.63            267.37         0.0  \n",
       "3164               3     64.65            435.35         0.0  \n",
       "3165               3    429.91             70.09         0.0  \n",
       "3166               3    576.50            -76.50       229.5  \n",
       "3167               3    465.16             34.84         0.0  \n",
       "\n",
       "[3168 rows x 9 columns]"
      ]
     },
     "execution_count": 42,
     "metadata": {},
     "output_type": "execute_result"
    }
   ],
   "source": [
    "# Напишем функцию, которая по итогу добавит столбец с дополнительными за конкретный месяц минутами\n",
    "def gain_calls(minute_end_month):\n",
    "    if minute_end_month < 0:\n",
    "        return minute_end_month * -1\n",
    "    if minute_end_month >=0:\n",
    "        return 0\n",
    "df_users_plus_tariffs_for_calls['gain_calls'] = df_users_plus_tariffs_for_calls['minute_end_month'].apply(gain_calls)\n",
    "# Домножим полученный столбец на стоимость каждого сообщения\n",
    "df_users_plus_tariffs_for_calls['gain_calls'] = (df_users_plus_tariffs_for_calls['gain_calls'] * df_users_plus_tariffs_for_calls['rub_per_minute']) \n",
    "df_users_plus_tariffs_for_calls"
   ]
  },
  {
   "cell_type": "code",
   "execution_count": 43,
   "metadata": {},
   "outputs": [
    {
     "data": {
      "text/html": [
       "<div>\n",
       "<style scoped>\n",
       "    .dataframe tbody tr th:only-of-type {\n",
       "        vertical-align: middle;\n",
       "    }\n",
       "\n",
       "    .dataframe tbody tr th {\n",
       "        vertical-align: top;\n",
       "    }\n",
       "\n",
       "    .dataframe thead th {\n",
       "        text-align: right;\n",
       "    }\n",
       "</style>\n",
       "<table border=\"1\" class=\"dataframe\">\n",
       "  <thead>\n",
       "    <tr style=\"text-align: right;\">\n",
       "      <th></th>\n",
       "      <th>mb_used</th>\n",
       "      <th>user_id</th>\n",
       "      <th>month_session_date</th>\n",
       "      <th>rub_monthly_fee</th>\n",
       "      <th>tariff</th>\n",
       "      <th>rub_per_gb</th>\n",
       "      <th>mb_per_month_included</th>\n",
       "    </tr>\n",
       "  </thead>\n",
       "  <tbody>\n",
       "    <tr>\n",
       "      <td>0</td>\n",
       "      <td>113</td>\n",
       "      <td>1000</td>\n",
       "      <td>11</td>\n",
       "      <td>1950</td>\n",
       "      <td>ultra</td>\n",
       "      <td>150</td>\n",
       "      <td>30720</td>\n",
       "    </tr>\n",
       "    <tr>\n",
       "      <td>1</td>\n",
       "      <td>1053</td>\n",
       "      <td>1000</td>\n",
       "      <td>9</td>\n",
       "      <td>1950</td>\n",
       "      <td>ultra</td>\n",
       "      <td>150</td>\n",
       "      <td>30720</td>\n",
       "    </tr>\n",
       "    <tr>\n",
       "      <td>2</td>\n",
       "      <td>1197</td>\n",
       "      <td>1000</td>\n",
       "      <td>6</td>\n",
       "      <td>1950</td>\n",
       "      <td>ultra</td>\n",
       "      <td>150</td>\n",
       "      <td>30720</td>\n",
       "    </tr>\n",
       "    <tr>\n",
       "      <td>3</td>\n",
       "      <td>550</td>\n",
       "      <td>1000</td>\n",
       "      <td>8</td>\n",
       "      <td>1950</td>\n",
       "      <td>ultra</td>\n",
       "      <td>150</td>\n",
       "      <td>30720</td>\n",
       "    </tr>\n",
       "    <tr>\n",
       "      <td>4</td>\n",
       "      <td>303</td>\n",
       "      <td>1000</td>\n",
       "      <td>9</td>\n",
       "      <td>1950</td>\n",
       "      <td>ultra</td>\n",
       "      <td>150</td>\n",
       "      <td>30720</td>\n",
       "    </tr>\n",
       "  </tbody>\n",
       "</table>\n",
       "</div>"
      ],
      "text/plain": [
       "   mb_used  user_id  month_session_date  rub_monthly_fee tariff  rub_per_gb  \\\n",
       "0      113     1000                  11             1950  ultra         150   \n",
       "1     1053     1000                   9             1950  ultra         150   \n",
       "2     1197     1000                   6             1950  ultra         150   \n",
       "3      550     1000                   8             1950  ultra         150   \n",
       "4      303     1000                   9             1950  ultra         150   \n",
       "\n",
       "   mb_per_month_included  \n",
       "0                  30720  \n",
       "1                  30720  \n",
       "2                  30720  \n",
       "3                  30720  \n",
       "4                  30720  "
      ]
     },
     "execution_count": 43,
     "metadata": {},
     "output_type": "execute_result"
    }
   ],
   "source": [
    "# Рассмотрим выручку с интернета \n",
    "# Присоединим к таблице users таблицу tariffs по столбцу tariff\n",
    "df_users_plus_tariffs_for_internet = df_users.merge(df_tariffs, on='tariff')\n",
    "# Выделим из общей таблицы нужные столбцы\n",
    "df_users_plus_tariffs_for_internet = df_users_plus_tariffs_for_internet[{'user_id', 'tariff', 'mb_per_month_included', 'rub_monthly_fee', 'rub_per_gb'}]\n",
    "# Сделаем такой же этап и для таблицы df_internet\n",
    "df_internet = df_internet[{'user_id', 'mb_used', 'month_session_date'}]\n",
    "# Присоединим таблицу df_internet и df_users_plus_tariffs_for_internet\n",
    "df_users_plus_tariffs_for_internet = df_internet.merge(df_users_plus_tariffs_for_internet, on='user_id')\n",
    "\n",
    "df_users_plus_tariffs_for_internet.head()"
   ]
  },
  {
   "cell_type": "code",
   "execution_count": 44,
   "metadata": {},
   "outputs": [
    {
     "data": {
      "text/html": [
       "<div>\n",
       "<style scoped>\n",
       "    .dataframe tbody tr th:only-of-type {\n",
       "        vertical-align: middle;\n",
       "    }\n",
       "\n",
       "    .dataframe tbody tr th {\n",
       "        vertical-align: top;\n",
       "    }\n",
       "\n",
       "    .dataframe thead th {\n",
       "        text-align: right;\n",
       "    }\n",
       "</style>\n",
       "<table border=\"1\" class=\"dataframe\">\n",
       "  <thead>\n",
       "    <tr style=\"text-align: right;\">\n",
       "      <th></th>\n",
       "      <th>user_id</th>\n",
       "      <th>month_session_date</th>\n",
       "      <th>tariff</th>\n",
       "      <th>mb_per_month_included</th>\n",
       "      <th>rub_monthly_fee</th>\n",
       "      <th>rub_per_gb</th>\n",
       "      <th>mb_used</th>\n",
       "    </tr>\n",
       "  </thead>\n",
       "  <tbody>\n",
       "    <tr>\n",
       "      <td>0</td>\n",
       "      <td>1000</td>\n",
       "      <td>5</td>\n",
       "      <td>ultra</td>\n",
       "      <td>30720</td>\n",
       "      <td>1950</td>\n",
       "      <td>150</td>\n",
       "      <td>2253</td>\n",
       "    </tr>\n",
       "    <tr>\n",
       "      <td>1</td>\n",
       "      <td>1000</td>\n",
       "      <td>6</td>\n",
       "      <td>ultra</td>\n",
       "      <td>30720</td>\n",
       "      <td>1950</td>\n",
       "      <td>150</td>\n",
       "      <td>23232</td>\n",
       "    </tr>\n",
       "    <tr>\n",
       "      <td>2</td>\n",
       "      <td>1000</td>\n",
       "      <td>7</td>\n",
       "      <td>ultra</td>\n",
       "      <td>30720</td>\n",
       "      <td>1950</td>\n",
       "      <td>150</td>\n",
       "      <td>14004</td>\n",
       "    </tr>\n",
       "    <tr>\n",
       "      <td>3</td>\n",
       "      <td>1000</td>\n",
       "      <td>8</td>\n",
       "      <td>ultra</td>\n",
       "      <td>30720</td>\n",
       "      <td>1950</td>\n",
       "      <td>150</td>\n",
       "      <td>14054</td>\n",
       "    </tr>\n",
       "    <tr>\n",
       "      <td>4</td>\n",
       "      <td>1000</td>\n",
       "      <td>9</td>\n",
       "      <td>ultra</td>\n",
       "      <td>30720</td>\n",
       "      <td>1950</td>\n",
       "      <td>150</td>\n",
       "      <td>14569</td>\n",
       "    </tr>\n",
       "  </tbody>\n",
       "</table>\n",
       "</div>"
      ],
      "text/plain": [
       "   user_id  month_session_date tariff  mb_per_month_included  rub_monthly_fee  \\\n",
       "0     1000                   5  ultra                  30720             1950   \n",
       "1     1000                   6  ultra                  30720             1950   \n",
       "2     1000                   7  ultra                  30720             1950   \n",
       "3     1000                   8  ultra                  30720             1950   \n",
       "4     1000                   9  ultra                  30720             1950   \n",
       "\n",
       "   rub_per_gb  mb_used  \n",
       "0         150     2253  \n",
       "1         150    23232  \n",
       "2         150    14004  \n",
       "3         150    14054  \n",
       "4         150    14569  "
      ]
     },
     "execution_count": 44,
     "metadata": {},
     "output_type": "execute_result"
    }
   ],
   "source": [
    "# Сгруппируем те данные, которые нам нужны, дабы использовать их для нахождения выручки от интернета\n",
    "df_users_plus_tariffs_for_internet = df_users_plus_tariffs_for_internet.groupby(['user_id','month_session_date', 'tariff', 'mb_per_month_included', 'rub_monthly_fee', 'rub_per_gb'], as_index=False)['mb_used'].sum()\n",
    "df_users_plus_tariffs_for_internet.head()"
   ]
  },
  {
   "cell_type": "code",
   "execution_count": 45,
   "metadata": {},
   "outputs": [
    {
     "data": {
      "text/html": [
       "<div>\n",
       "<style scoped>\n",
       "    .dataframe tbody tr th:only-of-type {\n",
       "        vertical-align: middle;\n",
       "    }\n",
       "\n",
       "    .dataframe tbody tr th {\n",
       "        vertical-align: top;\n",
       "    }\n",
       "\n",
       "    .dataframe thead th {\n",
       "        text-align: right;\n",
       "    }\n",
       "</style>\n",
       "<table border=\"1\" class=\"dataframe\">\n",
       "  <thead>\n",
       "    <tr style=\"text-align: right;\">\n",
       "      <th></th>\n",
       "      <th>user_id</th>\n",
       "      <th>month_session_date</th>\n",
       "      <th>tariff</th>\n",
       "      <th>mb_per_month_included</th>\n",
       "      <th>rub_monthly_fee</th>\n",
       "      <th>rub_per_gb</th>\n",
       "      <th>mb_used</th>\n",
       "      <th>mb_end_month</th>\n",
       "    </tr>\n",
       "  </thead>\n",
       "  <tbody>\n",
       "    <tr>\n",
       "      <td>0</td>\n",
       "      <td>1000</td>\n",
       "      <td>5</td>\n",
       "      <td>ultra</td>\n",
       "      <td>30720</td>\n",
       "      <td>1950</td>\n",
       "      <td>150</td>\n",
       "      <td>2253</td>\n",
       "      <td>28467</td>\n",
       "    </tr>\n",
       "    <tr>\n",
       "      <td>1</td>\n",
       "      <td>1000</td>\n",
       "      <td>6</td>\n",
       "      <td>ultra</td>\n",
       "      <td>30720</td>\n",
       "      <td>1950</td>\n",
       "      <td>150</td>\n",
       "      <td>23232</td>\n",
       "      <td>7488</td>\n",
       "    </tr>\n",
       "    <tr>\n",
       "      <td>2</td>\n",
       "      <td>1000</td>\n",
       "      <td>7</td>\n",
       "      <td>ultra</td>\n",
       "      <td>30720</td>\n",
       "      <td>1950</td>\n",
       "      <td>150</td>\n",
       "      <td>14004</td>\n",
       "      <td>16716</td>\n",
       "    </tr>\n",
       "    <tr>\n",
       "      <td>3</td>\n",
       "      <td>1000</td>\n",
       "      <td>8</td>\n",
       "      <td>ultra</td>\n",
       "      <td>30720</td>\n",
       "      <td>1950</td>\n",
       "      <td>150</td>\n",
       "      <td>14054</td>\n",
       "      <td>16666</td>\n",
       "    </tr>\n",
       "    <tr>\n",
       "      <td>4</td>\n",
       "      <td>1000</td>\n",
       "      <td>9</td>\n",
       "      <td>ultra</td>\n",
       "      <td>30720</td>\n",
       "      <td>1950</td>\n",
       "      <td>150</td>\n",
       "      <td>14569</td>\n",
       "      <td>16151</td>\n",
       "    </tr>\n",
       "  </tbody>\n",
       "</table>\n",
       "</div>"
      ],
      "text/plain": [
       "   user_id  month_session_date tariff  mb_per_month_included  rub_monthly_fee  \\\n",
       "0     1000                   5  ultra                  30720             1950   \n",
       "1     1000                   6  ultra                  30720             1950   \n",
       "2     1000                   7  ultra                  30720             1950   \n",
       "3     1000                   8  ultra                  30720             1950   \n",
       "4     1000                   9  ultra                  30720             1950   \n",
       "\n",
       "   rub_per_gb  mb_used  mb_end_month  \n",
       "0         150     2253         28467  \n",
       "1         150    23232          7488  \n",
       "2         150    14004         16716  \n",
       "3         150    14054         16666  \n",
       "4         150    14569         16151  "
      ]
     },
     "execution_count": 45,
     "metadata": {},
     "output_type": "execute_result"
    }
   ],
   "source": [
    "# Посчитаем мегабайтами, которое осталось (или не осталось) по окончанию месяца\n",
    "df_users_plus_tariffs_for_internet['mb_end_month'] = df_users_plus_tariffs_for_internet['mb_per_month_included'] - df_users_plus_tariffs_for_internet['mb_used']\n",
    "df_users_plus_tariffs_for_internet.head()"
   ]
  },
  {
   "cell_type": "code",
   "execution_count": 46,
   "metadata": {},
   "outputs": [
    {
     "data": {
      "text/html": [
       "<div>\n",
       "<style scoped>\n",
       "    .dataframe tbody tr th:only-of-type {\n",
       "        vertical-align: middle;\n",
       "    }\n",
       "\n",
       "    .dataframe tbody tr th {\n",
       "        vertical-align: top;\n",
       "    }\n",
       "\n",
       "    .dataframe thead th {\n",
       "        text-align: right;\n",
       "    }\n",
       "</style>\n",
       "<table border=\"1\" class=\"dataframe\">\n",
       "  <thead>\n",
       "    <tr style=\"text-align: right;\">\n",
       "      <th></th>\n",
       "      <th>user_id</th>\n",
       "      <th>month_session_date</th>\n",
       "      <th>tariff</th>\n",
       "      <th>mb_per_month_included</th>\n",
       "      <th>rub_monthly_fee</th>\n",
       "      <th>rub_per_gb</th>\n",
       "      <th>mb_used</th>\n",
       "      <th>mb_end_month</th>\n",
       "      <th>gain_internet</th>\n",
       "    </tr>\n",
       "  </thead>\n",
       "  <tbody>\n",
       "    <tr>\n",
       "      <td>0</td>\n",
       "      <td>1000</td>\n",
       "      <td>5</td>\n",
       "      <td>ultra</td>\n",
       "      <td>30720</td>\n",
       "      <td>1950</td>\n",
       "      <td>150</td>\n",
       "      <td>2253</td>\n",
       "      <td>28467</td>\n",
       "      <td>0.0</td>\n",
       "    </tr>\n",
       "    <tr>\n",
       "      <td>1</td>\n",
       "      <td>1000</td>\n",
       "      <td>6</td>\n",
       "      <td>ultra</td>\n",
       "      <td>30720</td>\n",
       "      <td>1950</td>\n",
       "      <td>150</td>\n",
       "      <td>23232</td>\n",
       "      <td>7488</td>\n",
       "      <td>0.0</td>\n",
       "    </tr>\n",
       "    <tr>\n",
       "      <td>2</td>\n",
       "      <td>1000</td>\n",
       "      <td>7</td>\n",
       "      <td>ultra</td>\n",
       "      <td>30720</td>\n",
       "      <td>1950</td>\n",
       "      <td>150</td>\n",
       "      <td>14004</td>\n",
       "      <td>16716</td>\n",
       "      <td>0.0</td>\n",
       "    </tr>\n",
       "    <tr>\n",
       "      <td>3</td>\n",
       "      <td>1000</td>\n",
       "      <td>8</td>\n",
       "      <td>ultra</td>\n",
       "      <td>30720</td>\n",
       "      <td>1950</td>\n",
       "      <td>150</td>\n",
       "      <td>14054</td>\n",
       "      <td>16666</td>\n",
       "      <td>0.0</td>\n",
       "    </tr>\n",
       "    <tr>\n",
       "      <td>4</td>\n",
       "      <td>1000</td>\n",
       "      <td>9</td>\n",
       "      <td>ultra</td>\n",
       "      <td>30720</td>\n",
       "      <td>1950</td>\n",
       "      <td>150</td>\n",
       "      <td>14569</td>\n",
       "      <td>16151</td>\n",
       "      <td>0.0</td>\n",
       "    </tr>\n",
       "  </tbody>\n",
       "</table>\n",
       "</div>"
      ],
      "text/plain": [
       "   user_id  month_session_date tariff  mb_per_month_included  rub_monthly_fee  \\\n",
       "0     1000                   5  ultra                  30720             1950   \n",
       "1     1000                   6  ultra                  30720             1950   \n",
       "2     1000                   7  ultra                  30720             1950   \n",
       "3     1000                   8  ultra                  30720             1950   \n",
       "4     1000                   9  ultra                  30720             1950   \n",
       "\n",
       "   rub_per_gb  mb_used  mb_end_month  gain_internet  \n",
       "0         150     2253         28467            0.0  \n",
       "1         150    23232          7488            0.0  \n",
       "2         150    14004         16716            0.0  \n",
       "3         150    14054         16666            0.0  \n",
       "4         150    14569         16151            0.0  "
      ]
     },
     "execution_count": 46,
     "metadata": {},
     "output_type": "execute_result"
    }
   ],
   "source": [
    "# Напишем функцию, которая по итогу добавит столбец с дополнительными за конкретный месяц мегабайтами\n",
    "def gain_internet(mb_end_month):\n",
    "    if mb_end_month < 0:\n",
    "        return mb_end_month * -1\n",
    "    if mb_end_month >=0:\n",
    "        return 0\n",
    "df_users_plus_tariffs_for_internet['gain_internet'] = df_users_plus_tariffs_for_internet['mb_end_month'].apply(gain_internet)\n",
    "# Домножим полученный столбец на стоимость каждого мегабайта (предварительно гигабайты переведем в мегабайты)\n",
    "df_users_plus_tariffs_for_internet['gain_internet'] = df_users_plus_tariffs_for_internet['gain_internet'] * (df_users_plus_tariffs_for_internet['rub_per_gb'] / 1024) \n",
    "df_users_plus_tariffs_for_internet.head()"
   ]
  },
  {
   "cell_type": "code",
   "execution_count": 47,
   "metadata": {},
   "outputs": [
    {
     "data": {
      "text/html": [
       "<div>\n",
       "<style scoped>\n",
       "    .dataframe tbody tr th:only-of-type {\n",
       "        vertical-align: middle;\n",
       "    }\n",
       "\n",
       "    .dataframe tbody tr th {\n",
       "        vertical-align: top;\n",
       "    }\n",
       "\n",
       "    .dataframe thead th {\n",
       "        text-align: right;\n",
       "    }\n",
       "</style>\n",
       "<table border=\"1\" class=\"dataframe\">\n",
       "  <thead>\n",
       "    <tr style=\"text-align: right;\">\n",
       "      <th></th>\n",
       "      <th>tariff</th>\n",
       "      <th>user_id</th>\n",
       "      <th>rub_monthly_fee</th>\n",
       "      <th>gain_internet</th>\n",
       "      <th>gain_messages</th>\n",
       "      <th>gain_calls</th>\n",
       "      <th>all_gain</th>\n",
       "    </tr>\n",
       "  </thead>\n",
       "  <tbody>\n",
       "    <tr>\n",
       "      <td>0</td>\n",
       "      <td>ultra</td>\n",
       "      <td>1000</td>\n",
       "      <td>1950</td>\n",
       "      <td>0.0</td>\n",
       "      <td>0</td>\n",
       "      <td>0.0</td>\n",
       "      <td>1950.0</td>\n",
       "    </tr>\n",
       "    <tr>\n",
       "      <td>1</td>\n",
       "      <td>ultra</td>\n",
       "      <td>1000</td>\n",
       "      <td>1950</td>\n",
       "      <td>0.0</td>\n",
       "      <td>0</td>\n",
       "      <td>0.0</td>\n",
       "      <td>1950.0</td>\n",
       "    </tr>\n",
       "    <tr>\n",
       "      <td>2</td>\n",
       "      <td>ultra</td>\n",
       "      <td>1000</td>\n",
       "      <td>1950</td>\n",
       "      <td>0.0</td>\n",
       "      <td>0</td>\n",
       "      <td>0.0</td>\n",
       "      <td>1950.0</td>\n",
       "    </tr>\n",
       "    <tr>\n",
       "      <td>3</td>\n",
       "      <td>ultra</td>\n",
       "      <td>1000</td>\n",
       "      <td>1950</td>\n",
       "      <td>0.0</td>\n",
       "      <td>0</td>\n",
       "      <td>0.0</td>\n",
       "      <td>1950.0</td>\n",
       "    </tr>\n",
       "    <tr>\n",
       "      <td>4</td>\n",
       "      <td>ultra</td>\n",
       "      <td>1000</td>\n",
       "      <td>1950</td>\n",
       "      <td>0.0</td>\n",
       "      <td>0</td>\n",
       "      <td>0.0</td>\n",
       "      <td>1950.0</td>\n",
       "    </tr>\n",
       "  </tbody>\n",
       "</table>\n",
       "</div>"
      ],
      "text/plain": [
       "  tariff  user_id  rub_monthly_fee  gain_internet  gain_messages  gain_calls  \\\n",
       "0  ultra     1000             1950            0.0              0         0.0   \n",
       "1  ultra     1000             1950            0.0              0         0.0   \n",
       "2  ultra     1000             1950            0.0              0         0.0   \n",
       "3  ultra     1000             1950            0.0              0         0.0   \n",
       "4  ultra     1000             1950            0.0              0         0.0   \n",
       "\n",
       "   all_gain  \n",
       "0    1950.0  \n",
       "1    1950.0  \n",
       "2    1950.0  \n",
       "3    1950.0  \n",
       "4    1950.0  "
      ]
     },
     "execution_count": 47,
     "metadata": {},
     "output_type": "execute_result"
    }
   ],
   "source": [
    "# Сведем в общую таблицу данные о выручке компании \n",
    "df_gain_internet = df_users_plus_tariffs_for_internet[{'user_id', 'gain_internet', 'rub_monthly_fee', 'tariff'}]\n",
    "df_gain_calls = df_users_plus_tariffs_for_calls[{'user_id', 'gain_calls'}]\n",
    "df_gain_messages = df_users_plus_tariffs_for_messages[{'user_id', 'gain_messages'}]\n",
    "df_gain = df_gain_internet.merge(df_gain_messages, on = 'user_id')\n",
    "df_gain = df_gain.merge(df_gain_calls, on = 'user_id')\n",
    "df_gain['all_gain'] = df_gain['gain_internet'] + df_gain['gain_messages'] + df_gain['gain_calls'] + df_gain['rub_monthly_fee']\n",
    "df_gain.head()"
   ]
  },
  {
   "cell_type": "code",
   "execution_count": 48,
   "metadata": {},
   "outputs": [
    {
     "data": {
      "text/html": [
       "<div>\n",
       "<style scoped>\n",
       "    .dataframe tbody tr th:only-of-type {\n",
       "        vertical-align: middle;\n",
       "    }\n",
       "\n",
       "    .dataframe tbody tr th {\n",
       "        vertical-align: top;\n",
       "    }\n",
       "\n",
       "    .dataframe thead th {\n",
       "        text-align: right;\n",
       "    }\n",
       "</style>\n",
       "<table border=\"1\" class=\"dataframe\">\n",
       "  <thead>\n",
       "    <tr style=\"text-align: right;\">\n",
       "      <th></th>\n",
       "      <th>tariff</th>\n",
       "      <th>user_id</th>\n",
       "      <th>rub_monthly_fee</th>\n",
       "      <th>gain_internet</th>\n",
       "      <th>gain_messages</th>\n",
       "      <th>gain_calls</th>\n",
       "      <th>all_gain</th>\n",
       "    </tr>\n",
       "  </thead>\n",
       "  <tbody>\n",
       "    <tr>\n",
       "      <td>512</td>\n",
       "      <td>smart</td>\n",
       "      <td>1002</td>\n",
       "      <td>550</td>\n",
       "      <td>0.0</td>\n",
       "      <td>0</td>\n",
       "      <td>0.0</td>\n",
       "      <td>550.0</td>\n",
       "    </tr>\n",
       "    <tr>\n",
       "      <td>513</td>\n",
       "      <td>smart</td>\n",
       "      <td>1002</td>\n",
       "      <td>550</td>\n",
       "      <td>0.0</td>\n",
       "      <td>0</td>\n",
       "      <td>0.0</td>\n",
       "      <td>550.0</td>\n",
       "    </tr>\n",
       "    <tr>\n",
       "      <td>514</td>\n",
       "      <td>smart</td>\n",
       "      <td>1002</td>\n",
       "      <td>550</td>\n",
       "      <td>0.0</td>\n",
       "      <td>0</td>\n",
       "      <td>0.0</td>\n",
       "      <td>550.0</td>\n",
       "    </tr>\n",
       "    <tr>\n",
       "      <td>515</td>\n",
       "      <td>smart</td>\n",
       "      <td>1002</td>\n",
       "      <td>550</td>\n",
       "      <td>0.0</td>\n",
       "      <td>0</td>\n",
       "      <td>0.0</td>\n",
       "      <td>550.0</td>\n",
       "    </tr>\n",
       "    <tr>\n",
       "      <td>516</td>\n",
       "      <td>smart</td>\n",
       "      <td>1002</td>\n",
       "      <td>550</td>\n",
       "      <td>0.0</td>\n",
       "      <td>0</td>\n",
       "      <td>0.0</td>\n",
       "      <td>550.0</td>\n",
       "    </tr>\n",
       "    <tr>\n",
       "      <td>...</td>\n",
       "      <td>...</td>\n",
       "      <td>...</td>\n",
       "      <td>...</td>\n",
       "      <td>...</td>\n",
       "      <td>...</td>\n",
       "      <td>...</td>\n",
       "      <td>...</td>\n",
       "    </tr>\n",
       "    <tr>\n",
       "      <td>202504</td>\n",
       "      <td>smart</td>\n",
       "      <td>1499</td>\n",
       "      <td>550</td>\n",
       "      <td>0.0</td>\n",
       "      <td>27</td>\n",
       "      <td>0.0</td>\n",
       "      <td>577.0</td>\n",
       "    </tr>\n",
       "    <tr>\n",
       "      <td>202505</td>\n",
       "      <td>smart</td>\n",
       "      <td>1499</td>\n",
       "      <td>550</td>\n",
       "      <td>0.0</td>\n",
       "      <td>48</td>\n",
       "      <td>0.0</td>\n",
       "      <td>598.0</td>\n",
       "    </tr>\n",
       "    <tr>\n",
       "      <td>202506</td>\n",
       "      <td>smart</td>\n",
       "      <td>1499</td>\n",
       "      <td>550</td>\n",
       "      <td>0.0</td>\n",
       "      <td>48</td>\n",
       "      <td>0.0</td>\n",
       "      <td>598.0</td>\n",
       "    </tr>\n",
       "    <tr>\n",
       "      <td>202507</td>\n",
       "      <td>smart</td>\n",
       "      <td>1499</td>\n",
       "      <td>550</td>\n",
       "      <td>0.0</td>\n",
       "      <td>48</td>\n",
       "      <td>229.5</td>\n",
       "      <td>827.5</td>\n",
       "    </tr>\n",
       "    <tr>\n",
       "      <td>202508</td>\n",
       "      <td>smart</td>\n",
       "      <td>1499</td>\n",
       "      <td>550</td>\n",
       "      <td>0.0</td>\n",
       "      <td>48</td>\n",
       "      <td>0.0</td>\n",
       "      <td>598.0</td>\n",
       "    </tr>\n",
       "  </tbody>\n",
       "</table>\n",
       "<p>147500 rows × 7 columns</p>\n",
       "</div>"
      ],
      "text/plain": [
       "       tariff  user_id  rub_monthly_fee  gain_internet  gain_messages  \\\n",
       "512     smart     1002              550            0.0              0   \n",
       "513     smart     1002              550            0.0              0   \n",
       "514     smart     1002              550            0.0              0   \n",
       "515     smart     1002              550            0.0              0   \n",
       "516     smart     1002              550            0.0              0   \n",
       "...       ...      ...              ...            ...            ...   \n",
       "202504  smart     1499              550            0.0             27   \n",
       "202505  smart     1499              550            0.0             48   \n",
       "202506  smart     1499              550            0.0             48   \n",
       "202507  smart     1499              550            0.0             48   \n",
       "202508  smart     1499              550            0.0             48   \n",
       "\n",
       "        gain_calls  all_gain  \n",
       "512            0.0     550.0  \n",
       "513            0.0     550.0  \n",
       "514            0.0     550.0  \n",
       "515            0.0     550.0  \n",
       "516            0.0     550.0  \n",
       "...            ...       ...  \n",
       "202504         0.0     577.0  \n",
       "202505         0.0     598.0  \n",
       "202506         0.0     598.0  \n",
       "202507       229.5     827.5  \n",
       "202508         0.0     598.0  \n",
       "\n",
       "[147500 rows x 7 columns]"
      ]
     },
     "execution_count": 48,
     "metadata": {},
     "output_type": "execute_result"
    }
   ],
   "source": [
    "df_gain.loc[df_gain['tariff'] == 'smart']"
   ]
  },
  {
   "cell_type": "markdown",
   "metadata": {},
   "source": [
    "<p> <font size=\"+1\"> <b>\n",
    "    Вывод\n",
    "    </p> </font> </b>"
   ]
  },
  {
   "cell_type": "markdown",
   "metadata": {},
   "source": [
    "На данном этапе были выполнены следующие задачи: \n",
    "<li> данные были приведены к нужным типам </li>\n",
    "    <li> были исправлены ошибки в данных (например, нулевая длительность разговора была изменена на \"заглушки\") </li>\n",
    "Для каждого пользователя были посчитаны: \n",
    "                                              <li> количество сделанных звонков и израсходованных минут разговора по месяцам </li> \n",
    "                                                  <li> количество отправленных сообщений по месяцам </li>\n",
    "                                                  <li> объем израсходованного интернет-трафика по месяцам </li>\n",
    "                                                  <li> помесячную выручку с каждого пользователя </li> </ul>\n",
    "Данный этап является наиболее ответственным, ведь на основе этих данных в дальнейшем будет проведен анализ данных и проверка гипотез."
   ]
  },
  {
   "cell_type": "markdown",
   "metadata": {},
   "source": [
    "<p> <font size=\"+1\"> <b>\n",
    "    Шаг 3. Анализ данных\n",
    "    </b> </font> </p>"
   ]
  },
  {
   "cell_type": "markdown",
   "metadata": {},
   "source": [
    "Опишите поведение клиентов оператора, исходя из выборки. Сколько минут разговора, сколько сообщений и какой объём интернет-трафика требуется пользователям каждого тарифа в месяц? Посчитайте среднее количество, дисперсию и стандартное отклонение. Постройте гистограммы. Опишите распределения."
   ]
  },
  {
   "cell_type": "code",
   "execution_count": 49,
   "metadata": {},
   "outputs": [],
   "source": [
    "# Сколько минут разговора требуется пользователям каждого тарифа в месяц? Расчет среднего значения минут разговора по месяцам и тарифам\n",
    "# Для этого объединим df_calls_for_question и df_users\n",
    "table_calls_duration_users = df_calls_for_question.merge(df_users, on = 'user_id')\n",
    "# Выделим нужные столбцы\n",
    "table_calls_duration_users = table_calls_duration_users[{'month_call_date', 'user_id', 'duration', 'tariff'}]\n",
    "# Сгруппируем по столбцам, обозначающим месяцы и тарифы, найдем среднее значение минут разговора\n",
    "table_calls_duration_users= table_calls_duration_users.groupby(['month_call_date','tariff'], as_index = False)['duration'].mean()\n",
    "#table_calls_duration_users\n",
    "# С одной стороны - значения очень низкие, с другой стороны - выборка маленькая, и по значениям видно, что учитываются не все звонки"
   ]
  },
  {
   "cell_type": "code",
   "execution_count": 50,
   "metadata": {},
   "outputs": [
    {
     "data": {
      "image/png": "[encoded data removed]",
      "text/plain": [
       "<Figure size 720x504 with 1 Axes>"
      ]
     },
     "metadata": {
      "needs_background": "light"
     },
     "output_type": "display_data"
    },
    {
     "name": "stdout",
     "output_type": "stream",
     "text": [
      "Дисперсия для smart равна: 0.021723079090634378 Cтандартное отклонение для smart равно: 0.14738751334707556\n",
      "Дисперсия для ultra равна: 0.011184758173236713 Cтандартное отклонение для ultra равно: 0.10575801706365676\n"
     ]
    }
   ],
   "source": [
    "# Напишем функцию, которая будет разбивать датафрейм на две таблицы (одна - тариф ультра, вторая - смарт)\n",
    "# Строить совмещенную гистограмму и рассчитывать для каждого распределения дисперсию и среднее отклонение\n",
    "def hist(df, column_for_hist, tittle, bins):\n",
    "    table_1 = df[df['tariff'] == 'smart']\n",
    "    table_2 = df[df['tariff'] == 'ultra']\n",
    "    plt.rcParams[\"figure.figsize\"] = (10,7)\n",
    "    ax = sns.distplot(table_1[column_for_hist], rug=True, bins = bins, rug_kws={\"color\": \"g\"},\n",
    "                kde_kws={\"color\": \"r\", \"lw\": 3, \"label\": \"smart\"},\n",
    "                hist_kws={\"histtype\": \"step\", \"linewidth\": 3,\n",
    "                            \"alpha\": 1, \"color\": \"r\", \"label\": \"smart\"})\n",
    "    ax = sns.distplot(table_2[column_for_hist], rug=True, bins = bins, rug_kws={\"color\": \"g\"},\n",
    "                kde_kws={\"color\": \"b\", \"lw\": 3, \"label\": \"ultra\"},\n",
    "                hist_kws={\"histtype\": \"step\", \"linewidth\": 3,\n",
    "                            \"alpha\": 1, \"color\": \"b\", \"label\": \"ultra\"})\n",
    "    plt.title(tittle, fontsize=12)\n",
    "    plt.ylabel('frequency')\n",
    "    plt.grid()\n",
    "    plt.show()\n",
    "    print('Дисперсия для smart равна:', np.var(table_1[column_for_hist]),'Cтандартное отклонение для smart равно:', np.std(table_1[column_for_hist]))\n",
    "    print('Дисперсия для ultra равна:', np.var(table_2[column_for_hist]),'Cтандартное отклонение для ultra равно:', np.std(table_2[column_for_hist]))\n",
    "hist(table_calls_duration_users, 'duration', 'Гистограмма, показывающая сколько минут пользователи тратят на разговоры в среднем', 10)\n",
    "# Гистограмма для тарифа смарт имеет нормальное распределение, скошенное влево\n",
    "# Гистограмма для тарифа ультра имеет похожий вид, как и для тарифа smart, однако есть отличие - значения больше сдвинуты влево.\n",
    "# Возможно, что те, кто используют тариф ultra меньше общаются обычными телефонными звонками."
   ]
  },
  {
   "cell_type": "code",
   "execution_count": 51,
   "metadata": {},
   "outputs": [],
   "source": [
    "# Сколько сообщений требуется пользователям каждого тарифа в месяц? Расчет среднего значения сообщений по месяцам и тарифам\n",
    "# Для этого объединим df_messages и df_users\n",
    "table_messages_count_users = df_messages.merge(df_users, on = 'user_id')\n",
    "# Выделим нужные столбцы\n",
    "table_messages_count_users = table_messages_count_users[{'month_message_date', 'user_id','tariff', 'id'}]\n",
    "# Сгруппируем по столбцам, обозначающим месяцы и тарифы, найдем среднее значение минут разговора\n",
    "table_messages_count_users = table_messages_count_users.groupby(['month_message_date','tariff', 'user_id'], as_index = False)['id'].count()\n",
    "table_messages_count_users = table_messages_count_users.groupby(['month_message_date', 'tariff'], as_index = False)['id'].mean()\n",
    "#table_messages_count_users"
   ]
  },
  {
   "cell_type": "code",
   "execution_count": 52,
   "metadata": {},
   "outputs": [
    {
     "data": {
      "image/png": "[encoded data removed]",
      "text/plain": [
       "<Figure size 720x504 with 1 Axes>"
      ]
     },
     "metadata": {
      "needs_background": "light"
     },
     "output_type": "display_data"
    },
    {
     "name": "stdout",
     "output_type": "stream",
     "text": [
      "Дисперсия для smart равна: 35.57279461779263 Cтандартное отклонение для smart равно: 5.964293304138608\n",
      "Дисперсия для ultra равна: 132.93920463723967 Cтандартное отклонение для ultra равно: 11.529926480131591\n"
     ]
    }
   ],
   "source": [
    "# Применим функцию к table_messages_count_users\n",
    "hist(table_messages_count_users, 'id', 'Гистограмма, показывающая сколько сообщений пользователи отправляют в среднем', 5)\n",
    "# Распределение для тарифа смарт похоже на нормальное, смещенное вправо\n",
    "# Распределение похоже на нормальное. Если сравнивать с тарифом smart, то у ultra смещение максимума идет вправо."
   ]
  },
  {
   "cell_type": "code",
   "execution_count": 53,
   "metadata": {},
   "outputs": [],
   "source": [
    "# Какой объем интернет-трафика требуется пользователям каждого тарифа в месяц? Расчет среднего значения интернет-трафика по месяцам и тарифам\n",
    "# Для этого объединим df_internet и df_users\n",
    "table_internet_volume_users = df_internet.merge(df_users, on = 'user_id')\n",
    "# Выделим нужные столбцы\n",
    "table_internet_volume_users = table_internet_volume_users[{'month_session_date', 'user_id','tariff', 'mb_used'}]\n",
    "#table_internet_volume_users\n",
    "# Сгруппируем по столбцам, обозначающим месяцы и тарифы, найдем среднее значение интернет-трафика\n",
    "table_internet_volume_users = table_internet_volume_users.groupby(['month_session_date','tariff'], as_index = False)['mb_used'].mean()\n",
    "#table_internet_volume_users"
   ]
  },
  {
   "cell_type": "code",
   "execution_count": 54,
   "metadata": {},
   "outputs": [
    {
     "data": {
      "image/png": "[encoded data removed]",
      "text/plain": [
       "<Figure size 720x504 with 1 Axes>"
      ]
     },
     "metadata": {
      "needs_background": "light"
     },
     "output_type": "display_data"
    },
    {
     "name": "stdout",
     "output_type": "stream",
     "text": [
      "Дисперсия для smart равна: 9.361580384335936 Cтандартное отклонение для smart равно: 3.0596699796441995\n",
      "Дисперсия для ultra равна: 94.32388285509558 Cтандартное отклонение для ultra равно: 9.712048334676654\n"
     ]
    }
   ],
   "source": [
    "# Применим функцию к table_messages_count_users\n",
    "hist(table_internet_volume_users, 'mb_used', 'Гистограмма, показывающая сколько интернет-трафика пользователи тратят в среднем', 10)\n",
    "\n",
    "# Распределение для смарта похоже на нормальное распределение с максимум в точке 324.5, смещенное влево \n",
    "# Распределение для ультра похоже на нормальное, сильно смещенное вправо\n",
    "# Стоит отметить, что пользователи с тарифом ультра используют больше интернет-трафика, чем пользователи смарта."
   ]
  },
  {
   "cell_type": "markdown",
   "metadata": {},
   "source": [
    "<p> <font size=\"+1\"> <b>\n",
    "    Вывод\n",
    "    </b> </font> </p>"
   ]
  },
  {
   "cell_type": "markdown",
   "metadata": {},
   "source": [
    "На данном этапе был проведен анализ поведения клиентов оператора в зависимости от выбранного тарифа. Исходя из полученных данных можно сделать вывод, что те, кто выбирают тариф ultra более общительны по смс и интернету, чем те, кто пользуются тарифом smart. Однако, если рассматривать звонки по обычно телефонной связи, то немного больше по такому виду связи люди с тарифом smart, чем с ultra."
   ]
  },
  {
   "cell_type": "markdown",
   "metadata": {},
   "source": [
    "<p> <font size=\"+1\"> <b>\n",
    "    Шаг 4. Проверка гипотез\n",
    "    </b> </font> </p>"
   ]
  },
  {
   "cell_type": "markdown",
   "metadata": {},
   "source": [
    "<li> средняя выручка пользователей тарифов «Ультра» и «Смарт» различается; </li>\n",
    "<li> средняя выручка пользователей из Москвы отличается от выручки пользователей из других регионов; </li>\n",
    "Пороговое значение alpha задайте самостоятельно.\n",
    "Поясните:\n",
    "<li> как вы формулировали нулевую и альтернативную гипотезы;</li>\n",
    "<li> какой критерий использовали для проверки гипотез и почему. </li>"
   ]
  },
  {
   "cell_type": "code",
   "execution_count": 55,
   "metadata": {},
   "outputs": [
    {
     "name": "stdout",
     "output_type": "stream",
     "text": [
      "p-уровень значимости: 0.01\n",
      "p-значение: 1.3909529172715533e-40\n",
      "Отвергаем нулевую гипотезу\n"
     ]
    }
   ],
   "source": [
    "# Рассмотрим первую гипотезу \"средняя выручка пользователей тарифов «Ультра» и «Смарт» различается\".\n",
    "# Так как выясняем, есть ли разница между совокупностями, то нулевая гипотеза будет такой:\n",
    "# \"средняя выручка пользователей тарифов «Ультра» и «Смарт» равна\".\n",
    "# Альтернативная гипотеза - исходная.\n",
    "\n",
    "# Необходимые данные находятся в таблицы df_gain.\n",
    "# Разделим df_gain по тарифам:\n",
    "df_gain_ultra = df_gain[df_gain['tariff'] == 'ultra']\n",
    "df_gain_ultra = df_gain_ultra.groupby('user_id')['all_gain'].mean()\n",
    "\n",
    "df_gain_smart = df_gain[df_gain['tariff'] == 'smart']\n",
    "df_gain_smart = df_gain_smart.groupby('user_id')['all_gain'].mean()\n",
    "\n",
    "# Поменяем тип данных на целочисленный\n",
    "df_gain_smart = df_gain_smart.astype('int')\n",
    "df_gain_ultra = df_gain_ultra.astype('int')\n",
    "# Создадим функцию, которая будет отвергать или не отвергать нулевую гипотезу \n",
    "def hypothesis(df_1, df_2, a):\n",
    "    # Зададим альфа\n",
    "    alpha = a\n",
    "    # Проверим гипотезу о равентсве средних двух независимых совокупностей\n",
    "    results = st.ttest_ind(\n",
    "        df_1, \n",
    "        df_2)\n",
    "    print('p-уровень значимости:', alpha)\n",
    "    print('p-значение:', results.pvalue)\n",
    "\n",
    "    if (results.pvalue < alpha):\n",
    "        print(\"Отвергаем нулевую гипотезу\")\n",
    "    else:\n",
    "        print(\"Не получилось отвергнуть нулевую гипотезу\")\n",
    "\n",
    "hypothesis(df_gain_smart, df_gain_ultra, 0.01)    \n",
    "# Гипотезу о различие выручки оператора от пользователей двух разных тарифов можно подтвердить, \n",
    "# так как нулевая гипотеза была отвергнута. \n",
    "# Это и логично, так как ценовая категория этих тарифов различается почти в 4 раза. \n",
    "# Маловероятно, что те, кто платят базовую стоимость 550 рублей, будут переплачивать за месяц базовую стоимость тарифа \"Ультра\"\n",
    "# в размере 1950 рублей. Иначе бы - каждому такому клиенту позвонили бы из call-центра и постарались убедить перейти на более\n",
    "# выгодный тариф (вероятно, что человек бы согласился)."
   ]
  },
  {
   "cell_type": "code",
   "execution_count": 56,
   "metadata": {},
   "outputs": [
    {
     "name": "stdout",
     "output_type": "stream",
     "text": [
      "p-уровень значимости: 0.01\n",
      "p-значение: 0.7327984617851228\n",
      "Не получилось отвергнуть нулевую гипотезу\n"
     ]
    }
   ],
   "source": [
    "# Рассмотрим первую гипотезу \"средняя выручка пользователей из Москвы отличается от выручки пользователей из других регионов\".\n",
    "# Так как выясняем, есть ли разница между совокупностями, то нулевая гипотеза будет такой:\n",
    "# \"средняя выручка пользователей из Москвы равна выручке пользователей из других регионов\".\n",
    "# Альтернативная гипотеза - исходная.\n",
    "\n",
    "# Необходимые данные находятся в таблицы df_gain.\n",
    "# Добавим в таблицу города по user_id\n",
    "df_gain_for_hypothesis = df_gain.merge(df_users, on = 'user_id')\n",
    "df_gain_for_hypothesis = df_gain_for_hypothesis[{'tariff_x', 'all_gain', 'city', 'user_id'}]\n",
    "# Разделим df_gain по тарифам:\n",
    "df_gain_Moscow = df_gain_for_hypothesis[df_gain_for_hypothesis['city'] == 'Москва']\n",
    "df_gain_Moscow = df_gain_Moscow.groupby('user_id')['all_gain'].mean()\n",
    "df_gain_another_city = df_gain_for_hypothesis[df_gain_for_hypothesis['city'] != 'Москва']\n",
    "df_gain_another_city = df_gain_another_city.groupby('user_id')['all_gain'].mean()\n",
    "\n",
    "# Проверим нулевую гипотезу\n",
    "hypothesis(df_gain_Moscow, df_gain_another_city, 0.01)\n",
    "    \n",
    "# Нулевую гипотезу не получилось отвергнуть, поэтому возможен такой вариант развития событий,\n",
    "# когда средняя выручка по Москва равна средней выручке по остальным регионам\n",
    "# Это звучит вполне логично, так как цены на тарифы одни и те же, \n",
    "# общение и в регионах, и в столице близки друг к другу по количеству, поэтому нельзя утверждать,\n",
    "# что гипотеза \"средняя выручка пользователей из Москвы отличается от  выручки пользователей из других регионов\" имеет право на существование"
   ]
  },
  {
   "cell_type": "markdown",
   "metadata": {},
   "source": [
    "<p> <font size=\"+1\"> <b>\n",
    "    Вывод\n",
    "    </b> </font> </p>"
   ]
  },
  {
   "cell_type": "markdown",
   "metadata": {},
   "source": [
    "На данном этапе были рассмотрены гипотезы. По результатам статистического анализа можно сделать вывод, что средняя выручка от пользователей тарифа \"ультра\" не равна средней выручке от пользователей тарифа \"смарт\", а про гипотезу о разнице средней выручки от пользователей из Москвы и пользователей из регионов нельзя сказать, что она имеет право на существование."
   ]
  },
  {
   "cell_type": "markdown",
   "metadata": {},
   "source": [
    "<p> <font size=\"+1\"> <b>\n",
    "    Шаг 5. Напишите общий вывод\n",
    "    </b> </font> </p>"
   ]
  },
  {
   "cell_type": "markdown",
   "metadata": {},
   "source": [
    "В данном проекте был выполнен предварительный анализ тарифов на небольшой выборке клиентов.\n",
    "В ходе работы были выполнено следующее: <ul>\n",
    "    <li> подготовка данных: приведение данных в нужные типы и исправление ошибок </li>\n",
    "    <li> подсчет для каждого пользователя количество звонков, сообщений и интернет трафика по месяцам, помесячную выручку </li>\n",
    "    <li> по подсчитанным данным был проведен анализ: те, кто выбирают тариф ultra более общительны по смс и интернету, чем те, кто пользуются тарифом smart. Однако, если рассматривать звонки по обычно телефонной связи, то немного больше по такому виду связи люди с тарифом smart, чем с ultra </li>\n",
    "    <li> были проверены гипотезы: гипотеза о разности выручки по тарифам подтвердилась, а о разности выручки от местоположения - нет </li>\n",
    "     </ul>\n",
    "Таким образом, несмотря на более высокую цену \"ultra\" тарифа, суммарный бюджет больше приносит тариф \"smart\", поэтому для компании лучшим тарифом является \"smart\". Однако \"ultra\" приносит тоже немаленький процент в бюджет компании."
   ]
  }
 ],
 "metadata": {
  "kernelspec": {
   "display_name": "Python 3",
   "language": "python",
   "name": "python3"
  },
  "language_info": {
   "codemirror_mode": {
    "name": "ipython",
    "version": 3
   },
   "file_extension": ".py",
   "mimetype": "text/x-python",
   "name": "python",
   "nbconvert_exporter": "python",
   "pygments_lexer": "ipython3",
   "version": "3.7.6"
  }
 },
 "nbformat": 4,
 "nbformat_minor": 2
}
