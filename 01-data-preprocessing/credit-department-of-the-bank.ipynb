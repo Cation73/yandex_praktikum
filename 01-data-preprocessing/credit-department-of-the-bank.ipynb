{
 "cells": [
  {
   "cell_type": "markdown",
   "metadata": {},
   "source": [
    "## Исследование надёжности заёмщиков\n",
    "\n",
    "Заказчик — кредитный отдел банка. Нужно разобраться, влияет ли семейное положение и количество детей клиента на факт погашения кредита в срок. Входные данные от банка — статистика о платёжеспособности клиентов.\n",
    "\n",
    "Результаты исследования будут учтены при построении модели **кредитного скоринга** — специальной системы, которая оценивает способность потенциального заёмщика вернуть кредит банку."
   ]
  },
  {
   "cell_type": "markdown",
   "metadata": {},
   "source": [
    "### Шаг 1. Откройте файл с данными и изучите общую информацию. "
   ]
  },
  {
   "cell_type": "code",
   "execution_count": 1,
   "metadata": {},
   "outputs": [],
   "source": [
    "import pandas as pd\n",
    "from pymystem3 import Mystem\n",
    "import warnings\n",
    "warnings.filterwarnings('ignore')"
   ]
  },
  {
   "cell_type": "code",
   "execution_count": 2,
   "metadata": {},
   "outputs": [],
   "source": [
    "data = pd.read_csv('/datasets/data.csv')"
   ]
  },
  {
   "cell_type": "code",
   "execution_count": 3,
   "metadata": {},
   "outputs": [
    {
     "name": "stdout",
     "output_type": "stream",
     "text": [
      "<class 'pandas.core.frame.DataFrame'>\n",
      "RangeIndex: 21525 entries, 0 to 21524\n",
      "Data columns (total 12 columns):\n",
      "children            21525 non-null int64\n",
      "days_employed       19351 non-null float64\n",
      "dob_years           21525 non-null int64\n",
      "education           21525 non-null object\n",
      "education_id        21525 non-null int64\n",
      "family_status       21525 non-null object\n",
      "family_status_id    21525 non-null int64\n",
      "gender              21525 non-null object\n",
      "income_type         21525 non-null object\n",
      "debt                21525 non-null int64\n",
      "total_income        19351 non-null float64\n",
      "purpose             21525 non-null object\n",
      "dtypes: float64(2), int64(5), object(5)\n",
      "memory usage: 2.0+ MB\n"
     ]
    }
   ],
   "source": [
    "data.info()"
   ]
  },
  {
   "cell_type": "code",
   "execution_count": 4,
   "metadata": {},
   "outputs": [
    {
     "data": {
      "text/html": [
       "<div>\n",
       "<style scoped>\n",
       "    .dataframe tbody tr th:only-of-type {\n",
       "        vertical-align: middle;\n",
       "    }\n",
       "\n",
       "    .dataframe tbody tr th {\n",
       "        vertical-align: top;\n",
       "    }\n",
       "\n",
       "    .dataframe thead th {\n",
       "        text-align: right;\n",
       "    }\n",
       "</style>\n",
       "<table border=\"1\" class=\"dataframe\">\n",
       "  <thead>\n",
       "    <tr style=\"text-align: right;\">\n",
       "      <th></th>\n",
       "      <th>children</th>\n",
       "      <th>days_employed</th>\n",
       "      <th>dob_years</th>\n",
       "      <th>education_id</th>\n",
       "      <th>family_status_id</th>\n",
       "      <th>debt</th>\n",
       "      <th>total_income</th>\n",
       "    </tr>\n",
       "  </thead>\n",
       "  <tbody>\n",
       "    <tr>\n",
       "      <td>count</td>\n",
       "      <td>21525.000000</td>\n",
       "      <td>19351.000000</td>\n",
       "      <td>21525.000000</td>\n",
       "      <td>21525.000000</td>\n",
       "      <td>21525.000000</td>\n",
       "      <td>21525.000000</td>\n",
       "      <td>1.935100e+04</td>\n",
       "    </tr>\n",
       "    <tr>\n",
       "      <td>mean</td>\n",
       "      <td>0.538908</td>\n",
       "      <td>63046.497661</td>\n",
       "      <td>43.293380</td>\n",
       "      <td>0.817236</td>\n",
       "      <td>0.972544</td>\n",
       "      <td>0.080883</td>\n",
       "      <td>1.674223e+05</td>\n",
       "    </tr>\n",
       "    <tr>\n",
       "      <td>std</td>\n",
       "      <td>1.381587</td>\n",
       "      <td>140827.311974</td>\n",
       "      <td>12.574584</td>\n",
       "      <td>0.548138</td>\n",
       "      <td>1.420324</td>\n",
       "      <td>0.272661</td>\n",
       "      <td>1.029716e+05</td>\n",
       "    </tr>\n",
       "    <tr>\n",
       "      <td>min</td>\n",
       "      <td>-1.000000</td>\n",
       "      <td>-18388.949901</td>\n",
       "      <td>0.000000</td>\n",
       "      <td>0.000000</td>\n",
       "      <td>0.000000</td>\n",
       "      <td>0.000000</td>\n",
       "      <td>2.066726e+04</td>\n",
       "    </tr>\n",
       "    <tr>\n",
       "      <td>25%</td>\n",
       "      <td>0.000000</td>\n",
       "      <td>-2747.423625</td>\n",
       "      <td>33.000000</td>\n",
       "      <td>1.000000</td>\n",
       "      <td>0.000000</td>\n",
       "      <td>0.000000</td>\n",
       "      <td>1.030532e+05</td>\n",
       "    </tr>\n",
       "    <tr>\n",
       "      <td>50%</td>\n",
       "      <td>0.000000</td>\n",
       "      <td>-1203.369529</td>\n",
       "      <td>42.000000</td>\n",
       "      <td>1.000000</td>\n",
       "      <td>0.000000</td>\n",
       "      <td>0.000000</td>\n",
       "      <td>1.450179e+05</td>\n",
       "    </tr>\n",
       "    <tr>\n",
       "      <td>75%</td>\n",
       "      <td>1.000000</td>\n",
       "      <td>-291.095954</td>\n",
       "      <td>53.000000</td>\n",
       "      <td>1.000000</td>\n",
       "      <td>1.000000</td>\n",
       "      <td>0.000000</td>\n",
       "      <td>2.034351e+05</td>\n",
       "    </tr>\n",
       "    <tr>\n",
       "      <td>max</td>\n",
       "      <td>20.000000</td>\n",
       "      <td>401755.400475</td>\n",
       "      <td>75.000000</td>\n",
       "      <td>4.000000</td>\n",
       "      <td>4.000000</td>\n",
       "      <td>1.000000</td>\n",
       "      <td>2.265604e+06</td>\n",
       "    </tr>\n",
       "  </tbody>\n",
       "</table>\n",
       "</div>"
      ],
      "text/plain": [
       "           children  days_employed     dob_years  education_id  \\\n",
       "count  21525.000000   19351.000000  21525.000000  21525.000000   \n",
       "mean       0.538908   63046.497661     43.293380      0.817236   \n",
       "std        1.381587  140827.311974     12.574584      0.548138   \n",
       "min       -1.000000  -18388.949901      0.000000      0.000000   \n",
       "25%        0.000000   -2747.423625     33.000000      1.000000   \n",
       "50%        0.000000   -1203.369529     42.000000      1.000000   \n",
       "75%        1.000000    -291.095954     53.000000      1.000000   \n",
       "max       20.000000  401755.400475     75.000000      4.000000   \n",
       "\n",
       "       family_status_id          debt  total_income  \n",
       "count      21525.000000  21525.000000  1.935100e+04  \n",
       "mean           0.972544      0.080883  1.674223e+05  \n",
       "std            1.420324      0.272661  1.029716e+05  \n",
       "min            0.000000      0.000000  2.066726e+04  \n",
       "25%            0.000000      0.000000  1.030532e+05  \n",
       "50%            0.000000      0.000000  1.450179e+05  \n",
       "75%            1.000000      0.000000  2.034351e+05  \n",
       "max            4.000000      1.000000  2.265604e+06  "
      ]
     },
     "execution_count": 4,
     "metadata": {},
     "output_type": "execute_result"
    }
   ],
   "source": [
    "data.describe()"
   ]
  },
  {
   "cell_type": "code",
   "execution_count": 5,
   "metadata": {},
   "outputs": [
    {
     "data": {
      "text/html": [
       "<div>\n",
       "<style scoped>\n",
       "    .dataframe tbody tr th:only-of-type {\n",
       "        vertical-align: middle;\n",
       "    }\n",
       "\n",
       "    .dataframe tbody tr th {\n",
       "        vertical-align: top;\n",
       "    }\n",
       "\n",
       "    .dataframe thead th {\n",
       "        text-align: right;\n",
       "    }\n",
       "</style>\n",
       "<table border=\"1\" class=\"dataframe\">\n",
       "  <thead>\n",
       "    <tr style=\"text-align: right;\">\n",
       "      <th></th>\n",
       "      <th>children</th>\n",
       "      <th>days_employed</th>\n",
       "      <th>dob_years</th>\n",
       "      <th>education</th>\n",
       "      <th>education_id</th>\n",
       "      <th>family_status</th>\n",
       "      <th>family_status_id</th>\n",
       "      <th>gender</th>\n",
       "      <th>income_type</th>\n",
       "      <th>debt</th>\n",
       "      <th>total_income</th>\n",
       "      <th>purpose</th>\n",
       "    </tr>\n",
       "  </thead>\n",
       "  <tbody>\n",
       "    <tr>\n",
       "      <td>0</td>\n",
       "      <td>1</td>\n",
       "      <td>-8437.673028</td>\n",
       "      <td>42</td>\n",
       "      <td>высшее</td>\n",
       "      <td>0</td>\n",
       "      <td>женат / замужем</td>\n",
       "      <td>0</td>\n",
       "      <td>F</td>\n",
       "      <td>сотрудник</td>\n",
       "      <td>0</td>\n",
       "      <td>253875.639453</td>\n",
       "      <td>покупка жилья</td>\n",
       "    </tr>\n",
       "    <tr>\n",
       "      <td>1</td>\n",
       "      <td>1</td>\n",
       "      <td>-4024.803754</td>\n",
       "      <td>36</td>\n",
       "      <td>среднее</td>\n",
       "      <td>1</td>\n",
       "      <td>женат / замужем</td>\n",
       "      <td>0</td>\n",
       "      <td>F</td>\n",
       "      <td>сотрудник</td>\n",
       "      <td>0</td>\n",
       "      <td>112080.014102</td>\n",
       "      <td>приобретение автомобиля</td>\n",
       "    </tr>\n",
       "    <tr>\n",
       "      <td>2</td>\n",
       "      <td>0</td>\n",
       "      <td>-5623.422610</td>\n",
       "      <td>33</td>\n",
       "      <td>Среднее</td>\n",
       "      <td>1</td>\n",
       "      <td>женат / замужем</td>\n",
       "      <td>0</td>\n",
       "      <td>M</td>\n",
       "      <td>сотрудник</td>\n",
       "      <td>0</td>\n",
       "      <td>145885.952297</td>\n",
       "      <td>покупка жилья</td>\n",
       "    </tr>\n",
       "    <tr>\n",
       "      <td>3</td>\n",
       "      <td>3</td>\n",
       "      <td>-4124.747207</td>\n",
       "      <td>32</td>\n",
       "      <td>среднее</td>\n",
       "      <td>1</td>\n",
       "      <td>женат / замужем</td>\n",
       "      <td>0</td>\n",
       "      <td>M</td>\n",
       "      <td>сотрудник</td>\n",
       "      <td>0</td>\n",
       "      <td>267628.550329</td>\n",
       "      <td>дополнительное образование</td>\n",
       "    </tr>\n",
       "    <tr>\n",
       "      <td>4</td>\n",
       "      <td>0</td>\n",
       "      <td>340266.072047</td>\n",
       "      <td>53</td>\n",
       "      <td>среднее</td>\n",
       "      <td>1</td>\n",
       "      <td>гражданский брак</td>\n",
       "      <td>1</td>\n",
       "      <td>F</td>\n",
       "      <td>пенсионер</td>\n",
       "      <td>0</td>\n",
       "      <td>158616.077870</td>\n",
       "      <td>сыграть свадьбу</td>\n",
       "    </tr>\n",
       "  </tbody>\n",
       "</table>\n",
       "</div>"
      ],
      "text/plain": [
       "   children  days_employed  dob_years education  education_id  \\\n",
       "0         1   -8437.673028         42    высшее             0   \n",
       "1         1   -4024.803754         36   среднее             1   \n",
       "2         0   -5623.422610         33   Среднее             1   \n",
       "3         3   -4124.747207         32   среднее             1   \n",
       "4         0  340266.072047         53   среднее             1   \n",
       "\n",
       "      family_status  family_status_id gender income_type  debt   total_income  \\\n",
       "0   женат / замужем                 0      F   сотрудник     0  253875.639453   \n",
       "1   женат / замужем                 0      F   сотрудник     0  112080.014102   \n",
       "2   женат / замужем                 0      M   сотрудник     0  145885.952297   \n",
       "3   женат / замужем                 0      M   сотрудник     0  267628.550329   \n",
       "4  гражданский брак                 1      F   пенсионер     0  158616.077870   \n",
       "\n",
       "                      purpose  \n",
       "0               покупка жилья  \n",
       "1     приобретение автомобиля  \n",
       "2               покупка жилья  \n",
       "3  дополнительное образование  \n",
       "4             сыграть свадьбу  "
      ]
     },
     "execution_count": 5,
     "metadata": {},
     "output_type": "execute_result"
    }
   ],
   "source": [
    "data.head(5)"
   ]
  },
  {
   "cell_type": "markdown",
   "metadata": {},
   "source": [
    "### Вывод"
   ]
  },
  {
   "cell_type": "markdown",
   "metadata": {},
   "source": [
    "По предварительной оценке данных можно сделать вывод, что столбцы days_employed и total_income имеют пропуски. Стоит отметить, что некоторые значения столбца days_employed отрицательные (количество дней стажа - отрицательное число, теперь понятно почему пенсия такая маленькая у людей), в первых 11 значениях уже обнаружено аномальное значения дней стажа (340266 дней ~ 900 лет стажа, очевидно, что такое развитие событий маловероятно). Беспокоят также и значения в столбце education (то капсом, то нет) - стоит проверить все уникальные значения и привести их к общему формату."
   ]
  },
  {
   "cell_type": "markdown",
   "metadata": {},
   "source": [
    "### Шаг 2. Предобработка данных"
   ]
  },
  {
   "cell_type": "markdown",
   "metadata": {},
   "source": [
    "### Обработка пропусков"
   ]
  },
  {
   "cell_type": "code",
   "execution_count": 6,
   "metadata": {},
   "outputs": [
    {
     "name": "stdout",
     "output_type": "stream",
     "text": [
      "[ 1  0  3  2 -1  4 20  5]\n",
      "[-8437.67302776 -4024.80375385 -5623.42261023 ... -2113.3468877\n",
      " -3112.4817052  -1984.50758853]\n",
      "[42 36 33 32 53 27 43 50 35 41 40 65 54 56 26 48 24 21 57 67 28 63 62 47\n",
      " 34 68 25 31 30 20 49 37 45 61 64 44 52 46 23 38 39 51  0 59 29 60 55 58\n",
      " 71 22 73 66 69 19 72 70 74 75]\n",
      "['высшее' 'среднее' 'Среднее' 'СРЕДНЕЕ' 'ВЫСШЕЕ' 'неоконченное высшее'\n",
      " 'начальное' 'Высшее' 'НЕОКОНЧЕННОЕ ВЫСШЕЕ' 'Неоконченное высшее'\n",
      " 'НАЧАЛЬНОЕ' 'Начальное' 'Ученая степень' 'УЧЕНАЯ СТЕПЕНЬ'\n",
      " 'ученая степень']\n",
      "[0 1 2 3 4]\n",
      "['женат / замужем' 'гражданский брак' 'вдовец / вдова' 'в разводе'\n",
      " 'Не женат / не замужем']\n",
      "[0 1 2 3 4]\n",
      "['F' 'M' 'XNA']\n",
      "['сотрудник' 'пенсионер' 'компаньон' 'госслужащий' 'безработный'\n",
      " 'предприниматель' 'студент' 'в декрете']\n",
      "[0 1]\n",
      "[253875.6394526  112080.01410244 145885.95229686 ...  89672.56115303\n",
      " 244093.05050043  82047.41889948]\n",
      "['покупка жилья' 'приобретение автомобиля' 'дополнительное образование'\n",
      " 'сыграть свадьбу' 'операции с жильем' 'образование'\n",
      " 'на проведение свадьбы' 'покупка жилья для семьи' 'покупка недвижимости'\n",
      " 'покупка коммерческой недвижимости' 'покупка жилой недвижимости'\n",
      " 'строительство собственной недвижимости' 'недвижимость'\n",
      " 'строительство недвижимости' 'на покупку подержанного автомобиля'\n",
      " 'на покупку своего автомобиля' 'операции с коммерческой недвижимостью'\n",
      " 'строительство жилой недвижимости' 'жилье'\n",
      " 'операции со своей недвижимостью' 'автомобили' 'заняться образованием'\n",
      " 'сделка с подержанным автомобилем' 'получение образования' 'автомобиль'\n",
      " 'свадьба' 'получение дополнительного образования' 'покупка своего жилья'\n",
      " 'операции с недвижимостью' 'получение высшего образования'\n",
      " 'свой автомобиль' 'сделка с автомобилем' 'профильное образование'\n",
      " 'высшее образование' 'покупка жилья для сдачи' 'на покупку автомобиля'\n",
      " 'ремонт жилью' 'заняться высшим образованием']\n"
     ]
    }
   ],
   "source": [
    "# Посмотрим уникальные значения для каждого столбца, особенно нас интересуют children, dob_years, \n",
    "# education, family_status, gender, income_type, purpose \n",
    "for row in data:\n",
    "    un_data = data[row].unique()\n",
    "    print(un_data)\n",
    "# В столбце children замечено 2 аномальных числа (-1 и 20), \n",
    "# в dob_years - одно (0 - только родился, а уже так и тянет взять кредит),\n",
    "# в gender - одно (XNA), в days_employed - отрицательные и огромные значения стажа.\n",
    "# На первый взгляд, в остальных столбцах аномалий не обнаружено."
   ]
  },
  {
   "cell_type": "code",
   "execution_count": 7,
   "metadata": {},
   "outputs": [],
   "source": [
    "# Посмотрим количество пропусков (NaN) и заменим их на нули\n",
    "data.isnull().sum()\n",
    "data = data.fillna(0)"
   ]
  },
  {
   "cell_type": "code",
   "execution_count": 8,
   "metadata": {},
   "outputs": [
    {
     "data": {
      "text/plain": [
       "0.0    14272\n",
       "1.0     4818\n",
       "2.0     2055\n",
       "3.0      330\n",
       "4.0       41\n",
       "5.0        9\n",
       "Name: children, dtype: int64"
      ]
     },
     "execution_count": 8,
     "metadata": {},
     "output_type": "execute_result"
    }
   ],
   "source": [
    "# Заменим в столбце children аномальные значения\n",
    "# Есть два подхода замены: первый - предположить, что в данном случае сыграл свою роль человеческий фактор \n",
    "# и произошла ошибка, \n",
    "# второй - посмотреть медиану значений в столбце и заменить на медиану, так как считаем, что эти значения - заглушка\n",
    "# Попробуем реализовать второй\n",
    "median_children = data['children'].median()\n",
    "data['children'] = data.replace(data.loc[data['children'] == 20], median_children)\n",
    "data['children'] = data.replace(data.loc[data['children'] == -1], median_children)\n",
    "data['children'].value_counts()"
   ]
  },
  {
   "cell_type": "code",
   "execution_count": 9,
   "metadata": {},
   "outputs": [
    {
     "data": {
      "text/plain": [
       "среднее                15233\n",
       "высшее                  5260\n",
       "неоконченное высшее      744\n",
       "начальное                282\n",
       "ученая степень             6\n",
       "Name: education, dtype: int64"
      ]
     },
     "execution_count": 9,
     "metadata": {},
     "output_type": "execute_result"
    }
   ],
   "source": [
    "# Приведем к общему формату значения в столбце education\n",
    "data['education'] = data['education'].str.lower()\n",
    "data['education'].value_counts()"
   ]
  },
  {
   "cell_type": "code",
   "execution_count": 10,
   "metadata": {},
   "outputs": [
    {
     "data": {
      "text/plain": [
       "женат / замужем          12380\n",
       "гражданский брак          4177\n",
       "не женат / не замужем     2813\n",
       "в разводе                 1195\n",
       "вдовец / вдова             960\n",
       "Name: family_status, dtype: int64"
      ]
     },
     "execution_count": 10,
     "metadata": {},
     "output_type": "execute_result"
    }
   ],
   "source": [
    "# Проведем такую же операцию, как и для education, но для family_status.\n",
    "data['family_status'] = data['family_status'].str.lower()\n",
    "data['family_status'].value_counts()"
   ]
  },
  {
   "cell_type": "code",
   "execution_count": 11,
   "metadata": {},
   "outputs": [
    {
     "data": {
      "text/plain": [
       "F      14236\n",
       "M       7288\n",
       "XNA        1\n",
       "Name: gender, dtype: int64"
      ]
     },
     "execution_count": 11,
     "metadata": {},
     "output_type": "execute_result"
    }
   ],
   "source": [
    "# Посмотрим какие значения и в каком количестве принимаются в столбце gender \n",
    "data['gender'].value_counts()\n",
    "# Наблюдается аномалия - значение XNA. Не факт, что это выброс. Возможно, что человек - трансгендер."
   ]
  },
  {
   "cell_type": "code",
   "execution_count": 12,
   "metadata": {},
   "outputs": [
    {
     "data": {
      "text/plain": [
       "42    698\n",
       "35    617\n",
       "40    609\n",
       "41    607\n",
       "34    603\n",
       "38    598\n",
       "33    581\n",
       "39    573\n",
       "31    560\n",
       "36    555\n",
       "44    547\n",
       "29    545\n",
       "30    540\n",
       "48    538\n",
       "37    537\n",
       "50    514\n",
       "43    513\n",
       "32    510\n",
       "49    508\n",
       "28    503\n",
       "45    497\n",
       "27    493\n",
       "56    487\n",
       "52    484\n",
       "47    480\n",
       "54    479\n",
       "46    475\n",
       "58    461\n",
       "57    460\n",
       "53    459\n",
       "51    448\n",
       "59    444\n",
       "55    443\n",
       "26    408\n",
       "60    377\n",
       "25    357\n",
       "61    355\n",
       "62    352\n",
       "63    269\n",
       "64    265\n",
       "24    264\n",
       "23    254\n",
       "65    194\n",
       "66    183\n",
       "22    183\n",
       "67    167\n",
       "21    111\n",
       "68     99\n",
       "69     85\n",
       "70     65\n",
       "71     58\n",
       "20     51\n",
       "72     33\n",
       "19     14\n",
       "73      8\n",
       "74      6\n",
       "75      1\n",
       "Name: dob_years, dtype: int64"
      ]
     },
     "execution_count": 12,
     "metadata": {},
     "output_type": "execute_result"
    }
   ],
   "source": [
    "# Заменим в столбце dob_years число 0 на медиану возраста всех потенциальных клиентов банка\n",
    "dob_years_median = data['dob_years'].median()\n",
    "data['dob_years'] = data['dob_years'].replace(0, dob_years_median)\n",
    "data['dob_years'].value_counts()"
   ]
  },
  {
   "cell_type": "code",
   "execution_count": 13,
   "metadata": {},
   "outputs": [
    {
     "data": {
      "text/html": [
       "<div>\n",
       "<style scoped>\n",
       "    .dataframe tbody tr th:only-of-type {\n",
       "        vertical-align: middle;\n",
       "    }\n",
       "\n",
       "    .dataframe tbody tr th {\n",
       "        vertical-align: top;\n",
       "    }\n",
       "\n",
       "    .dataframe thead th {\n",
       "        text-align: right;\n",
       "    }\n",
       "</style>\n",
       "<table border=\"1\" class=\"dataframe\">\n",
       "  <thead>\n",
       "    <tr style=\"text-align: right;\">\n",
       "      <th></th>\n",
       "      <th>children</th>\n",
       "      <th>days_employed</th>\n",
       "      <th>dob_years</th>\n",
       "      <th>education</th>\n",
       "      <th>education_id</th>\n",
       "      <th>family_status</th>\n",
       "      <th>family_status_id</th>\n",
       "      <th>gender</th>\n",
       "      <th>income_type</th>\n",
       "      <th>debt</th>\n",
       "      <th>total_income</th>\n",
       "      <th>purpose</th>\n",
       "    </tr>\n",
       "  </thead>\n",
       "  <tbody>\n",
       "    <tr>\n",
       "      <td>0</td>\n",
       "      <td>1</td>\n",
       "      <td>8437.673028</td>\n",
       "      <td>42</td>\n",
       "      <td>высшее</td>\n",
       "      <td>0</td>\n",
       "      <td>женат / замужем</td>\n",
       "      <td>0</td>\n",
       "      <td>F</td>\n",
       "      <td>сотрудник</td>\n",
       "      <td>0</td>\n",
       "      <td>253875.639453</td>\n",
       "      <td>покупка жилья</td>\n",
       "    </tr>\n",
       "    <tr>\n",
       "      <td>1</td>\n",
       "      <td>1</td>\n",
       "      <td>4024.803754</td>\n",
       "      <td>36</td>\n",
       "      <td>среднее</td>\n",
       "      <td>1</td>\n",
       "      <td>женат / замужем</td>\n",
       "      <td>0</td>\n",
       "      <td>F</td>\n",
       "      <td>сотрудник</td>\n",
       "      <td>0</td>\n",
       "      <td>112080.014102</td>\n",
       "      <td>приобретение автомобиля</td>\n",
       "    </tr>\n",
       "    <tr>\n",
       "      <td>2</td>\n",
       "      <td>0</td>\n",
       "      <td>5623.422610</td>\n",
       "      <td>33</td>\n",
       "      <td>среднее</td>\n",
       "      <td>1</td>\n",
       "      <td>женат / замужем</td>\n",
       "      <td>0</td>\n",
       "      <td>M</td>\n",
       "      <td>сотрудник</td>\n",
       "      <td>0</td>\n",
       "      <td>145885.952297</td>\n",
       "      <td>покупка жилья</td>\n",
       "    </tr>\n",
       "    <tr>\n",
       "      <td>3</td>\n",
       "      <td>3</td>\n",
       "      <td>4124.747207</td>\n",
       "      <td>32</td>\n",
       "      <td>среднее</td>\n",
       "      <td>1</td>\n",
       "      <td>женат / замужем</td>\n",
       "      <td>0</td>\n",
       "      <td>M</td>\n",
       "      <td>сотрудник</td>\n",
       "      <td>0</td>\n",
       "      <td>267628.550329</td>\n",
       "      <td>дополнительное образование</td>\n",
       "    </tr>\n",
       "    <tr>\n",
       "      <td>4</td>\n",
       "      <td>0</td>\n",
       "      <td>340266.072047</td>\n",
       "      <td>53</td>\n",
       "      <td>среднее</td>\n",
       "      <td>1</td>\n",
       "      <td>гражданский брак</td>\n",
       "      <td>1</td>\n",
       "      <td>F</td>\n",
       "      <td>пенсионер</td>\n",
       "      <td>0</td>\n",
       "      <td>158616.077870</td>\n",
       "      <td>сыграть свадьбу</td>\n",
       "    </tr>\n",
       "  </tbody>\n",
       "</table>\n",
       "</div>"
      ],
      "text/plain": [
       "  children  days_employed  dob_years education  education_id  \\\n",
       "0        1    8437.673028         42    высшее             0   \n",
       "1        1    4024.803754         36   среднее             1   \n",
       "2        0    5623.422610         33   среднее             1   \n",
       "3        3    4124.747207         32   среднее             1   \n",
       "4        0  340266.072047         53   среднее             1   \n",
       "\n",
       "      family_status  family_status_id gender income_type  debt   total_income  \\\n",
       "0   женат / замужем                 0      F   сотрудник     0  253875.639453   \n",
       "1   женат / замужем                 0      F   сотрудник     0  112080.014102   \n",
       "2   женат / замужем                 0      M   сотрудник     0  145885.952297   \n",
       "3   женат / замужем                 0      M   сотрудник     0  267628.550329   \n",
       "4  гражданский брак                 1      F   пенсионер     0  158616.077870   \n",
       "\n",
       "                      purpose  \n",
       "0               покупка жилья  \n",
       "1     приобретение автомобиля  \n",
       "2               покупка жилья  \n",
       "3  дополнительное образование  \n",
       "4             сыграть свадьбу  "
      ]
     },
     "execution_count": 13,
     "metadata": {},
     "output_type": "execute_result"
    }
   ],
   "source": [
    "# Преобразуем в столбце days_employed отрицательные значения в положительные\n",
    "data['days_employed'] = data['days_employed'].abs()\n",
    "data.head()"
   ]
  },
  {
   "cell_type": "code",
   "execution_count": 14,
   "metadata": {},
   "outputs": [
    {
     "data": {
      "text/plain": [
       "20805"
      ]
     },
     "execution_count": 14,
     "metadata": {},
     "output_type": "execute_result"
    }
   ],
   "source": [
    "# Далее - необходимо избавиться от значений, связанных с аномальным значением стажа\n",
    "# Для этого определим максимальный возраст людей и будем считать, что трудовую деятельность\n",
    "# человек начинает с 18 лет\n",
    "max_days_employed = (data['dob_years'].max() - 18) * 365\n",
    "max_days_employed"
   ]
  },
  {
   "cell_type": "code",
   "execution_count": 15,
   "metadata": {},
   "outputs": [
    {
     "data": {
      "text/plain": [
       "20805.000000    3445\n",
       "1843.031892     2174\n",
       "986.927316         1\n",
       "5536.801152        1\n",
       "357.681231         1\n",
       "                ... \n",
       "1216.233315        1\n",
       "263.131415         1\n",
       "1218.820922        1\n",
       "2338.480708        1\n",
       "582.538413         1\n",
       "Name: days_employed, Length: 15908, dtype: int64"
      ]
     },
     "execution_count": 15,
     "metadata": {},
     "output_type": "execute_result"
    }
   ],
   "source": [
    "# Медиана возраста = 42 года, \n",
    "# для этого возраста найдем медиану дней стажа (mean не подходит, так как есть аномальные значения)\n",
    "median_days_employed = data.loc[data['dob_years'] == data['dob_years'].median(), 'days_employed'].median()\n",
    "# Заменим все аномальные значения(те, которые больше максимально возможного стажа) на max_days_employed\n",
    "data.loc[data['days_employed']>max_days_employed,'days_employed'] = max_days_employed\n",
    "# Заменим нулевые значения на median_days_employed\n",
    "data['days_employed'] = data['days_employed'].replace(0, median_days_employed)\n",
    "# Проверим, произошла ли замена \n",
    "data['days_employed'].value_counts()"
   ]
  },
  {
   "cell_type": "code",
   "execution_count": 16,
   "metadata": {},
   "outputs": [
    {
     "data": {
      "text/plain": [
       "143494.369652    2174\n",
       "112874.418757       1\n",
       "100213.989206       1\n",
       "122421.963500       1\n",
       "198271.837248       1\n",
       "                 ... \n",
       "133299.194693       1\n",
       "115080.782380       1\n",
       "84896.781597        1\n",
       "153838.839212       1\n",
       "150014.128510       1\n",
       "Name: total_income, Length: 19352, dtype: int64"
      ]
     },
     "execution_count": 16,
     "metadata": {},
     "output_type": "execute_result"
    }
   ],
   "source": [
    "# Медиана возраста = 42 года, для этого возраста медиану ежемесячного дохода.\n",
    "data.groupby('dob_years')['total_income'].median()\n",
    "median_total_income = data.loc[data['dob_years'] == data['dob_years'].median(), 'total_income'].median()\n",
    "data['total_income'] = data['total_income'].replace(0, median_total_income)\n",
    "data['total_income'].value_counts()"
   ]
  },
  {
   "cell_type": "code",
   "execution_count": 17,
   "metadata": {},
   "outputs": [
    {
     "name": "stdout",
     "output_type": "stream",
     "text": [
      "<class 'pandas.core.frame.DataFrame'>\n",
      "RangeIndex: 21525 entries, 0 to 21524\n",
      "Data columns (total 12 columns):\n",
      "children            21525 non-null object\n",
      "days_employed       21525 non-null float64\n",
      "dob_years           21525 non-null int64\n",
      "education           21525 non-null object\n",
      "education_id        21525 non-null int64\n",
      "family_status       21525 non-null object\n",
      "family_status_id    21525 non-null int64\n",
      "gender              21525 non-null object\n",
      "income_type         21525 non-null object\n",
      "debt                21525 non-null int64\n",
      "total_income        21525 non-null float64\n",
      "purpose             21525 non-null object\n",
      "dtypes: float64(2), int64(4), object(6)\n",
      "memory usage: 2.0+ MB\n"
     ]
    },
    {
     "data": {
      "text/plain": [
       "children                6\n",
       "days_employed       15908\n",
       "dob_years              57\n",
       "education               5\n",
       "education_id            5\n",
       "family_status           5\n",
       "family_status_id        5\n",
       "gender                  3\n",
       "income_type             8\n",
       "debt                    2\n",
       "total_income        19352\n",
       "purpose                38\n",
       "dtype: int64"
      ]
     },
     "execution_count": 17,
     "metadata": {},
     "output_type": "execute_result"
    }
   ],
   "source": [
    "# Проверим, произошла ли замена всех пропусков и выведем количество уникальных значений всех столбцов\n",
    "# Мало ли - вдруг произошла неудачная замена и заменились все значения в столбце\n",
    "data.info()\n",
    "data.nunique()"
   ]
  },
  {
   "cell_type": "markdown",
   "metadata": {},
   "source": [
    "### Вывод"
   ]
  },
  {
   "cell_type": "markdown",
   "metadata": {},
   "source": [
    "\n",
    "Пропущенные значения были обнаружены типа NaN в столбцах days_employed и total_income. \n",
    "Были обнаружены подозрительные значения: \n",
    "<ul>\n",
    "    <li>В столбце children замечено 2 аномальных числа (-1 и 20)</li>\n",
    "    <li>В dob_years - одно (0)</li>\n",
    "    <li>В days_employed - отрицательные и огромные значения стажа</li>\n",
    "</ul>\n",
    "Причины появления пропусков: \n",
    "<ul>\n",
    "    <li>Человеческий фактор - сокрытие или искажение информации, возникновение случайных ошибок при заполнении</li>\n",
    "    <li>Технологический фактор - возможна потеря информации при конвертации файла в другой формат</li>\n",
    "</ul>\n",
    "В столбцах days_employed и total_income пропуски были заполнены по следующему принципу: \n",
    "<ul>\n",
    "    <li> найдена медиана возраста, исходя из нее - найдена медиана соответствующего значения для данного возраста.  Использование mean в случае days_employed привело бы к аномально большим значениям.</li>\n",
    "    <li>Для total_income - известно, что для денег использовать среднее = выстрелить себе в ногу, так как очень часто среднее значение не отражает истинную картину</li>\n",
    "    <li>Для children - произвел замену значений на медиану</li> \n",
    "    <li>Для dob_years - произвел замену значения на медиану возраста (можно и на среднее, в данном случае они приблизительно одинаковые)</li>\n",
    "</ul>   "
   ]
  },
  {
   "cell_type": "markdown",
   "metadata": {},
   "source": [
    "### Замена типа данных"
   ]
  },
  {
   "cell_type": "code",
   "execution_count": 18,
   "metadata": {},
   "outputs": [
    {
     "name": "stdout",
     "output_type": "stream",
     "text": [
      "<class 'pandas.core.frame.DataFrame'>\n",
      "RangeIndex: 21525 entries, 0 to 21524\n",
      "Data columns (total 12 columns):\n",
      "children            21525 non-null int64\n",
      "days_employed       21525 non-null int64\n",
      "dob_years           21525 non-null int64\n",
      "education           21525 non-null object\n",
      "education_id        21525 non-null int64\n",
      "family_status       21525 non-null object\n",
      "family_status_id    21525 non-null int64\n",
      "gender              21525 non-null object\n",
      "income_type         21525 non-null object\n",
      "debt                21525 non-null int64\n",
      "total_income        21525 non-null int64\n",
      "purpose             21525 non-null object\n",
      "dtypes: int64(7), object(5)\n",
      "memory usage: 2.0+ MB\n"
     ]
    },
    {
     "data": {
      "text/html": [
       "<div>\n",
       "<style scoped>\n",
       "    .dataframe tbody tr th:only-of-type {\n",
       "        vertical-align: middle;\n",
       "    }\n",
       "\n",
       "    .dataframe tbody tr th {\n",
       "        vertical-align: top;\n",
       "    }\n",
       "\n",
       "    .dataframe thead th {\n",
       "        text-align: right;\n",
       "    }\n",
       "</style>\n",
       "<table border=\"1\" class=\"dataframe\">\n",
       "  <thead>\n",
       "    <tr style=\"text-align: right;\">\n",
       "      <th></th>\n",
       "      <th>children</th>\n",
       "      <th>days_employed</th>\n",
       "      <th>dob_years</th>\n",
       "      <th>education</th>\n",
       "      <th>education_id</th>\n",
       "      <th>family_status</th>\n",
       "      <th>family_status_id</th>\n",
       "      <th>gender</th>\n",
       "      <th>income_type</th>\n",
       "      <th>debt</th>\n",
       "      <th>total_income</th>\n",
       "      <th>purpose</th>\n",
       "    </tr>\n",
       "  </thead>\n",
       "  <tbody>\n",
       "    <tr>\n",
       "      <td>0</td>\n",
       "      <td>1</td>\n",
       "      <td>8437</td>\n",
       "      <td>42</td>\n",
       "      <td>высшее</td>\n",
       "      <td>0</td>\n",
       "      <td>женат / замужем</td>\n",
       "      <td>0</td>\n",
       "      <td>F</td>\n",
       "      <td>сотрудник</td>\n",
       "      <td>0</td>\n",
       "      <td>253875</td>\n",
       "      <td>покупка жилья</td>\n",
       "    </tr>\n",
       "    <tr>\n",
       "      <td>1</td>\n",
       "      <td>1</td>\n",
       "      <td>4024</td>\n",
       "      <td>36</td>\n",
       "      <td>среднее</td>\n",
       "      <td>1</td>\n",
       "      <td>женат / замужем</td>\n",
       "      <td>0</td>\n",
       "      <td>F</td>\n",
       "      <td>сотрудник</td>\n",
       "      <td>0</td>\n",
       "      <td>112080</td>\n",
       "      <td>приобретение автомобиля</td>\n",
       "    </tr>\n",
       "    <tr>\n",
       "      <td>2</td>\n",
       "      <td>0</td>\n",
       "      <td>5623</td>\n",
       "      <td>33</td>\n",
       "      <td>среднее</td>\n",
       "      <td>1</td>\n",
       "      <td>женат / замужем</td>\n",
       "      <td>0</td>\n",
       "      <td>M</td>\n",
       "      <td>сотрудник</td>\n",
       "      <td>0</td>\n",
       "      <td>145885</td>\n",
       "      <td>покупка жилья</td>\n",
       "    </tr>\n",
       "    <tr>\n",
       "      <td>3</td>\n",
       "      <td>3</td>\n",
       "      <td>4124</td>\n",
       "      <td>32</td>\n",
       "      <td>среднее</td>\n",
       "      <td>1</td>\n",
       "      <td>женат / замужем</td>\n",
       "      <td>0</td>\n",
       "      <td>M</td>\n",
       "      <td>сотрудник</td>\n",
       "      <td>0</td>\n",
       "      <td>267628</td>\n",
       "      <td>дополнительное образование</td>\n",
       "    </tr>\n",
       "    <tr>\n",
       "      <td>4</td>\n",
       "      <td>0</td>\n",
       "      <td>20805</td>\n",
       "      <td>53</td>\n",
       "      <td>среднее</td>\n",
       "      <td>1</td>\n",
       "      <td>гражданский брак</td>\n",
       "      <td>1</td>\n",
       "      <td>F</td>\n",
       "      <td>пенсионер</td>\n",
       "      <td>0</td>\n",
       "      <td>158616</td>\n",
       "      <td>сыграть свадьбу</td>\n",
       "    </tr>\n",
       "  </tbody>\n",
       "</table>\n",
       "</div>"
      ],
      "text/plain": [
       "   children  days_employed  dob_years education  education_id  \\\n",
       "0         1           8437         42    высшее             0   \n",
       "1         1           4024         36   среднее             1   \n",
       "2         0           5623         33   среднее             1   \n",
       "3         3           4124         32   среднее             1   \n",
       "4         0          20805         53   среднее             1   \n",
       "\n",
       "      family_status  family_status_id gender income_type  debt  total_income  \\\n",
       "0   женат / замужем                 0      F   сотрудник     0        253875   \n",
       "1   женат / замужем                 0      F   сотрудник     0        112080   \n",
       "2   женат / замужем                 0      M   сотрудник     0        145885   \n",
       "3   женат / замужем                 0      M   сотрудник     0        267628   \n",
       "4  гражданский брак                 1      F   пенсионер     0        158616   \n",
       "\n",
       "                      purpose  \n",
       "0               покупка жилья  \n",
       "1     приобретение автомобиля  \n",
       "2               покупка жилья  \n",
       "3  дополнительное образование  \n",
       "4             сыграть свадьбу  "
      ]
     },
     "execution_count": 18,
     "metadata": {},
     "output_type": "execute_result"
    }
   ],
   "source": [
    "# Поменяем в столбце days_employed тип данных на int64, чтобы была возможность работать с числовыми значениями \n",
    "# И были целочисленные значения, так как нет смысла от дробных значений \n",
    "data['days_employed'] = data['days_employed'].astype('int')\n",
    "# Для столбца children сделаем то же самое\n",
    "data['children'] = pd.to_numeric(data['children'], errors='coerce')\n",
    "data['children'] = data['children'].astype('int')\n",
    "# Приведем значения dob_years и total_income к целочисленным\n",
    "data['dob_years'] = data['dob_years'].astype('int')\n",
    "data['total_income'] = data['total_income'].astype('int')\n",
    "\n",
    "# Проверим\n",
    "data.info()\n",
    "data.head()\n",
    "# Судя по всему - всё в порядке "
   ]
  },
  {
   "cell_type": "markdown",
   "metadata": {},
   "source": [
    "### Вывод"
   ]
  },
  {
   "cell_type": "markdown",
   "metadata": {},
   "source": [
    "Разберем по порядку: \n",
    "<ul> \n",
    "    <li>В столбце days_employed удобнее пользоваться целочисленными значениями, никому не нужен статус вплоть до 4 знака после запятой</li>\n",
    "    <li>Видно, что столбец children имеет тип object, что недопустимо, так как все значения там являются числами</li>\n",
    "    <li>В dob_years и total_income удобнее пользоваться целочисленными значениями, особую роль не сыграют сверхточный возраст(вплоть до дня) и доход до копейки</li>"
   ]
  },
  {
   "cell_type": "markdown",
   "metadata": {},
   "source": [
    "### Обработка дубликатов"
   ]
  },
  {
   "cell_type": "code",
   "execution_count": 19,
   "metadata": {},
   "outputs": [
    {
     "data": {
      "text/plain": [
       "72"
      ]
     },
     "execution_count": 19,
     "metadata": {},
     "output_type": "execute_result"
    }
   ],
   "source": [
    "# Посмотрим количество дубликатов\n",
    "data.duplicated().sum()"
   ]
  },
  {
   "cell_type": "code",
   "execution_count": 20,
   "metadata": {},
   "outputs": [
    {
     "data": {
      "text/plain": [
       "(21525, 12)"
      ]
     },
     "execution_count": 20,
     "metadata": {},
     "output_type": "execute_result"
    }
   ],
   "source": [
    "# Посмотрим размер таблицы\n",
    "data.shape"
   ]
  },
  {
   "cell_type": "code",
   "execution_count": 21,
   "metadata": {},
   "outputs": [],
   "source": [
    "# Удалим дубликаты \n",
    "data = data.drop_duplicates().reset_index(drop=True)"
   ]
  },
  {
   "cell_type": "code",
   "execution_count": 22,
   "metadata": {},
   "outputs": [
    {
     "data": {
      "text/plain": [
       "0"
      ]
     },
     "execution_count": 22,
     "metadata": {},
     "output_type": "execute_result"
    }
   ],
   "source": [
    "# Посмотрим количество дубликатов после удаления\n",
    "data.duplicated().sum()"
   ]
  },
  {
   "cell_type": "code",
   "execution_count": 23,
   "metadata": {},
   "outputs": [
    {
     "data": {
      "text/plain": [
       "(21453, 12)"
      ]
     },
     "execution_count": 23,
     "metadata": {},
     "output_type": "execute_result"
    }
   ],
   "source": [
    "# Посмотрим размер таблицы после удаления дубликатов\n",
    "data.shape"
   ]
  },
  {
   "cell_type": "markdown",
   "metadata": {},
   "source": [
    "### Вывод"
   ]
  },
  {
   "cell_type": "markdown",
   "metadata": {},
   "source": [
    "В данной таблице легче и рациональнее искать дубликаты методом .duplicated() + .sum(), value_counts() же просто счетчик для уникальных значений. В нашем случае правильным (по моему мнению) методом удаления дубликатов является .drop_duplicates().reset_index(drop=True): .reset_index(drop=True) позволяет удалить дубликаты, не создавая при этом новый столбец с индексацией, при этом индексы записываются без пропусков.\n",
    "\n",
    "Возможные причины появления дубликатов:\n",
    "<ul> \n",
    "    <li>Ошибки ввода - одно и то же наблюдение было введено несколько раз</li>\n",
    "    <li>Наличие пропущенных значений</li>\n",
    "    <li>Изменение формата данных</li>\n",
    "</ul>"
   ]
  },
  {
   "cell_type": "markdown",
   "metadata": {},
   "source": [
    "### Лемматизация"
   ]
  },
  {
   "cell_type": "code",
   "execution_count": 24,
   "metadata": {
    "scrolled": true
   },
   "outputs": [
    {
     "data": {
      "text/html": [
       "<div>\n",
       "<style scoped>\n",
       "    .dataframe tbody tr th:only-of-type {\n",
       "        vertical-align: middle;\n",
       "    }\n",
       "\n",
       "    .dataframe tbody tr th {\n",
       "        vertical-align: top;\n",
       "    }\n",
       "\n",
       "    .dataframe thead th {\n",
       "        text-align: right;\n",
       "    }\n",
       "</style>\n",
       "<table border=\"1\" class=\"dataframe\">\n",
       "  <thead>\n",
       "    <tr style=\"text-align: right;\">\n",
       "      <th></th>\n",
       "      <th>children</th>\n",
       "      <th>days_employed</th>\n",
       "      <th>dob_years</th>\n",
       "      <th>education</th>\n",
       "      <th>education_id</th>\n",
       "      <th>family_status</th>\n",
       "      <th>family_status_id</th>\n",
       "      <th>gender</th>\n",
       "      <th>income_type</th>\n",
       "      <th>debt</th>\n",
       "      <th>total_income</th>\n",
       "      <th>purpose</th>\n",
       "      <th>lemmas_for_purpose</th>\n",
       "    </tr>\n",
       "  </thead>\n",
       "  <tbody>\n",
       "    <tr>\n",
       "      <td>0</td>\n",
       "      <td>1</td>\n",
       "      <td>8437</td>\n",
       "      <td>42</td>\n",
       "      <td>высшее</td>\n",
       "      <td>0</td>\n",
       "      <td>женат / замужем</td>\n",
       "      <td>0</td>\n",
       "      <td>F</td>\n",
       "      <td>сотрудник</td>\n",
       "      <td>0</td>\n",
       "      <td>253875</td>\n",
       "      <td>покупка жилья</td>\n",
       "      <td>покупка жилье\\n</td>\n",
       "    </tr>\n",
       "    <tr>\n",
       "      <td>1</td>\n",
       "      <td>1</td>\n",
       "      <td>4024</td>\n",
       "      <td>36</td>\n",
       "      <td>среднее</td>\n",
       "      <td>1</td>\n",
       "      <td>женат / замужем</td>\n",
       "      <td>0</td>\n",
       "      <td>F</td>\n",
       "      <td>сотрудник</td>\n",
       "      <td>0</td>\n",
       "      <td>112080</td>\n",
       "      <td>приобретение автомобиля</td>\n",
       "      <td>приобретение автомобиль\\n</td>\n",
       "    </tr>\n",
       "    <tr>\n",
       "      <td>2</td>\n",
       "      <td>0</td>\n",
       "      <td>5623</td>\n",
       "      <td>33</td>\n",
       "      <td>среднее</td>\n",
       "      <td>1</td>\n",
       "      <td>женат / замужем</td>\n",
       "      <td>0</td>\n",
       "      <td>M</td>\n",
       "      <td>сотрудник</td>\n",
       "      <td>0</td>\n",
       "      <td>145885</td>\n",
       "      <td>покупка жилья</td>\n",
       "      <td>покупка жилье\\n</td>\n",
       "    </tr>\n",
       "    <tr>\n",
       "      <td>3</td>\n",
       "      <td>3</td>\n",
       "      <td>4124</td>\n",
       "      <td>32</td>\n",
       "      <td>среднее</td>\n",
       "      <td>1</td>\n",
       "      <td>женат / замужем</td>\n",
       "      <td>0</td>\n",
       "      <td>M</td>\n",
       "      <td>сотрудник</td>\n",
       "      <td>0</td>\n",
       "      <td>267628</td>\n",
       "      <td>дополнительное образование</td>\n",
       "      <td>дополнительный образование\\n</td>\n",
       "    </tr>\n",
       "    <tr>\n",
       "      <td>4</td>\n",
       "      <td>0</td>\n",
       "      <td>20805</td>\n",
       "      <td>53</td>\n",
       "      <td>среднее</td>\n",
       "      <td>1</td>\n",
       "      <td>гражданский брак</td>\n",
       "      <td>1</td>\n",
       "      <td>F</td>\n",
       "      <td>пенсионер</td>\n",
       "      <td>0</td>\n",
       "      <td>158616</td>\n",
       "      <td>сыграть свадьбу</td>\n",
       "      <td>сыграть свадьба\\n</td>\n",
       "    </tr>\n",
       "  </tbody>\n",
       "</table>\n",
       "</div>"
      ],
      "text/plain": [
       "   children  days_employed  dob_years education  education_id  \\\n",
       "0         1           8437         42    высшее             0   \n",
       "1         1           4024         36   среднее             1   \n",
       "2         0           5623         33   среднее             1   \n",
       "3         3           4124         32   среднее             1   \n",
       "4         0          20805         53   среднее             1   \n",
       "\n",
       "      family_status  family_status_id gender income_type  debt  total_income  \\\n",
       "0   женат / замужем                 0      F   сотрудник     0        253875   \n",
       "1   женат / замужем                 0      F   сотрудник     0        112080   \n",
       "2   женат / замужем                 0      M   сотрудник     0        145885   \n",
       "3   женат / замужем                 0      M   сотрудник     0        267628   \n",
       "4  гражданский брак                 1      F   пенсионер     0        158616   \n",
       "\n",
       "                      purpose            lemmas_for_purpose  \n",
       "0               покупка жилья               покупка жилье\\n  \n",
       "1     приобретение автомобиля     приобретение автомобиль\\n  \n",
       "2               покупка жилья               покупка жилье\\n  \n",
       "3  дополнительное образование  дополнительный образование\\n  \n",
       "4             сыграть свадьбу             сыграть свадьба\\n  "
      ]
     },
     "execution_count": 24,
     "metadata": {},
     "output_type": "execute_result"
    }
   ],
   "source": [
    "# Одна из библиотек с функцией лемматизации на русском языке  - pymystem3, используем модуль Mystem\n",
    "m = Mystem()\n",
    "\n",
    "# Так как нам нужно провести лемматизацию для каждой из строк,\n",
    "# но использование цикла приводит к значительному увеличению времени работы, то используем .apply\n",
    "data['lemmas_for_purpose'] = data['purpose'].apply(m.lemmatize)\n",
    "data['lemmas_for_purpose'] = data['lemmas_for_purpose'].apply(''.join)\n",
    "# Проверим применение лемматизации \n",
    "data.head()"
   ]
  },
  {
   "cell_type": "code",
   "execution_count": 25,
   "metadata": {},
   "outputs": [
    {
     "data": {
      "text/plain": [
       "автомобиль\\n                                972\n",
       "свадьба\\n                                   791\n",
       "на проведение свадьба\\n                     767\n",
       "сыграть свадьба\\n                           765\n",
       "операция с недвижимость\\n                   675\n",
       "покупка коммерческий недвижимость\\n         661\n",
       "операция с жилье\\n                          652\n",
       "покупка жилье для сдача\\n                   651\n",
       "операция с коммерческий недвижимость\\n      650\n",
       "покупка жилье\\n                             646\n",
       "жилье\\n                                     646\n",
       "покупка жилье для семья\\n                   638\n",
       "строительство собственный недвижимость\\n    635\n",
       "недвижимость\\n                              633\n",
       "операция со свой недвижимость\\n             627\n",
       "строительство жилой недвижимость\\n          624\n",
       "покупка недвижимость\\n                      621\n",
       "покупка свой жилье\\n                        620\n",
       "строительство недвижимость\\n                619\n",
       "ремонт жилье\\n                              607\n",
       "покупка жилой недвижимость\\n                606\n",
       "на покупка свой автомобиль\\n                505\n",
       "заниматься высокий образование\\n            496\n",
       "сделка с подержанный автомобиль\\n           486\n",
       "на покупка подержать автомобиль\\n           478\n",
       "свой автомобиль\\n                           478\n",
       "на покупка автомобиль\\n                     471\n",
       "приобретение автомобиль\\n                   461\n",
       "дополнительный образование\\n                460\n",
       "сделка с автомобиль\\n                       455\n",
       "высокий образование\\n                       452\n",
       "образование\\n                               447\n",
       "получение дополнительный образование\\n      446\n",
       "получение образование\\n                     442\n",
       "профильный образование\\n                    436\n",
       "получение высокий образование\\n             426\n",
       "заниматься образование\\n                    408\n",
       "Name: lemmas_for_purpose, dtype: int64"
      ]
     },
     "execution_count": 25,
     "metadata": {},
     "output_type": "execute_result"
    }
   ],
   "source": [
    "# Применим счетчик ради дальнейших выводов\n",
    "data['lemmas_for_purpose'].value_counts()"
   ]
  },
  {
   "cell_type": "markdown",
   "metadata": {},
   "source": [
    "### Вывод"
   ]
  },
  {
   "cell_type": "markdown",
   "metadata": {},
   "source": [
    "Судя по результату можно сказать, что в колонке purpose много повторяющихся значений, написанных по-разному. В дальнейшем все такие значения будут сведены под каждую из категорий, чтобы было удобнее анализировать и не было потерь данных."
   ]
  },
  {
   "cell_type": "markdown",
   "metadata": {},
   "source": [
    "### Категоризация данных"
   ]
  },
  {
   "cell_type": "code",
   "execution_count": 26,
   "metadata": {},
   "outputs": [
    {
     "data": {
      "text/html": [
       "<div>\n",
       "<style scoped>\n",
       "    .dataframe tbody tr th:only-of-type {\n",
       "        vertical-align: middle;\n",
       "    }\n",
       "\n",
       "    .dataframe tbody tr th {\n",
       "        vertical-align: top;\n",
       "    }\n",
       "\n",
       "    .dataframe thead th {\n",
       "        text-align: right;\n",
       "    }\n",
       "</style>\n",
       "<table border=\"1\" class=\"dataframe\">\n",
       "  <thead>\n",
       "    <tr style=\"text-align: right;\">\n",
       "      <th></th>\n",
       "      <th>children</th>\n",
       "      <th>debt</th>\n",
       "      <th>children_group</th>\n",
       "    </tr>\n",
       "  </thead>\n",
       "  <tbody>\n",
       "    <tr>\n",
       "      <td>0</td>\n",
       "      <td>1</td>\n",
       "      <td>0</td>\n",
       "      <td>есть дети</td>\n",
       "    </tr>\n",
       "    <tr>\n",
       "      <td>1</td>\n",
       "      <td>1</td>\n",
       "      <td>0</td>\n",
       "      <td>есть дети</td>\n",
       "    </tr>\n",
       "    <tr>\n",
       "      <td>2</td>\n",
       "      <td>0</td>\n",
       "      <td>0</td>\n",
       "      <td>нет детей</td>\n",
       "    </tr>\n",
       "    <tr>\n",
       "      <td>3</td>\n",
       "      <td>3</td>\n",
       "      <td>0</td>\n",
       "      <td>есть дети</td>\n",
       "    </tr>\n",
       "    <tr>\n",
       "      <td>4</td>\n",
       "      <td>0</td>\n",
       "      <td>0</td>\n",
       "      <td>нет детей</td>\n",
       "    </tr>\n",
       "  </tbody>\n",
       "</table>\n",
       "</div>"
      ],
      "text/plain": [
       "   children  debt children_group\n",
       "0         1     0      есть дети\n",
       "1         1     0      есть дети\n",
       "2         0     0      нет детей\n",
       "3         3     0      есть дети\n",
       "4         0     0      нет детей"
      ]
     },
     "execution_count": 26,
     "metadata": {},
     "output_type": "execute_result"
    }
   ],
   "source": [
    "# Категоризация данных нужна непосредственно для Шага 3\n",
    "\n",
    "# Для зависимости между наличием детей и возвратом кредита в срок\n",
    "# Необходимые столбцы - children и debt\n",
    "children_debt_data = data[['children', 'debt']]\n",
    "\n",
    "# Так как вопрос задан \"между наличием детей и...\", то необходимо объединить данные столбца children\n",
    "def children_group(children):\n",
    "    if children == 0:\n",
    "        return 'нет детей'\n",
    "    if children > 0:\n",
    "        return 'есть дети'\n",
    "#print(children_group(2))\n",
    "#print(children_group(0))\n",
    "\n",
    "# Добавим столбец в children_debt_data \n",
    "children_debt_data['children_group'] = children_debt_data['children'].apply(children_group)\n",
    "children_debt_data.head()"
   ]
  },
  {
   "cell_type": "code",
   "execution_count": 27,
   "metadata": {},
   "outputs": [
    {
     "data": {
      "text/html": [
       "<div>\n",
       "<style scoped>\n",
       "    .dataframe tbody tr th:only-of-type {\n",
       "        vertical-align: middle;\n",
       "    }\n",
       "\n",
       "    .dataframe tbody tr th {\n",
       "        vertical-align: top;\n",
       "    }\n",
       "\n",
       "    .dataframe thead th {\n",
       "        text-align: right;\n",
       "    }\n",
       "</style>\n",
       "<table border=\"1\" class=\"dataframe\">\n",
       "  <thead>\n",
       "    <tr style=\"text-align: right;\">\n",
       "      <th></th>\n",
       "      <th>family_status</th>\n",
       "      <th>debt</th>\n",
       "    </tr>\n",
       "  </thead>\n",
       "  <tbody>\n",
       "    <tr>\n",
       "      <td>0</td>\n",
       "      <td>женат / замужем</td>\n",
       "      <td>0</td>\n",
       "    </tr>\n",
       "    <tr>\n",
       "      <td>1</td>\n",
       "      <td>женат / замужем</td>\n",
       "      <td>0</td>\n",
       "    </tr>\n",
       "    <tr>\n",
       "      <td>2</td>\n",
       "      <td>женат / замужем</td>\n",
       "      <td>0</td>\n",
       "    </tr>\n",
       "    <tr>\n",
       "      <td>3</td>\n",
       "      <td>женат / замужем</td>\n",
       "      <td>0</td>\n",
       "    </tr>\n",
       "    <tr>\n",
       "      <td>4</td>\n",
       "      <td>гражданский брак</td>\n",
       "      <td>0</td>\n",
       "    </tr>\n",
       "  </tbody>\n",
       "</table>\n",
       "</div>"
      ],
      "text/plain": [
       "      family_status  debt\n",
       "0   женат / замужем     0\n",
       "1   женат / замужем     0\n",
       "2   женат / замужем     0\n",
       "3   женат / замужем     0\n",
       "4  гражданский брак     0"
      ]
     },
     "execution_count": 27,
     "metadata": {},
     "output_type": "execute_result"
    }
   ],
   "source": [
    "# Для зависимости между семейным положением и возвратом кредита в срок\n",
    "data['family_status'].value_counts()\n",
    "\n",
    "# Необходимые столбцы - family_status, debt\n",
    "family_status_debt_data = data[['family_status', 'debt']]\n",
    "family_status_debt_data.head()"
   ]
  },
  {
   "cell_type": "code",
   "execution_count": 28,
   "metadata": {},
   "outputs": [
    {
     "data": {
      "text/html": [
       "<div>\n",
       "<style scoped>\n",
       "    .dataframe tbody tr th:only-of-type {\n",
       "        vertical-align: middle;\n",
       "    }\n",
       "\n",
       "    .dataframe tbody tr th {\n",
       "        vertical-align: top;\n",
       "    }\n",
       "\n",
       "    .dataframe thead th {\n",
       "        text-align: right;\n",
       "    }\n",
       "</style>\n",
       "<table border=\"1\" class=\"dataframe\">\n",
       "  <thead>\n",
       "    <tr style=\"text-align: right;\">\n",
       "      <th></th>\n",
       "      <th>total_income</th>\n",
       "      <th>debt</th>\n",
       "      <th>total_income_group</th>\n",
       "    </tr>\n",
       "  </thead>\n",
       "  <tbody>\n",
       "    <tr>\n",
       "      <td>0</td>\n",
       "      <td>253875</td>\n",
       "      <td>0</td>\n",
       "      <td>верхний средний класс</td>\n",
       "    </tr>\n",
       "    <tr>\n",
       "      <td>1</td>\n",
       "      <td>112080</td>\n",
       "      <td>0</td>\n",
       "      <td>предсредний класс</td>\n",
       "    </tr>\n",
       "    <tr>\n",
       "      <td>2</td>\n",
       "      <td>145885</td>\n",
       "      <td>0</td>\n",
       "      <td>предсредний класс</td>\n",
       "    </tr>\n",
       "    <tr>\n",
       "      <td>3</td>\n",
       "      <td>267628</td>\n",
       "      <td>0</td>\n",
       "      <td>верхний средний класс</td>\n",
       "    </tr>\n",
       "    <tr>\n",
       "      <td>4</td>\n",
       "      <td>158616</td>\n",
       "      <td>0</td>\n",
       "      <td>cредний класс</td>\n",
       "    </tr>\n",
       "  </tbody>\n",
       "</table>\n",
       "</div>"
      ],
      "text/plain": [
       "   total_income  debt     total_income_group\n",
       "0        253875     0  верхний средний класс\n",
       "1        112080     0      предсредний класс\n",
       "2        145885     0      предсредний класс\n",
       "3        267628     0  верхний средний класс\n",
       "4        158616     0          cредний класс"
      ]
     },
     "execution_count": 28,
     "metadata": {},
     "output_type": "execute_result"
    }
   ],
   "source": [
    "# Для зависимости между уровнем дохода и возвратом кредита в срок\n",
    "# Необходимые столбцы - total_income и debt\n",
    "total_income_debt_data = data[['total_income', 'debt']]\n",
    "\n",
    "# Для удобства анализа необходимо отнести каждое значение ежемесячного дохода в свою категорию\n",
    "def total_income_group(total_income):\n",
    "    if total_income < 25000:\n",
    "        return 'бедные'\n",
    "    if total_income < 40000:\n",
    "        return 'выше бедности'\n",
    "    if total_income < 100000:\n",
    "        return 'нижний средний класс'\n",
    "    if total_income < 150000:\n",
    "        return 'предсредний класс'\n",
    "    if total_income < 250000:\n",
    "        return 'cредний класс'\n",
    "    if total_income < 500000:\n",
    "        return 'верхний средний класс'\n",
    "    return 'состоятельные'\n",
    "\n",
    "#total_income_group(110000)\n",
    "\n",
    "# Добавим столбец в total_income_debt_data \n",
    "total_income_debt_data['total_income_group'] = total_income_debt_data['total_income'].apply(total_income_group)\n",
    "total_income_debt_data.head()"
   ]
  },
  {
   "cell_type": "code",
   "execution_count": 29,
   "metadata": {},
   "outputs": [
    {
     "data": {
      "text/plain": [
       "недвижимость    10811\n",
       "автомобиль       4306\n",
       "образование      4013\n",
       "свадьба          2323\n",
       "Name: purpose_group, dtype: int64"
      ]
     },
     "execution_count": 29,
     "metadata": {},
     "output_type": "execute_result"
    }
   ],
   "source": [
    "# Для зависимости между целями кредита и его возврата в срок\n",
    "# Необходимые столбцы - purpose и debt\n",
    "purpose_debt_data = data[['lemmas_for_purpose', 'debt']]\n",
    "\n",
    "\n",
    "# Так как много одинаковых целей кредита, но написанных по-разному, то создадим функции, которые объединят их в 4 категории\n",
    "# Были попытки поиска по нужным словам по результатам лемматизации, чтобы оптимизировать код, но они не увенчались успехом,\n",
    "# Поэтому использовался такой вариант \n",
    "def purpose_group(lemmas_for_purpose): \n",
    "    if lemmas_for_purpose.find('жилье')!=-1 or lemmas_for_purpose.find('недвижимость')!=-1: \n",
    "        return 'недвижимость' \n",
    "    if lemmas_for_purpose.find('свадьба')!=-1: \n",
    "        return 'свадьба' \n",
    "    if lemmas_for_purpose.find('образование')!=-1: \n",
    "        return 'образование' \n",
    "    if lemmas_for_purpose.find('автомобиль')!=-1: \n",
    "        return 'автомобиль' \n",
    "# Добавим в отдельный столбец полученный результат\n",
    "purpose_debt_data['purpose_group'] = purpose_debt_data['lemmas_for_purpose'].apply(purpose_group)\n",
    "# Проверим этот столбец \n",
    "purpose_debt_data['purpose_group'].value_counts()"
   ]
  },
  {
   "cell_type": "markdown",
   "metadata": {},
   "source": [
    "### Вывод"
   ]
  },
  {
   "cell_type": "markdown",
   "metadata": {},
   "source": [
    "Словари были выделены таким образом, чтобы использовать их в Шаге 3."
   ]
  },
  {
   "cell_type": "markdown",
   "metadata": {},
   "source": [
    "### Шаг 3. Ответьте на вопросы"
   ]
  },
  {
   "cell_type": "markdown",
   "metadata": {},
   "source": [
    "- Есть ли зависимость между наличием детей и возвратом кредита в срок?"
   ]
  },
  {
   "cell_type": "code",
   "execution_count": 30,
   "metadata": {},
   "outputs": [
    {
     "data": {
      "text/html": [
       "<div>\n",
       "<style scoped>\n",
       "    .dataframe tbody tr th:only-of-type {\n",
       "        vertical-align: middle;\n",
       "    }\n",
       "\n",
       "    .dataframe tbody tr th {\n",
       "        vertical-align: top;\n",
       "    }\n",
       "\n",
       "    .dataframe thead tr th {\n",
       "        text-align: left;\n",
       "    }\n",
       "\n",
       "    .dataframe thead tr:last-of-type th {\n",
       "        text-align: right;\n",
       "    }\n",
       "</style>\n",
       "<table border=\"1\" class=\"dataframe\">\n",
       "  <thead>\n",
       "    <tr>\n",
       "      <th></th>\n",
       "      <th colspan=\"2\" halign=\"left\">debt</th>\n",
       "      <th>procent</th>\n",
       "    </tr>\n",
       "    <tr>\n",
       "      <th>debt</th>\n",
       "      <th>0</th>\n",
       "      <th>1</th>\n",
       "      <th></th>\n",
       "    </tr>\n",
       "    <tr>\n",
       "      <th>children_group</th>\n",
       "      <th></th>\n",
       "      <th></th>\n",
       "      <th></th>\n",
       "    </tr>\n",
       "  </thead>\n",
       "  <tbody>\n",
       "    <tr>\n",
       "      <td>есть дети</td>\n",
       "      <td>6571</td>\n",
       "      <td>669</td>\n",
       "      <td>9.24</td>\n",
       "    </tr>\n",
       "    <tr>\n",
       "      <td>нет детей</td>\n",
       "      <td>13141</td>\n",
       "      <td>1072</td>\n",
       "      <td>7.54</td>\n",
       "    </tr>\n",
       "  </tbody>\n",
       "</table>\n",
       "</div>"
      ],
      "text/plain": [
       "                 debt       procent\n",
       "debt                0     1        \n",
       "children_group                     \n",
       "есть дети        6571   669    9.24\n",
       "нет детей       13141  1072    7.54"
      ]
     },
     "execution_count": 30,
     "metadata": {},
     "output_type": "execute_result"
    }
   ],
   "source": [
    "table_child_debt = pd.pivot_table(children_debt_data, index = 'children_group', columns = 'debt', aggfunc = {'debt':'count'})\n",
    "table_child_debt['procent'] = round((table_child_debt['debt'][1] * 100/ (table_child_debt['debt'][0] + table_child_debt['debt'][1])), 2)\n",
    "table_child_debt"
   ]
  },
  {
   "cell_type": "markdown",
   "metadata": {},
   "source": [
    "### Вывод"
   ]
  },
  {
   "cell_type": "markdown",
   "metadata": {},
   "source": [
    "Процентное соотношение людей, у которых есть дети и имели проблемы с платежами кредита, больше, чем тех, у кого нет детей и тоже имели проблемы с платежами. Это может быть связано с тем, что появление ребенка в семье приводит к повышенным расходам. Иногда для родителей это может быть неожиданностью, особенно, если ещё \"висит\" кредит. Поэтому при таком раскладе возможны проблемы с платежами."
   ]
  },
  {
   "cell_type": "markdown",
   "metadata": {},
   "source": [
    "- Есть ли зависимость между семейным положением и возвратом кредита в срок?\n"
   ]
  },
  {
   "cell_type": "code",
   "execution_count": 31,
   "metadata": {},
   "outputs": [
    {
     "data": {
      "text/html": [
       "<div>\n",
       "<style scoped>\n",
       "    .dataframe tbody tr th:only-of-type {\n",
       "        vertical-align: middle;\n",
       "    }\n",
       "\n",
       "    .dataframe tbody tr th {\n",
       "        vertical-align: top;\n",
       "    }\n",
       "\n",
       "    .dataframe thead tr th {\n",
       "        text-align: left;\n",
       "    }\n",
       "\n",
       "    .dataframe thead tr:last-of-type th {\n",
       "        text-align: right;\n",
       "    }\n",
       "</style>\n",
       "<table border=\"1\" class=\"dataframe\">\n",
       "  <thead>\n",
       "    <tr>\n",
       "      <th></th>\n",
       "      <th colspan=\"2\" halign=\"left\">debt</th>\n",
       "      <th>percent</th>\n",
       "    </tr>\n",
       "    <tr>\n",
       "      <th>debt</th>\n",
       "      <th>0</th>\n",
       "      <th>1</th>\n",
       "      <th></th>\n",
       "    </tr>\n",
       "    <tr>\n",
       "      <th>family_status</th>\n",
       "      <th></th>\n",
       "      <th></th>\n",
       "      <th></th>\n",
       "    </tr>\n",
       "  </thead>\n",
       "  <tbody>\n",
       "    <tr>\n",
       "      <td>в разводе</td>\n",
       "      <td>1110</td>\n",
       "      <td>85</td>\n",
       "      <td>7.11</td>\n",
       "    </tr>\n",
       "    <tr>\n",
       "      <td>вдовец / вдова</td>\n",
       "      <td>896</td>\n",
       "      <td>63</td>\n",
       "      <td>6.57</td>\n",
       "    </tr>\n",
       "    <tr>\n",
       "      <td>гражданский брак</td>\n",
       "      <td>3762</td>\n",
       "      <td>388</td>\n",
       "      <td>9.35</td>\n",
       "    </tr>\n",
       "    <tr>\n",
       "      <td>женат / замужем</td>\n",
       "      <td>11408</td>\n",
       "      <td>931</td>\n",
       "      <td>7.55</td>\n",
       "    </tr>\n",
       "    <tr>\n",
       "      <td>не женат / не замужем</td>\n",
       "      <td>2536</td>\n",
       "      <td>274</td>\n",
       "      <td>9.75</td>\n",
       "    </tr>\n",
       "  </tbody>\n",
       "</table>\n",
       "</div>"
      ],
      "text/plain": [
       "                        debt      percent\n",
       "debt                       0    1        \n",
       "family_status                            \n",
       "в разводе               1110   85    7.11\n",
       "вдовец / вдова           896   63    6.57\n",
       "гражданский брак        3762  388    9.35\n",
       "женат / замужем        11408  931    7.55\n",
       "не женат / не замужем   2536  274    9.75"
      ]
     },
     "execution_count": 31,
     "metadata": {},
     "output_type": "execute_result"
    }
   ],
   "source": [
    "table_family_debt = pd.pivot_table(family_status_debt_data, index = 'family_status', columns = 'debt', aggfunc = {'debt':'count'})\n",
    "table_family_debt['percent'] = round((table_family_debt['debt'][1] * 100/ (table_family_debt['debt'][0] + table_family_debt['debt'][1])), 2)\n",
    "table_family_debt"
   ]
  },
  {
   "cell_type": "markdown",
   "metadata": {},
   "source": [
    "### Вывод"
   ]
  },
  {
   "cell_type": "markdown",
   "metadata": {},
   "source": [
    "Самый высокий % проблем с платежами - у неженатых или незамужних. Это может быть связано с тем, что как правило люди менее ответственны, чем другие категории. Дальше следует снижение % в следующем порядке - не женат/не замужем -> гражданский брак -> женат / замужем -> в разводе -> вдовец / вдова. Как ни странно, это похоже на развитие отношений, а следовательно и развития в себе ответственности перед поступками (взятия кредита)."
   ]
  },
  {
   "cell_type": "markdown",
   "metadata": {},
   "source": [
    "- Есть ли зависимость между уровнем дохода и возвратом кредита в срок?"
   ]
  },
  {
   "cell_type": "code",
   "execution_count": 32,
   "metadata": {},
   "outputs": [
    {
     "data": {
      "text/html": [
       "<div>\n",
       "<style scoped>\n",
       "    .dataframe tbody tr th:only-of-type {\n",
       "        vertical-align: middle;\n",
       "    }\n",
       "\n",
       "    .dataframe tbody tr th {\n",
       "        vertical-align: top;\n",
       "    }\n",
       "\n",
       "    .dataframe thead tr th {\n",
       "        text-align: left;\n",
       "    }\n",
       "\n",
       "    .dataframe thead tr:last-of-type th {\n",
       "        text-align: right;\n",
       "    }\n",
       "</style>\n",
       "<table border=\"1\" class=\"dataframe\">\n",
       "  <thead>\n",
       "    <tr>\n",
       "      <th></th>\n",
       "      <th colspan=\"2\" halign=\"left\">debt</th>\n",
       "      <th>percent</th>\n",
       "    </tr>\n",
       "    <tr>\n",
       "      <th>debt</th>\n",
       "      <th>0</th>\n",
       "      <th>1</th>\n",
       "      <th></th>\n",
       "    </tr>\n",
       "    <tr>\n",
       "      <th>total_income_group</th>\n",
       "      <th></th>\n",
       "      <th></th>\n",
       "      <th></th>\n",
       "    </tr>\n",
       "  </thead>\n",
       "  <tbody>\n",
       "    <tr>\n",
       "      <td>cредний класс</td>\n",
       "      <td>5840</td>\n",
       "      <td>532</td>\n",
       "      <td>8.35</td>\n",
       "    </tr>\n",
       "    <tr>\n",
       "      <td>бедные</td>\n",
       "      <td>7</td>\n",
       "      <td>1</td>\n",
       "      <td>12.50</td>\n",
       "    </tr>\n",
       "    <tr>\n",
       "      <td>верхний средний класс</td>\n",
       "      <td>2410</td>\n",
       "      <td>180</td>\n",
       "      <td>6.95</td>\n",
       "    </tr>\n",
       "    <tr>\n",
       "      <td>выше бедности</td>\n",
       "      <td>108</td>\n",
       "      <td>9</td>\n",
       "      <td>7.69</td>\n",
       "    </tr>\n",
       "    <tr>\n",
       "      <td>нижний средний класс</td>\n",
       "      <td>3994</td>\n",
       "      <td>344</td>\n",
       "      <td>7.93</td>\n",
       "    </tr>\n",
       "    <tr>\n",
       "      <td>предсредний класс</td>\n",
       "      <td>7145</td>\n",
       "      <td>661</td>\n",
       "      <td>8.47</td>\n",
       "    </tr>\n",
       "    <tr>\n",
       "      <td>состоятельные</td>\n",
       "      <td>208</td>\n",
       "      <td>14</td>\n",
       "      <td>6.31</td>\n",
       "    </tr>\n",
       "  </tbody>\n",
       "</table>\n",
       "</div>"
      ],
      "text/plain": [
       "                       debt      percent\n",
       "debt                      0    1        \n",
       "total_income_group                      \n",
       "cредний класс          5840  532    8.35\n",
       "бедные                    7    1   12.50\n",
       "верхний средний класс  2410  180    6.95\n",
       "выше бедности           108    9    7.69\n",
       "нижний средний класс   3994  344    7.93\n",
       "предсредний класс      7145  661    8.47\n",
       "состоятельные           208   14    6.31"
      ]
     },
     "execution_count": 32,
     "metadata": {},
     "output_type": "execute_result"
    }
   ],
   "source": [
    "table_income_debt = pd.pivot_table(total_income_debt_data, index = 'total_income_group', columns = 'debt', aggfunc = {'debt':'count'})\n",
    "table_income_debt['percent'] = round((table_income_debt['debt'][1] * 100/ (table_income_debt['debt'][0] + table_income_debt['debt'][1])), 2)\n",
    "table_income_debt"
   ]
  },
  {
   "cell_type": "markdown",
   "metadata": {},
   "source": [
    "### Вывод"
   ]
  },
  {
   "cell_type": "markdown",
   "metadata": {},
   "source": [
    "Зависимость имеет экстремальный характер: для бедных характерно взять кредит и не возвращать вовремя; дальше идет резкое падение, связанное с повышением дохода классов; на предсреднем классе идет повышение процента - возможно, это связано с более высокой суммой кредита, которая впоследствии дольше выплачивается и выше вероятность иметь проблемы с платежами. В дальнейшем идет спад процента - это связано с повышением доходов (да и заметно, что выборка уменьшается для высоких классов - реже берут кредит, что опять же связано с повышенным доходом)."
   ]
  },
  {
   "cell_type": "markdown",
   "metadata": {},
   "source": [
    "- Как разные цели кредита влияют на его возврат в срок?"
   ]
  },
  {
   "cell_type": "code",
   "execution_count": 33,
   "metadata": {},
   "outputs": [
    {
     "data": {
      "text/html": [
       "<div>\n",
       "<style scoped>\n",
       "    .dataframe tbody tr th:only-of-type {\n",
       "        vertical-align: middle;\n",
       "    }\n",
       "\n",
       "    .dataframe tbody tr th {\n",
       "        vertical-align: top;\n",
       "    }\n",
       "\n",
       "    .dataframe thead tr th {\n",
       "        text-align: left;\n",
       "    }\n",
       "\n",
       "    .dataframe thead tr:last-of-type th {\n",
       "        text-align: right;\n",
       "    }\n",
       "</style>\n",
       "<table border=\"1\" class=\"dataframe\">\n",
       "  <thead>\n",
       "    <tr>\n",
       "      <th></th>\n",
       "      <th colspan=\"2\" halign=\"left\">debt</th>\n",
       "      <th>percent</th>\n",
       "    </tr>\n",
       "    <tr>\n",
       "      <th>debt</th>\n",
       "      <th>0</th>\n",
       "      <th>1</th>\n",
       "      <th></th>\n",
       "    </tr>\n",
       "    <tr>\n",
       "      <th>purpose_group</th>\n",
       "      <th></th>\n",
       "      <th></th>\n",
       "      <th></th>\n",
       "    </tr>\n",
       "  </thead>\n",
       "  <tbody>\n",
       "    <tr>\n",
       "      <td>автомобиль</td>\n",
       "      <td>3903</td>\n",
       "      <td>403</td>\n",
       "      <td>9.36</td>\n",
       "    </tr>\n",
       "    <tr>\n",
       "      <td>недвижимость</td>\n",
       "      <td>10029</td>\n",
       "      <td>782</td>\n",
       "      <td>7.23</td>\n",
       "    </tr>\n",
       "    <tr>\n",
       "      <td>образование</td>\n",
       "      <td>3643</td>\n",
       "      <td>370</td>\n",
       "      <td>9.22</td>\n",
       "    </tr>\n",
       "    <tr>\n",
       "      <td>свадьба</td>\n",
       "      <td>2137</td>\n",
       "      <td>186</td>\n",
       "      <td>8.01</td>\n",
       "    </tr>\n",
       "  </tbody>\n",
       "</table>\n",
       "</div>"
      ],
      "text/plain": [
       "                debt      percent\n",
       "debt               0    1        \n",
       "purpose_group                    \n",
       "автомобиль      3903  403    9.36\n",
       "недвижимость   10029  782    7.23\n",
       "образование     3643  370    9.22\n",
       "свадьба         2137  186    8.01"
      ]
     },
     "execution_count": 33,
     "metadata": {},
     "output_type": "execute_result"
    }
   ],
   "source": [
    "table_debt_purpose = pd.pivot_table(purpose_debt_data, index = 'purpose_group', columns = 'debt', aggfunc = {'debt':'count'})\n",
    "table_debt_purpose['percent'] = round((table_debt_purpose['debt'][1] * 100/ (table_debt_purpose['debt'][0] + table_debt_purpose['debt'][1])), 2)\n",
    "table_debt_purpose"
   ]
  },
  {
   "cell_type": "markdown",
   "metadata": {},
   "source": [
    "### Вывод"
   ]
  },
  {
   "cell_type": "markdown",
   "metadata": {},
   "source": [
    "Как видно из результатов:\n",
    "<ul>\n",
    "    <li> Самый большой процент проблем с платежами имеют кредиты на автомобиль и образование. Вероятно, это связано с тем, что такие кредиты берут людей в молодом возрасте (полно историй формата \"учусь в университете, но при этом работаю, чтобы его оплатить\")</li>\n",
    "    <li>Понижение процентов у кредитов на свадьбу связан с тем, что уже некоторое время тенденция повышения возраста, когда люди женяться/выходят замуж (выше возраст, выше вероятность, что человек имеет высокий стабильный доход, значит не должно быть проблем с оплатой долга). Ещё одним из вариантов такого результата может быть то, что на свадьбу большинство людей дарят деньги, которыми можно погасить часть кредита </li>\n",
    "    <li>Самый низкий процент - у недвижимости. Тут действуют 2 фактора: \n",
    "        <ul>\n",
    "            <li>Осознанность такого выбора, так как сумма кредита гораздо выше, чем у остальных категорий</li>  \n",
    "            <li>Сложнее всего получить такой кредит</li>\n",
    "        </ul>\n",
    "</ul>"
   ]
  },
  {
   "cell_type": "markdown",
   "metadata": {},
   "source": [
    "### Шаг 4. Общий вывод"
   ]
  },
  {
   "cell_type": "markdown",
   "metadata": {},
   "source": [
    "Возвращение кредита в срок не зависит только от одного фактора: \n",
    "<ul>\n",
    "    <li> Наличие детей увеличивает долю людей, имеющих проблемы с кредитами</li>\n",
    "    <li> Большой опыт отношений и семейной жизни увеличивает вероятность, что кредит будет оплачен в срок</li>\n",
    "    <li> Уровень дохода имеет сложную зависимость, но общая тенденция такая - бедным сложнее выплатить кредит, чем среднему классу, состоятельным людям же легче</li>\n",
    "    <li> Цель кредита имеет немаловажную роль - кредит на авто и образование берут люди в молодом возрасте, на свадьбе - в более осознанном возрасте, так как есть тенденция жениться/выходить замуж в более зрелом возрасте, на недвижимость - сложность взятия кредита</li>\n",
    "</ul>\n",
    "Таким образом, чтобы создать хорошую модель для прогнозирования возвращения кредита, необходимо учитывать несколько факторов."
   ]
  },
  {
   "cell_type": "markdown",
   "metadata": {},
   "source": [
    "### Чек-лист готовности проекта\n",
    "\n",
    "Поставьте 'x' в выполненных пунктах. Далее нажмите Shift+Enter."
   ]
  },
  {
   "cell_type": "markdown",
   "metadata": {},
   "source": [
    "- [x]  открыт файл;\n",
    "- [x]  файл изучен;\n",
    "- [x]  определены пропущенные значения;\n",
    "- [x]  заполнены пропущенные значения;\n",
    "- [x]  есть пояснение какие пропущенные значения обнаружены;\n",
    "- [x]  описаны возможные причины появления пропусков в данных;\n",
    "- [x]  объяснено по какому принципу заполнены пропуски;\n",
    "- [x]  заменен вещественный тип данных на целочисленный;\n",
    "- [x]  есть пояснение какой метод используется для изменения типа данных и почему;\n",
    "- [x]  удалены дубликаты;\n",
    "- [x]  есть пояснение какой метод используется для поиска и удаления дубликатов;\n",
    "- [x]  описаны возможные причины появления дубликатов в данных;\n",
    "- [x]  выделены леммы в значениях столбца с целями получения кредита;\n",
    "- [x]  описан процесс лемматизации;\n",
    "- [x]  данные категоризированы;\n",
    "- [x]  есть объяснение принципа категоризации данных;\n",
    "- [x]  есть ответ на вопрос \"Есть ли зависимость между наличием детей и возвратом кредита в срок?\";\n",
    "- [x]  есть ответ на вопрос \"Есть ли зависимость между семейным положением и возвратом кредита в срок?\";\n",
    "- [x]  есть ответ на вопрос \"Есть ли зависимость между уровнем дохода и возвратом кредита в срок?\";\n",
    "- [x]  есть ответ на вопрос \"Как разные цели кредита влияют на его возврат в срок?\";\n",
    "- [x]  в каждом этапе есть выводы;\n",
    "- [x]  есть общий вывод."
   ]
  }
 ],
 "metadata": {
  "kernelspec": {
   "display_name": "Python 3",
   "language": "python",
   "name": "python3"
  },
  "language_info": {
   "codemirror_mode": {
    "name": "ipython",
    "version": 3
   },
   "file_extension": ".py",
   "mimetype": "text/x-python",
   "name": "python",
   "nbconvert_exporter": "python",
   "pygments_lexer": "ipython3",
   "version": "3.7.4"
  }
 },
 "nbformat": 4,
 "nbformat_minor": 2
}
