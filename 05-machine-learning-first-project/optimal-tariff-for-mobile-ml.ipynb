{
 "cells": [
  {
   "cell_type": "markdown",
   "metadata": {},
   "source": [
    "# Рекомендация тарифов"
   ]
  },
  {
   "cell_type": "markdown",
   "metadata": {},
   "source": [
    "Предоставлены данные о поведении клиентов, которые уже перешли на эти тарифы.\n",
    "Нужно построить модель для задачи классификации, которая выберет подходящий тариф. \n",
    "\n",
    "Метрика качества - *accuracy*."
   ]
  },
  {
   "cell_type": "markdown",
   "metadata": {},
   "source": [
    "## 1. Изучение общей информации о данных"
   ]
  },
  {
   "cell_type": "code",
   "execution_count": 1,
   "metadata": {},
   "outputs": [],
   "source": [
    "# Все библиотеки, необходимые для выполнения проекта \n",
    "import pandas as pd\n",
    "import numpy as np\n",
    "from sklearn.model_selection import train_test_split, RandomizedSearchCV, cross_val_score, GridSearchCV\n",
    "from sklearn.tree import DecisionTreeClassifier\n",
    "from sklearn.linear_model import LogisticRegression\n",
    "from sklearn.ensemble import RandomForestClassifier\n",
    "from sklearn.metrics import accuracy_score\n",
    "import warnings\n",
    "warnings.filterwarnings('ignore') "
   ]
  },
  {
   "cell_type": "code",
   "execution_count": 2,
   "metadata": {},
   "outputs": [],
   "source": [
    "df = pd.read_csv('/datasets/users_behavior.csv')"
   ]
  },
  {
   "cell_type": "code",
   "execution_count": 3,
   "metadata": {},
   "outputs": [
    {
     "data": {
      "text/html": [
       "<div>\n",
       "<style scoped>\n",
       "    .dataframe tbody tr th:only-of-type {\n",
       "        vertical-align: middle;\n",
       "    }\n",
       "\n",
       "    .dataframe tbody tr th {\n",
       "        vertical-align: top;\n",
       "    }\n",
       "\n",
       "    .dataframe thead th {\n",
       "        text-align: right;\n",
       "    }\n",
       "</style>\n",
       "<table border=\"1\" class=\"dataframe\">\n",
       "  <thead>\n",
       "    <tr style=\"text-align: right;\">\n",
       "      <th></th>\n",
       "      <th>calls</th>\n",
       "      <th>minutes</th>\n",
       "      <th>messages</th>\n",
       "      <th>mb_used</th>\n",
       "      <th>is_ultra</th>\n",
       "    </tr>\n",
       "  </thead>\n",
       "  <tbody>\n",
       "    <tr>\n",
       "      <td>0</td>\n",
       "      <td>40.0</td>\n",
       "      <td>311.90</td>\n",
       "      <td>83.0</td>\n",
       "      <td>19915.42</td>\n",
       "      <td>0</td>\n",
       "    </tr>\n",
       "    <tr>\n",
       "      <td>1</td>\n",
       "      <td>85.0</td>\n",
       "      <td>516.75</td>\n",
       "      <td>56.0</td>\n",
       "      <td>22696.96</td>\n",
       "      <td>0</td>\n",
       "    </tr>\n",
       "    <tr>\n",
       "      <td>2</td>\n",
       "      <td>77.0</td>\n",
       "      <td>467.66</td>\n",
       "      <td>86.0</td>\n",
       "      <td>21060.45</td>\n",
       "      <td>0</td>\n",
       "    </tr>\n",
       "    <tr>\n",
       "      <td>3</td>\n",
       "      <td>106.0</td>\n",
       "      <td>745.53</td>\n",
       "      <td>81.0</td>\n",
       "      <td>8437.39</td>\n",
       "      <td>1</td>\n",
       "    </tr>\n",
       "    <tr>\n",
       "      <td>4</td>\n",
       "      <td>66.0</td>\n",
       "      <td>418.74</td>\n",
       "      <td>1.0</td>\n",
       "      <td>14502.75</td>\n",
       "      <td>0</td>\n",
       "    </tr>\n",
       "  </tbody>\n",
       "</table>\n",
       "</div>"
      ],
      "text/plain": [
       "   calls  minutes  messages   mb_used  is_ultra\n",
       "0   40.0   311.90      83.0  19915.42         0\n",
       "1   85.0   516.75      56.0  22696.96         0\n",
       "2   77.0   467.66      86.0  21060.45         0\n",
       "3  106.0   745.53      81.0   8437.39         1\n",
       "4   66.0   418.74       1.0  14502.75         0"
      ]
     },
     "execution_count": 3,
     "metadata": {},
     "output_type": "execute_result"
    }
   ],
   "source": [
    "# Посмотрим на датафрейм изнутри\n",
    "df.head()"
   ]
  },
  {
   "cell_type": "code",
   "execution_count": 4,
   "metadata": {},
   "outputs": [
    {
     "data": {
      "text/html": [
       "<div>\n",
       "<style scoped>\n",
       "    .dataframe tbody tr th:only-of-type {\n",
       "        vertical-align: middle;\n",
       "    }\n",
       "\n",
       "    .dataframe tbody tr th {\n",
       "        vertical-align: top;\n",
       "    }\n",
       "\n",
       "    .dataframe thead th {\n",
       "        text-align: right;\n",
       "    }\n",
       "</style>\n",
       "<table border=\"1\" class=\"dataframe\">\n",
       "  <thead>\n",
       "    <tr style=\"text-align: right;\">\n",
       "      <th></th>\n",
       "      <th>calls</th>\n",
       "      <th>minutes</th>\n",
       "      <th>messages</th>\n",
       "      <th>mb_used</th>\n",
       "      <th>is_ultra</th>\n",
       "    </tr>\n",
       "  </thead>\n",
       "  <tbody>\n",
       "    <tr>\n",
       "      <td>3209</td>\n",
       "      <td>122.0</td>\n",
       "      <td>910.98</td>\n",
       "      <td>20.0</td>\n",
       "      <td>35124.90</td>\n",
       "      <td>1</td>\n",
       "    </tr>\n",
       "    <tr>\n",
       "      <td>3210</td>\n",
       "      <td>25.0</td>\n",
       "      <td>190.36</td>\n",
       "      <td>0.0</td>\n",
       "      <td>3275.61</td>\n",
       "      <td>0</td>\n",
       "    </tr>\n",
       "    <tr>\n",
       "      <td>3211</td>\n",
       "      <td>97.0</td>\n",
       "      <td>634.44</td>\n",
       "      <td>70.0</td>\n",
       "      <td>13974.06</td>\n",
       "      <td>0</td>\n",
       "    </tr>\n",
       "    <tr>\n",
       "      <td>3212</td>\n",
       "      <td>64.0</td>\n",
       "      <td>462.32</td>\n",
       "      <td>90.0</td>\n",
       "      <td>31239.78</td>\n",
       "      <td>0</td>\n",
       "    </tr>\n",
       "    <tr>\n",
       "      <td>3213</td>\n",
       "      <td>80.0</td>\n",
       "      <td>566.09</td>\n",
       "      <td>6.0</td>\n",
       "      <td>29480.52</td>\n",
       "      <td>1</td>\n",
       "    </tr>\n",
       "  </tbody>\n",
       "</table>\n",
       "</div>"
      ],
      "text/plain": [
       "      calls  minutes  messages   mb_used  is_ultra\n",
       "3209  122.0   910.98      20.0  35124.90         1\n",
       "3210   25.0   190.36       0.0   3275.61         0\n",
       "3211   97.0   634.44      70.0  13974.06         0\n",
       "3212   64.0   462.32      90.0  31239.78         0\n",
       "3213   80.0   566.09       6.0  29480.52         1"
      ]
     },
     "execution_count": 4,
     "metadata": {},
     "output_type": "execute_result"
    }
   ],
   "source": [
    "df.tail()"
   ]
  },
  {
   "cell_type": "code",
   "execution_count": 5,
   "metadata": {},
   "outputs": [
    {
     "name": "stdout",
     "output_type": "stream",
     "text": [
      "<class 'pandas.core.frame.DataFrame'>\n",
      "RangeIndex: 3214 entries, 0 to 3213\n",
      "Data columns (total 5 columns):\n",
      "calls       3214 non-null float64\n",
      "minutes     3214 non-null float64\n",
      "messages    3214 non-null float64\n",
      "mb_used     3214 non-null float64\n",
      "is_ultra    3214 non-null int64\n",
      "dtypes: float64(4), int64(1)\n",
      "memory usage: 125.7 KB\n"
     ]
    }
   ],
   "source": [
    "df.info()"
   ]
  },
  {
   "cell_type": "code",
   "execution_count": 6,
   "metadata": {},
   "outputs": [
    {
     "data": {
      "text/html": [
       "<div>\n",
       "<style scoped>\n",
       "    .dataframe tbody tr th:only-of-type {\n",
       "        vertical-align: middle;\n",
       "    }\n",
       "\n",
       "    .dataframe tbody tr th {\n",
       "        vertical-align: top;\n",
       "    }\n",
       "\n",
       "    .dataframe thead th {\n",
       "        text-align: right;\n",
       "    }\n",
       "</style>\n",
       "<table border=\"1\" class=\"dataframe\">\n",
       "  <thead>\n",
       "    <tr style=\"text-align: right;\">\n",
       "      <th></th>\n",
       "      <th>calls</th>\n",
       "      <th>minutes</th>\n",
       "      <th>messages</th>\n",
       "      <th>mb_used</th>\n",
       "      <th>is_ultra</th>\n",
       "    </tr>\n",
       "  </thead>\n",
       "  <tbody>\n",
       "    <tr>\n",
       "      <td>count</td>\n",
       "      <td>3214.000000</td>\n",
       "      <td>3214.000000</td>\n",
       "      <td>3214.000000</td>\n",
       "      <td>3214.000000</td>\n",
       "      <td>3214.000000</td>\n",
       "    </tr>\n",
       "    <tr>\n",
       "      <td>mean</td>\n",
       "      <td>63.038892</td>\n",
       "      <td>438.208787</td>\n",
       "      <td>38.281269</td>\n",
       "      <td>17207.673836</td>\n",
       "      <td>0.306472</td>\n",
       "    </tr>\n",
       "    <tr>\n",
       "      <td>std</td>\n",
       "      <td>33.236368</td>\n",
       "      <td>234.569872</td>\n",
       "      <td>36.148326</td>\n",
       "      <td>7570.968246</td>\n",
       "      <td>0.461100</td>\n",
       "    </tr>\n",
       "    <tr>\n",
       "      <td>min</td>\n",
       "      <td>0.000000</td>\n",
       "      <td>0.000000</td>\n",
       "      <td>0.000000</td>\n",
       "      <td>0.000000</td>\n",
       "      <td>0.000000</td>\n",
       "    </tr>\n",
       "    <tr>\n",
       "      <td>25%</td>\n",
       "      <td>40.000000</td>\n",
       "      <td>274.575000</td>\n",
       "      <td>9.000000</td>\n",
       "      <td>12491.902500</td>\n",
       "      <td>0.000000</td>\n",
       "    </tr>\n",
       "    <tr>\n",
       "      <td>50%</td>\n",
       "      <td>62.000000</td>\n",
       "      <td>430.600000</td>\n",
       "      <td>30.000000</td>\n",
       "      <td>16943.235000</td>\n",
       "      <td>0.000000</td>\n",
       "    </tr>\n",
       "    <tr>\n",
       "      <td>75%</td>\n",
       "      <td>82.000000</td>\n",
       "      <td>571.927500</td>\n",
       "      <td>57.000000</td>\n",
       "      <td>21424.700000</td>\n",
       "      <td>1.000000</td>\n",
       "    </tr>\n",
       "    <tr>\n",
       "      <td>max</td>\n",
       "      <td>244.000000</td>\n",
       "      <td>1632.060000</td>\n",
       "      <td>224.000000</td>\n",
       "      <td>49745.730000</td>\n",
       "      <td>1.000000</td>\n",
       "    </tr>\n",
       "  </tbody>\n",
       "</table>\n",
       "</div>"
      ],
      "text/plain": [
       "             calls      minutes     messages       mb_used     is_ultra\n",
       "count  3214.000000  3214.000000  3214.000000   3214.000000  3214.000000\n",
       "mean     63.038892   438.208787    38.281269  17207.673836     0.306472\n",
       "std      33.236368   234.569872    36.148326   7570.968246     0.461100\n",
       "min       0.000000     0.000000     0.000000      0.000000     0.000000\n",
       "25%      40.000000   274.575000     9.000000  12491.902500     0.000000\n",
       "50%      62.000000   430.600000    30.000000  16943.235000     0.000000\n",
       "75%      82.000000   571.927500    57.000000  21424.700000     1.000000\n",
       "max     244.000000  1632.060000   224.000000  49745.730000     1.000000"
      ]
     },
     "execution_count": 6,
     "metadata": {},
     "output_type": "execute_result"
    }
   ],
   "source": [
    "df.describe()"
   ]
  },
  {
   "cell_type": "markdown",
   "metadata": {},
   "source": [
    "### Вывод"
   ]
  },
  {
   "cell_type": "markdown",
   "metadata": {},
   "source": [
    "Задача была упрощена тем, что предобработка не нужна: нужно изучить данные. Таблица состоит из данных, которые характеризуют поведение каждого пользователя (всего их 3214) в конкретный месяц. Тип данных приведен к нужным типам, однако возможно использование целочисленного типа (int) для столбцов с количество сообщений и звонков. "
   ]
  },
  {
   "cell_type": "markdown",
   "metadata": {},
   "source": [
    "## 2. Разбиение данных на тренировочную, валидационную и тестовую выборки"
   ]
  },
  {
   "cell_type": "code",
   "execution_count": 7,
   "metadata": {},
   "outputs": [
    {
     "data": {
      "text/plain": [
       "(1928, 643, 643)"
      ]
     },
     "execution_count": 7,
     "metadata": {},
     "output_type": "execute_result"
    }
   ],
   "source": [
    "# Разобьем исходные данные на обучающую (df_train), валидационную (df_val) и тестовую выборки (df_test) в соотношении 3:1:1\n",
    "df_train, df_test = train_test_split(df, test_size=0.2, random_state=12345)\n",
    "df_train, df_val = train_test_split(df_train, test_size=0.25, random_state=12345)\n",
    "# Проверим получилось ли разделить данные в необходимом соотношении\n",
    "df_train.shape[0], df_test.shape[0], df_val.shape[0]"
   ]
  },
  {
   "cell_type": "code",
   "execution_count": 8,
   "metadata": {},
   "outputs": [
    {
     "data": {
      "text/plain": [
       "((643, 4), (643, 4))"
      ]
     },
     "execution_count": 8,
     "metadata": {},
     "output_type": "execute_result"
    }
   ],
   "source": [
    "features_train = df_train.drop(['is_ultra'], axis=1)\n",
    "target_train = df_train['is_ultra']\n",
    "features_val = df_val.drop(['is_ultra'], axis=1)\n",
    "target_val = df_val['is_ultra']\n",
    "features_test = df_test.drop(['is_ultra'], axis=1)\n",
    "target_test = df_test['is_ultra']\n",
    "features_test.shape, features_val.shape,"
   ]
  },
  {
   "cell_type": "code",
   "execution_count": 9,
   "metadata": {},
   "outputs": [],
   "source": [
    "features = df.drop(['is_ultra'], axis=1)\n",
    "target = df['is_ultra']"
   ]
  },
  {
   "cell_type": "markdown",
   "metadata": {},
   "source": [
    "## 3. Исследование моделей"
   ]
  },
  {
   "cell_type": "markdown",
   "metadata": {},
   "source": [
    "Исследование качества разных моделей с разными гиперпараметрами."
   ]
  },
  {
   "cell_type": "markdown",
   "metadata": {},
   "source": [
    "Первый тип модели - решающее дерево."
   ]
  },
  {
   "cell_type": "code",
   "execution_count": 10,
   "metadata": {},
   "outputs": [
    {
     "name": "stdout",
     "output_type": "stream",
     "text": [
      "Accuracy для Decision Tree на тренировочной выборке: 0.8174273858921162\n",
      "Accuracy для Decision Tree на валидационной выборке: 0.7713841368584758\n"
     ]
    }
   ],
   "source": [
    "# Проверим влияние различных гиперпараметров на качество модели решающего дерева\n",
    "dt = DecisionTreeClassifier(random_state = 12345)\n",
    "parameters_dt = {'criterion': ['gini', 'entropy'], # критерий\n",
    "                 'max_depth':range(1, 50), # глубина дерева\n",
    "                 'min_samples_split': [0.1, 0.5, 0.7, 1.0], # минимальное количество выборок для разделения\n",
    "                 'min_samples_leaf': range(1, 20), # минимальное количесто объектов в листе\n",
    "                 'max_features':['auto', 'log2', 'sqrt', None]} # максимальное количество фич\n",
    "search_dt = RandomizedSearchCV(dt, parameters_dt, cv=5, n_jobs = -1)\n",
    "search_dt.fit(features_train, target_train)\n",
    "best_dt = search_dt.best_estimator_\n",
    "predict_dt = best_dt.predict(features_val)\n",
    "print('Accuracy для Decision Tree на тренировочной выборке:', best_dt.score(features_train, target_train))\n",
    "print('Accuracy для Decision Tree на валидационной выборке:', best_dt.score(features_val, target_val))"
   ]
  },
  {
   "cell_type": "markdown",
   "metadata": {},
   "source": [
    "Вторая модель - случайный лес.\n"
   ]
  },
  {
   "cell_type": "code",
   "execution_count": 11,
   "metadata": {},
   "outputs": [
    {
     "name": "stdout",
     "output_type": "stream",
     "text": [
      "Accuracy для Random Forest на тренировочной выборке: 0.8184647302904564\n",
      "Accuracy для Random Forest на валидационной выборке: 0.776049766718507\n"
     ]
    }
   ],
   "source": [
    "# Проверим влияние различных гиперпараметров на качество модели случайного леса\n",
    "rf = RandomForestClassifier(random_state = 12345)\n",
    "parameters_rf = {'n_estimators': range(1, 200, 10), # количество деревьев \n",
    "                 'criterion': ['gini', 'entropy'], # критерий\n",
    "                 'max_depth':range(1, 50, 1), # глубина дерева\n",
    "                 'min_samples_split': [0.1, 0.5, 0.7, 1.0], # минимальное количество выборок для разделения\n",
    "                 'min_samples_leaf': range(1, 10), # минимальное количесто объектов в листе\n",
    "                 'max_features':['auto', 'log2', 'sqrt', None]} # максимальное количество фич\n",
    "search_rf = RandomizedSearchCV(rf, parameters_rf, cv=5, n_jobs = -1)\n",
    "search_rf.fit(features_train, target_train)\n",
    "best_rf = search_rf.best_estimator_\n",
    "predict_dt = best_rf.predict(features_val)\n",
    "print('Accuracy для Random Forest на тренировочной выборке:', best_rf.score(features_train, target_train))\n",
    "print('Accuracy для Random Forest на валидационной выборке:', best_rf.score(features_val, target_val))"
   ]
  },
  {
   "cell_type": "markdown",
   "metadata": {},
   "source": [
    "Третья модель - логистическая регрессия."
   ]
  },
  {
   "cell_type": "code",
   "execution_count": 12,
   "metadata": {},
   "outputs": [
    {
     "name": "stdout",
     "output_type": "stream",
     "text": [
      "Accuracy для Logistic Regression (регуляризация l1) на тренировочной выборке : 0.7515560165975104\n",
      "Accuracy для Logistic Regression (регуляризация l1) на валидационной выборке: 0.7278382581648523\n",
      "\n",
      "Accuracy для Logistic Regression (регуляризация l2) на тренировочной выборке: 0.7510373443983402\n",
      "Accuracy для Logistic Regression (регуляризация l2) на валидационной выборке: 0.7262830482115086\n"
     ]
    }
   ],
   "source": [
    "# Проверим влияние \"параметров\" на качество модели логистической регрессии\n",
    "lr = LogisticRegression(random_state = 12345)\n",
    "parameters_lr_1 = {'C': [0.1, 0.2, 0.3, 0.4, 0.5, 0.6, 0.7, 0.8, 0.9, 1.0, 5, 10, 20, 50], # обратная сила регуляризации\n",
    "                 'penalty':['l1'], # Регуляризация \n",
    "                 'solver':['liblinear', 'saga']} # функция потерь\n",
    "parameters_lr_2 = {'C': [0.1, 0.2, 0.3, 0.4, 0.5, 0.6, 0.7, 0.8, 0.9, 1.0, 5, 10, 20, 50], # обратная сила регуляризации\n",
    "                 'penalty':['l2'], # Регуляризация \n",
    "                 'solver':['lbfgs', 'saga', 'sag', 'newton-cg']} # функция потерь\n",
    "\n",
    "search_lr_1 = RandomizedSearchCV(lr, parameters_lr_1, cv=5, n_jobs = -1)\n",
    "search_lr_1.fit(features_train, target_train)\n",
    "best_lr_1 = search_lr_1.best_estimator_\n",
    "predict_lr_1 = best_lr_1.predict(features_val)\n",
    "\n",
    "search_lr_2 = RandomizedSearchCV(lr, parameters_lr_2, cv=5, n_jobs = -1)\n",
    "search_lr_2.fit(features_train, target_train)\n",
    "best_lr_2 = search_lr_2.best_estimator_\n",
    "predict_lr_2 = best_lr_2.predict(features_val)\n",
    "\n",
    "print('Accuracy для Logistic Regression (регуляризация l1) на тренировочной выборке :', best_lr_1.score(features_train, target_train))\n",
    "print('Accuracy для Logistic Regression (регуляризация l1) на валидационной выборке:', best_lr_1.score(features_val, target_val))\n",
    "print()\n",
    "print('Accuracy для Logistic Regression (регуляризация l2) на тренировочной выборке:', best_lr_2.score(features_train, target_train))\n",
    "print('Accuracy для Logistic Regression (регуляризация l2) на валидационной выборке:', best_lr_2.score(features_val, target_val))"
   ]
  },
  {
   "cell_type": "code",
   "execution_count": 13,
   "metadata": {},
   "outputs": [
    {
     "data": {
      "text/html": [
       "<div>\n",
       "<style scoped>\n",
       "    .dataframe tbody tr th:only-of-type {\n",
       "        vertical-align: middle;\n",
       "    }\n",
       "\n",
       "    .dataframe tbody tr th {\n",
       "        vertical-align: top;\n",
       "    }\n",
       "\n",
       "    .dataframe thead th {\n",
       "        text-align: right;\n",
       "    }\n",
       "</style>\n",
       "<table border=\"1\" class=\"dataframe\">\n",
       "  <thead>\n",
       "    <tr style=\"text-align: right;\">\n",
       "      <th></th>\n",
       "      <th>model</th>\n",
       "      <th>accuracy</th>\n",
       "    </tr>\n",
       "  </thead>\n",
       "  <tbody>\n",
       "    <tr>\n",
       "      <td>0</td>\n",
       "      <td>decision tree</td>\n",
       "      <td>0.771384</td>\n",
       "    </tr>\n",
       "    <tr>\n",
       "      <td>1</td>\n",
       "      <td>random forest</td>\n",
       "      <td>0.776050</td>\n",
       "    </tr>\n",
       "    <tr>\n",
       "      <td>2</td>\n",
       "      <td>logistic regression (l1)</td>\n",
       "      <td>0.727838</td>\n",
       "    </tr>\n",
       "    <tr>\n",
       "      <td>3</td>\n",
       "      <td>logistic regression (l2)</td>\n",
       "      <td>0.726283</td>\n",
       "    </tr>\n",
       "  </tbody>\n",
       "</table>\n",
       "</div>"
      ],
      "text/plain": [
       "                      model  accuracy\n",
       "0             decision tree  0.771384\n",
       "1             random forest  0.776050\n",
       "2  logistic regression (l1)  0.727838\n",
       "3  logistic regression (l2)  0.726283"
      ]
     },
     "execution_count": 13,
     "metadata": {},
     "output_type": "execute_result"
    }
   ],
   "source": [
    "data_for_score_val = [['decision tree', best_dt.score(features_val, target_val)],\n",
    "                      ['random forest', best_rf.score(features_val, target_val)],\n",
    "                      ['logistic regression (l1)', best_lr_1.score(features_val, target_val)], \n",
    "                      ['logistic regression (l2)', best_lr_2.score(features_val, target_val)]]\n",
    "columns_for_score_val = ['model', 'accuracy']\n",
    "table_for_score_val = pd.DataFrame(data = data_for_score_val, columns = columns_for_score_val)\n",
    "table_for_score_val"
   ]
  },
  {
   "cell_type": "markdown",
   "metadata": {},
   "source": [
    "### Вывод"
   ]
  },
  {
   "cell_type": "markdown",
   "metadata": {},
   "source": [
    "   <ul>Были исследованы три модели: как видно, наибольшей точностью модели обладает модель \"случайного леса\", что вполне логично (много деревьев по сравнению с одним решающим деревом); однако \"решающее дерево\" имеет близкое значение по точности к \"случайному лесу\", и даже \"обгоняет\" логистическую регрессию - возможно, модель одного дерева переобучена, либо параметры для решающего дерева были подобраны намного лучше, чем для остальных моделей. </ul>\n",
    "   <ul> Если для работы необходимо не только качество, но и высокоя скорость работы и обучения, то предпочтительнее всего использовать модель решающего дерева - качество выше, чем у логистической регрессии, и близкое к \"случайному лесу\". </ul>"
   ]
  },
  {
   "cell_type": "markdown",
   "metadata": {},
   "source": [
    "## 4.Проверка качества модели на тестовой выборке."
   ]
  },
  {
   "cell_type": "code",
   "execution_count": 14,
   "metadata": {},
   "outputs": [
    {
     "name": "stdout",
     "output_type": "stream",
     "text": [
      "Accuracy для Random Forest на тестовой выборке: 0.7947122861586314\n"
     ]
    }
   ],
   "source": [
    "# Так как наибольшей точностью все-таки обладает модель случайного леса, то проанализируем её на тестовой выборке\n",
    "accuracy_rf_test = best_rf.score(features_test, target_test)\n",
    "print('Accuracy для Random Forest на тестовой выборке:', accuracy_rf_test)"
   ]
  },
  {
   "cell_type": "markdown",
   "metadata": {},
   "source": [
    "### Вывод"
   ]
  },
  {
   "cell_type": "markdown",
   "metadata": {},
   "source": [
    "Качество модели случайного леса на тестовой выборке оказалось даже выше, чем необходимо "
   ]
  },
  {
   "cell_type": "markdown",
   "metadata": {},
   "source": [
    "## 5. Проверка модели на адекватность"
   ]
  },
  {
   "cell_type": "code",
   "execution_count": 15,
   "metadata": {},
   "outputs": [
    {
     "name": "stdout",
     "output_type": "stream",
     "text": [
      "Соотношение двух классов (тарифов \"ультра\" и \"смарт\"):  0.693528313627878\n"
     ]
    }
   ],
   "source": [
    "# Посмотрим на соотношение классов в датасете \n",
    "df_smart = df[df['is_ultra'] == 0]\n",
    "df_ultra = df[df['is_ultra'] == 1]\n",
    "df_smart_len = df_smart.shape[0] \n",
    "df_ultra_len = df_ultra.shape[0]\n",
    "ratio = df_smart_len / (df_smart_len + df_ultra_len)\n",
    "print('Соотношение двух классов (тарифов \"ультра\" и \"смарт\"): ', ratio)\n",
    "# Считается, что модель считается адекватной, если её точность выше, чем доля бОльшего класса в выборке,\n",
    "# поэтому можно считать, что все модели, рассмотренные в шаге 4, могут быть адекватными"
   ]
  },
  {
   "cell_type": "markdown",
   "metadata": {},
   "source": [
    "Сравним настроенные модели с базовыми:"
   ]
  },
  {
   "cell_type": "markdown",
   "metadata": {},
   "source": [
    "Первая модель - решающее дерево."
   ]
  },
  {
   "cell_type": "code",
   "execution_count": 16,
   "metadata": {},
   "outputs": [
    {
     "name": "stdout",
     "output_type": "stream",
     "text": [
      "Точность модели \"решающее дерево\": 0.7309486780715396\n"
     ]
    }
   ],
   "source": [
    "dt_base = DecisionTreeClassifier(random_state=12345)\n",
    "dt_base.fit(features_train, target_train)\n",
    "accuracy_dt_base_test = dt_base.score(features_test, target_test)\n",
    "print('Точность модели \"решающее дерево\":', accuracy_dt_base_test)"
   ]
  },
  {
   "cell_type": "markdown",
   "metadata": {},
   "source": [
    "Вторая модель - случайный лес."
   ]
  },
  {
   "cell_type": "code",
   "execution_count": 17,
   "metadata": {},
   "outputs": [
    {
     "name": "stdout",
     "output_type": "stream",
     "text": [
      "Точность модели \"случайного леса\": 0.7869362363919129\n"
     ]
    }
   ],
   "source": [
    "rf_base = RandomForestClassifier(random_state=12345)\n",
    "rf_base.fit(features_train, target_train)\n",
    "accuracy_rf_base_test =  rf_base.score(features_test, target_test)\n",
    "print('Точность модели \"случайного леса\":', accuracy_rf_base_test)"
   ]
  },
  {
   "cell_type": "markdown",
   "metadata": {},
   "source": [
    "Третья модель - логистическая регрессия."
   ]
  },
  {
   "cell_type": "code",
   "execution_count": 18,
   "metadata": {},
   "outputs": [
    {
     "name": "stdout",
     "output_type": "stream",
     "text": [
      "Точность модели \"логичестической регрессии\": 0.702954898911353\n"
     ]
    }
   ],
   "source": [
    "lr_base = LogisticRegression(random_state=12345)\n",
    "lr_base.fit(features_train, target_train)\n",
    "accuracy_lr_base_test = lr_base.score(features_test, target_test)\n",
    "print('Точность модели \"логичестической регрессии\":', accuracy_lr_base_test)"
   ]
  },
  {
   "cell_type": "code",
   "execution_count": 19,
   "metadata": {},
   "outputs": [
    {
     "data": {
      "text/html": [
       "<div>\n",
       "<style scoped>\n",
       "    .dataframe tbody tr th:only-of-type {\n",
       "        vertical-align: middle;\n",
       "    }\n",
       "\n",
       "    .dataframe tbody tr th {\n",
       "        vertical-align: top;\n",
       "    }\n",
       "\n",
       "    .dataframe thead th {\n",
       "        text-align: right;\n",
       "    }\n",
       "</style>\n",
       "<table border=\"1\" class=\"dataframe\">\n",
       "  <thead>\n",
       "    <tr style=\"text-align: right;\">\n",
       "      <th></th>\n",
       "      <th>model</th>\n",
       "      <th>base</th>\n",
       "      <th>create</th>\n",
       "    </tr>\n",
       "  </thead>\n",
       "  <tbody>\n",
       "    <tr>\n",
       "      <td>0</td>\n",
       "      <td>decision_tree</td>\n",
       "      <td>0.730949</td>\n",
       "      <td>0.793157</td>\n",
       "    </tr>\n",
       "    <tr>\n",
       "      <td>1</td>\n",
       "      <td>random_forest</td>\n",
       "      <td>0.786936</td>\n",
       "      <td>0.794712</td>\n",
       "    </tr>\n",
       "    <tr>\n",
       "      <td>2</td>\n",
       "      <td>logistic_regression</td>\n",
       "      <td>0.702955</td>\n",
       "      <td>0.758942</td>\n",
       "    </tr>\n",
       "  </tbody>\n",
       "</table>\n",
       "</div>"
      ],
      "text/plain": [
       "                 model      base    create\n",
       "0        decision_tree  0.730949  0.793157\n",
       "1        random_forest  0.786936  0.794712\n",
       "2  logistic_regression  0.702955  0.758942"
      ]
     },
     "execution_count": 19,
     "metadata": {},
     "output_type": "execute_result"
    }
   ],
   "source": [
    "data_base_create_ml = [['decision_tree', accuracy_dt_base_test, best_dt.score(features_test, target_test)], \n",
    "                    ['random_forest', accuracy_rf_base_test, best_rf.score(features_test, target_test)], \n",
    "                    ['logistic_regression', accuracy_lr_base_test, best_lr_1.score(features_test, target_test)]]\n",
    "columns_base_create_ml = ['model', 'base','create']\n",
    "table_base_create_ml = pd.DataFrame(data = data_base_create_ml, columns = columns_base_create_ml)\n",
    "table_base_create_ml"
   ]
  },
  {
   "cell_type": "markdown",
   "metadata": {},
   "source": [
    "### Вывод"
   ]
  },
  {
   "cell_type": "markdown",
   "metadata": {},
   "source": [
    "<ul> Были проанализированы модели решающего дерева, случайного леса и логистической регрессии на адекватность: получено, что все модели адекватны и имеют место для использования в данной задаче. </ul>\n",
    "<ul>Примечательно то, что все три модели обладают accuracy > 0.75, и, таким образом, поставленная задача была выполнена. В дальнейшем нужно принять решение о выборе быстродействия модели - нужна ли в этой задачи максимальная точность, но при этом низкое быстродействие, или же наоборот - можно пренебречь несколькими процентами точности, но при этом модель будет гораздо быстрее.</ul>"
   ]
  }
 ],
 "metadata": {
  "kernelspec": {
   "display_name": "Python 3",
   "language": "python",
   "name": "python3"
  },
  "language_info": {
   "codemirror_mode": {
    "name": "ipython",
    "version": 3
   },
   "file_extension": ".py",
   "mimetype": "text/x-python",
   "name": "python",
   "nbconvert_exporter": "python",
   "pygments_lexer": "ipython3",
   "version": "3.7.6"
  }
 },
 "nbformat": 4,
 "nbformat_minor": 2
}
