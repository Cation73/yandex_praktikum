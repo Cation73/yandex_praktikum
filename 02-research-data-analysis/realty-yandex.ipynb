{
 "cells": [
  {
   "cell_type": "markdown",
   "metadata": {},
   "source": [
    "# Исследование объявлений о продаже квартир\n",
    "\n",
    "В вашем распоряжении данные сервиса Яндекс.Недвижимость — архив объявлений о продаже квартир в Санкт-Петербурге и соседних населённых пунктов за несколько лет. Нужно научиться определять рыночную стоимость объектов недвижимости. Ваша задача — установить параметры. Это позволит построить автоматизированную систему: она отследит аномалии и мошенническую деятельность. \n",
    "\n",
    "По каждой квартире на продажу доступны два вида данных. Первые вписаны пользователем, вторые — получены автоматически на основе картографических данных. Например, расстояние до центра, аэропорта, ближайшего парка и водоёма. "
   ]
  },
  {
   "cell_type": "markdown",
   "metadata": {},
   "source": [
    "### Шаг 1. Откройте файл с данными и изучите общую информацию. "
   ]
  },
  {
   "cell_type": "code",
   "execution_count": 1,
   "metadata": {},
   "outputs": [],
   "source": [
    "import pandas as pd\n",
    "import matplotlib as mpl\n",
    "import matplotlib.pyplot as plt"
   ]
  },
  {
   "cell_type": "code",
   "execution_count": 2,
   "metadata": {},
   "outputs": [],
   "source": [
    "data = pd.read_csv('/datasets/real_estate_data.csv', sep = '\\t')"
   ]
  },
  {
   "cell_type": "code",
   "execution_count": 3,
   "metadata": {},
   "outputs": [
    {
     "name": "stdout",
     "output_type": "stream",
     "text": [
      "<class 'pandas.core.frame.DataFrame'>\n",
      "RangeIndex: 23699 entries, 0 to 23698\n",
      "Data columns (total 22 columns):\n",
      "total_images            23699 non-null int64\n",
      "last_price              23699 non-null float64\n",
      "total_area              23699 non-null float64\n",
      "first_day_exposition    23699 non-null object\n",
      "rooms                   23699 non-null int64\n",
      "ceiling_height          14504 non-null float64\n",
      "floors_total            23613 non-null float64\n",
      "living_area             21796 non-null float64\n",
      "floor                   23699 non-null int64\n",
      "is_apartment            2775 non-null object\n",
      "studio                  23699 non-null bool\n",
      "open_plan               23699 non-null bool\n",
      "kitchen_area            21421 non-null float64\n",
      "balcony                 12180 non-null float64\n",
      "locality_name           23650 non-null object\n",
      "airports_nearest        18157 non-null float64\n",
      "cityCenters_nearest     18180 non-null float64\n",
      "parks_around3000        18181 non-null float64\n",
      "parks_nearest           8079 non-null float64\n",
      "ponds_around3000        18181 non-null float64\n",
      "ponds_nearest           9110 non-null float64\n",
      "days_exposition         20518 non-null float64\n",
      "dtypes: bool(2), float64(14), int64(3), object(3)\n",
      "memory usage: 3.7+ MB\n"
     ]
    }
   ],
   "source": [
    "data.info()"
   ]
  },
  {
   "cell_type": "code",
   "execution_count": 4,
   "metadata": {},
   "outputs": [
    {
     "data": {
      "text/html": [
       "<div>\n",
       "<style scoped>\n",
       "    .dataframe tbody tr th:only-of-type {\n",
       "        vertical-align: middle;\n",
       "    }\n",
       "\n",
       "    .dataframe tbody tr th {\n",
       "        vertical-align: top;\n",
       "    }\n",
       "\n",
       "    .dataframe thead th {\n",
       "        text-align: right;\n",
       "    }\n",
       "</style>\n",
       "<table border=\"1\" class=\"dataframe\">\n",
       "  <thead>\n",
       "    <tr style=\"text-align: right;\">\n",
       "      <th></th>\n",
       "      <th>total_images</th>\n",
       "      <th>last_price</th>\n",
       "      <th>total_area</th>\n",
       "      <th>first_day_exposition</th>\n",
       "      <th>rooms</th>\n",
       "      <th>ceiling_height</th>\n",
       "      <th>floors_total</th>\n",
       "      <th>living_area</th>\n",
       "      <th>floor</th>\n",
       "      <th>is_apartment</th>\n",
       "      <th>...</th>\n",
       "      <th>kitchen_area</th>\n",
       "      <th>balcony</th>\n",
       "      <th>locality_name</th>\n",
       "      <th>airports_nearest</th>\n",
       "      <th>cityCenters_nearest</th>\n",
       "      <th>parks_around3000</th>\n",
       "      <th>parks_nearest</th>\n",
       "      <th>ponds_around3000</th>\n",
       "      <th>ponds_nearest</th>\n",
       "      <th>days_exposition</th>\n",
       "    </tr>\n",
       "  </thead>\n",
       "  <tbody>\n",
       "    <tr>\n",
       "      <td>0</td>\n",
       "      <td>20</td>\n",
       "      <td>13000000.0</td>\n",
       "      <td>108.0</td>\n",
       "      <td>2019-03-07T00:00:00</td>\n",
       "      <td>3</td>\n",
       "      <td>2.70</td>\n",
       "      <td>16.0</td>\n",
       "      <td>51.0</td>\n",
       "      <td>8</td>\n",
       "      <td>NaN</td>\n",
       "      <td>...</td>\n",
       "      <td>25.0</td>\n",
       "      <td>NaN</td>\n",
       "      <td>Санкт-Петербург</td>\n",
       "      <td>18863.0</td>\n",
       "      <td>16028.0</td>\n",
       "      <td>1.0</td>\n",
       "      <td>482.0</td>\n",
       "      <td>2.0</td>\n",
       "      <td>755.0</td>\n",
       "      <td>NaN</td>\n",
       "    </tr>\n",
       "    <tr>\n",
       "      <td>1</td>\n",
       "      <td>7</td>\n",
       "      <td>3350000.0</td>\n",
       "      <td>40.4</td>\n",
       "      <td>2018-12-04T00:00:00</td>\n",
       "      <td>1</td>\n",
       "      <td>NaN</td>\n",
       "      <td>11.0</td>\n",
       "      <td>18.6</td>\n",
       "      <td>1</td>\n",
       "      <td>NaN</td>\n",
       "      <td>...</td>\n",
       "      <td>11.0</td>\n",
       "      <td>2.0</td>\n",
       "      <td>посёлок Шушары</td>\n",
       "      <td>12817.0</td>\n",
       "      <td>18603.0</td>\n",
       "      <td>0.0</td>\n",
       "      <td>NaN</td>\n",
       "      <td>0.0</td>\n",
       "      <td>NaN</td>\n",
       "      <td>81.0</td>\n",
       "    </tr>\n",
       "    <tr>\n",
       "      <td>2</td>\n",
       "      <td>10</td>\n",
       "      <td>5196000.0</td>\n",
       "      <td>56.0</td>\n",
       "      <td>2015-08-20T00:00:00</td>\n",
       "      <td>2</td>\n",
       "      <td>NaN</td>\n",
       "      <td>5.0</td>\n",
       "      <td>34.3</td>\n",
       "      <td>4</td>\n",
       "      <td>NaN</td>\n",
       "      <td>...</td>\n",
       "      <td>8.3</td>\n",
       "      <td>0.0</td>\n",
       "      <td>Санкт-Петербург</td>\n",
       "      <td>21741.0</td>\n",
       "      <td>13933.0</td>\n",
       "      <td>1.0</td>\n",
       "      <td>90.0</td>\n",
       "      <td>2.0</td>\n",
       "      <td>574.0</td>\n",
       "      <td>558.0</td>\n",
       "    </tr>\n",
       "    <tr>\n",
       "      <td>3</td>\n",
       "      <td>0</td>\n",
       "      <td>64900000.0</td>\n",
       "      <td>159.0</td>\n",
       "      <td>2015-07-24T00:00:00</td>\n",
       "      <td>3</td>\n",
       "      <td>NaN</td>\n",
       "      <td>14.0</td>\n",
       "      <td>NaN</td>\n",
       "      <td>9</td>\n",
       "      <td>NaN</td>\n",
       "      <td>...</td>\n",
       "      <td>NaN</td>\n",
       "      <td>0.0</td>\n",
       "      <td>Санкт-Петербург</td>\n",
       "      <td>28098.0</td>\n",
       "      <td>6800.0</td>\n",
       "      <td>2.0</td>\n",
       "      <td>84.0</td>\n",
       "      <td>3.0</td>\n",
       "      <td>234.0</td>\n",
       "      <td>424.0</td>\n",
       "    </tr>\n",
       "    <tr>\n",
       "      <td>4</td>\n",
       "      <td>2</td>\n",
       "      <td>10000000.0</td>\n",
       "      <td>100.0</td>\n",
       "      <td>2018-06-19T00:00:00</td>\n",
       "      <td>2</td>\n",
       "      <td>3.03</td>\n",
       "      <td>14.0</td>\n",
       "      <td>32.0</td>\n",
       "      <td>13</td>\n",
       "      <td>NaN</td>\n",
       "      <td>...</td>\n",
       "      <td>41.0</td>\n",
       "      <td>NaN</td>\n",
       "      <td>Санкт-Петербург</td>\n",
       "      <td>31856.0</td>\n",
       "      <td>8098.0</td>\n",
       "      <td>2.0</td>\n",
       "      <td>112.0</td>\n",
       "      <td>1.0</td>\n",
       "      <td>48.0</td>\n",
       "      <td>121.0</td>\n",
       "    </tr>\n",
       "  </tbody>\n",
       "</table>\n",
       "<p>5 rows × 22 columns</p>\n",
       "</div>"
      ],
      "text/plain": [
       "   total_images  last_price  total_area first_day_exposition  rooms  \\\n",
       "0            20  13000000.0       108.0  2019-03-07T00:00:00      3   \n",
       "1             7   3350000.0        40.4  2018-12-04T00:00:00      1   \n",
       "2            10   5196000.0        56.0  2015-08-20T00:00:00      2   \n",
       "3             0  64900000.0       159.0  2015-07-24T00:00:00      3   \n",
       "4             2  10000000.0       100.0  2018-06-19T00:00:00      2   \n",
       "\n",
       "   ceiling_height  floors_total  living_area  floor is_apartment  ...  \\\n",
       "0            2.70          16.0         51.0      8          NaN  ...   \n",
       "1             NaN          11.0         18.6      1          NaN  ...   \n",
       "2             NaN           5.0         34.3      4          NaN  ...   \n",
       "3             NaN          14.0          NaN      9          NaN  ...   \n",
       "4            3.03          14.0         32.0     13          NaN  ...   \n",
       "\n",
       "   kitchen_area  balcony    locality_name  airports_nearest  \\\n",
       "0          25.0      NaN  Санкт-Петербург           18863.0   \n",
       "1          11.0      2.0   посёлок Шушары           12817.0   \n",
       "2           8.3      0.0  Санкт-Петербург           21741.0   \n",
       "3           NaN      0.0  Санкт-Петербург           28098.0   \n",
       "4          41.0      NaN  Санкт-Петербург           31856.0   \n",
       "\n",
       "  cityCenters_nearest  parks_around3000  parks_nearest  ponds_around3000  \\\n",
       "0             16028.0               1.0          482.0               2.0   \n",
       "1             18603.0               0.0            NaN               0.0   \n",
       "2             13933.0               1.0           90.0               2.0   \n",
       "3              6800.0               2.0           84.0               3.0   \n",
       "4              8098.0               2.0          112.0               1.0   \n",
       "\n",
       "   ponds_nearest  days_exposition  \n",
       "0          755.0              NaN  \n",
       "1            NaN             81.0  \n",
       "2          574.0            558.0  \n",
       "3          234.0            424.0  \n",
       "4           48.0            121.0  \n",
       "\n",
       "[5 rows x 22 columns]"
      ]
     },
     "execution_count": 4,
     "metadata": {},
     "output_type": "execute_result"
    }
   ],
   "source": [
    "data.head()"
   ]
  },
  {
   "cell_type": "markdown",
   "metadata": {},
   "source": [
    "### Вывод"
   ]
  },
  {
   "cell_type": "markdown",
   "metadata": {},
   "source": [
    "Первым, что бросается в глаза - большое количество столбцов. Достаточно много столбцов, в которых имеются пропущенные значения.\n",
    "\n",
    "Каждый столбец, в котором есть пропущенные значения, требует индивидуальный подход, так как не всегда уместно можно заменить пропуски. \n",
    "\n",
    "Говоря о типе данных, будет необходимо заменить на целочисленные значения в столбцах: last_price, floors_total, balcony, airports_nearest, cityCenters_nearest, parks_nearest, days_exposition.\n",
    "\n",
    "\n",
    "\n"
   ]
  },
  {
   "cell_type": "markdown",
   "metadata": {},
   "source": [
    "### Шаг 2. Предобработка данных"
   ]
  },
  {
   "cell_type": "code",
   "execution_count": 5,
   "metadata": {},
   "outputs": [
    {
     "data": {
      "text/plain": [
       "total_images                0\n",
       "last_price                  0\n",
       "total_area                  0\n",
       "first_day_exposition        0\n",
       "rooms                       0\n",
       "ceiling_height           9195\n",
       "floors_total               86\n",
       "living_area              1903\n",
       "floor                       0\n",
       "is_apartment            20924\n",
       "studio                      0\n",
       "open_plan                   0\n",
       "kitchen_area             2278\n",
       "balcony                 11519\n",
       "locality_name              49\n",
       "airports_nearest         5542\n",
       "cityCenters_nearest      5519\n",
       "parks_around3000         5518\n",
       "parks_nearest           15620\n",
       "ponds_around3000         5518\n",
       "ponds_nearest           14589\n",
       "days_exposition          3181\n",
       "dtype: int64"
      ]
     },
     "execution_count": 5,
     "metadata": {},
     "output_type": "execute_result"
    }
   ],
   "source": [
    "# Посмотрим количество пропусков (NaN)\n",
    "data.isnull().sum()"
   ]
  },
  {
   "cell_type": "code",
   "execution_count": 6,
   "metadata": {},
   "outputs": [
    {
     "data": {
      "text/plain": [
       "0    15277\n",
       "1     4195\n",
       "2     3659\n",
       "5      304\n",
       "4      183\n",
       "3       81\n",
       "Name: balcony, dtype: int64"
      ]
     },
     "execution_count": 6,
     "metadata": {},
     "output_type": "execute_result"
    }
   ],
   "source": [
    "# Разберем каждый столбец \n",
    "\n",
    "# столбец balcony:\n",
    "#data['balcony'].value_counts()\n",
    "# Заменим их на нули\n",
    "data['balcony'] = data['balcony'].fillna(0)\n",
    "# Поменяем тип данных, так как нам не нужны количество балконов с точностью до знаков после запятой\n",
    "data['balcony'] = data['balcony'].astype('int')\n",
    "# Проверим проведенные операции \n",
    "data['balcony'].value_counts()"
   ]
  },
  {
   "cell_type": "code",
   "execution_count": 7,
   "metadata": {},
   "outputs": [
    {
     "data": {
      "text/plain": [
       "False    23649\n",
       "True        50\n",
       "Name: is_apartment, dtype: int64"
      ]
     },
     "execution_count": 7,
     "metadata": {},
     "output_type": "execute_result"
    }
   ],
   "source": [
    "# столбец is_apartament \n",
    "#data['is_apartment'].unique()\n",
    "# данный столбец должен иметь тип данных bool (True and False), однако пропущенные значения всё портят\n",
    "# исправим это - предложим логическую замену: если человек не указал информацию в этом столбце,\n",
    "# то приходит мысль о том, что это не апартаменты, поэтому заменим значения nan на false\n",
    "data['is_apartment'] = data['is_apartment'].fillna(0)\n",
    "# Так как все ненулевые значения имеют значения либо true, либо false, поэтому сменим тип данных на bool\n",
    "# тем самым пропуски заменятьсян на false\n",
    "data['is_apartment'] = data['is_apartment'].astype('bool')\n",
    "# Проверим\n",
    "data['is_apartment'].value_counts()"
   ]
  },
  {
   "cell_type": "code",
   "execution_count": 8,
   "metadata": {},
   "outputs": [
    {
     "data": {
      "text/plain": [
       "-9999     5542\n",
       " 37434      61\n",
       " 21928      32\n",
       " 39946      30\n",
       " 44870      30\n",
       "          ... \n",
       " 41275       1\n",
       " 12990       1\n",
       " 35529       1\n",
       " 9843        1\n",
       " 0           1\n",
       "Name: airports_nearest, Length: 8276, dtype: int64"
      ]
     },
     "execution_count": 8,
     "metadata": {},
     "output_type": "execute_result"
    }
   ],
   "source": [
    "# cтолбец airports_nearest\n",
    "#data['airports_nearest'].value_counts()\n",
    "# вероятно, что пропущенные значения соответствуют тому, что до аэропорта далеко добираться, так как данные получены автоматически\n",
    "# Для сохранения данных и наглядности произведем замену на невозможное значение\n",
    "data['airports_nearest'] = data['airports_nearest'].fillna(-9999)\n",
    "# Поменяем тип данных, так как размерность каждого значения в этом столбце - метр. Точнее этой размерности нам знать не нужно.\n",
    "data['airports_nearest'] = data['airports_nearest'].astype('int')\n",
    "# Проверим замену \n",
    "data['airports_nearest'].value_counts()"
   ]
  },
  {
   "cell_type": "code",
   "execution_count": 9,
   "metadata": {},
   "outputs": [
    {
     "data": {
      "text/plain": [
       "-9999     5519\n",
       " 8460       61\n",
       " 20802      32\n",
       " 10720      30\n",
       " 8434       27\n",
       "          ... \n",
       " 3689        1\n",
       " 5738        1\n",
       " 15983       1\n",
       " 3558        1\n",
       " 32768       1\n",
       "Name: cityCenters_nearest, Length: 7643, dtype: int64"
      ]
     },
     "execution_count": 9,
     "metadata": {},
     "output_type": "execute_result"
    }
   ],
   "source": [
    "# столбец cityCenters_nearest\n",
    "#data['cityCenters_nearest'].value_counts()\n",
    "# вероятно, что пропущенные значения соответствуют тому, что до центра города далеко добираться, так как данные получены автоматически\n",
    "# Для сохранения данных и наглядности произведем замену на невозможное значение\n",
    "data['cityCenters_nearest'] = data['cityCenters_nearest'].fillna(-9999)\n",
    "# Поменяем тип данных, так как размерность каждого значения в этом столбце - метр. Точнее этой размерности нам знать не нужно.\n",
    "data['cityCenters_nearest'] = data['cityCenters_nearest'].astype('int')\n",
    "# Проверим замену \n",
    "data['cityCenters_nearest'].value_counts()"
   ]
  },
  {
   "cell_type": "code",
   "execution_count": 10,
   "metadata": {},
   "outputs": [
    {
     "data": {
      "text/plain": [
       "-9999    15620\n",
       " 441        67\n",
       " 173        41\n",
       " 392        41\n",
       " 456        40\n",
       "         ...  \n",
       " 828         1\n",
       " 1443        1\n",
       " 2768        1\n",
       " 956         1\n",
       " 2905        1\n",
       "Name: parks_nearest, Length: 996, dtype: int64"
      ]
     },
     "execution_count": 10,
     "metadata": {},
     "output_type": "execute_result"
    }
   ],
   "source": [
    "# столбец parks_nearest\n",
    "#data['parks_nearest'].value_counts()\n",
    "# вероятно, что пропущенные значения соответствуют тому, что до парка далеко добираться, так как данные получены автоматически\n",
    "# Для сохранения данных и наглядности произведем замену на невозможное значение\n",
    "data['parks_nearest'] = data['parks_nearest'].fillna(-9999)\n",
    "# Поменяем тип данных, так как размерность каждого значения в этом столбце - метр. Точнее этой размерности нам знать не нужно.\n",
    "data['parks_nearest'] = data['parks_nearest'].astype('int')\n",
    "# Проверим замену \n",
    "data['parks_nearest'].value_counts()"
   ]
  },
  {
   "cell_type": "code",
   "execution_count": 11,
   "metadata": {},
   "outputs": [
    {
     "data": {
      "text/plain": [
       "-9999    15620\n",
       " 441        67\n",
       " 173        41\n",
       " 392        41\n",
       " 456        40\n",
       "         ...  \n",
       " 828         1\n",
       " 1443        1\n",
       " 2768        1\n",
       " 956         1\n",
       " 2905        1\n",
       "Name: parks_nearest, Length: 996, dtype: int64"
      ]
     },
     "execution_count": 11,
     "metadata": {},
     "output_type": "execute_result"
    }
   ],
   "source": [
    "# столбец ponds_nearest\n",
    "#data['ponds_nearest'].value_counts()\n",
    "# вероятно, что пропущенные значения соответствуют тому, что до пруда далеко добираться, так как данные получены автоматически\n",
    "# Для сохранения данных и наглядности произведем замену на невозможное значение\n",
    "data['ponds_nearest'] = data['ponds_nearest'].fillna(-9999)\n",
    "# Поменяем тип данных, так как размерность каждого значения в этом столбце - метр. Точнее этой размерности нам знать не нужно.\n",
    "data['ponds_nearest'] = data['ponds_nearest'].astype('int')\n",
    "# Проверим замену \n",
    "data['parks_nearest'].value_counts()"
   ]
  },
  {
   "cell_type": "code",
   "execution_count": 12,
   "metadata": {},
   "outputs": [
    {
     "data": {
      "text/plain": [
       "0    15624\n",
       "1     5681\n",
       "2     1747\n",
       "3      647\n",
       "Name: parks_around3000, dtype: int64"
      ]
     },
     "execution_count": 12,
     "metadata": {},
     "output_type": "execute_result"
    }
   ],
   "source": [
    "# столбец parks_around3000\n",
    "#data['parks_around3000'].value_counts()\n",
    "# Похожая история была с балконами - если отсутствует информация, то можно предположить, что парков рядом нет,\n",
    "# то есть в численной форме равно 0\n",
    "data['parks_around3000'] = data['parks_around3000'].fillna(0)\n",
    "# Столбец включает в себя количество парков, то есть рациональнее использовать целочисленные значения \n",
    "data['parks_around3000'] = data['parks_around3000'].astype('int')\n",
    "# Проверим замену \n",
    "data['parks_around3000'].value_counts()"
   ]
  },
  {
   "cell_type": "code",
   "execution_count": 13,
   "metadata": {},
   "outputs": [
    {
     "data": {
      "text/plain": [
       "0    14589\n",
       "1     5717\n",
       "2     1892\n",
       "3     1501\n",
       "Name: ponds_around3000, dtype: int64"
      ]
     },
     "execution_count": 13,
     "metadata": {},
     "output_type": "execute_result"
    }
   ],
   "source": [
    "# столбец ponds_around3000\n",
    "# такая же история как и с парками\n",
    "#data['ponds_around3000'].value_counts()\n",
    "# Похожая история была с балконами - если отсутствует информация, то можно предположить, что прудов рядом нет,\n",
    "# то есть в численной форме равно 0\n",
    "data['ponds_around3000'] = data['ponds_around3000'].fillna(0)\n",
    "# Так как столбец включает в себя количество прудов, то логичнее использовать целочисленные значения\n",
    "data['ponds_around3000'] = data['ponds_around3000'].astype('int')\n",
    "# Проверим замену \n",
    "data['ponds_around3000'].value_counts()"
   ]
  },
  {
   "cell_type": "code",
   "execution_count": 14,
   "metadata": {},
   "outputs": [
    {
     "data": {
      "text/plain": [
       "-9999    3181\n",
       " 45       880\n",
       " 60       538\n",
       " 7        234\n",
       " 30       208\n",
       "         ... \n",
       " 807        1\n",
       " 871        1\n",
       " 951        1\n",
       " 999        1\n",
       " 1175       1\n",
       "Name: days_exposition, Length: 1142, dtype: int64"
      ]
     },
     "execution_count": 14,
     "metadata": {},
     "output_type": "execute_result"
    }
   ],
   "source": [
    "# столбец days_exposition \n",
    "#data['days_exposition'].value_counts()\n",
    "# данные значения показывают сколько объявление было размещено до момента снятия \n",
    "# одним из вариантов замены пропущенных значений является замена на ноль, что будет означать, что объявление ещё не снято\n",
    "data['days_exposition'] = data['days_exposition'].fillna(-9999)\n",
    "# Поменяем тип данных для данного столбца (нам интересно только целое количество дней)\n",
    "data['days_exposition'] = data['days_exposition'].astype('int')\n",
    "# Проверим замену\n",
    "data['days_exposition'].value_counts()"
   ]
  },
  {
   "cell_type": "code",
   "execution_count": 15,
   "metadata": {},
   "outputs": [
    {
     "data": {
      "text/plain": [
       "0.0      1903\n",
       "18.0      888\n",
       "17.0      684\n",
       "30.0      603\n",
       "16.0      488\n",
       "         ... \n",
       "160.1       1\n",
       "184.9       1\n",
       "121.6       1\n",
       "179.0       1\n",
       "62.2        1\n",
       "Name: living_area, Length: 1030, dtype: int64"
      ]
     },
     "execution_count": 15,
     "metadata": {},
     "output_type": "execute_result"
    }
   ],
   "source": [
    "# столбец living_area\n",
    "#data['living_area'].value_counts()\n",
    "# в данном столбце возможна замену пропущенных значений по следующему принципу: \n",
    "# распространенной практикой является выкуп квартир под магазины/салоны красоты и тому подобное\n",
    "# поэтому все пропущенные значения будем считать именно такими случаями и приравнивать их к нулям\n",
    "data['living_area'] = data['living_area'].fillna(0)\n",
    "# Уберем лишние знаки после запятой\n",
    "data['living_area'] = round(data['living_area'], 1)\n",
    "# Проверим замену\n",
    "data['living_area'].value_counts()"
   ]
  },
  {
   "cell_type": "code",
   "execution_count": 16,
   "metadata": {},
   "outputs": [
    {
     "data": {
      "text/plain": [
       "0.0     2278\n",
       "6.0     1302\n",
       "10.0    1280\n",
       "8.0     1118\n",
       "9.0     1109\n",
       "        ... \n",
       "25.5       1\n",
       "47.0       1\n",
       "37.6       1\n",
       "24.8       1\n",
       "62.0       1\n",
       "Name: kitchen_area, Length: 399, dtype: int64"
      ]
     },
     "execution_count": 16,
     "metadata": {},
     "output_type": "execute_result"
    }
   ],
   "source": [
    "# столбец kitchen_area\n",
    "#data['kitchen_area'].value_counts()\n",
    "# в данном случае возможен такой вариант, что пропуски = отсутствию кухни \n",
    "data['kitchen_area'] = data['kitchen_area'].fillna(0)\n",
    "# Уберем лишние знаки после запятой\n",
    "data['kitchen_area'] = round(data['kitchen_area'], 1)\n",
    "# Проверим замену\n",
    "data['kitchen_area'].value_counts()"
   ]
  },
  {
   "cell_type": "code",
   "execution_count": 17,
   "metadata": {},
   "outputs": [
    {
     "data": {
      "text/plain": [
       "(23699, 22)"
      ]
     },
     "execution_count": 17,
     "metadata": {},
     "output_type": "execute_result"
    }
   ],
   "source": [
    "# Проверим размерность таблицы\n",
    "data.shape"
   ]
  },
  {
   "cell_type": "code",
   "execution_count": 18,
   "metadata": {},
   "outputs": [
    {
     "data": {
      "text/plain": [
       "(23650, 22)"
      ]
     },
     "execution_count": 18,
     "metadata": {},
     "output_type": "execute_result"
    }
   ],
   "source": [
    "# столбец locality_name\n",
    "# в данном случае замена пропусков является проблемой, так как по тем данным, которые у нас имеются,\n",
    "# невозможно определить локацию квартиры, необходимо обратиться к поставщикам данных.\n",
    "#data['locality_name'].unique()\n",
    "# уберем значения, которые в данном ситуации невозможно заполнить\n",
    "data = data.dropna(subset = ['locality_name'])\n",
    "#data['locality_name'].unique()\n",
    "data.shape"
   ]
  },
  {
   "cell_type": "code",
   "execution_count": 19,
   "metadata": {},
   "outputs": [
    {
     "data": {
      "text/plain": [
       "(23650, 22)"
      ]
     },
     "execution_count": 19,
     "metadata": {},
     "output_type": "execute_result"
    }
   ],
   "source": [
    "# в столбце ceiling_height сложно заменить пропуски, так как высота потолка может быть сильно разниться от дома к дому\n",
    "# Замена пропусков на ноль будет неверным решением, необходимо обратиться к поставщикам данных.\n",
    "\n",
    "# В предыдущей версии проекта было удаление строк с пропусками в данном столбце\n",
    "# Однако операция удаления приводит к потери большей части данных, \n",
    "# поэтому заменим на невозможное значение высоты (например, любое отрицательное число)\n",
    "data['ceiling_height'] = data['ceiling_height'].fillna(-9999)\n",
    "\n",
    "data.shape"
   ]
  },
  {
   "cell_type": "code",
   "execution_count": 20,
   "metadata": {},
   "outputs": [
    {
     "data": {
      "text/plain": [
       "(23650, 22)"
      ]
     },
     "execution_count": 20,
     "metadata": {},
     "output_type": "execute_result"
    }
   ],
   "source": [
    "# в столбце floors_total тоже проблематично заменить пропуски,\n",
    "# так как сложно предположить сколько этажей в доме по тем данным, которые у нас есть\n",
    "# единственное, что можно сделать - вычислить возможное (минимальное) количество этажей по данным floor\n",
    "\n",
    "# заменим на несуществующее значение пропуски и поменяем тип данных на целочисленный \n",
    "data['floors_total'] = data['floors_total'].fillna(-9999)\n",
    "data['floors_total'] = data['floors_total'].astype('int')\n",
    "data.shape"
   ]
  },
  {
   "cell_type": "code",
   "execution_count": 21,
   "metadata": {},
   "outputs": [
    {
     "data": {
      "text/html": [
       "<div>\n",
       "<style scoped>\n",
       "    .dataframe tbody tr th:only-of-type {\n",
       "        vertical-align: middle;\n",
       "    }\n",
       "\n",
       "    .dataframe tbody tr th {\n",
       "        vertical-align: top;\n",
       "    }\n",
       "\n",
       "    .dataframe thead th {\n",
       "        text-align: right;\n",
       "    }\n",
       "</style>\n",
       "<table border=\"1\" class=\"dataframe\">\n",
       "  <thead>\n",
       "    <tr style=\"text-align: right;\">\n",
       "      <th></th>\n",
       "      <th>total_images</th>\n",
       "      <th>last_price</th>\n",
       "      <th>total_area</th>\n",
       "      <th>first_day_exposition</th>\n",
       "      <th>rooms</th>\n",
       "      <th>ceiling_height</th>\n",
       "      <th>floors_total</th>\n",
       "      <th>living_area</th>\n",
       "      <th>floor</th>\n",
       "      <th>is_apartment</th>\n",
       "      <th>...</th>\n",
       "      <th>kitchen_area</th>\n",
       "      <th>balcony</th>\n",
       "      <th>locality_name</th>\n",
       "      <th>airports_nearest</th>\n",
       "      <th>cityCenters_nearest</th>\n",
       "      <th>parks_around3000</th>\n",
       "      <th>parks_nearest</th>\n",
       "      <th>ponds_around3000</th>\n",
       "      <th>ponds_nearest</th>\n",
       "      <th>days_exposition</th>\n",
       "    </tr>\n",
       "  </thead>\n",
       "  <tbody>\n",
       "    <tr>\n",
       "      <td>0</td>\n",
       "      <td>20</td>\n",
       "      <td>13000000</td>\n",
       "      <td>108.0</td>\n",
       "      <td>2019-03-07T00:00:00</td>\n",
       "      <td>3</td>\n",
       "      <td>2.70</td>\n",
       "      <td>16</td>\n",
       "      <td>51.0</td>\n",
       "      <td>8</td>\n",
       "      <td>False</td>\n",
       "      <td>...</td>\n",
       "      <td>25.0</td>\n",
       "      <td>0</td>\n",
       "      <td>Санкт-Петербург</td>\n",
       "      <td>18863</td>\n",
       "      <td>16028</td>\n",
       "      <td>1</td>\n",
       "      <td>482</td>\n",
       "      <td>2</td>\n",
       "      <td>755</td>\n",
       "      <td>-9999</td>\n",
       "    </tr>\n",
       "    <tr>\n",
       "      <td>1</td>\n",
       "      <td>7</td>\n",
       "      <td>3350000</td>\n",
       "      <td>40.4</td>\n",
       "      <td>2018-12-04T00:00:00</td>\n",
       "      <td>1</td>\n",
       "      <td>-9999.00</td>\n",
       "      <td>11</td>\n",
       "      <td>18.6</td>\n",
       "      <td>1</td>\n",
       "      <td>False</td>\n",
       "      <td>...</td>\n",
       "      <td>11.0</td>\n",
       "      <td>2</td>\n",
       "      <td>посёлок Шушары</td>\n",
       "      <td>12817</td>\n",
       "      <td>18603</td>\n",
       "      <td>0</td>\n",
       "      <td>-9999</td>\n",
       "      <td>0</td>\n",
       "      <td>-9999</td>\n",
       "      <td>81</td>\n",
       "    </tr>\n",
       "    <tr>\n",
       "      <td>2</td>\n",
       "      <td>10</td>\n",
       "      <td>5196000</td>\n",
       "      <td>56.0</td>\n",
       "      <td>2015-08-20T00:00:00</td>\n",
       "      <td>2</td>\n",
       "      <td>-9999.00</td>\n",
       "      <td>5</td>\n",
       "      <td>34.3</td>\n",
       "      <td>4</td>\n",
       "      <td>False</td>\n",
       "      <td>...</td>\n",
       "      <td>8.3</td>\n",
       "      <td>0</td>\n",
       "      <td>Санкт-Петербург</td>\n",
       "      <td>21741</td>\n",
       "      <td>13933</td>\n",
       "      <td>1</td>\n",
       "      <td>90</td>\n",
       "      <td>2</td>\n",
       "      <td>574</td>\n",
       "      <td>558</td>\n",
       "    </tr>\n",
       "    <tr>\n",
       "      <td>3</td>\n",
       "      <td>0</td>\n",
       "      <td>64900000</td>\n",
       "      <td>159.0</td>\n",
       "      <td>2015-07-24T00:00:00</td>\n",
       "      <td>3</td>\n",
       "      <td>-9999.00</td>\n",
       "      <td>14</td>\n",
       "      <td>0.0</td>\n",
       "      <td>9</td>\n",
       "      <td>False</td>\n",
       "      <td>...</td>\n",
       "      <td>0.0</td>\n",
       "      <td>0</td>\n",
       "      <td>Санкт-Петербург</td>\n",
       "      <td>28098</td>\n",
       "      <td>6800</td>\n",
       "      <td>2</td>\n",
       "      <td>84</td>\n",
       "      <td>3</td>\n",
       "      <td>234</td>\n",
       "      <td>424</td>\n",
       "    </tr>\n",
       "    <tr>\n",
       "      <td>4</td>\n",
       "      <td>2</td>\n",
       "      <td>10000000</td>\n",
       "      <td>100.0</td>\n",
       "      <td>2018-06-19T00:00:00</td>\n",
       "      <td>2</td>\n",
       "      <td>3.03</td>\n",
       "      <td>14</td>\n",
       "      <td>32.0</td>\n",
       "      <td>13</td>\n",
       "      <td>False</td>\n",
       "      <td>...</td>\n",
       "      <td>41.0</td>\n",
       "      <td>0</td>\n",
       "      <td>Санкт-Петербург</td>\n",
       "      <td>31856</td>\n",
       "      <td>8098</td>\n",
       "      <td>2</td>\n",
       "      <td>112</td>\n",
       "      <td>1</td>\n",
       "      <td>48</td>\n",
       "      <td>121</td>\n",
       "    </tr>\n",
       "  </tbody>\n",
       "</table>\n",
       "<p>5 rows × 22 columns</p>\n",
       "</div>"
      ],
      "text/plain": [
       "   total_images  last_price  total_area first_day_exposition  rooms  \\\n",
       "0            20    13000000       108.0  2019-03-07T00:00:00      3   \n",
       "1             7     3350000        40.4  2018-12-04T00:00:00      1   \n",
       "2            10     5196000        56.0  2015-08-20T00:00:00      2   \n",
       "3             0    64900000       159.0  2015-07-24T00:00:00      3   \n",
       "4             2    10000000       100.0  2018-06-19T00:00:00      2   \n",
       "\n",
       "   ceiling_height  floors_total  living_area  floor  is_apartment  ...  \\\n",
       "0            2.70            16         51.0      8         False  ...   \n",
       "1        -9999.00            11         18.6      1         False  ...   \n",
       "2        -9999.00             5         34.3      4         False  ...   \n",
       "3        -9999.00            14          0.0      9         False  ...   \n",
       "4            3.03            14         32.0     13         False  ...   \n",
       "\n",
       "   kitchen_area  balcony    locality_name  airports_nearest  \\\n",
       "0          25.0        0  Санкт-Петербург             18863   \n",
       "1          11.0        2   посёлок Шушары             12817   \n",
       "2           8.3        0  Санкт-Петербург             21741   \n",
       "3           0.0        0  Санкт-Петербург             28098   \n",
       "4          41.0        0  Санкт-Петербург             31856   \n",
       "\n",
       "  cityCenters_nearest  parks_around3000  parks_nearest  ponds_around3000  \\\n",
       "0               16028                 1            482                 2   \n",
       "1               18603                 0          -9999                 0   \n",
       "2               13933                 1             90                 2   \n",
       "3                6800                 2             84                 3   \n",
       "4                8098                 2            112                 1   \n",
       "\n",
       "   ponds_nearest  days_exposition  \n",
       "0            755            -9999  \n",
       "1          -9999               81  \n",
       "2            574              558  \n",
       "3            234              424  \n",
       "4             48              121  \n",
       "\n",
       "[5 rows x 22 columns]"
      ]
     },
     "execution_count": 21,
     "metadata": {},
     "output_type": "execute_result"
    }
   ],
   "source": [
    "# Поменяем тип данных в столбце last_price, при ценах на недвижимость нас интересуют только целочисленные значения \n",
    "data['last_price'] = data['last_price'].astype('int')\n",
    "data.head()"
   ]
  },
  {
   "cell_type": "code",
   "execution_count": 22,
   "metadata": {},
   "outputs": [
    {
     "data": {
      "text/plain": [
       "total_images            0\n",
       "last_price              0\n",
       "total_area              0\n",
       "first_day_exposition    0\n",
       "rooms                   0\n",
       "ceiling_height          0\n",
       "floors_total            0\n",
       "living_area             0\n",
       "floor                   0\n",
       "is_apartment            0\n",
       "studio                  0\n",
       "open_plan               0\n",
       "kitchen_area            0\n",
       "balcony                 0\n",
       "locality_name           0\n",
       "airports_nearest        0\n",
       "cityCenters_nearest     0\n",
       "parks_around3000        0\n",
       "parks_nearest           0\n",
       "ponds_around3000        0\n",
       "ponds_nearest           0\n",
       "days_exposition         0\n",
       "dtype: int64"
      ]
     },
     "execution_count": 22,
     "metadata": {},
     "output_type": "execute_result"
    }
   ],
   "source": [
    "# Проверим количество пропусков\n",
    "data.isnull().sum()"
   ]
  },
  {
   "cell_type": "code",
   "execution_count": 23,
   "metadata": {},
   "outputs": [
    {
     "name": "stdout",
     "output_type": "stream",
     "text": [
      "<class 'pandas.core.frame.DataFrame'>\n",
      "Int64Index: 23650 entries, 0 to 23698\n",
      "Data columns (total 22 columns):\n",
      "total_images            23650 non-null int64\n",
      "last_price              23650 non-null int64\n",
      "total_area              23650 non-null float64\n",
      "first_day_exposition    23650 non-null object\n",
      "rooms                   23650 non-null int64\n",
      "ceiling_height          23650 non-null float64\n",
      "floors_total            23650 non-null int64\n",
      "living_area             23650 non-null float64\n",
      "floor                   23650 non-null int64\n",
      "is_apartment            23650 non-null bool\n",
      "studio                  23650 non-null bool\n",
      "open_plan               23650 non-null bool\n",
      "kitchen_area            23650 non-null float64\n",
      "balcony                 23650 non-null int64\n",
      "locality_name           23650 non-null object\n",
      "airports_nearest        23650 non-null int64\n",
      "cityCenters_nearest     23650 non-null int64\n",
      "parks_around3000        23650 non-null int64\n",
      "parks_nearest           23650 non-null int64\n",
      "ponds_around3000        23650 non-null int64\n",
      "ponds_nearest           23650 non-null int64\n",
      "days_exposition         23650 non-null int64\n",
      "dtypes: bool(3), float64(4), int64(13), object(2)\n",
      "memory usage: 3.7+ MB\n"
     ]
    }
   ],
   "source": [
    "data.info()"
   ]
  },
  {
   "cell_type": "markdown",
   "metadata": {},
   "source": [
    "**Вывод**\n",
    "<ul>\n",
    "    Большинство пропусков удалось обработать в этом шаге, однако осталось 3 столбца (locality_name, ceiling_height, floors_total), в которых заполнить пропуски невозможно из-за недостаточности данных. Необходимо обратиться к поставщикам данных.\n",
    "</ul>\n",
    "    "
   ]
  },
  {
   "cell_type": "markdown",
   "metadata": {},
   "source": [
    "### Шаг 3. Посчитайте и добавьте в таблицу"
   ]
  },
  {
   "cell_type": "code",
   "execution_count": 24,
   "metadata": {},
   "outputs": [
    {
     "data": {
      "text/html": [
       "<div>\n",
       "<style scoped>\n",
       "    .dataframe tbody tr th:only-of-type {\n",
       "        vertical-align: middle;\n",
       "    }\n",
       "\n",
       "    .dataframe tbody tr th {\n",
       "        vertical-align: top;\n",
       "    }\n",
       "\n",
       "    .dataframe thead th {\n",
       "        text-align: right;\n",
       "    }\n",
       "</style>\n",
       "<table border=\"1\" class=\"dataframe\">\n",
       "  <thead>\n",
       "    <tr style=\"text-align: right;\">\n",
       "      <th></th>\n",
       "      <th>total_images</th>\n",
       "      <th>last_price</th>\n",
       "      <th>total_area</th>\n",
       "      <th>first_day_exposition</th>\n",
       "      <th>rooms</th>\n",
       "      <th>ceiling_height</th>\n",
       "      <th>floors_total</th>\n",
       "      <th>living_area</th>\n",
       "      <th>floor</th>\n",
       "      <th>is_apartment</th>\n",
       "      <th>...</th>\n",
       "      <th>balcony</th>\n",
       "      <th>locality_name</th>\n",
       "      <th>airports_nearest</th>\n",
       "      <th>cityCenters_nearest</th>\n",
       "      <th>parks_around3000</th>\n",
       "      <th>parks_nearest</th>\n",
       "      <th>ponds_around3000</th>\n",
       "      <th>ponds_nearest</th>\n",
       "      <th>days_exposition</th>\n",
       "      <th>price_square_meter</th>\n",
       "    </tr>\n",
       "  </thead>\n",
       "  <tbody>\n",
       "    <tr>\n",
       "      <td>0</td>\n",
       "      <td>20</td>\n",
       "      <td>13000000</td>\n",
       "      <td>108.0</td>\n",
       "      <td>2019-03-07T00:00:00</td>\n",
       "      <td>3</td>\n",
       "      <td>2.70</td>\n",
       "      <td>16</td>\n",
       "      <td>51.0</td>\n",
       "      <td>8</td>\n",
       "      <td>False</td>\n",
       "      <td>...</td>\n",
       "      <td>0</td>\n",
       "      <td>Санкт-Петербург</td>\n",
       "      <td>18863</td>\n",
       "      <td>16028</td>\n",
       "      <td>1</td>\n",
       "      <td>482</td>\n",
       "      <td>2</td>\n",
       "      <td>755</td>\n",
       "      <td>-9999</td>\n",
       "      <td>120370</td>\n",
       "    </tr>\n",
       "    <tr>\n",
       "      <td>1</td>\n",
       "      <td>7</td>\n",
       "      <td>3350000</td>\n",
       "      <td>40.4</td>\n",
       "      <td>2018-12-04T00:00:00</td>\n",
       "      <td>1</td>\n",
       "      <td>-9999.00</td>\n",
       "      <td>11</td>\n",
       "      <td>18.6</td>\n",
       "      <td>1</td>\n",
       "      <td>False</td>\n",
       "      <td>...</td>\n",
       "      <td>2</td>\n",
       "      <td>посёлок Шушары</td>\n",
       "      <td>12817</td>\n",
       "      <td>18603</td>\n",
       "      <td>0</td>\n",
       "      <td>-9999</td>\n",
       "      <td>0</td>\n",
       "      <td>-9999</td>\n",
       "      <td>81</td>\n",
       "      <td>82920</td>\n",
       "    </tr>\n",
       "    <tr>\n",
       "      <td>2</td>\n",
       "      <td>10</td>\n",
       "      <td>5196000</td>\n",
       "      <td>56.0</td>\n",
       "      <td>2015-08-20T00:00:00</td>\n",
       "      <td>2</td>\n",
       "      <td>-9999.00</td>\n",
       "      <td>5</td>\n",
       "      <td>34.3</td>\n",
       "      <td>4</td>\n",
       "      <td>False</td>\n",
       "      <td>...</td>\n",
       "      <td>0</td>\n",
       "      <td>Санкт-Петербург</td>\n",
       "      <td>21741</td>\n",
       "      <td>13933</td>\n",
       "      <td>1</td>\n",
       "      <td>90</td>\n",
       "      <td>2</td>\n",
       "      <td>574</td>\n",
       "      <td>558</td>\n",
       "      <td>92785</td>\n",
       "    </tr>\n",
       "    <tr>\n",
       "      <td>3</td>\n",
       "      <td>0</td>\n",
       "      <td>64900000</td>\n",
       "      <td>159.0</td>\n",
       "      <td>2015-07-24T00:00:00</td>\n",
       "      <td>3</td>\n",
       "      <td>-9999.00</td>\n",
       "      <td>14</td>\n",
       "      <td>0.0</td>\n",
       "      <td>9</td>\n",
       "      <td>False</td>\n",
       "      <td>...</td>\n",
       "      <td>0</td>\n",
       "      <td>Санкт-Петербург</td>\n",
       "      <td>28098</td>\n",
       "      <td>6800</td>\n",
       "      <td>2</td>\n",
       "      <td>84</td>\n",
       "      <td>3</td>\n",
       "      <td>234</td>\n",
       "      <td>424</td>\n",
       "      <td>408176</td>\n",
       "    </tr>\n",
       "    <tr>\n",
       "      <td>4</td>\n",
       "      <td>2</td>\n",
       "      <td>10000000</td>\n",
       "      <td>100.0</td>\n",
       "      <td>2018-06-19T00:00:00</td>\n",
       "      <td>2</td>\n",
       "      <td>3.03</td>\n",
       "      <td>14</td>\n",
       "      <td>32.0</td>\n",
       "      <td>13</td>\n",
       "      <td>False</td>\n",
       "      <td>...</td>\n",
       "      <td>0</td>\n",
       "      <td>Санкт-Петербург</td>\n",
       "      <td>31856</td>\n",
       "      <td>8098</td>\n",
       "      <td>2</td>\n",
       "      <td>112</td>\n",
       "      <td>1</td>\n",
       "      <td>48</td>\n",
       "      <td>121</td>\n",
       "      <td>100000</td>\n",
       "    </tr>\n",
       "  </tbody>\n",
       "</table>\n",
       "<p>5 rows × 23 columns</p>\n",
       "</div>"
      ],
      "text/plain": [
       "   total_images  last_price  total_area first_day_exposition  rooms  \\\n",
       "0            20    13000000       108.0  2019-03-07T00:00:00      3   \n",
       "1             7     3350000        40.4  2018-12-04T00:00:00      1   \n",
       "2            10     5196000        56.0  2015-08-20T00:00:00      2   \n",
       "3             0    64900000       159.0  2015-07-24T00:00:00      3   \n",
       "4             2    10000000       100.0  2018-06-19T00:00:00      2   \n",
       "\n",
       "   ceiling_height  floors_total  living_area  floor  is_apartment  ...  \\\n",
       "0            2.70            16         51.0      8         False  ...   \n",
       "1        -9999.00            11         18.6      1         False  ...   \n",
       "2        -9999.00             5         34.3      4         False  ...   \n",
       "3        -9999.00            14          0.0      9         False  ...   \n",
       "4            3.03            14         32.0     13         False  ...   \n",
       "\n",
       "   balcony    locality_name  airports_nearest  cityCenters_nearest  \\\n",
       "0        0  Санкт-Петербург             18863                16028   \n",
       "1        2   посёлок Шушары             12817                18603   \n",
       "2        0  Санкт-Петербург             21741                13933   \n",
       "3        0  Санкт-Петербург             28098                 6800   \n",
       "4        0  Санкт-Петербург             31856                 8098   \n",
       "\n",
       "  parks_around3000  parks_nearest  ponds_around3000  ponds_nearest  \\\n",
       "0                1            482                 2            755   \n",
       "1                0          -9999                 0          -9999   \n",
       "2                1             90                 2            574   \n",
       "3                2             84                 3            234   \n",
       "4                2            112                 1             48   \n",
       "\n",
       "   days_exposition  price_square_meter  \n",
       "0            -9999              120370  \n",
       "1               81               82920  \n",
       "2              558               92785  \n",
       "3              424              408176  \n",
       "4              121              100000  \n",
       "\n",
       "[5 rows x 23 columns]"
      ]
     },
     "execution_count": 24,
     "metadata": {},
     "output_type": "execute_result"
    }
   ],
   "source": [
    "# расчет цены квадратного метра\n",
    "# для расчет цены квадратного метра необходимо поделить стоимость квартиры (last_price) на суммарную площадь квартиы (total_area)\n",
    "data['price_square_meter'] = data['last_price'] / data['total_area']\n",
    "\n",
    "# Поменяем тип данных \n",
    "data['price_square_meter'] = data['price_square_meter'].astype('int')\n",
    "# Проверим\n",
    "data.head()"
   ]
  },
  {
   "cell_type": "code",
   "execution_count": 25,
   "metadata": {},
   "outputs": [
    {
     "data": {
      "text/html": [
       "<div>\n",
       "<style scoped>\n",
       "    .dataframe tbody tr th:only-of-type {\n",
       "        vertical-align: middle;\n",
       "    }\n",
       "\n",
       "    .dataframe tbody tr th {\n",
       "        vertical-align: top;\n",
       "    }\n",
       "\n",
       "    .dataframe thead th {\n",
       "        text-align: right;\n",
       "    }\n",
       "</style>\n",
       "<table border=\"1\" class=\"dataframe\">\n",
       "  <thead>\n",
       "    <tr style=\"text-align: right;\">\n",
       "      <th></th>\n",
       "      <th>total_images</th>\n",
       "      <th>last_price</th>\n",
       "      <th>total_area</th>\n",
       "      <th>first_day_exposition</th>\n",
       "      <th>rooms</th>\n",
       "      <th>ceiling_height</th>\n",
       "      <th>floors_total</th>\n",
       "      <th>living_area</th>\n",
       "      <th>floor</th>\n",
       "      <th>is_apartment</th>\n",
       "      <th>...</th>\n",
       "      <th>parks_around3000</th>\n",
       "      <th>parks_nearest</th>\n",
       "      <th>ponds_around3000</th>\n",
       "      <th>ponds_nearest</th>\n",
       "      <th>days_exposition</th>\n",
       "      <th>price_square_meter</th>\n",
       "      <th>exposition</th>\n",
       "      <th>weekday_exposition</th>\n",
       "      <th>month_exposition</th>\n",
       "      <th>year_exposition</th>\n",
       "    </tr>\n",
       "  </thead>\n",
       "  <tbody>\n",
       "    <tr>\n",
       "      <td>0</td>\n",
       "      <td>20</td>\n",
       "      <td>13000000</td>\n",
       "      <td>108.0</td>\n",
       "      <td>2019-03-07T00:00:00</td>\n",
       "      <td>3</td>\n",
       "      <td>2.70</td>\n",
       "      <td>16</td>\n",
       "      <td>51.0</td>\n",
       "      <td>8</td>\n",
       "      <td>False</td>\n",
       "      <td>...</td>\n",
       "      <td>1</td>\n",
       "      <td>482</td>\n",
       "      <td>2</td>\n",
       "      <td>755</td>\n",
       "      <td>-9999</td>\n",
       "      <td>120370</td>\n",
       "      <td>2019-03-07</td>\n",
       "      <td>3</td>\n",
       "      <td>3</td>\n",
       "      <td>2019</td>\n",
       "    </tr>\n",
       "    <tr>\n",
       "      <td>1</td>\n",
       "      <td>7</td>\n",
       "      <td>3350000</td>\n",
       "      <td>40.4</td>\n",
       "      <td>2018-12-04T00:00:00</td>\n",
       "      <td>1</td>\n",
       "      <td>-9999.00</td>\n",
       "      <td>11</td>\n",
       "      <td>18.6</td>\n",
       "      <td>1</td>\n",
       "      <td>False</td>\n",
       "      <td>...</td>\n",
       "      <td>0</td>\n",
       "      <td>-9999</td>\n",
       "      <td>0</td>\n",
       "      <td>-9999</td>\n",
       "      <td>81</td>\n",
       "      <td>82920</td>\n",
       "      <td>2018-12-04</td>\n",
       "      <td>1</td>\n",
       "      <td>12</td>\n",
       "      <td>2018</td>\n",
       "    </tr>\n",
       "    <tr>\n",
       "      <td>2</td>\n",
       "      <td>10</td>\n",
       "      <td>5196000</td>\n",
       "      <td>56.0</td>\n",
       "      <td>2015-08-20T00:00:00</td>\n",
       "      <td>2</td>\n",
       "      <td>-9999.00</td>\n",
       "      <td>5</td>\n",
       "      <td>34.3</td>\n",
       "      <td>4</td>\n",
       "      <td>False</td>\n",
       "      <td>...</td>\n",
       "      <td>1</td>\n",
       "      <td>90</td>\n",
       "      <td>2</td>\n",
       "      <td>574</td>\n",
       "      <td>558</td>\n",
       "      <td>92785</td>\n",
       "      <td>2015-08-20</td>\n",
       "      <td>3</td>\n",
       "      <td>8</td>\n",
       "      <td>2015</td>\n",
       "    </tr>\n",
       "    <tr>\n",
       "      <td>3</td>\n",
       "      <td>0</td>\n",
       "      <td>64900000</td>\n",
       "      <td>159.0</td>\n",
       "      <td>2015-07-24T00:00:00</td>\n",
       "      <td>3</td>\n",
       "      <td>-9999.00</td>\n",
       "      <td>14</td>\n",
       "      <td>0.0</td>\n",
       "      <td>9</td>\n",
       "      <td>False</td>\n",
       "      <td>...</td>\n",
       "      <td>2</td>\n",
       "      <td>84</td>\n",
       "      <td>3</td>\n",
       "      <td>234</td>\n",
       "      <td>424</td>\n",
       "      <td>408176</td>\n",
       "      <td>2015-07-24</td>\n",
       "      <td>4</td>\n",
       "      <td>7</td>\n",
       "      <td>2015</td>\n",
       "    </tr>\n",
       "    <tr>\n",
       "      <td>4</td>\n",
       "      <td>2</td>\n",
       "      <td>10000000</td>\n",
       "      <td>100.0</td>\n",
       "      <td>2018-06-19T00:00:00</td>\n",
       "      <td>2</td>\n",
       "      <td>3.03</td>\n",
       "      <td>14</td>\n",
       "      <td>32.0</td>\n",
       "      <td>13</td>\n",
       "      <td>False</td>\n",
       "      <td>...</td>\n",
       "      <td>2</td>\n",
       "      <td>112</td>\n",
       "      <td>1</td>\n",
       "      <td>48</td>\n",
       "      <td>121</td>\n",
       "      <td>100000</td>\n",
       "      <td>2018-06-19</td>\n",
       "      <td>1</td>\n",
       "      <td>6</td>\n",
       "      <td>2018</td>\n",
       "    </tr>\n",
       "  </tbody>\n",
       "</table>\n",
       "<p>5 rows × 27 columns</p>\n",
       "</div>"
      ],
      "text/plain": [
       "   total_images  last_price  total_area first_day_exposition  rooms  \\\n",
       "0            20    13000000       108.0  2019-03-07T00:00:00      3   \n",
       "1             7     3350000        40.4  2018-12-04T00:00:00      1   \n",
       "2            10     5196000        56.0  2015-08-20T00:00:00      2   \n",
       "3             0    64900000       159.0  2015-07-24T00:00:00      3   \n",
       "4             2    10000000       100.0  2018-06-19T00:00:00      2   \n",
       "\n",
       "   ceiling_height  floors_total  living_area  floor  is_apartment  ...  \\\n",
       "0            2.70            16         51.0      8         False  ...   \n",
       "1        -9999.00            11         18.6      1         False  ...   \n",
       "2        -9999.00             5         34.3      4         False  ...   \n",
       "3        -9999.00            14          0.0      9         False  ...   \n",
       "4            3.03            14         32.0     13         False  ...   \n",
       "\n",
       "   parks_around3000  parks_nearest  ponds_around3000  ponds_nearest  \\\n",
       "0                 1            482                 2            755   \n",
       "1                 0          -9999                 0          -9999   \n",
       "2                 1             90                 2            574   \n",
       "3                 2             84                 3            234   \n",
       "4                 2            112                 1             48   \n",
       "\n",
       "  days_exposition  price_square_meter  exposition  weekday_exposition  \\\n",
       "0           -9999              120370  2019-03-07                   3   \n",
       "1              81               82920  2018-12-04                   1   \n",
       "2             558               92785  2015-08-20                   3   \n",
       "3             424              408176  2015-07-24                   4   \n",
       "4             121              100000  2018-06-19                   1   \n",
       "\n",
       "   month_exposition  year_exposition  \n",
       "0                 3             2019  \n",
       "1                12             2018  \n",
       "2                 8             2015  \n",
       "3                 7             2015  \n",
       "4                 6             2018  \n",
       "\n",
       "[5 rows x 27 columns]"
      ]
     },
     "execution_count": 25,
     "metadata": {},
     "output_type": "execute_result"
    }
   ],
   "source": [
    "# добавление столбцов \"день недели, месяц и год публикации объявления\"\n",
    "data['exposition'] = pd.to_datetime(data['first_day_exposition'], format = '%Y-%m-%d')\n",
    "data['weekday_exposition'] = data['exposition'].dt.weekday\n",
    "data['month_exposition'] = data['exposition'].dt.month\n",
    "data['year_exposition'] = data['exposition'].dt.year\n",
    "# проверим %Y-%m-%d\n",
    "data.head()"
   ]
  },
  {
   "cell_type": "code",
   "execution_count": 26,
   "metadata": {},
   "outputs": [
    {
     "data": {
      "text/plain": [
       "another_floor    17408\n",
       "last_floor        3355\n",
       "first_floor       2887\n",
       "Name: floor_category, dtype: int64"
      ]
     },
     "execution_count": 26,
     "metadata": {},
     "output_type": "execute_result"
    }
   ],
   "source": [
    "# добавление столбца \"этаж квартиры; варианты — первый, последний, другой\"\n",
    "\n",
    "# создадим функцию, которая будет категоризировать данные \n",
    "def floor_category(floor, floors_total):\n",
    "    if floor == floors_total:\n",
    "        return 'last_floor'\n",
    "    if floor == 1:\n",
    "        return 'first_floor'\n",
    "    return 'another_floor'\n",
    "#print(floor_category(2, 16))\n",
    "# Добавим столбец в data \n",
    "data['floor_category'] = data.apply(lambda x: floor_category(x.floor, x.floors_total), axis = 1)\n",
    "# Проверим \n",
    "data['floor_category'].value_counts()"
   ]
  },
  {
   "cell_type": "code",
   "execution_count": 27,
   "metadata": {},
   "outputs": [
    {
     "data": {
      "text/html": [
       "<div>\n",
       "<style scoped>\n",
       "    .dataframe tbody tr th:only-of-type {\n",
       "        vertical-align: middle;\n",
       "    }\n",
       "\n",
       "    .dataframe tbody tr th {\n",
       "        vertical-align: top;\n",
       "    }\n",
       "\n",
       "    .dataframe thead th {\n",
       "        text-align: right;\n",
       "    }\n",
       "</style>\n",
       "<table border=\"1\" class=\"dataframe\">\n",
       "  <thead>\n",
       "    <tr style=\"text-align: right;\">\n",
       "      <th></th>\n",
       "      <th>total_images</th>\n",
       "      <th>last_price</th>\n",
       "      <th>total_area</th>\n",
       "      <th>first_day_exposition</th>\n",
       "      <th>rooms</th>\n",
       "      <th>ceiling_height</th>\n",
       "      <th>floors_total</th>\n",
       "      <th>living_area</th>\n",
       "      <th>floor</th>\n",
       "      <th>is_apartment</th>\n",
       "      <th>...</th>\n",
       "      <th>ponds_around3000</th>\n",
       "      <th>ponds_nearest</th>\n",
       "      <th>days_exposition</th>\n",
       "      <th>price_square_meter</th>\n",
       "      <th>exposition</th>\n",
       "      <th>weekday_exposition</th>\n",
       "      <th>month_exposition</th>\n",
       "      <th>year_exposition</th>\n",
       "      <th>floor_category</th>\n",
       "      <th>ratio_living_area</th>\n",
       "    </tr>\n",
       "  </thead>\n",
       "  <tbody>\n",
       "    <tr>\n",
       "      <td>0</td>\n",
       "      <td>20</td>\n",
       "      <td>13000000</td>\n",
       "      <td>108.0</td>\n",
       "      <td>2019-03-07T00:00:00</td>\n",
       "      <td>3</td>\n",
       "      <td>2.70</td>\n",
       "      <td>16</td>\n",
       "      <td>51.0</td>\n",
       "      <td>8</td>\n",
       "      <td>False</td>\n",
       "      <td>...</td>\n",
       "      <td>2</td>\n",
       "      <td>755</td>\n",
       "      <td>-9999</td>\n",
       "      <td>120370</td>\n",
       "      <td>2019-03-07</td>\n",
       "      <td>3</td>\n",
       "      <td>3</td>\n",
       "      <td>2019</td>\n",
       "      <td>another_floor</td>\n",
       "      <td>0.47</td>\n",
       "    </tr>\n",
       "    <tr>\n",
       "      <td>1</td>\n",
       "      <td>7</td>\n",
       "      <td>3350000</td>\n",
       "      <td>40.4</td>\n",
       "      <td>2018-12-04T00:00:00</td>\n",
       "      <td>1</td>\n",
       "      <td>-9999.00</td>\n",
       "      <td>11</td>\n",
       "      <td>18.6</td>\n",
       "      <td>1</td>\n",
       "      <td>False</td>\n",
       "      <td>...</td>\n",
       "      <td>0</td>\n",
       "      <td>-9999</td>\n",
       "      <td>81</td>\n",
       "      <td>82920</td>\n",
       "      <td>2018-12-04</td>\n",
       "      <td>1</td>\n",
       "      <td>12</td>\n",
       "      <td>2018</td>\n",
       "      <td>first_floor</td>\n",
       "      <td>0.46</td>\n",
       "    </tr>\n",
       "    <tr>\n",
       "      <td>2</td>\n",
       "      <td>10</td>\n",
       "      <td>5196000</td>\n",
       "      <td>56.0</td>\n",
       "      <td>2015-08-20T00:00:00</td>\n",
       "      <td>2</td>\n",
       "      <td>-9999.00</td>\n",
       "      <td>5</td>\n",
       "      <td>34.3</td>\n",
       "      <td>4</td>\n",
       "      <td>False</td>\n",
       "      <td>...</td>\n",
       "      <td>2</td>\n",
       "      <td>574</td>\n",
       "      <td>558</td>\n",
       "      <td>92785</td>\n",
       "      <td>2015-08-20</td>\n",
       "      <td>3</td>\n",
       "      <td>8</td>\n",
       "      <td>2015</td>\n",
       "      <td>another_floor</td>\n",
       "      <td>0.61</td>\n",
       "    </tr>\n",
       "    <tr>\n",
       "      <td>3</td>\n",
       "      <td>0</td>\n",
       "      <td>64900000</td>\n",
       "      <td>159.0</td>\n",
       "      <td>2015-07-24T00:00:00</td>\n",
       "      <td>3</td>\n",
       "      <td>-9999.00</td>\n",
       "      <td>14</td>\n",
       "      <td>0.0</td>\n",
       "      <td>9</td>\n",
       "      <td>False</td>\n",
       "      <td>...</td>\n",
       "      <td>3</td>\n",
       "      <td>234</td>\n",
       "      <td>424</td>\n",
       "      <td>408176</td>\n",
       "      <td>2015-07-24</td>\n",
       "      <td>4</td>\n",
       "      <td>7</td>\n",
       "      <td>2015</td>\n",
       "      <td>another_floor</td>\n",
       "      <td>0.00</td>\n",
       "    </tr>\n",
       "    <tr>\n",
       "      <td>4</td>\n",
       "      <td>2</td>\n",
       "      <td>10000000</td>\n",
       "      <td>100.0</td>\n",
       "      <td>2018-06-19T00:00:00</td>\n",
       "      <td>2</td>\n",
       "      <td>3.03</td>\n",
       "      <td>14</td>\n",
       "      <td>32.0</td>\n",
       "      <td>13</td>\n",
       "      <td>False</td>\n",
       "      <td>...</td>\n",
       "      <td>1</td>\n",
       "      <td>48</td>\n",
       "      <td>121</td>\n",
       "      <td>100000</td>\n",
       "      <td>2018-06-19</td>\n",
       "      <td>1</td>\n",
       "      <td>6</td>\n",
       "      <td>2018</td>\n",
       "      <td>another_floor</td>\n",
       "      <td>0.32</td>\n",
       "    </tr>\n",
       "  </tbody>\n",
       "</table>\n",
       "<p>5 rows × 29 columns</p>\n",
       "</div>"
      ],
      "text/plain": [
       "   total_images  last_price  total_area first_day_exposition  rooms  \\\n",
       "0            20    13000000       108.0  2019-03-07T00:00:00      3   \n",
       "1             7     3350000        40.4  2018-12-04T00:00:00      1   \n",
       "2            10     5196000        56.0  2015-08-20T00:00:00      2   \n",
       "3             0    64900000       159.0  2015-07-24T00:00:00      3   \n",
       "4             2    10000000       100.0  2018-06-19T00:00:00      2   \n",
       "\n",
       "   ceiling_height  floors_total  living_area  floor  is_apartment  ...  \\\n",
       "0            2.70            16         51.0      8         False  ...   \n",
       "1        -9999.00            11         18.6      1         False  ...   \n",
       "2        -9999.00             5         34.3      4         False  ...   \n",
       "3        -9999.00            14          0.0      9         False  ...   \n",
       "4            3.03            14         32.0     13         False  ...   \n",
       "\n",
       "   ponds_around3000  ponds_nearest  days_exposition  price_square_meter  \\\n",
       "0                 2            755            -9999              120370   \n",
       "1                 0          -9999               81               82920   \n",
       "2                 2            574              558               92785   \n",
       "3                 3            234              424              408176   \n",
       "4                 1             48              121              100000   \n",
       "\n",
       "  exposition  weekday_exposition  month_exposition  year_exposition  \\\n",
       "0 2019-03-07                   3                 3             2019   \n",
       "1 2018-12-04                   1                12             2018   \n",
       "2 2015-08-20                   3                 8             2015   \n",
       "3 2015-07-24                   4                 7             2015   \n",
       "4 2018-06-19                   1                 6             2018   \n",
       "\n",
       "   floor_category  ratio_living_area  \n",
       "0   another_floor               0.47  \n",
       "1     first_floor               0.46  \n",
       "2   another_floor               0.61  \n",
       "3   another_floor               0.00  \n",
       "4   another_floor               0.32  \n",
       "\n",
       "[5 rows x 29 columns]"
      ]
     },
     "execution_count": 27,
     "metadata": {},
     "output_type": "execute_result"
    }
   ],
   "source": [
    "# добавление столбца \"соотношение жилой и общей площади\" \n",
    "data['ratio_living_area'] = data['living_area'] / data['total_area']\n",
    "# Округлим до 2 знаков после запятой \n",
    "data['ratio_living_area'] = round(data['ratio_living_area'], 2)\n",
    "# Проверим добавление столбца\n",
    "data.head()"
   ]
  },
  {
   "cell_type": "code",
   "execution_count": 28,
   "metadata": {},
   "outputs": [
    {
     "data": {
      "text/html": [
       "<div>\n",
       "<style scoped>\n",
       "    .dataframe tbody tr th:only-of-type {\n",
       "        vertical-align: middle;\n",
       "    }\n",
       "\n",
       "    .dataframe tbody tr th {\n",
       "        vertical-align: top;\n",
       "    }\n",
       "\n",
       "    .dataframe thead th {\n",
       "        text-align: right;\n",
       "    }\n",
       "</style>\n",
       "<table border=\"1\" class=\"dataframe\">\n",
       "  <thead>\n",
       "    <tr style=\"text-align: right;\">\n",
       "      <th></th>\n",
       "      <th>total_images</th>\n",
       "      <th>last_price</th>\n",
       "      <th>total_area</th>\n",
       "      <th>first_day_exposition</th>\n",
       "      <th>rooms</th>\n",
       "      <th>ceiling_height</th>\n",
       "      <th>floors_total</th>\n",
       "      <th>living_area</th>\n",
       "      <th>floor</th>\n",
       "      <th>is_apartment</th>\n",
       "      <th>...</th>\n",
       "      <th>ponds_nearest</th>\n",
       "      <th>days_exposition</th>\n",
       "      <th>price_square_meter</th>\n",
       "      <th>exposition</th>\n",
       "      <th>weekday_exposition</th>\n",
       "      <th>month_exposition</th>\n",
       "      <th>year_exposition</th>\n",
       "      <th>floor_category</th>\n",
       "      <th>ratio_living_area</th>\n",
       "      <th>ration_kitchen_area</th>\n",
       "    </tr>\n",
       "  </thead>\n",
       "  <tbody>\n",
       "    <tr>\n",
       "      <td>0</td>\n",
       "      <td>20</td>\n",
       "      <td>13000000</td>\n",
       "      <td>108.0</td>\n",
       "      <td>2019-03-07T00:00:00</td>\n",
       "      <td>3</td>\n",
       "      <td>2.70</td>\n",
       "      <td>16</td>\n",
       "      <td>51.0</td>\n",
       "      <td>8</td>\n",
       "      <td>False</td>\n",
       "      <td>...</td>\n",
       "      <td>755</td>\n",
       "      <td>-9999</td>\n",
       "      <td>120370</td>\n",
       "      <td>2019-03-07</td>\n",
       "      <td>3</td>\n",
       "      <td>3</td>\n",
       "      <td>2019</td>\n",
       "      <td>another_floor</td>\n",
       "      <td>0.47</td>\n",
       "      <td>0.23</td>\n",
       "    </tr>\n",
       "    <tr>\n",
       "      <td>1</td>\n",
       "      <td>7</td>\n",
       "      <td>3350000</td>\n",
       "      <td>40.4</td>\n",
       "      <td>2018-12-04T00:00:00</td>\n",
       "      <td>1</td>\n",
       "      <td>-9999.00</td>\n",
       "      <td>11</td>\n",
       "      <td>18.6</td>\n",
       "      <td>1</td>\n",
       "      <td>False</td>\n",
       "      <td>...</td>\n",
       "      <td>-9999</td>\n",
       "      <td>81</td>\n",
       "      <td>82920</td>\n",
       "      <td>2018-12-04</td>\n",
       "      <td>1</td>\n",
       "      <td>12</td>\n",
       "      <td>2018</td>\n",
       "      <td>first_floor</td>\n",
       "      <td>0.46</td>\n",
       "      <td>0.27</td>\n",
       "    </tr>\n",
       "    <tr>\n",
       "      <td>2</td>\n",
       "      <td>10</td>\n",
       "      <td>5196000</td>\n",
       "      <td>56.0</td>\n",
       "      <td>2015-08-20T00:00:00</td>\n",
       "      <td>2</td>\n",
       "      <td>-9999.00</td>\n",
       "      <td>5</td>\n",
       "      <td>34.3</td>\n",
       "      <td>4</td>\n",
       "      <td>False</td>\n",
       "      <td>...</td>\n",
       "      <td>574</td>\n",
       "      <td>558</td>\n",
       "      <td>92785</td>\n",
       "      <td>2015-08-20</td>\n",
       "      <td>3</td>\n",
       "      <td>8</td>\n",
       "      <td>2015</td>\n",
       "      <td>another_floor</td>\n",
       "      <td>0.61</td>\n",
       "      <td>0.15</td>\n",
       "    </tr>\n",
       "    <tr>\n",
       "      <td>3</td>\n",
       "      <td>0</td>\n",
       "      <td>64900000</td>\n",
       "      <td>159.0</td>\n",
       "      <td>2015-07-24T00:00:00</td>\n",
       "      <td>3</td>\n",
       "      <td>-9999.00</td>\n",
       "      <td>14</td>\n",
       "      <td>0.0</td>\n",
       "      <td>9</td>\n",
       "      <td>False</td>\n",
       "      <td>...</td>\n",
       "      <td>234</td>\n",
       "      <td>424</td>\n",
       "      <td>408176</td>\n",
       "      <td>2015-07-24</td>\n",
       "      <td>4</td>\n",
       "      <td>7</td>\n",
       "      <td>2015</td>\n",
       "      <td>another_floor</td>\n",
       "      <td>0.00</td>\n",
       "      <td>0.00</td>\n",
       "    </tr>\n",
       "    <tr>\n",
       "      <td>4</td>\n",
       "      <td>2</td>\n",
       "      <td>10000000</td>\n",
       "      <td>100.0</td>\n",
       "      <td>2018-06-19T00:00:00</td>\n",
       "      <td>2</td>\n",
       "      <td>3.03</td>\n",
       "      <td>14</td>\n",
       "      <td>32.0</td>\n",
       "      <td>13</td>\n",
       "      <td>False</td>\n",
       "      <td>...</td>\n",
       "      <td>48</td>\n",
       "      <td>121</td>\n",
       "      <td>100000</td>\n",
       "      <td>2018-06-19</td>\n",
       "      <td>1</td>\n",
       "      <td>6</td>\n",
       "      <td>2018</td>\n",
       "      <td>another_floor</td>\n",
       "      <td>0.32</td>\n",
       "      <td>0.41</td>\n",
       "    </tr>\n",
       "  </tbody>\n",
       "</table>\n",
       "<p>5 rows × 30 columns</p>\n",
       "</div>"
      ],
      "text/plain": [
       "   total_images  last_price  total_area first_day_exposition  rooms  \\\n",
       "0            20    13000000       108.0  2019-03-07T00:00:00      3   \n",
       "1             7     3350000        40.4  2018-12-04T00:00:00      1   \n",
       "2            10     5196000        56.0  2015-08-20T00:00:00      2   \n",
       "3             0    64900000       159.0  2015-07-24T00:00:00      3   \n",
       "4             2    10000000       100.0  2018-06-19T00:00:00      2   \n",
       "\n",
       "   ceiling_height  floors_total  living_area  floor  is_apartment  ...  \\\n",
       "0            2.70            16         51.0      8         False  ...   \n",
       "1        -9999.00            11         18.6      1         False  ...   \n",
       "2        -9999.00             5         34.3      4         False  ...   \n",
       "3        -9999.00            14          0.0      9         False  ...   \n",
       "4            3.03            14         32.0     13         False  ...   \n",
       "\n",
       "   ponds_nearest  days_exposition  price_square_meter  exposition  \\\n",
       "0            755            -9999              120370  2019-03-07   \n",
       "1          -9999               81               82920  2018-12-04   \n",
       "2            574              558               92785  2015-08-20   \n",
       "3            234              424              408176  2015-07-24   \n",
       "4             48              121              100000  2018-06-19   \n",
       "\n",
       "  weekday_exposition  month_exposition  year_exposition  floor_category  \\\n",
       "0                  3                 3             2019   another_floor   \n",
       "1                  1                12             2018     first_floor   \n",
       "2                  3                 8             2015   another_floor   \n",
       "3                  4                 7             2015   another_floor   \n",
       "4                  1                 6             2018   another_floor   \n",
       "\n",
       "   ratio_living_area  ration_kitchen_area  \n",
       "0               0.47                 0.23  \n",
       "1               0.46                 0.27  \n",
       "2               0.61                 0.15  \n",
       "3               0.00                 0.00  \n",
       "4               0.32                 0.41  \n",
       "\n",
       "[5 rows x 30 columns]"
      ]
     },
     "execution_count": 28,
     "metadata": {},
     "output_type": "execute_result"
    }
   ],
   "source": [
    "# добавление столбца \"отношение площади кухни к общей\"\n",
    "data['ration_kitchen_area'] = data['kitchen_area'] / data['total_area']\n",
    "# Округлим до 2 знаков после запятой\n",
    "data['ration_kitchen_area'] = round(data['ration_kitchen_area'], 2)\n",
    "# Проверим добавление столбца\n",
    "data.head()"
   ]
  },
  {
   "cell_type": "markdown",
   "metadata": {},
   "source": [
    "**Вывод**\n",
    "<ul>\n",
    "    В таблицу были добавлены столбцы, обозначающие цену за квадратный метр, день недели, месяц и год публикации объявления, этаж квартиры(первый, последний и другой), соотношение жилой площади к общей и площади кухни к общей.\n",
    "</ul>\n",
    "    "
   ]
  },
  {
   "cell_type": "markdown",
   "metadata": {},
   "source": [
    "### Шаг 4. Проведите исследовательский анализ данных и выполните инструкции:"
   ]
  },
  {
   "cell_type": "code",
   "execution_count": 29,
   "metadata": {},
   "outputs": [],
   "source": [
    "# Создадим функцию, которая будет рисовать гистограммы: \n",
    "def hist(df, column, n, x_1, x_2, median, title, xlabel, ylabel):\n",
    "    print(df[column].describe())\n",
    "    plt.rcParams[\"figure.figsize\"] = (10,7)\n",
    "    ax = df[column].hist(bins=n, range = (x_1, x_2))\n",
    "    plt.title(title)\n",
    "    plt.xlabel(xlabel)\n",
    "    plt.ylabel(ylabel)\n",
    "    if median == 1:\n",
    "        ax.axvline(df[column].median(), linestyle = '--',color = 'r')\n",
    "    else:\n",
    "            return ax\n",
    "\n",
    "# Создадим функцию, которая будет рисовать графики: \n",
    "def plot(df, x_column_plot, y_column_plot, kind, alpha, grid, floor_price, line, x, title, xlabel, ylabel):\n",
    "    if floor_price == 1:\n",
    "        plt.rcParams[\"figure.figsize\"] = (10,7)\n",
    "        df.groupby(x_column_plot)[y_column_plot].max().plot(kind=kind)\n",
    "        plt.title(title)\n",
    "        plt.xlabel(xlabel)\n",
    "        plt.ylabel(ylabel)\n",
    "    else:\n",
    "        print(data[x_column_plot].corr(data[y_column_plot]))\n",
    "        plt.rcParams[\"figure.figsize\"] = (10,7)\n",
    "        ax = df.plot(x= x_column_plot, y= y_column_plot, kind = kind, alpha= alpha,  grid= grid)\n",
    "        plt.title(title)\n",
    "        plt.xlabel(xlabel)\n",
    "        plt.ylabel(ylabel)\n",
    "        if line == 1:\n",
    "            ax.axvline(x = x, linestyle = '--',color = 'r')"
   ]
  },
  {
   "cell_type": "code",
   "execution_count": 30,
   "metadata": {},
   "outputs": [
    {
     "name": "stdout",
     "output_type": "stream",
     "text": [
      "count    23650.000000\n",
      "mean        60.329069\n",
      "std         35.661808\n",
      "min         12.000000\n",
      "25%         40.000000\n",
      "50%         52.000000\n",
      "75%         69.700000\n",
      "max        900.000000\n",
      "Name: total_area, dtype: float64\n"
     ]
    },
    {
     "data": {
      "image/png": "[encoded data removed]",
      "text/plain": [
       "<Figure size 720x504 with 1 Axes>"
      ]
     },
     "metadata": {
      "needs_background": "light"
     },
     "output_type": "display_data"
    }
   ],
   "source": [
    "# Изучите следующие параметры: площадь, цена, число комнат, высота потолков. Постройте гистограммы для каждого параметра.\n",
    "# Рассмотрим площадь\n",
    "hist(data, 'total_area', 100, 0, 900, 1, 'Распределение значений площади квартиры', 'Площадь квартиры, м^2', 'Частота')\n",
    "# Как видно - есть как минимум одно аномально большое значение (максимальное)\n",
    "# по отношению медианы и среднего значения видно, что есть большие значения площадей, которые сдвигают вверх среднее значение\n",
    "\n",
    "# Как видно из гистограммы - основная часть значений лежит до 200 квадратных метров, что вполне логично\n",
    "# Квартиры бизнес-класса имеют площадь свыше 500 квадратных метров (бывают и 900)"
   ]
  },
  {
   "cell_type": "code",
   "execution_count": 31,
   "metadata": {},
   "outputs": [
    {
     "name": "stdout",
     "output_type": "stream",
     "text": [
      "count    2.365000e+04\n",
      "mean     6.541127e+06\n",
      "std      1.089640e+07\n",
      "min      1.219000e+04\n",
      "25%      3.400000e+06\n",
      "50%      4.650000e+06\n",
      "75%      6.799000e+06\n",
      "max      7.630000e+08\n",
      "Name: last_price, dtype: float64\n"
     ]
    },
    {
     "data": {
      "image/png": "[encoded data removed]",
      "text/plain": [
       "<Figure size 720x504 with 1 Axes>"
      ]
     },
     "metadata": {
      "needs_background": "light"
     },
     "output_type": "display_data"
    }
   ],
   "source": [
    "# Рассмотрим цену \n",
    "hist(data, 'last_price', 100, 0, 1e+08, 1, 'Распределение значений цены квартиры', 'Цена квартиры, руб', 'Частота')\n",
    "# Можно предположить, что основная часть квартир стоит не более 10 миллионов, посмотрим внимательнее на гистограмме\n",
    "\n",
    "# Дейтсвительно, основная часть находится в пределах до 10 миллионов, проверим как обстоят дела с минимальными значениями"
   ]
  },
  {
   "cell_type": "code",
   "execution_count": 32,
   "metadata": {},
   "outputs": [
    {
     "name": "stdout",
     "output_type": "stream",
     "text": [
      "count    2.365000e+04\n",
      "mean     6.541127e+06\n",
      "std      1.089640e+07\n",
      "min      1.219000e+04\n",
      "25%      3.400000e+06\n",
      "50%      4.650000e+06\n",
      "75%      6.799000e+06\n",
      "max      7.630000e+08\n",
      "Name: last_price, dtype: float64\n"
     ]
    },
    {
     "data": {
      "text/plain": [
       "<matplotlib.axes._subplots.AxesSubplot at 0x7f8f53cea410>"
      ]
     },
     "execution_count": 32,
     "metadata": {},
     "output_type": "execute_result"
    },
    {
     "data": {
      "image/png": "[encoded data removed]",
      "text/plain": [
       "<Figure size 720x504 with 1 Axes>"
      ]
     },
     "metadata": {
      "needs_background": "light"
     },
     "output_type": "display_data"
    }
   ],
   "source": [
    "hist(data, 'last_price', 100, 0, 1e+06, 0, 'Распределение значений цены квартиры', 'Цена квартиры, руб', 'Частота')\n",
    "# Есть очевидное значения, которое выпадает - близкое к нулю. \n",
    "# остальные значения (до миллиона) можно логически объяснить - квартиры находятся не в Петербурге, а в Ленинградской области\n",
    "# по данным realty.yandex.ru такое вполне реально "
   ]
  },
  {
   "cell_type": "code",
   "execution_count": 33,
   "metadata": {},
   "outputs": [
    {
     "name": "stdout",
     "output_type": "stream",
     "text": [
      "count    23650.000000\n",
      "mean         2.070106\n",
      "std          1.078620\n",
      "min          0.000000\n",
      "25%          1.000000\n",
      "50%          2.000000\n",
      "75%          3.000000\n",
      "max         19.000000\n",
      "Name: rooms, dtype: float64\n"
     ]
    },
    {
     "data": {
      "image/png": "[encoded data removed]",
      "text/plain": [
       "<Figure size 720x504 with 1 Axes>"
      ]
     },
     "metadata": {
      "needs_background": "light"
     },
     "output_type": "display_data"
    }
   ],
   "source": [
    "# гистограмма для числа комнат\n",
    "hist(data, 'rooms', 40, 0, 16, 1, 'Распределение значений комнат квартиры', 'Количество комнат', 'Частота')\n",
    "# В целом - квартели адекватные, однако есть и аномально больше - 19 комнат, продают дворец?:) \n",
    "# Видно, что основная часть приходится на одно-,двух- и трехкомнатные квартиры\n",
    "# Есть нулевые значения комнат, которые необходимо в дальнейшем исключить (в любом случае - в квартире есть как минимум 1 комнта)"
   ]
  },
  {
   "cell_type": "code",
   "execution_count": 34,
   "metadata": {},
   "outputs": [
    {
     "name": "stdout",
     "output_type": "stream",
     "text": [
      "count    14490.000000\n",
      "mean         2.771287\n",
      "std          1.261593\n",
      "min          1.000000\n",
      "25%          2.520000\n",
      "50%          2.650000\n",
      "75%          2.800000\n",
      "max        100.000000\n",
      "Name: ceiling_height, dtype: float64\n"
     ]
    },
    {
     "data": {
      "text/plain": [
       "<matplotlib.axes._subplots.AxesSubplot at 0x7f8f53d55e90>"
      ]
     },
     "execution_count": 34,
     "metadata": {},
     "output_type": "execute_result"
    },
    {
     "data": {
      "image/png": "[encoded data removed]",
      "text/plain": [
       "<Figure size 720x504 with 1 Axes>"
      ]
     },
     "metadata": {
      "needs_background": "light"
     },
     "output_type": "display_data"
    }
   ],
   "source": [
    "# Для анализа высоты потолка сохраним в отдельную таблицу срез данных, где высота потолка выше 0 м\n",
    "data_for_ceiling = data.query('ceiling_height >=0')\n",
    "# гистограмма для высоты потолков\n",
    "hist(data_for_ceiling, 'ceiling_height', 100, 1, 100, 0, 'Распределение значений высоты потолка в квартире', 'Высота потолка, м', 'Частота')\n",
    "# Вызывает подозрение максимальное значение, сложно представить квартиру со стометровыми потолками\n",
    "# Нужно посмотреть много ли таких аномальных значений\n",
    "\n",
    "# Видно, что многие значения - от 1 до 3, а то максимальное значение - скорее всего выброс"
   ]
  },
  {
   "cell_type": "code",
   "execution_count": 35,
   "metadata": {},
   "outputs": [
    {
     "name": "stdout",
     "output_type": "stream",
     "text": [
      "count    14490.000000\n",
      "mean         2.771287\n",
      "std          1.261593\n",
      "min          1.000000\n",
      "25%          2.520000\n",
      "50%          2.650000\n",
      "75%          2.800000\n",
      "max        100.000000\n",
      "Name: ceiling_height, dtype: float64\n"
     ]
    },
    {
     "data": {
      "image/png": "[encoded data removed]",
      "text/plain": [
       "<Figure size 720x504 with 1 Axes>"
      ]
     },
     "metadata": {
      "needs_background": "light"
     },
     "output_type": "display_data"
    }
   ],
   "source": [
    "# для нагладности уменьшим range \n",
    "hist(data_for_ceiling, 'ceiling_height', 100, 1, 5, 1, 'Распределение значений высоты потолка в квартире', 'Высота потолка, м', 'Частота')\n",
    "# основное количество значений хранится в интервале 2.5 - 3.0 метров, что вполне соответствует реальности "
   ]
  },
  {
   "cell_type": "code",
   "execution_count": 36,
   "metadata": {},
   "outputs": [
    {
     "name": "stdout",
     "output_type": "stream",
     "text": [
      "count    20470.000000\n",
      "mean       180.753200\n",
      "std        219.777916\n",
      "min          1.000000\n",
      "25%         45.000000\n",
      "50%         95.000000\n",
      "75%        231.000000\n",
      "max       1580.000000\n",
      "Name: days_exposition, dtype: float64\n"
     ]
    },
    {
     "data": {
      "image/png": "[encoded data removed]",
      "text/plain": [
       "<Figure size 720x504 with 1 Axes>"
      ]
     },
     "metadata": {
      "needs_background": "light"
     },
     "output_type": "display_data"
    }
   ],
   "source": [
    "# Изучите время продажи квартиры. Постройте гистограмму. \n",
    "\n",
    "# Сделаем срез данных, чтобы изучить время продажи квартиры\n",
    "data_for_days_exposition = data.query('days_exposition >= 0')\n",
    "\n",
    "# Будем считать, что время от публикации до снятия объявления = время продажи квартиры (days_exposition)\n",
    "hist(data_for_days_exposition, 'days_exposition', 100, 0, 2000, 1, 'Распределение значений времени продажи квартир','Время продажи квартиры, день', 'Частота')\n",
    "# Среднее и медиана отличаются почти в 2 раза, максимальное значение приблизительно равно 4 годам (ну, а почему и нет?)\n",
    "\n",
    "# Видно, что большая часть значений находится в интервале (0;250]\n",
    "# что вполне соответствует правде \n",
    "# (по данным яндекс.недвижимости средний срок продажи соответствует 5-7 месяцев в зависимости от стратегии продажи)"
   ]
  },
  {
   "cell_type": "code",
   "execution_count": 37,
   "metadata": {},
   "outputs": [
    {
     "data": {
      "text/plain": [
       "(95.0, 180.7531998045921)"
      ]
     },
     "execution_count": 37,
     "metadata": {},
     "output_type": "execute_result"
    }
   ],
   "source": [
    "# Посчитайте среднее и медиану\n",
    "\n",
    "# Среднее и медиану уже было посчитано с помощью .describe()\n",
    "# однако посчитаем отдельно, раз это требуется\n",
    "median_days_exposition = data_for_days_exposition['days_exposition'].median()\n",
    "mean_days_exposition = data_for_days_exposition['days_exposition'].mean()\n",
    "median_days_exposition, mean_days_exposition\n",
    "# Опишите, сколько обычно занимает продажа.\n",
    "\n",
    "# Если отталкиваться от статистики яндекс.недвижимости по Санкт-Петербургу,\n",
    "# то среднее значение наиболее адекватно вписывается в реальность\n",
    "# Выкидывать значения, которые больше года (>365) тоже нельзя, ведь есть случаи, когда квартиры продают годами"
   ]
  },
  {
   "cell_type": "code",
   "execution_count": 38,
   "metadata": {},
   "outputs": [
    {
     "name": "stdout",
     "output_type": "stream",
     "text": [
      "count    20470.000000\n",
      "mean       180.753200\n",
      "std        219.777916\n",
      "min          1.000000\n",
      "25%         45.000000\n",
      "50%         95.000000\n",
      "75%        231.000000\n",
      "max       1580.000000\n",
      "Name: days_exposition, dtype: float64\n"
     ]
    },
    {
     "data": {
      "text/plain": [
       "<matplotlib.axes._subplots.AxesSubplot at 0x7f8f51868610>"
      ]
     },
     "execution_count": 38,
     "metadata": {},
     "output_type": "execute_result"
    },
    {
     "data": {
      "image/png": "[encoded data removed]",
      "text/plain": [
       "<Figure size 720x504 with 1 Axes>"
      ]
     },
     "metadata": {
      "needs_background": "light"
     },
     "output_type": "display_data"
    }
   ],
   "source": [
    "# Когда можно считать, что продажи прошли очень быстро, а когда необычно долго?\n",
    "\n",
    "# продажи квартир считают быстрыми, если сделка закрыта за 2 недели-месяц \n",
    "# посмотрим, есть ли у нас такие случаи\n",
    "hist(data_for_days_exposition, 'days_exposition', 30, 0, 30, 0, 'Распределение значений времени (дней) продажи квартиры','Время продажи квартиры, день', 'Частота') \n",
    "# начал с 0, чтобы было нагляднее сравнивать кол-во предложений\n",
    "# как видно - таких значений не особо много, однако они присутствуют\n",
    "# есть и совсем невероятные значения (3-5 дней) - возможно, что у этих значений следующая природа возникновения:\n",
    "# человек решил продать квартиру по какой-то причине, но затем через несколько дней сложились так обстоятельства,\n",
    "# что продажа уже неактуальна \n",
    "# (жизненные обстоятельства => передумал человек продавать квартиру; клиент отказался от покупки, но передумал через несколько дней)\n",
    "# также возможен и вариант, что продавец хотел очень быстро продать квартиру и сильно снизил стоимость"
   ]
  },
  {
   "cell_type": "code",
   "execution_count": 39,
   "metadata": {},
   "outputs": [
    {
     "name": "stdout",
     "output_type": "stream",
     "text": [
      "count    20470.000000\n",
      "mean       180.753200\n",
      "std        219.777916\n",
      "min          1.000000\n",
      "25%         45.000000\n",
      "50%         95.000000\n",
      "75%        231.000000\n",
      "max       1580.000000\n",
      "Name: days_exposition, dtype: float64\n"
     ]
    },
    {
     "data": {
      "text/plain": [
       "<matplotlib.axes._subplots.AxesSubplot at 0x7f8f51afed90>"
      ]
     },
     "execution_count": 39,
     "metadata": {},
     "output_type": "execute_result"
    },
    {
     "data": {
      "image/png": "[encoded data removed]",
      "text/plain": [
       "<Figure size 720x504 with 1 Axes>"
      ]
     },
     "metadata": {
      "needs_background": "light"
     },
     "output_type": "display_data"
    }
   ],
   "source": [
    "# Необычно долгий процесс продажи квартиры можно считать больше 24 месяцев\n",
    "# так как лимитирующей стадией этого процесса является поиск покупателей, не всегда это происходит быстро\n",
    "# посмотрим как много предложений, которые висят уже более 24 месяцев\n",
    "hist(data_for_days_exposition, 'days_exposition', 30, 730, 1800, 0, 'Распределение значений времени (дней) продажи квартиры','Время продажи квартиры, день', 'Частота')\n",
    "# быстрая продажа более вероятное событие, чем вот такая затяжная (более 18 месяцев)\n",
    "# скорее всего, дело в психологии - хочется продать быстрее и не затягивать с этим, \n",
    "# поэтому после первых неудач в продаже люди потенциально готовы на уступки"
   ]
  },
  {
   "cell_type": "code",
   "execution_count": 40,
   "metadata": {},
   "outputs": [],
   "source": [
    "# Уберите редкие и выбивающиеся значения. Опишите, какие особенности обнаружили.\n",
    "\n",
    "# В столбце days_exposition необходимо убрать нулевые значения, значения, которые меньше быстрого срока продажи (14 дней)\n",
    "# и значения, которые больше 24 месяцев \n",
    "data = data.query('14<= days_exposition <=730')"
   ]
  },
  {
   "cell_type": "code",
   "execution_count": 41,
   "metadata": {},
   "outputs": [
    {
     "name": "stdout",
     "output_type": "stream",
     "text": [
      "count    18096.000000\n",
      "mean       163.718557\n",
      "std        156.874828\n",
      "min         14.000000\n",
      "25%         48.000000\n",
      "50%        103.000000\n",
      "75%        224.000000\n",
      "max        730.000000\n",
      "Name: days_exposition, dtype: float64\n"
     ]
    },
    {
     "data": {
      "image/png": "[encoded data removed]",
      "text/plain": [
       "<Figure size 720x504 with 1 Axes>"
      ]
     },
     "metadata": {
      "needs_background": "light"
     },
     "output_type": "display_data"
    }
   ],
   "source": [
    "# Посмотрим как изменились квартели, поменялись значения среднего и медианы (медиана приблизилась к среднему)\n",
    "hist(data, 'days_exposition', 100, 0, 800, 1, 'Распределение значений времени (дней) продажи квартиры','Время продажи квартиры, день', 'Частота')\n",
    "# Гистограмма очень похожа на распределение Пуассона "
   ]
  },
  {
   "cell_type": "code",
   "execution_count": 42,
   "metadata": {},
   "outputs": [
    {
     "name": "stdout",
     "output_type": "stream",
     "text": [
      "0.7386588612034451\n"
     ]
    },
    {
     "data": {
      "image/png": "[encoded data removed]",
      "text/plain": [
       "<Figure size 720x504 with 1 Axes>"
      ]
     },
     "metadata": {
      "needs_background": "light"
     },
     "output_type": "display_data"
    }
   ],
   "source": [
    "# Какие факторы больше всего влияют на стоимость квартиры?\n",
    "# Изучите, зависит ли цена от квадратного метра, числа комнат, этажа (первого или последнего), удалённости от центра. \n",
    "\n",
    "# Изучим зависимость цены от квадратого метра\n",
    "# Для этого посчитаем корреляцию и построим график\n",
    "plot(data, 'price_square_meter', 'last_price', 'scatter', 1, True, 0, 0, 0, 'Влияние цены квадратного метра на стоимость квартиры', 'Цена за квадратный метр, руб', 'Цена за квартиру, руб')\n",
    "# Как видно из коэффициента корреляции и графика, зависимость между 2 параметрами есть - причем достаточно сильная \n",
    "# С увеличением цены за квадратный метр будет увеличиваться и суммарная стоимость квартиры, что вполне логично "
   ]
  },
  {
   "cell_type": "code",
   "execution_count": 43,
   "metadata": {},
   "outputs": [
    {
     "name": "stdout",
     "output_type": "stream",
     "text": [
      "0.3498294088159013\n"
     ]
    },
    {
     "data": {
      "image/png": "[encoded data removed]",
      "text/plain": [
       "<Figure size 720x504 with 1 Axes>"
      ]
     },
     "metadata": {
      "needs_background": "light"
     },
     "output_type": "display_data"
    }
   ],
   "source": [
    "# Зависимость цены от числа комнат\n",
    "# Для этого посчитаем корреляцию построим график\n",
    "plot(data, 'rooms', 'last_price', 'scatter', 1, True, 0, 0, 0, 'Влияние количества комнат на стоимость квартиры', 'Количество комнат', 'Цена за квартиру, руб')\n",
    "# Зависиимость есть, но неочевидная - по началу(с 1 по 4 rooms) проглядывается тенденция увеличения стоимости\n",
    "# с увеличением числа комнат, после этого начинается небольшой спад\n",
    "# вероятно, это связано с тем, что на стоимость квартиры влияет не только число комнат, но и ремонт/местоположение и другие удобства\n",
    "# поэтому в целом - стоимость увеличивается, но зависит не только от количества комнат "
   ]
  },
  {
   "cell_type": "code",
   "execution_count": 44,
   "metadata": {},
   "outputs": [
    {
     "data": {
      "image/png": "[encoded data removed]",
      "text/plain": [
       "<Figure size 720x504 with 1 Axes>"
      ]
     },
     "metadata": {
      "needs_background": "light"
     },
     "output_type": "display_data"
    }
   ],
   "source": [
    "# Зависимость цены от этажа\n",
    "# Для этого построим гистограмму\n",
    "plot(data, 'floor_category', 'last_price', 'bar', 1, False, 1, 0, 0, 'Влияние этажа на стоимость квартиры', 'Этаж', 'Цена за квартиру, руб')"
   ]
  },
  {
   "cell_type": "code",
   "execution_count": 45,
   "metadata": {},
   "outputs": [
    {
     "data": {
      "text/plain": [
       "0.030736785151383488"
      ]
     },
     "execution_count": 45,
     "metadata": {},
     "output_type": "execute_result"
    }
   ],
   "source": [
    "# Посчитаем корреляцию\n",
    "data['last_price'].corr(data['floor'])\n",
    "# Корреляция очень слабая, практически равна нулю \n",
    "# По теории это значит, что либо одна величина не зависит от другой (цена от этажа),\n",
    "# либо зависимость имеет более сложный характер, чем линейный\n",
    "# вероятно, что наш случай - второй, так как в реальности есть зависимости цены от этажа\n",
    "# Как правило - самая низкая цена за 1 этаж, немного дороже - за последний, а самая высокая цена - за другие этажи\n",
    "# Однако одновременно с этим влияют и другие факторы на стоимость (причем сильнее влияют), например, ремонт или геолокация.\n",
    "# К тому же - по умолчанию считается корреляция Пирсона. Для категориальных величин необходимо использовать другой расчет."
   ]
  },
  {
   "cell_type": "code",
   "execution_count": 46,
   "metadata": {},
   "outputs": [
    {
     "name": "stdout",
     "output_type": "stream",
     "text": [
      "0.017034077676850817\n"
     ]
    },
    {
     "data": {
      "image/png": "[encoded data removed]",
      "text/plain": [
       "<Figure size 720x504 with 1 Axes>"
      ]
     },
     "metadata": {
      "needs_background": "light"
     },
     "output_type": "display_data"
    }
   ],
   "source": [
    "# Изучим зависимость цены от удалённости от центра\n",
    "plot(data, 'cityCenters_nearest', 'last_price', 'scatter', 1, True, 0, 0, 0, 'Влияние расстояния (удаленности) от центра на стоимость квартиры', 'Удаленность от центра, м', 'Цена за квартиру, руб')\n",
    "# Видно из графика и коэффициента корреляции, что с увеличением расстояния от центра цена падает\n",
    "# Это достаточно известная ситуация (особенно для жителей крупных городов), однако не все так просто\n",
    "# Цена зависит не только от удаленности от центра, но также и от состояния квартиры, этажа и т.д. "
   ]
  },
  {
   "cell_type": "code",
   "execution_count": 47,
   "metadata": {},
   "outputs": [
    {
     "name": "stdout",
     "output_type": "stream",
     "text": [
      "0.003665108700806614\n"
     ]
    },
    {
     "data": {
      "image/png": "[encoded data removed]",
      "text/plain": [
       "<Figure size 720x504 with 1 Axes>"
      ]
     },
     "metadata": {
      "needs_background": "light"
     },
     "output_type": "display_data"
    }
   ],
   "source": [
    "# Также изучите зависимость от даты размещения: дня недели, месяца и года.\n",
    "\n",
    "# Изучим зависимость цены от дня недели размещения\n",
    "# Построим график\n",
    "plot(data, 'weekday_exposition', 'last_price', 'scatter', 0.3, True, 0, 0, 0, 'Влияние дня размещения объявления на стоимость квартиры', 'День недели размещения объявления', 'Цена за квартиру, руб')\n",
    "# Корреляция очень слабая, однако можно заметить, что квартиры, выставленные в будни, дороже, чем в выходные\n",
    "# С чем это может быть связано? Вопрос хороший, но однозначного ответа нет. \n",
    "# Возможно, это связано с тем, что люди выставляют квартиры в рабочие будни, \n",
    "# таким образом работа и стресс сказывается на ценнике\n",
    "# а может быть - это случайность"
   ]
  },
  {
   "cell_type": "code",
   "execution_count": 48,
   "metadata": {},
   "outputs": [
    {
     "data": {
      "text/plain": [
       "weekday_exposition\n",
       "0    6.172683e+06\n",
       "1    6.100102e+06\n",
       "2    6.395566e+06\n",
       "3    6.291938e+06\n",
       "4    5.975498e+06\n",
       "5    7.070614e+06\n",
       "6    5.903397e+06\n",
       "Name: last_price, dtype: float64"
      ]
     },
     "execution_count": 48,
     "metadata": {},
     "output_type": "execute_result"
    }
   ],
   "source": [
    "data.groupby('weekday_exposition')['last_price'].mean()"
   ]
  },
  {
   "cell_type": "code",
   "execution_count": 49,
   "metadata": {},
   "outputs": [
    {
     "name": "stdout",
     "output_type": "stream",
     "text": [
      "0.004511498468279234\n"
     ]
    },
    {
     "data": {
      "image/png": "[encoded data removed]",
      "text/plain": [
       "<Figure size 720x504 with 1 Axes>"
      ]
     },
     "metadata": {
      "needs_background": "light"
     },
     "output_type": "display_data"
    }
   ],
   "source": [
    "# Изучим зависимость цены от месяца размещения\n",
    "# Построим график\n",
    "plot(data, 'month_exposition', 'last_price', 'scatter', 0.3, True, 0, 0, 0, 'Влияние месяца размещения объявления на стоимость квартиры', 'Месяц размещения объявления', 'Цена за квартиру, руб')\n",
    "# коэффициент корреляции близок к нулю\n",
    "# скорее всего, дело в неоднозначной зависимости"
   ]
  },
  {
   "cell_type": "code",
   "execution_count": 50,
   "metadata": {},
   "outputs": [
    {
     "data": {
      "text/plain": [
       "month_exposition\n",
       "1     6.053744e+06\n",
       "2     6.186287e+06\n",
       "3     5.858155e+06\n",
       "4     6.626827e+06\n",
       "5     6.450662e+06\n",
       "6     6.186012e+06\n",
       "7     6.508141e+06\n",
       "8     5.917120e+06\n",
       "9     6.662678e+06\n",
       "10    5.890841e+06\n",
       "11    6.197884e+06\n",
       "12    6.534241e+06\n",
       "Name: last_price, dtype: float64"
      ]
     },
     "execution_count": 50,
     "metadata": {},
     "output_type": "execute_result"
    }
   ],
   "source": [
    "data.groupby('month_exposition')['last_price'].mean()\n",
    "# Действительно, глаза умело подводят:) \n",
    "# Максимальные цены в апреле, мае, июле, сентябре и декабре\n",
    "# Скорее всего дело в том, что эти месяцы либо далеки от наступления зимы, либо уже зима наступила, \n",
    "# поэтому люди выставляют с большей стоимостью квартиры, так как ещё есть время до наступления морозов и праздников\n",
    "# Да, выбивается тогда май, но видимо здесь уже влияет характер отдыха - майские праздники длинные, но прерывистые.  "
   ]
  },
  {
   "cell_type": "code",
   "execution_count": 51,
   "metadata": {},
   "outputs": [
    {
     "name": "stdout",
     "output_type": "stream",
     "text": [
      "-0.044620957223221236\n"
     ]
    },
    {
     "data": {
      "image/png": "[encoded data removed]",
      "text/plain": [
       "<Figure size 720x504 with 1 Axes>"
      ]
     },
     "metadata": {
      "needs_background": "light"
     },
     "output_type": "display_data"
    }
   ],
   "source": [
    "# Изучим зависимость цены от года размещения\n",
    "# Построим график\n",
    "plot(data, 'year_exposition', 'last_price', 'scatter', 0.3, True, 0, 0, 0, 'Влияние года размещения объявления на стоимость квартиры', 'Год размещения объявления', 'Цена за квартиру, руб')\n",
    "# посчитаем корреляцию \n",
    "# коэффициент корреляции близок к нулю\n",
    "# видимо, дело в сложной зависимости: cудя по графику - наиболее благоприятным годом для продажи квартиры был 2017\n",
    "# в 2014 году наблюдается минимальная цена на квартиры - связано с резким падением курса рубля, наступлением кризиса\n",
    "# 2014-2017 годах ситуация стала налаживаться, люди адаптировались к таким условиям и соответсвенно цены на квартиры стали повышаться\n",
    "# После 2017 года рынок недвижимости стал обесцениваться: cвязано это с падением цен за баррель нефти, введение санкций против России\n",
    "# сокращение кадров повсеместсно, рост цен на жизненно необходимые продукты, высокая ставка по ипотеке \n",
    "# Из этого можно сделать вывод, что люди не могут позволить себе купить квартиру из-за нехватки финансов\n",
    "# Многие люди могут позволить себе только съем жилья, так как нет возможности накопить стартовый капитал для ипотеки"
   ]
  },
  {
   "cell_type": "code",
   "execution_count": 52,
   "metadata": {},
   "outputs": [
    {
     "data": {
      "text/plain": [
       "year_exposition\n",
       "2014    1.107274e+07\n",
       "2015    8.182937e+06\n",
       "2016    6.476538e+06\n",
       "2017    6.482079e+06\n",
       "2018    5.677477e+06\n",
       "2019    6.083214e+06\n",
       "Name: last_price, dtype: float64"
      ]
     },
     "execution_count": 52,
     "metadata": {},
     "output_type": "execute_result"
    }
   ],
   "source": [
    "data.groupby('year_exposition')['last_price'].mean()\n",
    "# Очень странно - 2014 оказывается максимальным значением. \n",
    "# Тогда немного добавлю в таком случае к предыдущей ячейке: \n",
    "# Кризис начался не с начала года, а после первой половины, поэтому в среднем цена на квартиры выше в этом году.\n",
    "# А вот влияние 2014 года на последующие года уже заметна невооруженным взглядом..."
   ]
  },
  {
   "cell_type": "code",
   "execution_count": 53,
   "metadata": {},
   "outputs": [
    {
     "data": {
      "text/plain": [
       "Санкт-Петербург      11959\n",
       "посёлок Мурино         449\n",
       "посёлок Шушары         365\n",
       "Всеволожск             312\n",
       "Колпино                275\n",
       "посёлок Парголово      267\n",
       "Пушкин                 266\n",
       "деревня Кудрово        251\n",
       "Гатчина                231\n",
       "Выборг                 191\n",
       "Name: locality_name, dtype: int64"
      ]
     },
     "execution_count": 53,
     "metadata": {},
     "output_type": "execute_result"
    }
   ],
   "source": [
    "# Выберите 10 населённых пунктов с наибольшим числом объявлений.\n",
    "# Посчитайте среднюю цену квадратного метра в этих населённых пунктах. \n",
    "# Выделите населённые пункты с самой высокой и низкой стоимостью жилья. \n",
    "# Эти данные можно найти по имени в столбце 'locality_name'.\n",
    "\n",
    "# Посчитаем кол-во объявлений и выберем топ-10 населенных пунктов\n",
    "top_10_locality = data['locality_name'].value_counts().head(10)\n",
    "top_10_locality"
   ]
  },
  {
   "cell_type": "code",
   "execution_count": 54,
   "metadata": {},
   "outputs": [
    {
     "data": {
      "text/plain": [
       "locality_name\n",
       "посёлок Лисий Нос    168706.000000\n",
       "Зеленогорск          113773.650000\n",
       "Санкт-Петербург      112236.288987\n",
       "Сестрорецк           101962.362416\n",
       "Пушкин               101649.936090\n",
       "Кудрово               97669.409449\n",
       "посёлок Левашово      96997.000000\n",
       "деревня Мистолово     96156.777778\n",
       "деревня Заневка       95454.000000\n",
       "деревня Кудрово       93142.039841\n",
       "Name: price_square_meter, dtype: float64"
      ]
     },
     "execution_count": 54,
     "metadata": {},
     "output_type": "execute_result"
    }
   ],
   "source": [
    "# Посчитаем среднюю цену квадратного метра для каждого из населенных пунктов в топ-10\n",
    "table_locality_square_meter = data.groupby('locality_name')['price_square_meter'].mean().sort_values(ascending=False)\n",
    "table_locality_square_meter.head(10)"
   ]
  },
  {
   "cell_type": "code",
   "execution_count": 55,
   "metadata": {},
   "outputs": [
    {
     "data": {
      "text/plain": [
       "locality_name\n",
       "посёлок Лисий Нос    168706.0\n",
       "Name: price_square_meter, dtype: float64"
      ]
     },
     "execution_count": 55,
     "metadata": {},
     "output_type": "execute_result"
    }
   ],
   "source": [
    "# Самая высокая стоимость за квадратный метр в посёлке Лисий Нос\n",
    "table_locality_square_meter.head(1)"
   ]
  },
  {
   "cell_type": "code",
   "execution_count": 56,
   "metadata": {},
   "outputs": [
    {
     "data": {
      "text/plain": [
       "locality_name\n",
       "деревня Старополье    11206.0\n",
       "Name: price_square_meter, dtype: float64"
      ]
     },
     "execution_count": 56,
     "metadata": {},
     "output_type": "execute_result"
    }
   ],
   "source": [
    "# Cамая низкая стоимость за квадратный метр в деревне Старополье\n",
    "table_locality_square_meter.tail(1)"
   ]
  },
  {
   "cell_type": "code",
   "execution_count": 57,
   "metadata": {},
   "outputs": [
    {
     "name": "stdout",
     "output_type": "stream",
     "text": [
      "nan\n"
     ]
    },
    {
     "data": {
      "image/png": "[encoded data removed]",
      "text/plain": [
       "<Figure size 720x504 with 1 Axes>"
      ]
     },
     "metadata": {
      "needs_background": "light"
     },
     "output_type": "display_data"
    }
   ],
   "source": [
    "# Изучите предложения квартир: для каждой квартиры есть информация о расстоянии до центра. \n",
    "# Выделите квартиры в Санкт-Петербурге ('locality_name'). \n",
    "# Ваша задача — выяснить, какая область входит в центр. \n",
    "# Создайте столбец с расстоянием до центра в километрах: округлите до целых значений. \n",
    "# После этого посчитайте среднюю цену для каждого километра. \n",
    "# Постройте график: он должен показывать, как цена зависит от удалённости от центра. \n",
    "# Определите границу, где график сильно меняется — это и будет центральная зона.\n",
    "\n",
    "# Создадим столбец с расстоянием до центра в километрах\n",
    "data['cityCenters_nearest_km'] = data['cityCenters_nearest'] / 1000\n",
    "data['cityCenters_nearest_km'] = data['cityCenters_nearest_km'].astype('int')\n",
    "# Создадим столбец с ценами за каждый километр\n",
    "data['price_for_km'] = data['last_price'] / data['cityCenters_nearest_km']\n",
    "# Построим график, показывающий как цена за каждый километр зависит от удаленности от центра\n",
    "plot(data, 'cityCenters_nearest_km', 'price_for_km', 'scatter', 1, True, 0, 1, 8, 'Влияние расстояния (удаленности) от центра на цену за каждый километр', 'Удаленность от центра, км', 'Цена за квадратный метр, руб')\n",
    "# Судя по всему - радиус центральной зоны около 8 км. "
   ]
  },
  {
   "cell_type": "code",
   "execution_count": 58,
   "metadata": {},
   "outputs": [
    {
     "name": "stdout",
     "output_type": "stream",
     "text": [
      "count    7372.000000\n",
      "mean       65.210874\n",
      "std        43.505828\n",
      "min        12.000000\n",
      "25%        41.000000\n",
      "50%        54.300000\n",
      "75%        74.200000\n",
      "max       900.000000\n",
      "Name: total_area, dtype: float64\n"
     ]
    },
    {
     "data": {
      "image/png": "[encoded data removed]",
      "text/plain": [
       "<Figure size 720x504 with 1 Axes>"
      ]
     },
     "metadata": {
      "needs_background": "light"
     },
     "output_type": "display_data"
    }
   ],
   "source": [
    "# Выделите сегмент квартир в центре. \n",
    "# Проанализируйте эту территорию и изучите следующие параметры: площадь, цена, число комнат, высота потолков. \n",
    "# Также выделите факторы, которые влияют на стоимость квартиры\n",
    "# (число комнат, этаж, удалённость от центра, дата размещения объявления). \n",
    "# Сделайте выводы. Отличаются ли они от общих выводов по всему городу?\n",
    "\n",
    "# Выделим сгемент квартир в радиусе 7км \n",
    "data_center = data.query('cityCenters_nearest_km <= 8')\n",
    "# Изучим параметры, пойдем по порядку - площадь\n",
    "hist(data_center, 'total_area', 50, 0, 1000, 1, 'Распределение значений площади квартиры в центре', 'Площадь квартиры, м^2', 'Частота')\n",
    "# Среднее и медиана стали выше по сравнению со всей выборкой"
   ]
  },
  {
   "cell_type": "code",
   "execution_count": 59,
   "metadata": {},
   "outputs": [
    {
     "name": "stdout",
     "output_type": "stream",
     "text": [
      "count    7.372000e+03\n",
      "mean     7.444848e+06\n",
      "std      1.692185e+07\n",
      "min      4.300000e+05\n",
      "25%      2.600000e+06\n",
      "50%      4.100000e+06\n",
      "75%      7.681498e+06\n",
      "max      7.630000e+08\n",
      "Name: last_price, dtype: float64\n"
     ]
    },
    {
     "data": {
      "image/png": "[encoded data removed]",
      "text/plain": [
       "<Figure size 720x504 with 1 Axes>"
      ]
     },
     "metadata": {
      "needs_background": "light"
     },
     "output_type": "display_data"
    }
   ],
   "source": [
    "# Изучим параметр - цену\n",
    "hist(data_center, 'last_price', 100, 0, 1e08, 1, 'Распределение значений цены квартиры в центре', 'Цена за квартиру, руб', 'Частота')\n",
    "# Как и предполагалось - цены на квартире в центре выше, чем в других зонах"
   ]
  },
  {
   "cell_type": "code",
   "execution_count": 60,
   "metadata": {},
   "outputs": [
    {
     "name": "stdout",
     "output_type": "stream",
     "text": [
      "count    7372.000000\n",
      "mean        2.177971\n",
      "std         1.190480\n",
      "min         0.000000\n",
      "25%         1.000000\n",
      "50%         2.000000\n",
      "75%         3.000000\n",
      "max        19.000000\n",
      "Name: rooms, dtype: float64\n"
     ]
    },
    {
     "data": {
      "image/png": "[encoded data removed]",
      "text/plain": [
       "<Figure size 720x504 with 1 Axes>"
      ]
     },
     "metadata": {
      "needs_background": "light"
     },
     "output_type": "display_data"
    }
   ],
   "source": [
    "# Изучим параметр - число комнат\n",
    "hist(data_center, 'rooms', 30, 0, 10, 1, 'Распределение значений числа комнат квартиры в центре', 'Число комнат', 'Частота')\n",
    "# По соотношению - больше стало многокомнатных квартир (3+ комнат), однако стало меньше \"однушек\"."
   ]
  },
  {
   "cell_type": "code",
   "execution_count": 61,
   "metadata": {},
   "outputs": [
    {
     "name": "stdout",
     "output_type": "stream",
     "text": [
      "count    4125.00000\n",
      "mean        2.89351\n",
      "std         1.86503\n",
      "min         1.20000\n",
      "25%         2.55000\n",
      "50%         2.71000\n",
      "75%         3.00000\n",
      "max       100.00000\n",
      "Name: ceiling_height, dtype: float64\n"
     ]
    },
    {
     "data": {
      "image/png": "[encoded data removed]",
      "text/plain": [
       "<Figure size 720x504 with 1 Axes>"
      ]
     },
     "metadata": {
      "needs_background": "light"
     },
     "output_type": "display_data"
    }
   ],
   "source": [
    "# Изучим параметр - высота потолков\n",
    "data_ceiling_height = data_center.query('ceiling_height >=0')\n",
    "hist(data_ceiling_height, 'ceiling_height', 30, 0, 10, 1, 'Распределение значений высоты потолков квартиры в центре', 'Высота потолка, м', 'Частота')\n",
    "# В центре больше квартир с относительно высокими потолками (цифра ближе 3 метрам)"
   ]
  },
  {
   "cell_type": "code",
   "execution_count": 62,
   "metadata": {},
   "outputs": [
    {
     "name": "stdout",
     "output_type": "stream",
     "text": [
      "0.3498294088159013\n"
     ]
    },
    {
     "data": {
      "image/png": "[encoded data removed]",
      "text/plain": [
       "<Figure size 720x504 with 1 Axes>"
      ]
     },
     "metadata": {
      "needs_background": "light"
     },
     "output_type": "display_data"
    }
   ],
   "source": [
    "# Проверим факторы, влияющие на стоимость квартиры \n",
    "# 1.число комнат \n",
    "# Для этого построим график \n",
    "plot(data_center, 'rooms', 'last_price', 'scatter', 1, True, 0, 0, 0, 'Влияние числа комнат в квартире на её стоимость в центре', 'Количество комнат', 'Цена за квартиру, руб')\n",
    "# Посчитаем корреляцию \n",
    "# Зависимость похожа на ту, которая была ранее - для всей выборки\n",
    "# Сначала идет повышение цен с увеличением количества комнат, затем идет падение.\n",
    "# Вероятно, что связано с влиянием и других факторов на стоимость жилья"
   ]
  },
  {
   "cell_type": "code",
   "execution_count": 63,
   "metadata": {
    "scrolled": true
   },
   "outputs": [
    {
     "data": {
      "image/png": "[encoded data removed]",
      "text/plain": [
       "<Figure size 720x504 with 1 Axes>"
      ]
     },
     "metadata": {
      "needs_background": "light"
     },
     "output_type": "display_data"
    }
   ],
   "source": [
    "# 2.этаж\n",
    "# Для этого построим гистограмму\n",
    "plot(data_center, 'floor_category', 'last_price', 'bar', 1, False, 1, 0, 0, 'Влияние этажа квартиры на её стоимость в центре', 'Этаж', 'Цена за квартиру, руб')"
   ]
  },
  {
   "cell_type": "code",
   "execution_count": 64,
   "metadata": {},
   "outputs": [
    {
     "data": {
      "text/plain": [
       "0.048666325936815545"
      ]
     },
     "execution_count": 64,
     "metadata": {},
     "output_type": "execute_result"
    }
   ],
   "source": [
    "# Посчитаем корреляцию \n",
    "data_center['last_price'].corr(data['floor']) \n",
    "# Корреляция Пирсона для порядковых переменных не является хорошим вариантом для проверки истинной корреляции "
   ]
  },
  {
   "cell_type": "code",
   "execution_count": 65,
   "metadata": {},
   "outputs": [
    {
     "name": "stdout",
     "output_type": "stream",
     "text": [
      "0.00962721267576872\n"
     ]
    },
    {
     "data": {
      "image/png": "[encoded data removed]",
      "text/plain": [
       "<Figure size 720x504 with 1 Axes>"
      ]
     },
     "metadata": {
      "needs_background": "light"
     },
     "output_type": "display_data"
    }
   ],
   "source": [
    "# 3.удалённость от центра\n",
    "# Для этого построим гистограмму\n",
    "plot(data_center, 'cityCenters_nearest_km', 'last_price', 'scatter', 1, True, 0, 0, 0, 'Влияние расстояния (удаленности) от центра на стоимость квартиры в центре', 'Удаленность от центра, км', 'Цена за квартиру, руб')\n",
    "# Интересное наблюдение - в пределах 7 км цена практически не зависит от местоположения\n",
    "# Вероятно, связано с близким местоположениям к различным достопримечательностям, поэтому нет единой точки в центре, \n",
    "# где цена бы была значительно выше, чем в других \n",
    "# Однако можно отметить, что цена \"нулевого\" километра меньше остальных - видимо, дело в повышенном шуме с улицы\n"
   ]
  },
  {
   "cell_type": "code",
   "execution_count": 66,
   "metadata": {},
   "outputs": [
    {
     "data": {
      "text/plain": [
       "cityCenters_nearest_km\n",
       "-9    4186\n",
       " 0      57\n",
       " 1     170\n",
       " 2     227\n",
       " 3     366\n",
       " 4     662\n",
       " 5     553\n",
       " 6     331\n",
       " 7     329\n",
       " 8     491\n",
       "Name: last_price, dtype: int64"
      ]
     },
     "execution_count": 66,
     "metadata": {},
     "output_type": "execute_result"
    }
   ],
   "source": [
    "data_center.groupby('cityCenters_nearest_km')['last_price'].count()\n",
    "# Действительно, квартир на нулевом километре действительно меньше всего:) "
   ]
  },
  {
   "cell_type": "code",
   "execution_count": 67,
   "metadata": {},
   "outputs": [
    {
     "name": "stdout",
     "output_type": "stream",
     "text": [
      "0.003665108700806614\n"
     ]
    },
    {
     "data": {
      "image/png": "[encoded data removed]",
      "text/plain": [
       "<Figure size 720x504 with 1 Axes>"
      ]
     },
     "metadata": {
      "needs_background": "light"
     },
     "output_type": "display_data"
    }
   ],
   "source": [
    "# 3. дата размещения объявления\n",
    "# В зависимости от дня недели\n",
    "# Построим график \n",
    "plot(data_center, 'weekday_exposition', 'last_price', 'scatter', 0.3, True, 0, 0, 0, 'Влияние дня размещения объявления на стоимость квартиры в центре', 'День размещения объявления', 'Цена за квартиру, руб')\n",
    "# Вероятно, что причина такого распределения значений такая же как и для всей выборки"
   ]
  },
  {
   "cell_type": "code",
   "execution_count": 68,
   "metadata": {},
   "outputs": [
    {
     "data": {
      "text/plain": [
       "weekday_exposition\n",
       "0    7.457739e+06\n",
       "1    7.009701e+06\n",
       "2    7.718278e+06\n",
       "3    7.481543e+06\n",
       "4    6.941431e+06\n",
       "5    9.289442e+06\n",
       "6    6.696423e+06\n",
       "Name: last_price, dtype: float64"
      ]
     },
     "execution_count": 68,
     "metadata": {},
     "output_type": "execute_result"
    }
   ],
   "source": [
    "data_center.groupby('weekday_exposition')['last_price'].mean()"
   ]
  },
  {
   "cell_type": "code",
   "execution_count": 69,
   "metadata": {},
   "outputs": [
    {
     "name": "stdout",
     "output_type": "stream",
     "text": [
      "0.004511498468279234\n"
     ]
    },
    {
     "data": {
      "image/png": "[encoded data removed]",
      "text/plain": [
       "<Figure size 720x504 with 1 Axes>"
      ]
     },
     "metadata": {
      "needs_background": "light"
     },
     "output_type": "display_data"
    }
   ],
   "source": [
    "# В зависимости от месяца \n",
    "# Построим график \n",
    "plot(data_center, 'month_exposition', 'last_price', 'scatter', 0.3, True, 0, 0, 0, 'Влияние месяца размещения объявления на стоимость квартиры в центре', 'Месяц размещения объявления', 'Цена за квартиру, руб')\n",
    "# Распределение значений аналогично тому, как и по всей зоней"
   ]
  },
  {
   "cell_type": "code",
   "execution_count": 70,
   "metadata": {},
   "outputs": [
    {
     "data": {
      "text/plain": [
       "month_exposition\n",
       "1     6.684504e+06\n",
       "2     7.324847e+06\n",
       "3     6.581685e+06\n",
       "4     8.399326e+06\n",
       "5     8.220417e+06\n",
       "6     7.508352e+06\n",
       "7     8.135281e+06\n",
       "8     6.769588e+06\n",
       "9     8.317242e+06\n",
       "10    6.826527e+06\n",
       "11    7.199774e+06\n",
       "12    7.755649e+06\n",
       "Name: last_price, dtype: float64"
      ]
     },
     "execution_count": 70,
     "metadata": {},
     "output_type": "execute_result"
    }
   ],
   "source": [
    "data_center.groupby('month_exposition')['last_price'].mean()"
   ]
  },
  {
   "cell_type": "code",
   "execution_count": 71,
   "metadata": {},
   "outputs": [
    {
     "name": "stdout",
     "output_type": "stream",
     "text": [
      "-0.044620957223221236\n"
     ]
    },
    {
     "data": {
      "image/png": "[encoded data removed]",
      "text/plain": [
       "<Figure size 720x504 with 1 Axes>"
      ]
     },
     "metadata": {
      "needs_background": "light"
     },
     "output_type": "display_data"
    }
   ],
   "source": [
    "# В зависимости от года размещения\n",
    "# Построим график \n",
    "plot(data_center, 'year_exposition', 'last_price', 'scatter', 0.3, True, 0, 0, 0, 'Влияние года размещения объявления на стоимость квартиры в центре', 'Год размещения объявления', 'Цена за квартиру, руб')\n",
    "# Причина такого распределения такая же, как и для полной выборки - кризис не пощадил никого."
   ]
  },
  {
   "cell_type": "code",
   "execution_count": 72,
   "metadata": {},
   "outputs": [
    {
     "data": {
      "text/plain": [
       "year_exposition\n",
       "2014    1.433379e+07\n",
       "2015    1.140195e+07\n",
       "2016    8.365127e+06\n",
       "2017    8.121804e+06\n",
       "2018    5.945771e+06\n",
       "2019    7.066577e+06\n",
       "Name: last_price, dtype: float64"
      ]
     },
     "execution_count": 72,
     "metadata": {},
     "output_type": "execute_result"
    }
   ],
   "source": [
    "data_center.groupby('year_exposition')['last_price'].mean()\n",
    "# Заметно, что в 2019 году появился некий рост цен на квартиры в отличие от всей рассматриваемой зоны"
   ]
  },
  {
   "cell_type": "code",
   "execution_count": 73,
   "metadata": {},
   "outputs": [
    {
     "data": {
      "text/plain": [
       "(2.7712870945479637, 2.893510303030303)"
      ]
     },
     "execution_count": 73,
     "metadata": {},
     "output_type": "execute_result"
    }
   ],
   "source": [
    "# Сравним среднюю высоту во всей зоне и высоту потолко в центре \n",
    "mean_ceiling_height  = data_for_ceiling['ceiling_height'].mean()\n",
    "mean_center_ceiling_height = data_ceiling_height['ceiling_height'].mean()\n",
    "mean_ceiling_height, mean_center_ceiling_height\n",
    "# Высота потолков квартир в центральном сегменте все-таки выше, чем по всей зоне"
   ]
  },
  {
   "cell_type": "markdown",
   "metadata": {},
   "source": [
    "**Вывод**\n",
    "<ul>\n",
    "    Был проведен исследовательский анализ на основе данных Яндекс.Недвижимости за 2014-2019 года. В ходе исследований было выявлено, что:\n",
    "    <li> с повышением площади квартиры увеличивается рыночная стоимость жилья </li>\n",
    "    <li> наименьшой ценой обладают квартиры на первом этаже, максимальной - последним </li>\n",
    "    <li> чем ближе находится квартира к центру, тем выше цена на жилье </li> \n",
    "    <li> цена выше на квартиры с высокими потолками (~3 метра) </li>\n",
    "    <li> цены зависят от даты размещения объявления (особенно от года, меньше от месяца и незначительно от дня недели) </li> \n",
    "    <li> были проанализированы сроки продажи квартир: выявлено, что есть аномально быстрые и медленные продажи, которые в дальнейшем были исключены из датафрейма\n",
    "</ul>\n",
    "    "
   ]
  },
  {
   "cell_type": "markdown",
   "metadata": {},
   "source": [
    "### Шаг 5. Общий вывод"
   ]
  },
  {
   "cell_type": "markdown",
   "metadata": {},
   "source": [
    "Рыночная стоимость зависит от нескольких параметров одновременно:\n",
    "<ul>\n",
    "    <li> площади квартиры </li>\n",
    "    <li> этажа </li>\n",
    "    <li> местоположения квартиры (в том числе и удаленности от центра) </li>\n",
    "    <li> высоту потолков </li>\n",
    "    <li> даты размещения (особенно от года размещения) </li>\n",
    "</ul>\n",
    "Таким образом, учитывая все виды данных (пользовательские и автоматические), можно построить качественную автоматизированную систему, позволяющую отслеживать аномалии и мошенническую деятельность. "
   ]
  },
  {
   "cell_type": "markdown",
   "metadata": {},
   "source": [
    "### Чек-лист готовности проекта\n",
    "\n",
    "Поставьте 'x' в выполненных пунктах. Далее нажмите Shift+Enter."
   ]
  },
  {
   "cell_type": "markdown",
   "metadata": {},
   "source": [
    "- [x]  открыт файл\n",
    "- [x]  файлы изучены (выведены первые строки, метод info())\n",
    "- [x]  определены пропущенные значения\n",
    "- [x]  заполнены пропущенные значения\n",
    "- [x]  есть пояснение какие пропущенные значения обнаружены\n",
    "- [x]  изменены типы данных\n",
    "- [x]  есть пояснение в каких столбцах изменены типы и почему\n",
    "- [x]  посчитано и добавлено в таблицу: цена квадратного метра\n",
    "- [x]  посчитано и добавлено в таблицу: день недели, месяц и год публикации объявления\n",
    "- [x]  посчитано и добавлено в таблицу: этаж квартиры; варианты — первый, последний, другой\n",
    "- [x]  посчитано и добавлено в таблицу: соотношение жилой и общей площади, а также отношение площади кухни к общей\n",
    "- [x]  изучены следующие параметры: площадь, цена, число комнат, высота потолков\n",
    "- [x]  построены гистограммы для каждого параметра\n",
    "- [x]  выполнено задание: \"Изучите время продажи квартиры. Постройте гистограмму. Посчитайте среднее и медиану. Опишите, сколько обычно занимает продажа. Когда можно считать, что продажи прошли очень быстро, а когда необычно долго?\"\n",
    "- [x]  выполнено задание: \"Уберите редкие и выбивающиеся значения. Опишите, какие особенности обнаружили.\"\n",
    "- [x]  выполнено задание: \"Какие факторы больше всего влияют на стоимость квартиры? Изучите, зависит ли цена от квадратного метра, числа комнат, этажа (первого или последнего), удалённости от центра. Также изучите зависимость от даты размещения: дня недели, месяца и года. \"Выберите 10 населённых пунктов с наибольшим числом объявлений. Посчитайте среднюю цену квадратного метра в этих населённых пунктах. Выделите населённые пункты с самой высокой и низкой стоимостью жилья. Эти данные можно найти по имени в столбце '*locality_name'*. \"\n",
    "- [x]  выполнено задание: \"Изучите предложения квартир: для каждой квартиры есть информация о расстоянии до центра. Выделите квартиры в Санкт-Петербурге (*'locality_name'*). Ваша задача — выяснить, какая область входит в центр. Создайте столбец с расстоянием до центра в километрах: округлите до целых значений. После этого посчитайте среднюю цену для каждого километра. Постройте график: он должен показывать, как цена зависит от удалённости от центра. Определите границу, где график сильно меняется — это и будет центральная зона. \"\n",
    "- [x]  выполнено задание: \"Выделите сегмент квартир в центре. Проанализируйте эту территорию и изучите следующие параметры: площадь, цена, число комнат, высота потолков. Также выделите факторы, которые влияют на стоимость квартиры (число комнат, этаж, удалённость от центра, дата размещения объявления). Сделайте выводы. Отличаются ли они от общих выводов по всему городу?\"\n",
    "- [x]  в каждом этапе есть выводы\n",
    "- [x]  есть общий вывод"
   ]
  }
 ],
 "metadata": {
  "kernelspec": {
   "display_name": "Python 3",
   "language": "python",
   "name": "python3"
  },
  "language_info": {
   "codemirror_mode": {
    "name": "ipython",
    "version": 3
   },
   "file_extension": ".py",
   "mimetype": "text/x-python",
   "name": "python",
   "nbconvert_exporter": "python",
   "pygments_lexer": "ipython3",
   "version": "3.7.4"
  }
 },
 "nbformat": 4,
 "nbformat_minor": 2
}
