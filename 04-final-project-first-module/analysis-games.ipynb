{
 "cells": [
  {
   "cell_type": "markdown",
   "metadata": {},
   "source": [
    "## Сборный проект ##\n",
    "\n",
    "Cфера деятельности - интернет-магазин компьютерных игр.\n",
    "Из открытых источников доступны исторические данные о продажах игр, оценки пользователей и экспертов, жанры и платформы (например, Xbox или PlayStation). Необходимо выявить определяющие успешность игры закономерности. Это позволит сделать ставку на потенциально популярный продукт и спланировать рекламные кампании."
   ]
  },
  {
   "cell_type": "markdown",
   "metadata": {},
   "source": [
    "### Шаг 1. Изучение общей информации о данных"
   ]
  },
  {
   "cell_type": "code",
   "execution_count": 1,
   "metadata": {},
   "outputs": [],
   "source": [
    "import pandas as pd\n",
    "import warnings\n",
    "warnings.filterwarnings('ignore')\n",
    "import numpy as np\n",
    "from scipy import stats as st\n",
    "import random\n",
    "import matplotlib.pyplot as plt\n",
    "import seaborn as sns"
   ]
  },
  {
   "cell_type": "code",
   "execution_count": 2,
   "metadata": {},
   "outputs": [],
   "source": [
    "data = pd.read_csv('/datasets/games.csv')"
   ]
  },
  {
   "cell_type": "code",
   "execution_count": 3,
   "metadata": {},
   "outputs": [
    {
     "name": "stdout",
     "output_type": "stream",
     "text": [
      "<class 'pandas.core.frame.DataFrame'>\n",
      "RangeIndex: 16715 entries, 0 to 16714\n",
      "Data columns (total 11 columns):\n",
      "Name               16713 non-null object\n",
      "Platform           16715 non-null object\n",
      "Year_of_Release    16446 non-null float64\n",
      "Genre              16713 non-null object\n",
      "NA_sales           16715 non-null float64\n",
      "EU_sales           16715 non-null float64\n",
      "JP_sales           16715 non-null float64\n",
      "Other_sales        16715 non-null float64\n",
      "Critic_Score       8137 non-null float64\n",
      "User_Score         10014 non-null object\n",
      "Rating             9949 non-null object\n",
      "dtypes: float64(6), object(5)\n",
      "memory usage: 1.4+ MB\n"
     ]
    }
   ],
   "source": [
    "data.info()"
   ]
  },
  {
   "cell_type": "code",
   "execution_count": 4,
   "metadata": {},
   "outputs": [
    {
     "data": {
      "text/html": [
       "<div>\n",
       "<style scoped>\n",
       "    .dataframe tbody tr th:only-of-type {\n",
       "        vertical-align: middle;\n",
       "    }\n",
       "\n",
       "    .dataframe tbody tr th {\n",
       "        vertical-align: top;\n",
       "    }\n",
       "\n",
       "    .dataframe thead th {\n",
       "        text-align: right;\n",
       "    }\n",
       "</style>\n",
       "<table border=\"1\" class=\"dataframe\">\n",
       "  <thead>\n",
       "    <tr style=\"text-align: right;\">\n",
       "      <th></th>\n",
       "      <th>Year_of_Release</th>\n",
       "      <th>NA_sales</th>\n",
       "      <th>EU_sales</th>\n",
       "      <th>JP_sales</th>\n",
       "      <th>Other_sales</th>\n",
       "      <th>Critic_Score</th>\n",
       "    </tr>\n",
       "  </thead>\n",
       "  <tbody>\n",
       "    <tr>\n",
       "      <td>count</td>\n",
       "      <td>16446.000000</td>\n",
       "      <td>16715.000000</td>\n",
       "      <td>16715.000000</td>\n",
       "      <td>16715.000000</td>\n",
       "      <td>16715.000000</td>\n",
       "      <td>8137.000000</td>\n",
       "    </tr>\n",
       "    <tr>\n",
       "      <td>mean</td>\n",
       "      <td>2006.484616</td>\n",
       "      <td>0.263377</td>\n",
       "      <td>0.145060</td>\n",
       "      <td>0.077617</td>\n",
       "      <td>0.047342</td>\n",
       "      <td>68.967679</td>\n",
       "    </tr>\n",
       "    <tr>\n",
       "      <td>std</td>\n",
       "      <td>5.877050</td>\n",
       "      <td>0.813604</td>\n",
       "      <td>0.503339</td>\n",
       "      <td>0.308853</td>\n",
       "      <td>0.186731</td>\n",
       "      <td>13.938165</td>\n",
       "    </tr>\n",
       "    <tr>\n",
       "      <td>min</td>\n",
       "      <td>1980.000000</td>\n",
       "      <td>0.000000</td>\n",
       "      <td>0.000000</td>\n",
       "      <td>0.000000</td>\n",
       "      <td>0.000000</td>\n",
       "      <td>13.000000</td>\n",
       "    </tr>\n",
       "    <tr>\n",
       "      <td>25%</td>\n",
       "      <td>2003.000000</td>\n",
       "      <td>0.000000</td>\n",
       "      <td>0.000000</td>\n",
       "      <td>0.000000</td>\n",
       "      <td>0.000000</td>\n",
       "      <td>60.000000</td>\n",
       "    </tr>\n",
       "    <tr>\n",
       "      <td>50%</td>\n",
       "      <td>2007.000000</td>\n",
       "      <td>0.080000</td>\n",
       "      <td>0.020000</td>\n",
       "      <td>0.000000</td>\n",
       "      <td>0.010000</td>\n",
       "      <td>71.000000</td>\n",
       "    </tr>\n",
       "    <tr>\n",
       "      <td>75%</td>\n",
       "      <td>2010.000000</td>\n",
       "      <td>0.240000</td>\n",
       "      <td>0.110000</td>\n",
       "      <td>0.040000</td>\n",
       "      <td>0.030000</td>\n",
       "      <td>79.000000</td>\n",
       "    </tr>\n",
       "    <tr>\n",
       "      <td>max</td>\n",
       "      <td>2016.000000</td>\n",
       "      <td>41.360000</td>\n",
       "      <td>28.960000</td>\n",
       "      <td>10.220000</td>\n",
       "      <td>10.570000</td>\n",
       "      <td>98.000000</td>\n",
       "    </tr>\n",
       "  </tbody>\n",
       "</table>\n",
       "</div>"
      ],
      "text/plain": [
       "       Year_of_Release      NA_sales      EU_sales      JP_sales  \\\n",
       "count     16446.000000  16715.000000  16715.000000  16715.000000   \n",
       "mean       2006.484616      0.263377      0.145060      0.077617   \n",
       "std           5.877050      0.813604      0.503339      0.308853   \n",
       "min        1980.000000      0.000000      0.000000      0.000000   \n",
       "25%        2003.000000      0.000000      0.000000      0.000000   \n",
       "50%        2007.000000      0.080000      0.020000      0.000000   \n",
       "75%        2010.000000      0.240000      0.110000      0.040000   \n",
       "max        2016.000000     41.360000     28.960000     10.220000   \n",
       "\n",
       "        Other_sales  Critic_Score  \n",
       "count  16715.000000   8137.000000  \n",
       "mean       0.047342     68.967679  \n",
       "std        0.186731     13.938165  \n",
       "min        0.000000     13.000000  \n",
       "25%        0.000000     60.000000  \n",
       "50%        0.010000     71.000000  \n",
       "75%        0.030000     79.000000  \n",
       "max       10.570000     98.000000  "
      ]
     },
     "execution_count": 4,
     "metadata": {},
     "output_type": "execute_result"
    }
   ],
   "source": [
    "data.describe()"
   ]
  },
  {
   "cell_type": "code",
   "execution_count": 5,
   "metadata": {},
   "outputs": [
    {
     "data": {
      "text/html": [
       "<div>\n",
       "<style scoped>\n",
       "    .dataframe tbody tr th:only-of-type {\n",
       "        vertical-align: middle;\n",
       "    }\n",
       "\n",
       "    .dataframe tbody tr th {\n",
       "        vertical-align: top;\n",
       "    }\n",
       "\n",
       "    .dataframe thead th {\n",
       "        text-align: right;\n",
       "    }\n",
       "</style>\n",
       "<table border=\"1\" class=\"dataframe\">\n",
       "  <thead>\n",
       "    <tr style=\"text-align: right;\">\n",
       "      <th></th>\n",
       "      <th>Name</th>\n",
       "      <th>Platform</th>\n",
       "      <th>Year_of_Release</th>\n",
       "      <th>Genre</th>\n",
       "      <th>NA_sales</th>\n",
       "      <th>EU_sales</th>\n",
       "      <th>JP_sales</th>\n",
       "      <th>Other_sales</th>\n",
       "      <th>Critic_Score</th>\n",
       "      <th>User_Score</th>\n",
       "      <th>Rating</th>\n",
       "    </tr>\n",
       "  </thead>\n",
       "  <tbody>\n",
       "    <tr>\n",
       "      <td>0</td>\n",
       "      <td>Wii Sports</td>\n",
       "      <td>Wii</td>\n",
       "      <td>2006.0</td>\n",
       "      <td>Sports</td>\n",
       "      <td>41.36</td>\n",
       "      <td>28.96</td>\n",
       "      <td>3.77</td>\n",
       "      <td>8.45</td>\n",
       "      <td>76.0</td>\n",
       "      <td>8</td>\n",
       "      <td>E</td>\n",
       "    </tr>\n",
       "    <tr>\n",
       "      <td>1</td>\n",
       "      <td>Super Mario Bros.</td>\n",
       "      <td>NES</td>\n",
       "      <td>1985.0</td>\n",
       "      <td>Platform</td>\n",
       "      <td>29.08</td>\n",
       "      <td>3.58</td>\n",
       "      <td>6.81</td>\n",
       "      <td>0.77</td>\n",
       "      <td>NaN</td>\n",
       "      <td>NaN</td>\n",
       "      <td>NaN</td>\n",
       "    </tr>\n",
       "    <tr>\n",
       "      <td>2</td>\n",
       "      <td>Mario Kart Wii</td>\n",
       "      <td>Wii</td>\n",
       "      <td>2008.0</td>\n",
       "      <td>Racing</td>\n",
       "      <td>15.68</td>\n",
       "      <td>12.76</td>\n",
       "      <td>3.79</td>\n",
       "      <td>3.29</td>\n",
       "      <td>82.0</td>\n",
       "      <td>8.3</td>\n",
       "      <td>E</td>\n",
       "    </tr>\n",
       "    <tr>\n",
       "      <td>3</td>\n",
       "      <td>Wii Sports Resort</td>\n",
       "      <td>Wii</td>\n",
       "      <td>2009.0</td>\n",
       "      <td>Sports</td>\n",
       "      <td>15.61</td>\n",
       "      <td>10.93</td>\n",
       "      <td>3.28</td>\n",
       "      <td>2.95</td>\n",
       "      <td>80.0</td>\n",
       "      <td>8</td>\n",
       "      <td>E</td>\n",
       "    </tr>\n",
       "    <tr>\n",
       "      <td>4</td>\n",
       "      <td>Pokemon Red/Pokemon Blue</td>\n",
       "      <td>GB</td>\n",
       "      <td>1996.0</td>\n",
       "      <td>Role-Playing</td>\n",
       "      <td>11.27</td>\n",
       "      <td>8.89</td>\n",
       "      <td>10.22</td>\n",
       "      <td>1.00</td>\n",
       "      <td>NaN</td>\n",
       "      <td>NaN</td>\n",
       "      <td>NaN</td>\n",
       "    </tr>\n",
       "  </tbody>\n",
       "</table>\n",
       "</div>"
      ],
      "text/plain": [
       "                       Name Platform  Year_of_Release         Genre  NA_sales  \\\n",
       "0                Wii Sports      Wii           2006.0        Sports     41.36   \n",
       "1         Super Mario Bros.      NES           1985.0      Platform     29.08   \n",
       "2            Mario Kart Wii      Wii           2008.0        Racing     15.68   \n",
       "3         Wii Sports Resort      Wii           2009.0        Sports     15.61   \n",
       "4  Pokemon Red/Pokemon Blue       GB           1996.0  Role-Playing     11.27   \n",
       "\n",
       "   EU_sales  JP_sales  Other_sales  Critic_Score User_Score Rating  \n",
       "0     28.96      3.77         8.45          76.0          8      E  \n",
       "1      3.58      6.81         0.77           NaN        NaN    NaN  \n",
       "2     12.76      3.79         3.29          82.0        8.3      E  \n",
       "3     10.93      3.28         2.95          80.0          8      E  \n",
       "4      8.89     10.22         1.00           NaN        NaN    NaN  "
      ]
     },
     "execution_count": 5,
     "metadata": {},
     "output_type": "execute_result"
    }
   ],
   "source": [
    "data.head()"
   ]
  },
  {
   "cell_type": "code",
   "execution_count": 6,
   "metadata": {},
   "outputs": [
    {
     "data": {
      "text/html": [
       "<div>\n",
       "<style scoped>\n",
       "    .dataframe tbody tr th:only-of-type {\n",
       "        vertical-align: middle;\n",
       "    }\n",
       "\n",
       "    .dataframe tbody tr th {\n",
       "        vertical-align: top;\n",
       "    }\n",
       "\n",
       "    .dataframe thead th {\n",
       "        text-align: right;\n",
       "    }\n",
       "</style>\n",
       "<table border=\"1\" class=\"dataframe\">\n",
       "  <thead>\n",
       "    <tr style=\"text-align: right;\">\n",
       "      <th></th>\n",
       "      <th>Name</th>\n",
       "      <th>Platform</th>\n",
       "      <th>Year_of_Release</th>\n",
       "      <th>Genre</th>\n",
       "      <th>NA_sales</th>\n",
       "      <th>EU_sales</th>\n",
       "      <th>JP_sales</th>\n",
       "      <th>Other_sales</th>\n",
       "      <th>Critic_Score</th>\n",
       "      <th>User_Score</th>\n",
       "      <th>Rating</th>\n",
       "    </tr>\n",
       "  </thead>\n",
       "  <tbody>\n",
       "    <tr>\n",
       "      <td>16710</td>\n",
       "      <td>Samurai Warriors: Sanada Maru</td>\n",
       "      <td>PS3</td>\n",
       "      <td>2016.0</td>\n",
       "      <td>Action</td>\n",
       "      <td>0.00</td>\n",
       "      <td>0.00</td>\n",
       "      <td>0.01</td>\n",
       "      <td>0.0</td>\n",
       "      <td>NaN</td>\n",
       "      <td>NaN</td>\n",
       "      <td>NaN</td>\n",
       "    </tr>\n",
       "    <tr>\n",
       "      <td>16711</td>\n",
       "      <td>LMA Manager 2007</td>\n",
       "      <td>X360</td>\n",
       "      <td>2006.0</td>\n",
       "      <td>Sports</td>\n",
       "      <td>0.00</td>\n",
       "      <td>0.01</td>\n",
       "      <td>0.00</td>\n",
       "      <td>0.0</td>\n",
       "      <td>NaN</td>\n",
       "      <td>NaN</td>\n",
       "      <td>NaN</td>\n",
       "    </tr>\n",
       "    <tr>\n",
       "      <td>16712</td>\n",
       "      <td>Haitaka no Psychedelica</td>\n",
       "      <td>PSV</td>\n",
       "      <td>2016.0</td>\n",
       "      <td>Adventure</td>\n",
       "      <td>0.00</td>\n",
       "      <td>0.00</td>\n",
       "      <td>0.01</td>\n",
       "      <td>0.0</td>\n",
       "      <td>NaN</td>\n",
       "      <td>NaN</td>\n",
       "      <td>NaN</td>\n",
       "    </tr>\n",
       "    <tr>\n",
       "      <td>16713</td>\n",
       "      <td>Spirits &amp; Spells</td>\n",
       "      <td>GBA</td>\n",
       "      <td>2003.0</td>\n",
       "      <td>Platform</td>\n",
       "      <td>0.01</td>\n",
       "      <td>0.00</td>\n",
       "      <td>0.00</td>\n",
       "      <td>0.0</td>\n",
       "      <td>NaN</td>\n",
       "      <td>NaN</td>\n",
       "      <td>NaN</td>\n",
       "    </tr>\n",
       "    <tr>\n",
       "      <td>16714</td>\n",
       "      <td>Winning Post 8 2016</td>\n",
       "      <td>PSV</td>\n",
       "      <td>2016.0</td>\n",
       "      <td>Simulation</td>\n",
       "      <td>0.00</td>\n",
       "      <td>0.00</td>\n",
       "      <td>0.01</td>\n",
       "      <td>0.0</td>\n",
       "      <td>NaN</td>\n",
       "      <td>NaN</td>\n",
       "      <td>NaN</td>\n",
       "    </tr>\n",
       "  </tbody>\n",
       "</table>\n",
       "</div>"
      ],
      "text/plain": [
       "                                Name Platform  Year_of_Release       Genre  \\\n",
       "16710  Samurai Warriors: Sanada Maru      PS3           2016.0      Action   \n",
       "16711               LMA Manager 2007     X360           2006.0      Sports   \n",
       "16712        Haitaka no Psychedelica      PSV           2016.0   Adventure   \n",
       "16713               Spirits & Spells      GBA           2003.0    Platform   \n",
       "16714            Winning Post 8 2016      PSV           2016.0  Simulation   \n",
       "\n",
       "       NA_sales  EU_sales  JP_sales  Other_sales  Critic_Score User_Score  \\\n",
       "16710      0.00      0.00      0.01          0.0           NaN        NaN   \n",
       "16711      0.00      0.01      0.00          0.0           NaN        NaN   \n",
       "16712      0.00      0.00      0.01          0.0           NaN        NaN   \n",
       "16713      0.01      0.00      0.00          0.0           NaN        NaN   \n",
       "16714      0.00      0.00      0.01          0.0           NaN        NaN   \n",
       "\n",
       "      Rating  \n",
       "16710    NaN  \n",
       "16711    NaN  \n",
       "16712    NaN  \n",
       "16713    NaN  \n",
       "16714    NaN  "
      ]
     },
     "execution_count": 6,
     "metadata": {},
     "output_type": "execute_result"
    }
   ],
   "source": [
    "data.tail()"
   ]
  },
  {
   "cell_type": "markdown",
   "metadata": {},
   "source": [
    "### Вывод"
   ]
  },
  {
   "cell_type": "markdown",
   "metadata": {},
   "source": [
    "По предварительной оценке данных можно сделать вывод, что столбцы Name, Year_of_Release, Genre, Critic_Score, User_Score и Rating имеют явные пропуски. Говоря о типах данных, необходимо сказать, что в столбцах Year_of_Release и Critic_Score нужно поменять тип данных на целочисленный. User_Score имеет тип данных - object, однако столбец имеет численные значения - необходимо исправить тип данных."
   ]
  },
  {
   "cell_type": "markdown",
   "metadata": {},
   "source": [
    "### Шаг 2. Подготовка данных"
   ]
  },
  {
   "cell_type": "markdown",
   "metadata": {},
   "source": [
    "Замените названия столбцов (приведите к нижнему регистру)"
   ]
  },
  {
   "cell_type": "code",
   "execution_count": 7,
   "metadata": {},
   "outputs": [
    {
     "data": {
      "text/html": [
       "<div>\n",
       "<style scoped>\n",
       "    .dataframe tbody tr th:only-of-type {\n",
       "        vertical-align: middle;\n",
       "    }\n",
       "\n",
       "    .dataframe tbody tr th {\n",
       "        vertical-align: top;\n",
       "    }\n",
       "\n",
       "    .dataframe thead th {\n",
       "        text-align: right;\n",
       "    }\n",
       "</style>\n",
       "<table border=\"1\" class=\"dataframe\">\n",
       "  <thead>\n",
       "    <tr style=\"text-align: right;\">\n",
       "      <th></th>\n",
       "      <th>name</th>\n",
       "      <th>platform</th>\n",
       "      <th>year_of_release</th>\n",
       "      <th>genre</th>\n",
       "      <th>na_sales</th>\n",
       "      <th>eu_sales</th>\n",
       "      <th>jp_sales</th>\n",
       "      <th>other_sales</th>\n",
       "      <th>critic_score</th>\n",
       "      <th>user_score</th>\n",
       "      <th>rating</th>\n",
       "    </tr>\n",
       "  </thead>\n",
       "  <tbody>\n",
       "    <tr>\n",
       "      <td>0</td>\n",
       "      <td>Wii Sports</td>\n",
       "      <td>Wii</td>\n",
       "      <td>2006.0</td>\n",
       "      <td>Sports</td>\n",
       "      <td>41.36</td>\n",
       "      <td>28.96</td>\n",
       "      <td>3.77</td>\n",
       "      <td>8.45</td>\n",
       "      <td>76.0</td>\n",
       "      <td>8</td>\n",
       "      <td>E</td>\n",
       "    </tr>\n",
       "    <tr>\n",
       "      <td>1</td>\n",
       "      <td>Super Mario Bros.</td>\n",
       "      <td>NES</td>\n",
       "      <td>1985.0</td>\n",
       "      <td>Platform</td>\n",
       "      <td>29.08</td>\n",
       "      <td>3.58</td>\n",
       "      <td>6.81</td>\n",
       "      <td>0.77</td>\n",
       "      <td>NaN</td>\n",
       "      <td>NaN</td>\n",
       "      <td>NaN</td>\n",
       "    </tr>\n",
       "    <tr>\n",
       "      <td>2</td>\n",
       "      <td>Mario Kart Wii</td>\n",
       "      <td>Wii</td>\n",
       "      <td>2008.0</td>\n",
       "      <td>Racing</td>\n",
       "      <td>15.68</td>\n",
       "      <td>12.76</td>\n",
       "      <td>3.79</td>\n",
       "      <td>3.29</td>\n",
       "      <td>82.0</td>\n",
       "      <td>8.3</td>\n",
       "      <td>E</td>\n",
       "    </tr>\n",
       "    <tr>\n",
       "      <td>3</td>\n",
       "      <td>Wii Sports Resort</td>\n",
       "      <td>Wii</td>\n",
       "      <td>2009.0</td>\n",
       "      <td>Sports</td>\n",
       "      <td>15.61</td>\n",
       "      <td>10.93</td>\n",
       "      <td>3.28</td>\n",
       "      <td>2.95</td>\n",
       "      <td>80.0</td>\n",
       "      <td>8</td>\n",
       "      <td>E</td>\n",
       "    </tr>\n",
       "    <tr>\n",
       "      <td>4</td>\n",
       "      <td>Pokemon Red/Pokemon Blue</td>\n",
       "      <td>GB</td>\n",
       "      <td>1996.0</td>\n",
       "      <td>Role-Playing</td>\n",
       "      <td>11.27</td>\n",
       "      <td>8.89</td>\n",
       "      <td>10.22</td>\n",
       "      <td>1.00</td>\n",
       "      <td>NaN</td>\n",
       "      <td>NaN</td>\n",
       "      <td>NaN</td>\n",
       "    </tr>\n",
       "  </tbody>\n",
       "</table>\n",
       "</div>"
      ],
      "text/plain": [
       "                       name platform  year_of_release         genre  na_sales  \\\n",
       "0                Wii Sports      Wii           2006.0        Sports     41.36   \n",
       "1         Super Mario Bros.      NES           1985.0      Platform     29.08   \n",
       "2            Mario Kart Wii      Wii           2008.0        Racing     15.68   \n",
       "3         Wii Sports Resort      Wii           2009.0        Sports     15.61   \n",
       "4  Pokemon Red/Pokemon Blue       GB           1996.0  Role-Playing     11.27   \n",
       "\n",
       "   eu_sales  jp_sales  other_sales  critic_score user_score rating  \n",
       "0     28.96      3.77         8.45          76.0          8      E  \n",
       "1      3.58      6.81         0.77           NaN        NaN    NaN  \n",
       "2     12.76      3.79         3.29          82.0        8.3      E  \n",
       "3     10.93      3.28         2.95          80.0          8      E  \n",
       "4      8.89     10.22         1.00           NaN        NaN    NaN  "
      ]
     },
     "execution_count": 7,
     "metadata": {},
     "output_type": "execute_result"
    }
   ],
   "source": [
    "data.columns = map(str.lower, data.columns)\n",
    "# Проверим\n",
    "data.head()"
   ]
  },
  {
   "cell_type": "markdown",
   "metadata": {},
   "source": [
    "Преобразуйте данные в нужные типы и обработайте пропуски при необходимости."
   ]
  },
  {
   "cell_type": "code",
   "execution_count": 8,
   "metadata": {},
   "outputs": [],
   "source": [
    "# Уберем пропуски из столбца year_of_release, заменив их на нули\n",
    "data['year_of_release'] = data['year_of_release'].fillna(0)\n",
    "# Поменяем тип данных\n",
    "data['year_of_release'] = data['year_of_release'].astype('int')\n",
    "# Проверим изменения\n",
    "# data.info()"
   ]
  },
  {
   "cell_type": "code",
   "execution_count": 9,
   "metadata": {},
   "outputs": [
    {
     "name": "stdout",
     "output_type": "stream",
     "text": [
      "<class 'pandas.core.frame.DataFrame'>\n",
      "RangeIndex: 16715 entries, 0 to 16714\n",
      "Data columns (total 11 columns):\n",
      "name               16713 non-null object\n",
      "platform           16715 non-null object\n",
      "year_of_release    16715 non-null int64\n",
      "genre              16713 non-null object\n",
      "na_sales           16715 non-null float64\n",
      "eu_sales           16715 non-null float64\n",
      "jp_sales           16715 non-null float64\n",
      "other_sales        16715 non-null float64\n",
      "critic_score       16715 non-null int64\n",
      "user_score         10014 non-null object\n",
      "rating             9949 non-null object\n",
      "dtypes: float64(4), int64(2), object(5)\n",
      "memory usage: 1.4+ MB\n"
     ]
    }
   ],
   "source": [
    "# Уберем пропуски из столбца Critic_Score, заменив их на отрицательные значения \n",
    "data['critic_score'] = data['critic_score'].fillna(-100)\n",
    "# Поменяем тип данных\n",
    "data['critic_score'] = data['critic_score'].astype('int')\n",
    "# Проверим изменения\n",
    "data.info()"
   ]
  },
  {
   "cell_type": "code",
   "execution_count": 10,
   "metadata": {},
   "outputs": [
    {
     "name": "stdout",
     "output_type": "stream",
     "text": [
      "<class 'pandas.core.frame.DataFrame'>\n",
      "RangeIndex: 16715 entries, 0 to 16714\n",
      "Data columns (total 11 columns):\n",
      "name               16713 non-null object\n",
      "platform           16715 non-null object\n",
      "year_of_release    16715 non-null int64\n",
      "genre              16713 non-null object\n",
      "na_sales           16715 non-null float64\n",
      "eu_sales           16715 non-null float64\n",
      "jp_sales           16715 non-null float64\n",
      "other_sales        16715 non-null float64\n",
      "critic_score       16715 non-null int64\n",
      "user_score         16715 non-null int64\n",
      "rating             9949 non-null object\n",
      "dtypes: float64(4), int64(3), object(4)\n",
      "memory usage: 1.4+ MB\n"
     ]
    }
   ],
   "source": [
    "# Переведем из object в float\n",
    "data['user_score'] = pd.to_numeric(data['user_score'], errors='coerce')\n",
    "# Уберем пропуски из столбца Critic_Score, заменив их на отрицательные значения \n",
    "data['user_score'] = data['user_score'].fillna(-100)\n",
    "# Поменяем тип данных\n",
    "data['user_score'] = data['user_score'].astype('int')\n",
    "# Проверим изменения\n",
    "data.info()"
   ]
  },
  {
   "cell_type": "code",
   "execution_count": 11,
   "metadata": {},
   "outputs": [],
   "source": [
    "# приведем к нижнему регистру все object строки\n",
    "def lower_object_string(df):\n",
    "    if df.dtype=='object':\n",
    "        df = df.str.lower()\n",
    "    return df\n",
    "data = data.apply(lambda x: lower_object_string(x))"
   ]
  },
  {
   "cell_type": "code",
   "execution_count": 12,
   "metadata": {},
   "outputs": [
    {
     "name": "stdout",
     "output_type": "stream",
     "text": [
      "<class 'pandas.core.frame.DataFrame'>\n",
      "RangeIndex: 16715 entries, 0 to 16714\n",
      "Data columns (total 11 columns):\n",
      "name               16713 non-null object\n",
      "platform           16715 non-null object\n",
      "year_of_release    16715 non-null int64\n",
      "genre              16713 non-null object\n",
      "na_sales           16715 non-null float64\n",
      "eu_sales           16715 non-null float64\n",
      "jp_sales           16715 non-null float64\n",
      "other_sales        16715 non-null float64\n",
      "critic_score       16715 non-null int64\n",
      "user_score         16715 non-null int64\n",
      "rating             16715 non-null object\n",
      "dtypes: float64(4), int64(3), object(4)\n",
      "memory usage: 1.4+ MB\n"
     ]
    }
   ],
   "source": [
    "# Заменим NaN в rating\n",
    "data['rating'] = data['rating'].fillna('no_rating')\n",
    "# Проверим\n",
    "data.info()"
   ]
  },
  {
   "cell_type": "code",
   "execution_count": 13,
   "metadata": {},
   "outputs": [
    {
     "name": "stdout",
     "output_type": "stream",
     "text": [
      "<class 'pandas.core.frame.DataFrame'>\n",
      "RangeIndex: 16715 entries, 0 to 16714\n",
      "Data columns (total 11 columns):\n",
      "name               16715 non-null object\n",
      "platform           16715 non-null object\n",
      "year_of_release    16715 non-null int64\n",
      "genre              16715 non-null object\n",
      "na_sales           16715 non-null float64\n",
      "eu_sales           16715 non-null float64\n",
      "jp_sales           16715 non-null float64\n",
      "other_sales        16715 non-null float64\n",
      "critic_score       16715 non-null int64\n",
      "user_score         16715 non-null int64\n",
      "rating             16715 non-null object\n",
      "dtypes: float64(4), int64(3), object(4)\n",
      "memory usage: 1.4+ MB\n"
     ]
    }
   ],
   "source": [
    "# Заменим в name и genre NaN\n",
    "data['name'] = data['name'].fillna('no_name')\n",
    "data['genre'] = data['genre'].fillna('no_genre')\n",
    "# Проверим\n",
    "data.info()"
   ]
  },
  {
   "cell_type": "markdown",
   "metadata": {},
   "source": [
    "Посчитайте суммарные продажи во всех регионах и запишите их в отдельный столбец."
   ]
  },
  {
   "cell_type": "code",
   "execution_count": 14,
   "metadata": {},
   "outputs": [
    {
     "data": {
      "text/html": [
       "<div>\n",
       "<style scoped>\n",
       "    .dataframe tbody tr th:only-of-type {\n",
       "        vertical-align: middle;\n",
       "    }\n",
       "\n",
       "    .dataframe tbody tr th {\n",
       "        vertical-align: top;\n",
       "    }\n",
       "\n",
       "    .dataframe thead th {\n",
       "        text-align: right;\n",
       "    }\n",
       "</style>\n",
       "<table border=\"1\" class=\"dataframe\">\n",
       "  <thead>\n",
       "    <tr style=\"text-align: right;\">\n",
       "      <th></th>\n",
       "      <th>name</th>\n",
       "      <th>platform</th>\n",
       "      <th>year_of_release</th>\n",
       "      <th>genre</th>\n",
       "      <th>na_sales</th>\n",
       "      <th>eu_sales</th>\n",
       "      <th>jp_sales</th>\n",
       "      <th>other_sales</th>\n",
       "      <th>critic_score</th>\n",
       "      <th>user_score</th>\n",
       "      <th>rating</th>\n",
       "      <th>all_sales</th>\n",
       "    </tr>\n",
       "  </thead>\n",
       "  <tbody>\n",
       "    <tr>\n",
       "      <td>0</td>\n",
       "      <td>wii sports</td>\n",
       "      <td>wii</td>\n",
       "      <td>2006</td>\n",
       "      <td>sports</td>\n",
       "      <td>41.36</td>\n",
       "      <td>28.96</td>\n",
       "      <td>3.77</td>\n",
       "      <td>8.45</td>\n",
       "      <td>76</td>\n",
       "      <td>8</td>\n",
       "      <td>e</td>\n",
       "      <td>82.54</td>\n",
       "    </tr>\n",
       "    <tr>\n",
       "      <td>1</td>\n",
       "      <td>super mario bros.</td>\n",
       "      <td>nes</td>\n",
       "      <td>1985</td>\n",
       "      <td>platform</td>\n",
       "      <td>29.08</td>\n",
       "      <td>3.58</td>\n",
       "      <td>6.81</td>\n",
       "      <td>0.77</td>\n",
       "      <td>-100</td>\n",
       "      <td>-100</td>\n",
       "      <td>no_rating</td>\n",
       "      <td>40.24</td>\n",
       "    </tr>\n",
       "    <tr>\n",
       "      <td>2</td>\n",
       "      <td>mario kart wii</td>\n",
       "      <td>wii</td>\n",
       "      <td>2008</td>\n",
       "      <td>racing</td>\n",
       "      <td>15.68</td>\n",
       "      <td>12.76</td>\n",
       "      <td>3.79</td>\n",
       "      <td>3.29</td>\n",
       "      <td>82</td>\n",
       "      <td>8</td>\n",
       "      <td>e</td>\n",
       "      <td>35.52</td>\n",
       "    </tr>\n",
       "    <tr>\n",
       "      <td>3</td>\n",
       "      <td>wii sports resort</td>\n",
       "      <td>wii</td>\n",
       "      <td>2009</td>\n",
       "      <td>sports</td>\n",
       "      <td>15.61</td>\n",
       "      <td>10.93</td>\n",
       "      <td>3.28</td>\n",
       "      <td>2.95</td>\n",
       "      <td>80</td>\n",
       "      <td>8</td>\n",
       "      <td>e</td>\n",
       "      <td>32.77</td>\n",
       "    </tr>\n",
       "    <tr>\n",
       "      <td>4</td>\n",
       "      <td>pokemon red/pokemon blue</td>\n",
       "      <td>gb</td>\n",
       "      <td>1996</td>\n",
       "      <td>role-playing</td>\n",
       "      <td>11.27</td>\n",
       "      <td>8.89</td>\n",
       "      <td>10.22</td>\n",
       "      <td>1.00</td>\n",
       "      <td>-100</td>\n",
       "      <td>-100</td>\n",
       "      <td>no_rating</td>\n",
       "      <td>31.38</td>\n",
       "    </tr>\n",
       "  </tbody>\n",
       "</table>\n",
       "</div>"
      ],
      "text/plain": [
       "                       name platform  year_of_release         genre  na_sales  \\\n",
       "0                wii sports      wii             2006        sports     41.36   \n",
       "1         super mario bros.      nes             1985      platform     29.08   \n",
       "2            mario kart wii      wii             2008        racing     15.68   \n",
       "3         wii sports resort      wii             2009        sports     15.61   \n",
       "4  pokemon red/pokemon blue       gb             1996  role-playing     11.27   \n",
       "\n",
       "   eu_sales  jp_sales  other_sales  critic_score  user_score     rating  \\\n",
       "0     28.96      3.77         8.45            76           8          e   \n",
       "1      3.58      6.81         0.77          -100        -100  no_rating   \n",
       "2     12.76      3.79         3.29            82           8          e   \n",
       "3     10.93      3.28         2.95            80           8          e   \n",
       "4      8.89     10.22         1.00          -100        -100  no_rating   \n",
       "\n",
       "   all_sales  \n",
       "0      82.54  \n",
       "1      40.24  \n",
       "2      35.52  \n",
       "3      32.77  \n",
       "4      31.38  "
      ]
     },
     "execution_count": 14,
     "metadata": {},
     "output_type": "execute_result"
    }
   ],
   "source": [
    "# Суммарные продажи во всех регионах для каждой игры равны сумме четырех следующих столбцов:\n",
    "data['all_sales'] = data['na_sales'] + data['eu_sales'] + data['jp_sales'] + data['other_sales']\n",
    "# Проверим\n",
    "data.head()"
   ]
  },
  {
   "cell_type": "markdown",
   "metadata": {},
   "source": [
    "### Вывод"
   ]
  },
  {
   "cell_type": "markdown",
   "metadata": {},
   "source": [
    "На данном этапе были проведены следующие операции: <ul> \n",
    "    <li> заменены названия столбцов на нижний регистр </li>\n",
    "    <li> преобразованы данные к нужным типам: </li> <ul>\n",
    "        <li> в столбцах year_of_release и critic_score преобразованы данные к типу int, так как удобнее использовать эти значения в формате целочисленных значений </li>\n",
    "        <li> в столбце user_score тип данных был изменен с object на int, так как в данном столбце хранились численные значения </li> </ul>\n",
    "    <li> обработаны пропуски в данных: </li> <ul>\n",
    "    <li> в столбце year_of_release пропущенные значения были заменены на нули, так как этот столбец показывает года выпуска игр, таким образом, можно с легкостью заменить значения на нули (вряд ли тогда были видеоигры) </li>\n",
    "    <li> в столбцах critic_score и user_score пропущенные значения были заменены на отрицательное значение (-100), так как значения в этих столбцах лежат от 0 до 100, поэтому замена на ноль может вызвать аномальное количество значений при нуле (в этих столбцах и так есть нулевые значения, так ещё и NaN суммируются с ними) </li>\n",
    "    <li> пропуски в rating, name и genre были заменены на no_\"название столбца\", так как эти столбцы имеют тип object </li>\n",
    "    </ul>\n",
    "    <li>  посчитаны суммарные продажи во всех регионах для каждой игры </li>\n"
   ]
  },
  {
   "cell_type": "markdown",
   "metadata": {},
   "source": [
    "### Шаг 3. Исследовательский анализ данных"
   ]
  },
  {
   "cell_type": "markdown",
   "metadata": {},
   "source": [
    "Сколько игр выпускалось в разные годы. Важны ли данные за все периоды?"
   ]
  },
  {
   "cell_type": "code",
   "execution_count": 15,
   "metadata": {},
   "outputs": [
    {
     "data": {
      "text/plain": [
       "year_of_release\n",
       "0        269\n",
       "1980       9\n",
       "1981      46\n",
       "1982      36\n",
       "1983      17\n",
       "1984      14\n",
       "1985      14\n",
       "1986      21\n",
       "1987      16\n",
       "1988      15\n",
       "1989      17\n",
       "1990      16\n",
       "1991      41\n",
       "1992      43\n",
       "1993      62\n",
       "1994     121\n",
       "1995     219\n",
       "1996     263\n",
       "1997     289\n",
       "1998     379\n",
       "1999     338\n",
       "2000     350\n",
       "2001     482\n",
       "2002     829\n",
       "2003     775\n",
       "2004     762\n",
       "2005     939\n",
       "2006    1006\n",
       "2007    1197\n",
       "2008    1427\n",
       "2009    1426\n",
       "2010    1255\n",
       "2011    1136\n",
       "2012     653\n",
       "2013     544\n",
       "2014     581\n",
       "2015     606\n",
       "2016     502\n",
       "Name: name, dtype: int64"
      ]
     },
     "execution_count": 15,
     "metadata": {},
     "output_type": "execute_result"
    }
   ],
   "source": [
    "data_game_years = data.groupby('year_of_release')['name'].count()\n",
    "data_game_years\n",
    "# в 0 году данные для нас не так важны - это \"заглушка\"\n",
    "# Так как нам нужно прогнозировать продажи на 2017 год, то старые данные могут привести в заблуждение,\n",
    "# поэтому необходимо выбрать временной интервал, который будет актуален и при этом содержать большую часть данных"
   ]
  },
  {
   "cell_type": "markdown",
   "metadata": {},
   "source": [
    "Как менялись продажи по платформам. Выберите платформы с наибольшими суммарными продажами и постройте распределение по годам. За какой характерный срок появляются новые и исчезают старые платформы?"
   ]
  },
  {
   "cell_type": "code",
   "execution_count": 16,
   "metadata": {},
   "outputs": [
    {
     "data": {
      "text/plain": [
       "platform\n",
       "ps2     1255.77\n",
       "x360     971.42\n",
       "ps3      939.65\n",
       "wii      907.51\n",
       "ds       806.12\n",
       "ps       730.86\n",
       "gba      317.85\n",
       "ps4      314.14\n",
       "psp      294.05\n",
       "pc       259.52\n",
       "3ds      259.00\n",
       "xb       257.74\n",
       "gb       255.46\n",
       "nes      251.05\n",
       "n64      218.68\n",
       "snes     200.04\n",
       "gc       198.93\n",
       "xone     159.32\n",
       "2600      96.98\n",
       "wiiu      82.19\n",
       "psv       54.07\n",
       "sat       33.59\n",
       "gen       30.77\n",
       "dc        15.95\n",
       "scd        1.86\n",
       "ng         1.44\n",
       "ws         1.42\n",
       "tg16       0.16\n",
       "3do        0.10\n",
       "gg         0.04\n",
       "pcfx       0.03\n",
       "Name: all_sales, dtype: float64"
      ]
     },
     "execution_count": 16,
     "metadata": {},
     "output_type": "execute_result"
    }
   ],
   "source": [
    "data_platform_sales = data.groupby('platform')['all_sales'].sum().sort_values(ascending=False)\n",
    "data_platform_sales\n",
    "# Видно, что выбиваются вперед первые 6 платформ, для них и посмотрим распределение"
   ]
  },
  {
   "cell_type": "code",
   "execution_count": 17,
   "metadata": {},
   "outputs": [
    {
     "data": {
      "image/png": "[encoded data removed]",
      "text/plain": [
       "<Figure size 720x504 with 1 Axes>"
      ]
     },
     "metadata": {
      "needs_background": "light"
     },
     "output_type": "display_data"
    }
   ],
   "source": [
    "# Создадим функцию, которая рисует распределения\n",
    "def hist_for_platform(df, platform, title, bins): \n",
    "    data_for_hist = df[df['platform'] == platform]\n",
    "    plt.rcParams[\"figure.figsize\"] = (10, 7)\n",
    "    plt.hist(x=data_for_hist['year_of_release'], bins= bins, color='#0504aa',\n",
    "                            alpha=0.7, rwidth=0.85)\n",
    "    plt.grid(alpha=0.75)\n",
    "    plt.xlabel('год релиза игр')\n",
    "    plt.ylabel('частота')\n",
    "    plt.xlim(1990, 2020)\n",
    "    plt.title(title)\n",
    "hist_for_platform(data, 'ps2', 'Распределение по годам для PS2', 1000)\n",
    "# Такое распределение связано с тем, что выход PS2 приходится на 2000-2002 года (2002 - официально в России).\n",
    "# С течением времени происходит снижение из-за того, что в 2006 году вышла PS3\n",
    "# Распределение является нормальным\n",
    "# Сроком \"жизни\" платформы можно считать период в 10 лет (с 2000 по 2010), дальше - люди переходят на более современную платформу."
   ]
  },
  {
   "cell_type": "code",
   "execution_count": 18,
   "metadata": {},
   "outputs": [
    {
     "data": {
      "image/png": "[encoded data removed]",
      "text/plain": [
       "<Figure size 720x504 with 1 Axes>"
      ]
     },
     "metadata": {
      "needs_background": "light"
     },
     "output_type": "display_data"
    }
   ],
   "source": [
    "hist_for_platform(data, 'x360', 'Распределение по годам для X360', 1000)\n",
    "# Распределение похоже на предыдущее: в связи с выходом этой платформы - происходит рост. \n",
    "# В дальнейшем - снижение в связи с выходом других приставок, например, PS3. \n",
    "# Распределение является нормальным\n",
    "# Сроком \"жизни\" можно считать период с 2005 по 2015 год"
   ]
  },
  {
   "cell_type": "code",
   "execution_count": 19,
   "metadata": {},
   "outputs": [
    {
     "data": {
      "image/png": "[encoded data removed]",
      "text/plain": [
       "<Figure size 720x504 with 1 Axes>"
      ]
     },
     "metadata": {
      "needs_background": "light"
     },
     "output_type": "display_data"
    }
   ],
   "source": [
    "hist_for_platform(data, 'ps3', 'Распределение по годам для PS3', 1000)\n",
    "# Распределение - нормальное. Вероятно, что рост популярности PS3 привел к падению популярности PS2.\n",
    "# Время \"жизни\" считается период с 2006 по 2016 год"
   ]
  },
  {
   "cell_type": "code",
   "execution_count": 20,
   "metadata": {},
   "outputs": [
    {
     "data": {
      "image/png": "[encoded data removed]",
      "text/plain": [
       "<Figure size 720x504 with 1 Axes>"
      ]
     },
     "metadata": {
      "needs_background": "light"
     },
     "output_type": "display_data"
    }
   ],
   "source": [
    "hist_for_platform(data, 'wii', 'Распределение по годам для Wii', 1000)\n",
    "# Распределение -  нормальное. Время \"жизни\" платформы можно считать период с 2006 по 2016."
   ]
  },
  {
   "cell_type": "code",
   "execution_count": 21,
   "metadata": {},
   "outputs": [
    {
     "data": {
      "image/png": "[encoded data removed]",
      "text/plain": [
       "<Figure size 720x504 with 1 Axes>"
      ]
     },
     "metadata": {
      "needs_background": "light"
     },
     "output_type": "display_data"
    }
   ],
   "source": [
    "hist_for_platform(data, 'ds', 'Распределение по годам для DS', 1000)\n",
    "# Распределение является нормальным, время \"жизни\" - период с 2003 по 2013 год."
   ]
  },
  {
   "cell_type": "code",
   "execution_count": 22,
   "metadata": {},
   "outputs": [
    {
     "data": {
      "image/png": "[encoded data removed]",
      "text/plain": [
       "<Figure size 720x504 with 1 Axes>"
      ]
     },
     "metadata": {
      "needs_background": "light"
     },
     "output_type": "display_data"
    }
   ],
   "source": [
    "hist_for_platform(data, 'ps', 'Распределение по годам для PS', 1000)\n",
    "# Распределение - нормальное, снижение популярности может быть связано с выходом PS2. \n",
    "# Время \"жизни\" - с 1994 по 2003 года."
   ]
  },
  {
   "cell_type": "markdown",
   "metadata": {},
   "source": [
    "Взятие данных за соответствующий актуальный период. Актуальный период определяется по результатам предыдущих исследований. Основной фактор — эти данные помогут построить прогноз на 2017 год. "
   ]
  },
  {
   "cell_type": "code",
   "execution_count": 23,
   "metadata": {},
   "outputs": [],
   "source": [
    "# Актуальным периодом можно считать период с 2010 по 2016 год, так как раннее были платформы седьмого поколения и ниже.\n",
    "data_actual = data.query('year_of_release >=2010')"
   ]
  },
  {
   "cell_type": "markdown",
   "metadata": {},
   "source": [
    "Какие платформы лидируют по продажам, растут или падают? Выберите несколько потенциально прибыльных платформ."
   ]
  },
  {
   "cell_type": "code",
   "execution_count": 24,
   "metadata": {},
   "outputs": [
    {
     "data": {
      "text/plain": [
       "(platform\n",
       " ps2     1255.77\n",
       " x360     971.42\n",
       " ps3      939.65\n",
       " wii      907.51\n",
       " ds       806.12\n",
       " ps       730.86\n",
       " gba      317.85\n",
       " ps4      314.14\n",
       " psp      294.05\n",
       " pc       259.52\n",
       " 3ds      259.00\n",
       " xb       257.74\n",
       " gb       255.46\n",
       " nes      251.05\n",
       " n64      218.68\n",
       " snes     200.04\n",
       " gc       198.93\n",
       " xone     159.32\n",
       " 2600      96.98\n",
       " wiiu      82.19\n",
       " psv       54.07\n",
       " sat       33.59\n",
       " gen       30.77\n",
       " dc        15.95\n",
       " scd        1.86\n",
       " ng         1.44\n",
       " ws         1.42\n",
       " tg16       0.16\n",
       " 3do        0.10\n",
       " gg         0.04\n",
       " pcfx       0.03\n",
       " Name: all_sales, dtype: float64, platform\n",
       " ps3     587.74\n",
       " x360    550.41\n",
       " ps4     314.14\n",
       " 3ds     257.81\n",
       " wii     222.97\n",
       " xone    159.32\n",
       " ds      123.75\n",
       " pc      121.96\n",
       " wiiu     82.19\n",
       " psp      64.05\n",
       " psv      53.81\n",
       " ps2       6.09\n",
       " Name: all_sales, dtype: float64)"
      ]
     },
     "execution_count": 24,
     "metadata": {},
     "output_type": "execute_result"
    }
   ],
   "source": [
    "data_actual_platform_sales = data_actual.groupby('platform')['all_sales'].sum().sort_values(ascending=False)\n",
    "data_platform_sales, data_actual_platform_sales\n",
    "# Произошло резкое падение продаж игр на платформах PS2, DS, Wii, DS и PS.\n",
    "# В топ вырвались платформы PS3, XBOX360, PS4, 3DS, XOne и PC.\n",
    "# Потенциально прибыльные платформы могут быть PS4, XOne и 3DS, так как они вышли относительно недавно и будут вытеснять \n",
    "# платформы предыдущих поколений на рынке"
   ]
  },
  {
   "cell_type": "markdown",
   "metadata": {},
   "source": [
    "Построение графика «ящик с усами» по глобальным продажам каждой игры и разбивкой по платформам. Велика ли разница в продажах? А в средних продажах на разных платформах? Опишите результат."
   ]
  },
  {
   "cell_type": "code",
   "execution_count": 25,
   "metadata": {},
   "outputs": [
    {
     "data": {
      "text/plain": [
       "Text(0.5, 1.0, '\"Ящик с усами\" для XOne, PS4 и 3DS')"
      ]
     },
     "execution_count": 25,
     "metadata": {},
     "output_type": "execute_result"
    },
    {
     "data": {
      "image/png": "[encoded data removed]",
      "text/plain": [
       "<Figure size 720x504 with 1 Axes>"
      ]
     },
     "metadata": {
      "needs_background": "light"
     },
     "output_type": "display_data"
    }
   ],
   "source": [
    "# Построим график \"ящик с усами\" для XOne, PS4 и 3DS\n",
    "plt.rcParams[\"figure.figsize\"] = (10, 7)\n",
    "ax = sns.boxplot(x=\"platform\", y=\"all_sales\", data=data_actual, order = ['xone', 'ps4', '3ds'])\n",
    "plt.ylim(0, 2)\n",
    "plt.grid()\n",
    "plt.title('\"Ящик с усами\" для XOne, PS4 и 3DS')\n",
    "# 1 квартиль лежит около нуля для всех платформ, однако для PS4(0.1) и XOne(0.1) он выше,чем для 3DS (0.08), \n",
    "# 2 квартиль - в пределах 0.25 для XONe и PS4(у PS4 - ниже, около 0.23), \n",
    "# 3DS - в районе 0.13. 3 квартиль больше всех для PS4 (1.75), для XOne - около 1.6, отстает 3DS - 0.75.\n",
    "# Разница по продажам больше у PS4 и XOne по сравнению с 3DS. Средние продажи у PS4 и XOne также выше, чем у 3DS.\n",
    "\n",
    "# Из этого можно сделать вывод, что стоит сделать ставку на 3DS, так как медиана сдвинута ближе к центру, чем у конкурентов.\n",
    "# Таким образом, можно считать, что эта консоль лучше в плане перспективы, так как её \"срок жизни\" близок к середине.\n",
    "\n",
    "# Стоит отметить, что довольно данные имеют довольно много аномальных значений."
   ]
  },
  {
   "cell_type": "markdown",
   "metadata": {},
   "source": [
    "Как влияют на продажи внутри одной популярной платформы отзывы пользователей и критиков. Постройте диаграмму рассеяния и посчитайте корреляцию между отзывами и продажами. Сформулируйте выводы."
   ]
  },
  {
   "cell_type": "code",
   "execution_count": 26,
   "metadata": {},
   "outputs": [
    {
     "name": "stdout",
     "output_type": "stream",
     "text": [
      "Корреляция между отзывами и продажами: 0.40656790206178095\n"
     ]
    },
    {
     "data": {
      "image/png": "[encoded data removed]",
      "text/plain": [
       "<Figure size 720x504 with 1 Axes>"
      ]
     },
     "metadata": {
      "needs_background": "light"
     },
     "output_type": "display_data"
    }
   ],
   "source": [
    "# Почистим от выбросов\n",
    "data_actual_for_critic = data_actual.query('critic_score >=0')\n",
    "# Напишим функцию для графиков\n",
    "def scatterplot(df, platform, score, title, x):\n",
    "    df = df[df['platform'] == platform]\n",
    "    plt.rcParams[\"figure.figsize\"] = (10, 7)\n",
    "    ax = sns.scatterplot(x=score, y=\"all_sales\", data=df)\n",
    "    plt.xlim(0, x)\n",
    "    plt.title(title)\n",
    "    plt.grid()\n",
    "    print('Корреляция между отзывами и продажами:', df[score].corr(df['all_sales']))\n",
    "scatterplot(data_actual_for_critic, 'ps4', 'critic_score', 'Диаграмма рассеяния между отзывами критиков и суммарными продажами для PS4', 100)\n",
    "# Корреляция есть, но слабая. Возможно, дело в том, что зависимость нелинейная. \n",
    "# Диаграмма выглядит логичной - чем выше рейтинг критиков, тем в целом больше были продажи. "
   ]
  },
  {
   "cell_type": "code",
   "execution_count": 27,
   "metadata": {},
   "outputs": [
    {
     "name": "stdout",
     "output_type": "stream",
     "text": [
      "Корреляция между отзывами и продажами: -0.027033058622341188\n"
     ]
    },
    {
     "data": {
      "image/png": "[encoded data removed]",
      "text/plain": [
       "<Figure size 720x504 with 1 Axes>"
      ]
     },
     "metadata": {
      "needs_background": "light"
     },
     "output_type": "display_data"
    }
   ],
   "source": [
    "data_actual_for_scatterplot = data_actual.query('user_score >=0')\n",
    "scatterplot(data_actual_for_scatterplot, 'ps4', 'user_score', 'Диаграмма рассеяния между отзывами пользователей и суммарными продажами для PS4', 10)\n",
    "# Корреляция слабая, почти нулевая. Однако может быть дело в нелинейной зависимости, \n",
    "# либо в том, что оценка пользователя - порядковая переменная и корреляция Пирсона не подходит.\n",
    "# Для наглядности посмотрим на числовые значения, а не диаграмму."
   ]
  },
  {
   "cell_type": "code",
   "execution_count": 28,
   "metadata": {},
   "outputs": [
    {
     "data": {
      "text/plain": [
       "user_score\n",
       "1    0.130000\n",
       "2    0.128000\n",
       "3    1.021818\n",
       "4    1.757000\n",
       "5    1.391538\n",
       "6    0.972029\n",
       "7    0.750964\n",
       "8    0.913200\n",
       "9    3.970000\n",
       "Name: all_sales, dtype: float64"
      ]
     },
     "execution_count": 28,
     "metadata": {},
     "output_type": "execute_result"
    }
   ],
   "source": [
    "data_actual_for_scatterplot_ps4 = data_actual_for_scatterplot[data_actual_for_scatterplot['platform'] == 'ps4']\n",
    "data_actual_for_scatterplot_ps4.groupby('user_score')['all_sales'].mean()\n",
    "# Однозначно нельзя сказать, есть ли корреляция для всех данных или нет. Есть тенденция повышения продаж с увеличением рейтинга\n",
    "# от пользователей, однако есть предположение, что здесь будет актуальна фраза \"на вкус и цвет фломастеры разные\", поэтому\n",
    "# для кого-то какие-то игры будут не очень, а для кого-то наоборот, однако рейтинг 1-2 и 8-9 поддерживают общую тенденцию\n",
    "# \"больше рейтинг - больше продажи\""
   ]
  },
  {
   "cell_type": "code",
   "execution_count": 29,
   "metadata": {},
   "outputs": [
    {
     "name": "stdout",
     "output_type": "stream",
     "text": [
      "Корреляция между отзывами и продажами: 0.4169983280084017\n"
     ]
    },
    {
     "data": {
      "image/png": "[encoded data removed]",
      "text/plain": [
       "<Figure size 720x504 with 1 Axes>"
      ]
     },
     "metadata": {
      "needs_background": "light"
     },
     "output_type": "display_data"
    }
   ],
   "source": [
    "scatterplot(data_actual_for_critic, 'xone', 'critic_score', 'Диаграмма рассеяния между отзывами критиков и суммарными продажами для XOne', 100)\n",
    "# Тенденция такая же, как и для PS4. "
   ]
  },
  {
   "cell_type": "code",
   "execution_count": 30,
   "metadata": {},
   "outputs": [
    {
     "name": "stdout",
     "output_type": "stream",
     "text": [
      "Корреляция между отзывами и продажами: -0.027033058622341188\n"
     ]
    },
    {
     "data": {
      "image/png": "[encoded data removed]",
      "text/plain": [
       "<Figure size 720x504 with 1 Axes>"
      ]
     },
     "metadata": {
      "needs_background": "light"
     },
     "output_type": "display_data"
    }
   ],
   "source": [
    "scatterplot(data_actual_for_scatterplot, 'ps4', 'user_score', 'Диаграмма рассеяния между отзывами пользователей и суммарными продажами для XOne', 10)\n",
    "# Корреляция слабая, почти нулевая. Однако может быть дело в нелинейной зависимости, \n",
    "# либо в том, что оценка пользователя - порядковая переменная и корреляция Пирсона не подходит.\n",
    "# Для наглядности посмотрим на числовые значения, а не диаграмму."
   ]
  },
  {
   "cell_type": "code",
   "execution_count": 31,
   "metadata": {},
   "outputs": [
    {
     "data": {
      "text/plain": [
       "user_score\n",
       "1    0.030000\n",
       "2    0.120000\n",
       "3    0.555000\n",
       "4    0.935000\n",
       "5    0.926471\n",
       "6    0.841961\n",
       "7    0.659800\n",
       "8    0.416538\n",
       "9    1.300000\n",
       "Name: all_sales, dtype: float64"
      ]
     },
     "execution_count": 31,
     "metadata": {},
     "output_type": "execute_result"
    }
   ],
   "source": [
    "data_actual_for_scatterplot_xone = data_actual_for_scatterplot[data_actual_for_scatterplot['platform'] == 'xone']\n",
    "data_actual_for_scatterplot_xone.groupby('user_score')['all_sales'].mean()\n",
    "# Ситуация аналогична, как и для PS4."
   ]
  },
  {
   "cell_type": "code",
   "execution_count": 32,
   "metadata": {},
   "outputs": [
    {
     "name": "stdout",
     "output_type": "stream",
     "text": [
      "Корреляция между отзывами и продажами: 0.3487397305984834\n"
     ]
    },
    {
     "data": {
      "image/png": "[encoded data removed]",
      "text/plain": [
       "<Figure size 720x504 with 1 Axes>"
      ]
     },
     "metadata": {
      "needs_background": "light"
     },
     "output_type": "display_data"
    }
   ],
   "source": [
    "# Построим диаграмму рассеяния для 3DS \n",
    "scatterplot(data_actual_for_critic, '3ds', 'critic_score', 'Диаграмма рассеяния между отзывами критиков и суммарными продажами для 3DS', 100)\n",
    "# Ситуация такая же как и для XOne и PS4"
   ]
  },
  {
   "cell_type": "code",
   "execution_count": 33,
   "metadata": {},
   "outputs": [
    {
     "name": "stdout",
     "output_type": "stream",
     "text": [
      "Корреляция между отзывами и продажами: 0.22939440821288484\n"
     ]
    },
    {
     "data": {
      "image/png": "[encoded data removed]",
      "text/plain": [
       "<Figure size 720x504 with 1 Axes>"
      ]
     },
     "metadata": {
      "needs_background": "light"
     },
     "output_type": "display_data"
    }
   ],
   "source": [
    "scatterplot(data_actual_for_scatterplot, '3ds', 'user_score', 'Диаграмма рассеяния между отзывами пользователей и суммарными продажами для 3DS', 10)\n",
    "# Корреляция слабая, почти нулевая. Однако может быть дело в нелинейной зависимости, \n",
    "# либо в том, что оценка пользователя - порядковая переменная и корреляция Пирсона не подходит.\n",
    "# Для наглядности посмотрим на числовые значения, а не диаграмму."
   ]
  },
  {
   "cell_type": "code",
   "execution_count": 34,
   "metadata": {},
   "outputs": [
    {
     "data": {
      "text/plain": [
       "user_score\n",
       "2    0.240000\n",
       "3    0.351667\n",
       "4    0.371250\n",
       "5    0.327500\n",
       "6    0.482821\n",
       "7    0.521346\n",
       "8    1.702432\n",
       "9    1.460000\n",
       "Name: all_sales, dtype: float64"
      ]
     },
     "execution_count": 34,
     "metadata": {},
     "output_type": "execute_result"
    }
   ],
   "source": [
    "data_actual_for_scatterplot_3ds = data_actual_for_scatterplot[data_actual_for_scatterplot['platform'] == '3ds']\n",
    "data_actual_for_scatterplot_3ds.groupby('user_score')['all_sales'].mean()\n",
    "# В целом - тенденция повышения продаж с увеличением пользовательской оценки есть, однако фактор \"вкуса и цвета\" тут играет важнейшую роль."
   ]
  },
  {
   "cell_type": "markdown",
   "metadata": {},
   "source": [
    "Соотнесение выводов с продажами игр на других платформах."
   ]
  },
  {
   "cell_type": "markdown",
   "metadata": {},
   "source": [
    "Изучив топ-3 потенциально популярных платформ, можно сделать вывод, что стоит больше ориентироваться на отзывы критиков, так как корреляция между такими отзывами и продажами более явнами, чем между отзывами пользователей и продажами. Вероятно, дело в том, что критики стараются быть независимыми и оценивают продукт по достоинству, чего нельзя сказать об обычных пользователях: они предпочитают игры своего любимого жанра, вселенной и т.д. "
   ]
  },
  {
   "cell_type": "markdown",
   "metadata": {},
   "source": [
    "Рассмотрение общего распределения игр по жанрам. Что можно сказать о самых прибыльных жанрах? Выделяются ли жанры с высокими и низкими продажами?"
   ]
  },
  {
   "cell_type": "code",
   "execution_count": 35,
   "metadata": {},
   "outputs": [
    {
     "data": {
      "text/html": [
       "<div>\n",
       "<style scoped>\n",
       "    .dataframe tbody tr th:only-of-type {\n",
       "        vertical-align: middle;\n",
       "    }\n",
       "\n",
       "    .dataframe tbody tr th {\n",
       "        vertical-align: top;\n",
       "    }\n",
       "\n",
       "    .dataframe thead th {\n",
       "        text-align: right;\n",
       "    }\n",
       "</style>\n",
       "<table border=\"1\" class=\"dataframe\">\n",
       "  <thead>\n",
       "    <tr style=\"text-align: right;\">\n",
       "      <th></th>\n",
       "      <th>genre</th>\n",
       "      <th>all_sales</th>\n",
       "    </tr>\n",
       "  </thead>\n",
       "  <tbody>\n",
       "    <tr>\n",
       "      <td>0</td>\n",
       "      <td>action</td>\n",
       "      <td>673.09</td>\n",
       "    </tr>\n",
       "    <tr>\n",
       "      <td>8</td>\n",
       "      <td>shooter</td>\n",
       "      <td>479.74</td>\n",
       "    </tr>\n",
       "    <tr>\n",
       "      <td>10</td>\n",
       "      <td>sports</td>\n",
       "      <td>328.39</td>\n",
       "    </tr>\n",
       "    <tr>\n",
       "      <td>7</td>\n",
       "      <td>role-playing</td>\n",
       "      <td>315.28</td>\n",
       "    </tr>\n",
       "    <tr>\n",
       "      <td>3</td>\n",
       "      <td>misc</td>\n",
       "      <td>234.56</td>\n",
       "    </tr>\n",
       "    <tr>\n",
       "      <td>6</td>\n",
       "      <td>racing</td>\n",
       "      <td>122.68</td>\n",
       "    </tr>\n",
       "    <tr>\n",
       "      <td>4</td>\n",
       "      <td>platform</td>\n",
       "      <td>119.72</td>\n",
       "    </tr>\n",
       "    <tr>\n",
       "      <td>2</td>\n",
       "      <td>fighting</td>\n",
       "      <td>81.59</td>\n",
       "    </tr>\n",
       "    <tr>\n",
       "      <td>9</td>\n",
       "      <td>simulation</td>\n",
       "      <td>71.75</td>\n",
       "    </tr>\n",
       "    <tr>\n",
       "      <td>1</td>\n",
       "      <td>adventure</td>\n",
       "      <td>61.00</td>\n",
       "    </tr>\n",
       "    <tr>\n",
       "      <td>11</td>\n",
       "      <td>strategy</td>\n",
       "      <td>35.84</td>\n",
       "    </tr>\n",
       "    <tr>\n",
       "      <td>5</td>\n",
       "      <td>puzzle</td>\n",
       "      <td>20.60</td>\n",
       "    </tr>\n",
       "  </tbody>\n",
       "</table>\n",
       "</div>"
      ],
      "text/plain": [
       "           genre  all_sales\n",
       "0         action     673.09\n",
       "8        shooter     479.74\n",
       "10        sports     328.39\n",
       "7   role-playing     315.28\n",
       "3           misc     234.56\n",
       "6         racing     122.68\n",
       "4       platform     119.72\n",
       "2       fighting      81.59\n",
       "9     simulation      71.75\n",
       "1      adventure      61.00\n",
       "11      strategy      35.84\n",
       "5         puzzle      20.60"
      ]
     },
     "execution_count": 35,
     "metadata": {},
     "output_type": "execute_result"
    }
   ],
   "source": [
    "# Для этого сгруппируем жанры и прибыль, при этом отсортируем в порядке убывания значения прибыли\n",
    "data_for_genre_1 = data_actual.groupby('genre', as_index=False)['all_sales'].sum().sort_values(by = 'all_sales', ascending=False)\n",
    "data_for_genre_1"
   ]
  },
  {
   "cell_type": "code",
   "execution_count": 36,
   "metadata": {},
   "outputs": [
    {
     "data": {
      "image/png": "[encoded data removed]",
      "text/plain": [
       "<Figure size 720x504 with 1 Axes>"
      ]
     },
     "metadata": {
      "needs_background": "light"
     },
     "output_type": "display_data"
    }
   ],
   "source": [
    "# Посмотрим на гистограмме как располагаются жанры по прибыли\n",
    "plt.rcParams[\"figure.figsize\"] = (10, 7)\n",
    "ax = sns.barplot(x='all_sales', y='genre', data=data_for_genre_1)\n",
    "plt.title('Общее распределение игр по жанрам в зависимости от прибыли')\n",
    "plt.grid()\n",
    "# Самыми прибыльными жанрами являются action,  shooter, sports и role-playing, что вполне соответствует реальности\n",
    "# Низкие продажи имеют puzzle, strategy, adventure, simulation и fighting. \n",
    "# Такое расположение жанров по прибыли может быть связано с количественным показателем выхода игр определенного жанра, проверим"
   ]
  },
  {
   "cell_type": "code",
   "execution_count": 37,
   "metadata": {},
   "outputs": [
    {
     "data": {
      "text/plain": [
       "genre\n",
       "action          1495\n",
       "misc             576\n",
       "sports           575\n",
       "role-playing     568\n",
       "adventure        563\n",
       "shooter          410\n",
       "racing           237\n",
       "simulation       217\n",
       "fighting         199\n",
       "strategy         170\n",
       "platform         153\n",
       "puzzle           114\n",
       "Name: name, dtype: int64"
      ]
     },
     "execution_count": 37,
     "metadata": {},
     "output_type": "execute_result"
    }
   ],
   "source": [
    "data_for_barplot = data_actual.groupby('genre').count().sort_values(by='name', ascending=False)\n",
    "data_for_barplot = data_for_barplot['name']\n",
    "data_for_barplot\n",
    "# Действительно, файтингов и стратегий выходит гораздо меньше, чем экшен-игр или других жанров, входящих в топ-5 по прибыли. "
   ]
  },
  {
   "cell_type": "markdown",
   "metadata": {},
   "source": [
    "### Вывод"
   ]
  },
  {
   "cell_type": "markdown",
   "metadata": {},
   "source": [
    "На данном этапе был проведен исследовательский анализ, в ходе которого были сделаны следующие интересные операции и наблюдения: <ul>\n",
    "    <li> были выбраны платформы с наибольшими суммарными продажами за весь период времени, указанный в датафрейме (PS, PS2, PS3, xbox360, Wii и DS).\n",
    "    <li> был выбран актуальный период времени, который можно использовать для прогнозирования продаж в 2017 году (2010-2016 г.) </li>\n",
    "    <li> из данных за актуальный период были выбраны потенциально прибыльные платформы (PS4, XOne, 3DS) </li>\n",
    "    <li> был построен график \"ящик с усами\" для топ-3 потенциально прибыльных платформ, было определено, что разница в продажах есть: продажи выше у XOne и PS4, чем у 3DS. Средние продажи у XOne и PS4 выше, чем у 3DS. Судя по этому графику - стоит сделать ставку на 3DS </li>\n",
    "    <li> было проанализировано влияние рейтингов критиков и пользователей на продажи: было обнаружено, что рейтинг критиков лучше коррелирует с продажами, чем рейтинг пользователей </li>\n",
    "    <li> было построено общее распределение игр по жанрам: было обнаружено, что самыми прибыльными жанрами являются action,  shooter, sports и role-playing, а низкие продажи у puzzle, strategy, adventure, simulation и fighting. Вероятно, что дело в количестве изданных игр по каждому из жанров (например, игр в жанре шутер больше, чем в жанре стратегий) </li> \n",
    "    "
   ]
  },
  {
   "cell_type": "markdown",
   "metadata": {},
   "source": [
    "### Шаг 4. Портрет пользователя каждого региона"
   ]
  },
  {
   "cell_type": "markdown",
   "metadata": {},
   "source": [
    "Определение для пользователя каждого региона (NA, EU, JP):\n"
   ]
  },
  {
   "cell_type": "markdown",
   "metadata": {},
   "source": [
    "<li> Самые популярные платформы (топ-5).</li>"
   ]
  },
  {
   "cell_type": "code",
   "execution_count": 38,
   "metadata": {},
   "outputs": [
    {
     "data": {
      "text/html": [
       "<div>\n",
       "<style scoped>\n",
       "    .dataframe tbody tr th:only-of-type {\n",
       "        vertical-align: middle;\n",
       "    }\n",
       "\n",
       "    .dataframe tbody tr th {\n",
       "        vertical-align: top;\n",
       "    }\n",
       "\n",
       "    .dataframe thead th {\n",
       "        text-align: right;\n",
       "    }\n",
       "</style>\n",
       "<table border=\"1\" class=\"dataframe\">\n",
       "  <thead>\n",
       "    <tr style=\"text-align: right;\">\n",
       "      <th></th>\n",
       "      <th>index</th>\n",
       "      <th>platform</th>\n",
       "      <th>na_sales</th>\n",
       "    </tr>\n",
       "  </thead>\n",
       "  <tbody>\n",
       "    <tr>\n",
       "      <td>0</td>\n",
       "      <td>10</td>\n",
       "      <td>x360</td>\n",
       "      <td>334.18</td>\n",
       "    </tr>\n",
       "    <tr>\n",
       "      <td>1</td>\n",
       "      <td>4</td>\n",
       "      <td>ps3</td>\n",
       "      <td>229.25</td>\n",
       "    </tr>\n",
       "    <tr>\n",
       "      <td>2</td>\n",
       "      <td>8</td>\n",
       "      <td>wii</td>\n",
       "      <td>121.20</td>\n",
       "    </tr>\n",
       "    <tr>\n",
       "      <td>3</td>\n",
       "      <td>5</td>\n",
       "      <td>ps4</td>\n",
       "      <td>108.74</td>\n",
       "    </tr>\n",
       "    <tr>\n",
       "      <td>4</td>\n",
       "      <td>11</td>\n",
       "      <td>xone</td>\n",
       "      <td>93.12</td>\n",
       "    </tr>\n",
       "  </tbody>\n",
       "</table>\n",
       "</div>"
      ],
      "text/plain": [
       "   index platform  na_sales\n",
       "0     10     x360    334.18\n",
       "1      4      ps3    229.25\n",
       "2      8      wii    121.20\n",
       "3      5      ps4    108.74\n",
       "4     11     xone     93.12"
      ]
     },
     "execution_count": 38,
     "metadata": {},
     "output_type": "execute_result"
    }
   ],
   "source": [
    "# Посмотрим топ-5 в Северной Америке\n",
    "data_actual_platform_na_sales_top = data_actual.groupby('platform', as_index=False)['na_sales'].sum().sort_values(by='na_sales', ascending = False).reset_index()\n",
    "data_actual_platform_na_sales_top_5 = data_actual_platform_na_sales_top.head()\n",
    "data_actual_platform_na_sales_top_5"
   ]
  },
  {
   "cell_type": "code",
   "execution_count": 39,
   "metadata": {},
   "outputs": [
    {
     "data": {
      "text/html": [
       "<div>\n",
       "<style scoped>\n",
       "    .dataframe tbody tr th:only-of-type {\n",
       "        vertical-align: middle;\n",
       "    }\n",
       "\n",
       "    .dataframe tbody tr th {\n",
       "        vertical-align: top;\n",
       "    }\n",
       "\n",
       "    .dataframe thead th {\n",
       "        text-align: right;\n",
       "    }\n",
       "</style>\n",
       "<table border=\"1\" class=\"dataframe\">\n",
       "  <thead>\n",
       "    <tr style=\"text-align: right;\">\n",
       "      <th></th>\n",
       "      <th>index</th>\n",
       "      <th>platform</th>\n",
       "      <th>eu_sales</th>\n",
       "    </tr>\n",
       "  </thead>\n",
       "  <tbody>\n",
       "    <tr>\n",
       "      <td>0</td>\n",
       "      <td>4</td>\n",
       "      <td>ps3</td>\n",
       "      <td>213.60</td>\n",
       "    </tr>\n",
       "    <tr>\n",
       "      <td>1</td>\n",
       "      <td>10</td>\n",
       "      <td>x360</td>\n",
       "      <td>163.41</td>\n",
       "    </tr>\n",
       "    <tr>\n",
       "      <td>2</td>\n",
       "      <td>5</td>\n",
       "      <td>ps4</td>\n",
       "      <td>141.09</td>\n",
       "    </tr>\n",
       "    <tr>\n",
       "      <td>3</td>\n",
       "      <td>2</td>\n",
       "      <td>pc</td>\n",
       "      <td>68.82</td>\n",
       "    </tr>\n",
       "    <tr>\n",
       "      <td>4</td>\n",
       "      <td>8</td>\n",
       "      <td>wii</td>\n",
       "      <td>65.91</td>\n",
       "    </tr>\n",
       "  </tbody>\n",
       "</table>\n",
       "</div>"
      ],
      "text/plain": [
       "   index platform  eu_sales\n",
       "0      4      ps3    213.60\n",
       "1     10     x360    163.41\n",
       "2      5      ps4    141.09\n",
       "3      2       pc     68.82\n",
       "4      8      wii     65.91"
      ]
     },
     "execution_count": 39,
     "metadata": {},
     "output_type": "execute_result"
    }
   ],
   "source": [
    "# Посмотрим топ-5 в Европе\n",
    "data_actual_platform_eu_sales_top = data_actual.groupby('platform', as_index=False)['eu_sales'].sum().sort_values(by='eu_sales', ascending = False).reset_index()\n",
    "data_actual_platform_eu_sales_top_5 = data_actual_platform_eu_sales_top.head()\n",
    "data_actual_platform_eu_sales_top_5"
   ]
  },
  {
   "cell_type": "code",
   "execution_count": 40,
   "metadata": {},
   "outputs": [
    {
     "data": {
      "text/html": [
       "<div>\n",
       "<style scoped>\n",
       "    .dataframe tbody tr th:only-of-type {\n",
       "        vertical-align: middle;\n",
       "    }\n",
       "\n",
       "    .dataframe tbody tr th {\n",
       "        vertical-align: top;\n",
       "    }\n",
       "\n",
       "    .dataframe thead th {\n",
       "        text-align: right;\n",
       "    }\n",
       "</style>\n",
       "<table border=\"1\" class=\"dataframe\">\n",
       "  <thead>\n",
       "    <tr style=\"text-align: right;\">\n",
       "      <th></th>\n",
       "      <th>index</th>\n",
       "      <th>platform</th>\n",
       "      <th>jp_sales</th>\n",
       "    </tr>\n",
       "  </thead>\n",
       "  <tbody>\n",
       "    <tr>\n",
       "      <td>0</td>\n",
       "      <td>0</td>\n",
       "      <td>3ds</td>\n",
       "      <td>100.62</td>\n",
       "    </tr>\n",
       "    <tr>\n",
       "      <td>1</td>\n",
       "      <td>4</td>\n",
       "      <td>ps3</td>\n",
       "      <td>59.26</td>\n",
       "    </tr>\n",
       "    <tr>\n",
       "      <td>2</td>\n",
       "      <td>6</td>\n",
       "      <td>psp</td>\n",
       "      <td>42.20</td>\n",
       "    </tr>\n",
       "    <tr>\n",
       "      <td>3</td>\n",
       "      <td>1</td>\n",
       "      <td>ds</td>\n",
       "      <td>27.90</td>\n",
       "    </tr>\n",
       "    <tr>\n",
       "      <td>4</td>\n",
       "      <td>7</td>\n",
       "      <td>psv</td>\n",
       "      <td>21.84</td>\n",
       "    </tr>\n",
       "  </tbody>\n",
       "</table>\n",
       "</div>"
      ],
      "text/plain": [
       "   index platform  jp_sales\n",
       "0      0      3ds    100.62\n",
       "1      4      ps3     59.26\n",
       "2      6      psp     42.20\n",
       "3      1       ds     27.90\n",
       "4      7      psv     21.84"
      ]
     },
     "execution_count": 40,
     "metadata": {},
     "output_type": "execute_result"
    }
   ],
   "source": [
    "# Посмотрим топ-5 в Японии\n",
    "data_actual_platform_jp_sales_top = data_actual.groupby('platform', as_index=False)['jp_sales'].sum().sort_values(by='jp_sales', ascending = False).reset_index()\n",
    "data_actual_platform_jp_sales_top_5 = data_actual_platform_jp_sales_top.head()\n",
    "data_actual_platform_jp_sales_top_5"
   ]
  },
  {
   "cell_type": "code",
   "execution_count": 41,
   "metadata": {},
   "outputs": [
    {
     "data": {
      "text/html": [
       "<div>\n",
       "<style scoped>\n",
       "    .dataframe tbody tr th:only-of-type {\n",
       "        vertical-align: middle;\n",
       "    }\n",
       "\n",
       "    .dataframe tbody tr th {\n",
       "        vertical-align: top;\n",
       "    }\n",
       "\n",
       "    .dataframe thead th {\n",
       "        text-align: right;\n",
       "    }\n",
       "</style>\n",
       "<table border=\"1\" class=\"dataframe\">\n",
       "  <thead>\n",
       "    <tr style=\"text-align: right;\">\n",
       "      <th></th>\n",
       "      <th>na_platform</th>\n",
       "      <th>na_sales</th>\n",
       "      <th>eu_platform</th>\n",
       "      <th>eu_sales</th>\n",
       "      <th>jp_platform</th>\n",
       "      <th>jp_sales</th>\n",
       "    </tr>\n",
       "  </thead>\n",
       "  <tbody>\n",
       "    <tr>\n",
       "      <td>0</td>\n",
       "      <td>x360</td>\n",
       "      <td>334.18</td>\n",
       "      <td>ps3</td>\n",
       "      <td>213.60</td>\n",
       "      <td>3ds</td>\n",
       "      <td>100.62</td>\n",
       "    </tr>\n",
       "    <tr>\n",
       "      <td>1</td>\n",
       "      <td>ps3</td>\n",
       "      <td>229.25</td>\n",
       "      <td>x360</td>\n",
       "      <td>163.41</td>\n",
       "      <td>ps3</td>\n",
       "      <td>59.26</td>\n",
       "    </tr>\n",
       "    <tr>\n",
       "      <td>2</td>\n",
       "      <td>wii</td>\n",
       "      <td>121.20</td>\n",
       "      <td>ps4</td>\n",
       "      <td>141.09</td>\n",
       "      <td>psp</td>\n",
       "      <td>42.20</td>\n",
       "    </tr>\n",
       "    <tr>\n",
       "      <td>3</td>\n",
       "      <td>ps4</td>\n",
       "      <td>108.74</td>\n",
       "      <td>pc</td>\n",
       "      <td>68.82</td>\n",
       "      <td>ds</td>\n",
       "      <td>27.90</td>\n",
       "    </tr>\n",
       "    <tr>\n",
       "      <td>4</td>\n",
       "      <td>xone</td>\n",
       "      <td>93.12</td>\n",
       "      <td>wii</td>\n",
       "      <td>65.91</td>\n",
       "      <td>psv</td>\n",
       "      <td>21.84</td>\n",
       "    </tr>\n",
       "  </tbody>\n",
       "</table>\n",
       "</div>"
      ],
      "text/plain": [
       "  na_platform  na_sales eu_platform  eu_sales jp_platform  jp_sales\n",
       "0        x360    334.18         ps3    213.60         3ds    100.62\n",
       "1         ps3    229.25        x360    163.41         ps3     59.26\n",
       "2         wii    121.20         ps4    141.09         psp     42.20\n",
       "3         ps4    108.74          pc     68.82          ds     27.90\n",
       "4        xone     93.12         wii     65.91         psv     21.84"
      ]
     },
     "execution_count": 41,
     "metadata": {},
     "output_type": "execute_result"
    }
   ],
   "source": [
    "# Объединим в одну таблицу топ5 платформ для каждого региона\n",
    "platform_sales = data_actual_platform_na_sales_top.join(data_actual_platform_eu_sales_top, lsuffix='_na', rsuffix='_eu')\n",
    "platform_sales = platform_sales.join(data_actual_platform_jp_sales_top, rsuffix='_jp')\n",
    "platform_sales.drop(['index_na','index_eu', 'index'], axis=1, inplace=True)\n",
    "platform_sales.columns=['na_platform', 'na_sales','eu_platform', 'eu_sales', 'jp_platform', 'jp_sales']\n",
    "platform_sales.head()"
   ]
  },
  {
   "cell_type": "code",
   "execution_count": 42,
   "metadata": {},
   "outputs": [
    {
     "data": {
      "image/png": "[encoded data removed]",
      "text/plain": [
       "<Figure size 720x504 with 1 Axes>"
      ]
     },
     "metadata": {
      "needs_background": "light"
     },
     "output_type": "display_data"
    },
    {
     "data": {
      "image/png": "[encoded data removed]",
      "text/plain": [
       "<Figure size 720x504 with 1 Axes>"
      ]
     },
     "metadata": {
      "needs_background": "light"
     },
     "output_type": "display_data"
    },
    {
     "data": {
      "image/png": "[encoded data removed]",
      "text/plain": [
       "<Figure size 720x504 with 1 Axes>"
      ]
     },
     "metadata": {
      "needs_background": "light"
     },
     "output_type": "display_data"
    }
   ],
   "source": [
    "# Напишем функцию, которая будет рисовать barplot \n",
    "def barplot_top5(df, x, y, title):\n",
    "    plt.rcParams[\"figure.figsize\"] = (10, 7)\n",
    "    ax = sns.barplot(x=x, y=y, data=df)\n",
    "    plt.title(title)\n",
    "    plt.grid()\n",
    "    plt.show()\n",
    "barplot_top5(data_actual_platform_na_sales_top_5, 'na_sales', 'platform', 'Топ-5 платформ в Северной Америке')  \n",
    "# В Северной Америке наиболее популярной платформой является XBOX360. \n",
    "# Возможно, дело в том, что создатель этой платформы - компания Microsoft - крупнейшая компания из США.\n",
    "# Затем - следом идет PS3. Wii, PS4 и XOne \"закрывают\" топ-5 - хоть эти приставки вышли относительно недавно,\n",
    "# но продажи игр на этих платформах набирают ход. Стоит отметить, что в СА - выше всего прибыль.\n",
    "# Поэтому в СА стоит сделать ставку на игры, которые выходят на xbox360\n",
    "barplot_top5(data_actual_platform_eu_sales_top_5, 'eu_sales', 'platform', 'Топ-5 платформ в Европе')  \n",
    "# В Европе популярнее всего PS3. Так исторически получилось, что японское качество в Европе ценится больше, \n",
    "# чем американские продукты. Однако, X360 не так сильно отстает (на 40 млн). Следом идет PS4 - причина та же, \n",
    "# что и для PS3. Аномалией является то, что в топ \"врывается\" PC: не зря считается, что больше всего стримеров\n",
    "# различных игр на ПК именно в Европе. \n",
    "# В Европе стоит сделать ставку на игры, выходящие на платформы от компании sony.\n",
    "barplot_top5(data_actual_platform_jp_sales_top_5, 'jp_sales', 'platform', 'Топ-5 платформ в Японии')  \n",
    "# Как ни странно, все топ-5 в Японии - приставки местного происхождения. Да и зачем ехать далеко, \n",
    "# если в своей стране делают качественный продукт? (привет, эксклюзивы только на определенные приставки)\n",
    "# Поэтому стоит сделать ставку на игры, выходящие на пристави, выпущенные в Японии."
   ]
  },
  {
   "cell_type": "markdown",
   "metadata": {},
   "source": [
    "<li> Самые популярные жанры (топ-5). </li>"
   ]
  },
  {
   "cell_type": "code",
   "execution_count": 43,
   "metadata": {},
   "outputs": [
    {
     "data": {
      "text/html": [
       "<div>\n",
       "<style scoped>\n",
       "    .dataframe tbody tr th:only-of-type {\n",
       "        vertical-align: middle;\n",
       "    }\n",
       "\n",
       "    .dataframe tbody tr th {\n",
       "        vertical-align: top;\n",
       "    }\n",
       "\n",
       "    .dataframe thead th {\n",
       "        text-align: right;\n",
       "    }\n",
       "</style>\n",
       "<table border=\"1\" class=\"dataframe\">\n",
       "  <thead>\n",
       "    <tr style=\"text-align: right;\">\n",
       "      <th></th>\n",
       "      <th>index</th>\n",
       "      <th>genre</th>\n",
       "      <th>na_sales</th>\n",
       "    </tr>\n",
       "  </thead>\n",
       "  <tbody>\n",
       "    <tr>\n",
       "      <td>0</td>\n",
       "      <td>0</td>\n",
       "      <td>action</td>\n",
       "      <td>290.64</td>\n",
       "    </tr>\n",
       "    <tr>\n",
       "      <td>1</td>\n",
       "      <td>8</td>\n",
       "      <td>shooter</td>\n",
       "      <td>237.47</td>\n",
       "    </tr>\n",
       "    <tr>\n",
       "      <td>2</td>\n",
       "      <td>10</td>\n",
       "      <td>sports</td>\n",
       "      <td>156.81</td>\n",
       "    </tr>\n",
       "    <tr>\n",
       "      <td>3</td>\n",
       "      <td>3</td>\n",
       "      <td>misc</td>\n",
       "      <td>123.80</td>\n",
       "    </tr>\n",
       "    <tr>\n",
       "      <td>4</td>\n",
       "      <td>7</td>\n",
       "      <td>role-playing</td>\n",
       "      <td>112.05</td>\n",
       "    </tr>\n",
       "  </tbody>\n",
       "</table>\n",
       "</div>"
      ],
      "text/plain": [
       "   index         genre  na_sales\n",
       "0      0        action    290.64\n",
       "1      8       shooter    237.47\n",
       "2     10        sports    156.81\n",
       "3      3          misc    123.80\n",
       "4      7  role-playing    112.05"
      ]
     },
     "execution_count": 43,
     "metadata": {},
     "output_type": "execute_result"
    }
   ],
   "source": [
    "# Посмотрим на ситуацию в Северной Америке\n",
    "data_actual_na_genre = data_actual.groupby('genre', as_index=False)['na_sales'].sum().sort_values(by='na_sales', ascending=False).reset_index()\n",
    "data_actual_na_genre_top_5 = data_actual_na_genre.head()\n",
    "data_actual_na_genre_top_5"
   ]
  },
  {
   "cell_type": "code",
   "execution_count": 44,
   "metadata": {},
   "outputs": [
    {
     "data": {
      "text/html": [
       "<div>\n",
       "<style scoped>\n",
       "    .dataframe tbody tr th:only-of-type {\n",
       "        vertical-align: middle;\n",
       "    }\n",
       "\n",
       "    .dataframe tbody tr th {\n",
       "        vertical-align: top;\n",
       "    }\n",
       "\n",
       "    .dataframe thead th {\n",
       "        text-align: right;\n",
       "    }\n",
       "</style>\n",
       "<table border=\"1\" class=\"dataframe\">\n",
       "  <thead>\n",
       "    <tr style=\"text-align: right;\">\n",
       "      <th></th>\n",
       "      <th>index</th>\n",
       "      <th>genre</th>\n",
       "      <th>eu_sales</th>\n",
       "    </tr>\n",
       "  </thead>\n",
       "  <tbody>\n",
       "    <tr>\n",
       "      <td>0</td>\n",
       "      <td>0</td>\n",
       "      <td>action</td>\n",
       "      <td>233.63</td>\n",
       "    </tr>\n",
       "    <tr>\n",
       "      <td>1</td>\n",
       "      <td>8</td>\n",
       "      <td>shooter</td>\n",
       "      <td>171.45</td>\n",
       "    </tr>\n",
       "    <tr>\n",
       "      <td>2</td>\n",
       "      <td>10</td>\n",
       "      <td>sports</td>\n",
       "      <td>116.84</td>\n",
       "    </tr>\n",
       "    <tr>\n",
       "      <td>3</td>\n",
       "      <td>7</td>\n",
       "      <td>role-playing</td>\n",
       "      <td>75.48</td>\n",
       "    </tr>\n",
       "    <tr>\n",
       "      <td>4</td>\n",
       "      <td>3</td>\n",
       "      <td>misc</td>\n",
       "      <td>66.09</td>\n",
       "    </tr>\n",
       "  </tbody>\n",
       "</table>\n",
       "</div>"
      ],
      "text/plain": [
       "   index         genre  eu_sales\n",
       "0      0        action    233.63\n",
       "1      8       shooter    171.45\n",
       "2     10        sports    116.84\n",
       "3      7  role-playing     75.48\n",
       "4      3          misc     66.09"
      ]
     },
     "execution_count": 44,
     "metadata": {},
     "output_type": "execute_result"
    }
   ],
   "source": [
    "data_actual_eu_genre = data_actual.groupby('genre', as_index=False)['eu_sales'].sum().sort_values(by='eu_sales', ascending=False).reset_index()\n",
    "data_actual_eu_genre_top_5 = data_actual_eu_genre.head()\n",
    "data_actual_eu_genre_top_5"
   ]
  },
  {
   "cell_type": "code",
   "execution_count": 45,
   "metadata": {},
   "outputs": [
    {
     "data": {
      "text/html": [
       "<div>\n",
       "<style scoped>\n",
       "    .dataframe tbody tr th:only-of-type {\n",
       "        vertical-align: middle;\n",
       "    }\n",
       "\n",
       "    .dataframe tbody tr th {\n",
       "        vertical-align: top;\n",
       "    }\n",
       "\n",
       "    .dataframe thead th {\n",
       "        text-align: right;\n",
       "    }\n",
       "</style>\n",
       "<table border=\"1\" class=\"dataframe\">\n",
       "  <thead>\n",
       "    <tr style=\"text-align: right;\">\n",
       "      <th></th>\n",
       "      <th>index</th>\n",
       "      <th>genre</th>\n",
       "      <th>jp_sales</th>\n",
       "    </tr>\n",
       "  </thead>\n",
       "  <tbody>\n",
       "    <tr>\n",
       "      <td>0</td>\n",
       "      <td>7</td>\n",
       "      <td>role-playing</td>\n",
       "      <td>103.54</td>\n",
       "    </tr>\n",
       "    <tr>\n",
       "      <td>1</td>\n",
       "      <td>0</td>\n",
       "      <td>action</td>\n",
       "      <td>72.20</td>\n",
       "    </tr>\n",
       "    <tr>\n",
       "      <td>2</td>\n",
       "      <td>3</td>\n",
       "      <td>misc</td>\n",
       "      <td>24.29</td>\n",
       "    </tr>\n",
       "    <tr>\n",
       "      <td>3</td>\n",
       "      <td>4</td>\n",
       "      <td>platform</td>\n",
       "      <td>15.81</td>\n",
       "    </tr>\n",
       "    <tr>\n",
       "      <td>4</td>\n",
       "      <td>1</td>\n",
       "      <td>adventure</td>\n",
       "      <td>15.67</td>\n",
       "    </tr>\n",
       "  </tbody>\n",
       "</table>\n",
       "</div>"
      ],
      "text/plain": [
       "   index         genre  jp_sales\n",
       "0      7  role-playing    103.54\n",
       "1      0        action     72.20\n",
       "2      3          misc     24.29\n",
       "3      4      platform     15.81\n",
       "4      1     adventure     15.67"
      ]
     },
     "execution_count": 45,
     "metadata": {},
     "output_type": "execute_result"
    }
   ],
   "source": [
    "data_actual_jp_genre = data_actual.groupby('genre', as_index=False)['jp_sales'].sum().sort_values(by='jp_sales', ascending=False).reset_index()\n",
    "data_actual_jp_genre_top_5 = data_actual_jp_genre.head()\n",
    "data_actual_jp_genre_top_5"
   ]
  },
  {
   "cell_type": "code",
   "execution_count": 46,
   "metadata": {},
   "outputs": [
    {
     "data": {
      "text/html": [
       "<div>\n",
       "<style scoped>\n",
       "    .dataframe tbody tr th:only-of-type {\n",
       "        vertical-align: middle;\n",
       "    }\n",
       "\n",
       "    .dataframe tbody tr th {\n",
       "        vertical-align: top;\n",
       "    }\n",
       "\n",
       "    .dataframe thead th {\n",
       "        text-align: right;\n",
       "    }\n",
       "</style>\n",
       "<table border=\"1\" class=\"dataframe\">\n",
       "  <thead>\n",
       "    <tr style=\"text-align: right;\">\n",
       "      <th></th>\n",
       "      <th>na_genre</th>\n",
       "      <th>na_sales</th>\n",
       "      <th>eu_genre</th>\n",
       "      <th>eu_sales</th>\n",
       "      <th>jp_genre</th>\n",
       "      <th>jp_sales</th>\n",
       "    </tr>\n",
       "  </thead>\n",
       "  <tbody>\n",
       "    <tr>\n",
       "      <td>0</td>\n",
       "      <td>action</td>\n",
       "      <td>290.64</td>\n",
       "      <td>action</td>\n",
       "      <td>233.63</td>\n",
       "      <td>role-playing</td>\n",
       "      <td>103.54</td>\n",
       "    </tr>\n",
       "    <tr>\n",
       "      <td>1</td>\n",
       "      <td>shooter</td>\n",
       "      <td>237.47</td>\n",
       "      <td>shooter</td>\n",
       "      <td>171.45</td>\n",
       "      <td>action</td>\n",
       "      <td>72.20</td>\n",
       "    </tr>\n",
       "    <tr>\n",
       "      <td>2</td>\n",
       "      <td>sports</td>\n",
       "      <td>156.81</td>\n",
       "      <td>sports</td>\n",
       "      <td>116.84</td>\n",
       "      <td>misc</td>\n",
       "      <td>24.29</td>\n",
       "    </tr>\n",
       "    <tr>\n",
       "      <td>3</td>\n",
       "      <td>misc</td>\n",
       "      <td>123.80</td>\n",
       "      <td>role-playing</td>\n",
       "      <td>75.48</td>\n",
       "      <td>platform</td>\n",
       "      <td>15.81</td>\n",
       "    </tr>\n",
       "    <tr>\n",
       "      <td>4</td>\n",
       "      <td>role-playing</td>\n",
       "      <td>112.05</td>\n",
       "      <td>misc</td>\n",
       "      <td>66.09</td>\n",
       "      <td>adventure</td>\n",
       "      <td>15.67</td>\n",
       "    </tr>\n",
       "  </tbody>\n",
       "</table>\n",
       "</div>"
      ],
      "text/plain": [
       "       na_genre  na_sales      eu_genre  eu_sales      jp_genre  jp_sales\n",
       "0        action    290.64        action    233.63  role-playing    103.54\n",
       "1       shooter    237.47       shooter    171.45        action     72.20\n",
       "2        sports    156.81        sports    116.84          misc     24.29\n",
       "3          misc    123.80  role-playing     75.48      platform     15.81\n",
       "4  role-playing    112.05          misc     66.09     adventure     15.67"
      ]
     },
     "execution_count": 46,
     "metadata": {},
     "output_type": "execute_result"
    }
   ],
   "source": [
    "# Объединим в одну таблицу топ5 жанров для каждого региона\n",
    "genre_sales = data_actual_na_genre.join(data_actual_eu_genre, lsuffix='_na', rsuffix='_eu')\n",
    "genre_sales = genre_sales.join(data_actual_jp_genre, rsuffix='_jp')\n",
    "genre_sales.drop(['index_na','index_eu', 'index'], axis=1, inplace=True)\n",
    "genre_sales.columns=['na_genre', 'na_sales','eu_genre', 'eu_sales', 'jp_genre', 'jp_sales']\n",
    "genre_sales.head()"
   ]
  },
  {
   "cell_type": "code",
   "execution_count": 47,
   "metadata": {},
   "outputs": [
    {
     "data": {
      "image/png": "[encoded data removed]",
      "text/plain": [
       "<Figure size 720x504 with 1 Axes>"
      ]
     },
     "metadata": {
      "needs_background": "light"
     },
     "output_type": "display_data"
    },
    {
     "data": {
      "image/png": "[encoded data removed]",
      "text/plain": [
       "<Figure size 720x504 with 1 Axes>"
      ]
     },
     "metadata": {
      "needs_background": "light"
     },
     "output_type": "display_data"
    },
    {
     "data": {
      "image/png": "[encoded data removed]",
      "text/plain": [
       "<Figure size 720x504 with 1 Axes>"
      ]
     },
     "metadata": {
      "needs_background": "light"
     },
     "output_type": "display_data"
    }
   ],
   "source": [
    "barplot_top5(data_actual_na_genre_top_5, 'na_sales', 'genre', 'Топ-5 жанров в Северной Америке')\n",
    "# Топ-5 выглядит вполне логичным: большинство игр, которые выпускаются компаниями из Северной Америке, имеют именно такие жанры.\n",
    "# Опять же - прибыль намного выше, чем для Европы и Японии\n",
    "barplot_top5(data_actual_eu_genre_top_5, 'eu_sales', 'genre', 'Топ-5 жанров в Европе')\n",
    "# Соотношение практическое такое же, как и для СА. Основное отличие - 4 место - Role-Playing. Возможно, связано опять же \n",
    "# со стримами, где любят транслировать ММОРПГ. \n",
    "barplot_top5(data_actual_jp_genre_top_5, 'jp_sales', 'genre', 'Топ-5 жанров в Японии')\n",
    "# Ситуация кардинально меняется в Японии - РПГ вырывается вперед.\n",
    "# Появляются такие жанры как Adventure и Platform (любимые жанры в Японии - стоит только посмотреть на статистику выхода игр\n",
    "# данных жанров в этом регионе)"
   ]
  },
  {
   "cell_type": "markdown",
   "metadata": {},
   "source": [
    "<li> Влияет ли рейтинг ESRB на продажи в отдельном регионе? </li>"
   ]
  },
  {
   "cell_type": "code",
   "execution_count": 48,
   "metadata": {},
   "outputs": [],
   "source": [
    "# Посмотрим на ситуацию в Северной Америке\n",
    "data_actual_na_esrb = data_actual.groupby('rating', as_index=False)['na_sales'].sum().sort_values(by='na_sales', ascending = False).reset_index()"
   ]
  },
  {
   "cell_type": "code",
   "execution_count": 49,
   "metadata": {},
   "outputs": [
    {
     "data": {
      "text/html": [
       "<div>\n",
       "<style scoped>\n",
       "    .dataframe tbody tr th:only-of-type {\n",
       "        vertical-align: middle;\n",
       "    }\n",
       "\n",
       "    .dataframe tbody tr th {\n",
       "        vertical-align: top;\n",
       "    }\n",
       "\n",
       "    .dataframe thead th {\n",
       "        text-align: right;\n",
       "    }\n",
       "</style>\n",
       "<table border=\"1\" class=\"dataframe\">\n",
       "  <thead>\n",
       "    <tr style=\"text-align: right;\">\n",
       "      <th></th>\n",
       "      <th>index</th>\n",
       "      <th>rating</th>\n",
       "      <th>eu_sales</th>\n",
       "    </tr>\n",
       "  </thead>\n",
       "  <tbody>\n",
       "    <tr>\n",
       "      <td>0</td>\n",
       "      <td>3</td>\n",
       "      <td>m</td>\n",
       "      <td>292.04</td>\n",
       "    </tr>\n",
       "    <tr>\n",
       "      <td>1</td>\n",
       "      <td>0</td>\n",
       "      <td>e</td>\n",
       "      <td>197.34</td>\n",
       "    </tr>\n",
       "    <tr>\n",
       "      <td>2</td>\n",
       "      <td>4</td>\n",
       "      <td>no_rating</td>\n",
       "      <td>139.44</td>\n",
       "    </tr>\n",
       "    <tr>\n",
       "      <td>3</td>\n",
       "      <td>6</td>\n",
       "      <td>t</td>\n",
       "      <td>113.08</td>\n",
       "    </tr>\n",
       "    <tr>\n",
       "      <td>4</td>\n",
       "      <td>1</td>\n",
       "      <td>e10+</td>\n",
       "      <td>99.28</td>\n",
       "    </tr>\n",
       "    <tr>\n",
       "      <td>5</td>\n",
       "      <td>5</td>\n",
       "      <td>rp</td>\n",
       "      <td>0.03</td>\n",
       "    </tr>\n",
       "    <tr>\n",
       "      <td>6</td>\n",
       "      <td>2</td>\n",
       "      <td>ec</td>\n",
       "      <td>0.00</td>\n",
       "    </tr>\n",
       "  </tbody>\n",
       "</table>\n",
       "</div>"
      ],
      "text/plain": [
       "   index     rating  eu_sales\n",
       "0      3          m    292.04\n",
       "1      0          e    197.34\n",
       "2      4  no_rating    139.44\n",
       "3      6          t    113.08\n",
       "4      1       e10+     99.28\n",
       "5      5         rp      0.03\n",
       "6      2         ec      0.00"
      ]
     },
     "execution_count": 49,
     "metadata": {},
     "output_type": "execute_result"
    }
   ],
   "source": [
    "# Посмотрим на ситуацию в Европе\n",
    "data_actual_eu_esrb = data_actual.groupby('rating', as_index=False)['eu_sales'].sum().sort_values(by='eu_sales', ascending = False).reset_index()\n",
    "data_actual_eu_esrb"
   ]
  },
  {
   "cell_type": "code",
   "execution_count": 50,
   "metadata": {},
   "outputs": [
    {
     "data": {
      "text/html": [
       "<div>\n",
       "<style scoped>\n",
       "    .dataframe tbody tr th:only-of-type {\n",
       "        vertical-align: middle;\n",
       "    }\n",
       "\n",
       "    .dataframe tbody tr th {\n",
       "        vertical-align: top;\n",
       "    }\n",
       "\n",
       "    .dataframe thead th {\n",
       "        text-align: right;\n",
       "    }\n",
       "</style>\n",
       "<table border=\"1\" class=\"dataframe\">\n",
       "  <thead>\n",
       "    <tr style=\"text-align: right;\">\n",
       "      <th></th>\n",
       "      <th>index</th>\n",
       "      <th>rating</th>\n",
       "      <th>jp_sales</th>\n",
       "    </tr>\n",
       "  </thead>\n",
       "  <tbody>\n",
       "    <tr>\n",
       "      <td>0</td>\n",
       "      <td>4</td>\n",
       "      <td>no_rating</td>\n",
       "      <td>171.49</td>\n",
       "    </tr>\n",
       "    <tr>\n",
       "      <td>1</td>\n",
       "      <td>0</td>\n",
       "      <td>e</td>\n",
       "      <td>47.87</td>\n",
       "    </tr>\n",
       "    <tr>\n",
       "      <td>2</td>\n",
       "      <td>6</td>\n",
       "      <td>t</td>\n",
       "      <td>42.11</td>\n",
       "    </tr>\n",
       "    <tr>\n",
       "      <td>3</td>\n",
       "      <td>3</td>\n",
       "      <td>m</td>\n",
       "      <td>30.45</td>\n",
       "    </tr>\n",
       "    <tr>\n",
       "      <td>4</td>\n",
       "      <td>1</td>\n",
       "      <td>e10+</td>\n",
       "      <td>13.22</td>\n",
       "    </tr>\n",
       "    <tr>\n",
       "      <td>5</td>\n",
       "      <td>2</td>\n",
       "      <td>ec</td>\n",
       "      <td>0.00</td>\n",
       "    </tr>\n",
       "    <tr>\n",
       "      <td>6</td>\n",
       "      <td>5</td>\n",
       "      <td>rp</td>\n",
       "      <td>0.00</td>\n",
       "    </tr>\n",
       "  </tbody>\n",
       "</table>\n",
       "</div>"
      ],
      "text/plain": [
       "   index     rating  jp_sales\n",
       "0      4  no_rating    171.49\n",
       "1      0          e     47.87\n",
       "2      6          t     42.11\n",
       "3      3          m     30.45\n",
       "4      1       e10+     13.22\n",
       "5      2         ec      0.00\n",
       "6      5         rp      0.00"
      ]
     },
     "execution_count": 50,
     "metadata": {},
     "output_type": "execute_result"
    }
   ],
   "source": [
    "# Посмотрим на ситуацию в Европе\n",
    "data_actual_jp_esrb = data_actual.groupby('rating', as_index=False)['jp_sales'].sum().sort_values(by='jp_sales', ascending = False).reset_index()\n",
    "data_actual_jp_esrb"
   ]
  },
  {
   "cell_type": "code",
   "execution_count": 51,
   "metadata": {},
   "outputs": [
    {
     "data": {
      "text/html": [
       "<div>\n",
       "<style scoped>\n",
       "    .dataframe tbody tr th:only-of-type {\n",
       "        vertical-align: middle;\n",
       "    }\n",
       "\n",
       "    .dataframe tbody tr th {\n",
       "        vertical-align: top;\n",
       "    }\n",
       "\n",
       "    .dataframe thead th {\n",
       "        text-align: right;\n",
       "    }\n",
       "</style>\n",
       "<table border=\"1\" class=\"dataframe\">\n",
       "  <thead>\n",
       "    <tr style=\"text-align: right;\">\n",
       "      <th></th>\n",
       "      <th>na_rating</th>\n",
       "      <th>na_sales</th>\n",
       "      <th>eu_rating</th>\n",
       "      <th>eu_sales</th>\n",
       "      <th>jp_rating</th>\n",
       "      <th>jp_sales</th>\n",
       "    </tr>\n",
       "  </thead>\n",
       "  <tbody>\n",
       "    <tr>\n",
       "      <td>0</td>\n",
       "      <td>m</td>\n",
       "      <td>382.22</td>\n",
       "      <td>m</td>\n",
       "      <td>292.04</td>\n",
       "      <td>no_rating</td>\n",
       "      <td>171.49</td>\n",
       "    </tr>\n",
       "    <tr>\n",
       "      <td>1</td>\n",
       "      <td>e</td>\n",
       "      <td>271.15</td>\n",
       "      <td>e</td>\n",
       "      <td>197.34</td>\n",
       "      <td>e</td>\n",
       "      <td>47.87</td>\n",
       "    </tr>\n",
       "    <tr>\n",
       "      <td>2</td>\n",
       "      <td>t</td>\n",
       "      <td>160.81</td>\n",
       "      <td>no_rating</td>\n",
       "      <td>139.44</td>\n",
       "      <td>t</td>\n",
       "      <td>42.11</td>\n",
       "    </tr>\n",
       "    <tr>\n",
       "      <td>3</td>\n",
       "      <td>e10+</td>\n",
       "      <td>159.38</td>\n",
       "      <td>t</td>\n",
       "      <td>113.08</td>\n",
       "      <td>m</td>\n",
       "      <td>30.45</td>\n",
       "    </tr>\n",
       "    <tr>\n",
       "      <td>4</td>\n",
       "      <td>no_rating</td>\n",
       "      <td>155.72</td>\n",
       "      <td>e10+</td>\n",
       "      <td>99.28</td>\n",
       "      <td>e10+</td>\n",
       "      <td>13.22</td>\n",
       "    </tr>\n",
       "  </tbody>\n",
       "</table>\n",
       "</div>"
      ],
      "text/plain": [
       "   na_rating  na_sales  eu_rating  eu_sales  jp_rating  jp_sales\n",
       "0          m    382.22          m    292.04  no_rating    171.49\n",
       "1          e    271.15          e    197.34          e     47.87\n",
       "2          t    160.81  no_rating    139.44          t     42.11\n",
       "3       e10+    159.38          t    113.08          m     30.45\n",
       "4  no_rating    155.72       e10+     99.28       e10+     13.22"
      ]
     },
     "execution_count": 51,
     "metadata": {},
     "output_type": "execute_result"
    }
   ],
   "source": [
    "# Объединим в одну таблицу топ5 рейтингов\n",
    "rating_sales = data_actual_na_esrb.join(data_actual_eu_esrb, lsuffix='_na', rsuffix='_eu')\n",
    "rating_sales = rating_sales.join(data_actual_jp_esrb, rsuffix='_jp')\n",
    "rating_sales.drop(['index_na','index_eu', 'index'], axis=1, inplace=True)\n",
    "rating_sales.columns=['na_rating', 'na_sales','eu_rating', 'eu_sales', 'jp_rating', 'jp_sales']\n",
    "rating_sales.head()"
   ]
  },
  {
   "cell_type": "code",
   "execution_count": 52,
   "metadata": {},
   "outputs": [
    {
     "data": {
      "image/png": "[encoded data removed]",
      "text/plain": [
       "<Figure size 720x504 with 1 Axes>"
      ]
     },
     "metadata": {
      "needs_background": "light"
     },
     "output_type": "display_data"
    },
    {
     "data": {
      "image/png": "[encoded data removed]",
      "text/plain": [
       "<Figure size 720x504 with 1 Axes>"
      ]
     },
     "metadata": {
      "needs_background": "light"
     },
     "output_type": "display_data"
    },
    {
     "data": {
      "image/png": "[encoded data removed]",
      "text/plain": [
       "<Figure size 720x504 with 1 Axes>"
      ]
     },
     "metadata": {
      "needs_background": "light"
     },
     "output_type": "display_data"
    }
   ],
   "source": [
    "barplot_top5(data_actual_na_esrb, 'na_sales', 'rating', 'Влияние рейтинга на продажи в Северной Америке')\n",
    "# Суммарно - большинство игр нацелено на аудиторию до 18 лет (категоря E, T, E10+). Однако около 40% на рынке занимают игры\n",
    "# только для взрослых. \n",
    "barplot_top5(data_actual_eu_esrb, 'eu_sales', 'rating', 'Влияние рейтинга на продажи в Европе')\n",
    "# Ситуация в Европе похожа на ситуацию в Северной Америке\n",
    "barplot_top5(data_actual_jp_esrb, 'jp_sales', 'rating', 'Влияние рейтинга на продажи в Японии')\n",
    "# В Японии ситуация кардинально меняется -  больше игр продаются категории \"всех возрастов\" (категория Е) и \"подростков\" (T).\n",
    "# Значительно меньше игры продаются в категории \"только для взрослых\"\n",
    "# Как можно заметить - в Японии много игр без рейтинга ESRB.\n",
    "# В Японии до недавнего времени эта рейтинговая система была крайне несовершенна, из-за чего постоянно случались разные казусы. \n",
    "# И хотя законы, касающиеся развлекательной продукции, в Стране восходящего солнца не столь суровы, как в Европе и США, \n",
    "# издатели и разработчики все равно терпели убытки.\n",
    "# Поэтому была введена другая система CERO, основное отличие которой является то, что за рейтингами следит специальная \n",
    "# государственная структура. "
   ]
  },
  {
   "cell_type": "markdown",
   "metadata": {},
   "source": [
    "### Вывод"
   ]
  },
  {
   "cell_type": "markdown",
   "metadata": {},
   "source": [
    "На данном этапе было проанализировано поведение пользователей в 3 региона: в Северной Америке, Европе и Японии. \n",
    "Было определено: <ul>\n",
    "    <li> территориальное влияние на выбор платформы сильно сказывается на продажах игр: например, в Японии предпочитают покупать игры только на платформы местного происхождения </li>\n",
    "    <li> распределение игр по жанрам в зависимости от региона: в Северной Америке и Европе ситуация похожа, в Японии же ситуация кардинально меняется - преимущественно РПГ </li>\n",
    "    <li> влияние ERSB-рейтинга на продажи: в Европе и Северной Америке около 60% прибыли от игры категории \"для всех\", \"подростков\" и \"10+\", 40% же от \"только для взрослых; Япония опять выделяется - большую часть прибыли приносят категории \"для всех\" и \"для подростков\", однако есть и много игр без рейтинга ESRB - это связано с тем, что эта система не прижилась в Японии, поэтому на территории этой страны была внедрена своя организация, отвечающая за рейтинг игр.</li>"
   ]
  },
  {
   "cell_type": "markdown",
   "metadata": {},
   "source": [
    "### Шаг 5. Проверка гипотез"
   ]
  },
  {
   "cell_type": "markdown",
   "metadata": {},
   "source": [
    "<li> Средние пользовательские рейтинги платформ Xbox One и PC одинаковыe </li>"
   ]
  },
  {
   "cell_type": "code",
   "execution_count": 53,
   "metadata": {},
   "outputs": [
    {
     "name": "stdout",
     "output_type": "stream",
     "text": [
      "Дисперсия для пользовательский рейтингов: 2.367839812996027\n",
      "Стандартное отклонение для пользовательских рейтингов: 1.538778675767255\n"
     ]
    }
   ],
   "source": [
    "# Рассмотрим первую гипотезу \"Средние пользовательские рейтинги платформ Xbox One и PC одинаковыe\".\n",
    "# Так как выясняем, есть ли разница между совокупностями, то нулевая гипотеза будет такой:\n",
    "# \"Средние пользовательские рейтинги платформ Xbox One и PC не одинаковыe\".\n",
    "# Альтернативная гипотеза - исходная.\n",
    "\n",
    "# Необходимые данные находятся в таблицы data_actual.\n",
    "# Разделим data_actual по платформам:\n",
    "data_actual = data_actual[data_actual['user_score'] >=0]\n",
    "data_actual_xone = data_actual[data_actual['platform'] == 'xone']\n",
    "data_actual_xone = data_actual_xone.groupby('name')['user_score'].mean()\n",
    "\n",
    "data_actual_pc = data_actual[data_actual['platform'] == 'pc']\n",
    "data_actual_pc = data_actual_pc.groupby('name')['user_score'].mean()\n",
    "\n",
    "\n",
    "print('Дисперсия для пользовательский рейтингов:', np.var(data_actual['user_score']))\n",
    "print('Стандартное отклонение для пользовательских рейтингов:',np.std(data_actual['user_score']))"
   ]
  },
  {
   "cell_type": "code",
   "execution_count": 54,
   "metadata": {},
   "outputs": [
    {
     "name": "stdout",
     "output_type": "stream",
     "text": [
      "p-уровень значимости: 0.05\n",
      "p-значение: 0.6657847645635646\n",
      "Не получилось отвергнуть нулевую гипотезу\n"
     ]
    }
   ],
   "source": [
    "# Создадим функцию, которая будет отвергать или не отвергать нулевую гипотезу \n",
    "def hypothesis(df_1, df_2, a):\n",
    "    # Из датафрейма выберем рандомное количество значений, равное N\n",
    "    # Зададим альфа\n",
    "    alpha = a\n",
    "    # Проверим гипотезу о равентсве средних двух независимых совокупностей\n",
    "    results = st.ttest_ind(\n",
    "        df_1, \n",
    "        df_2)\n",
    "    print('p-уровень значимости:', alpha)\n",
    "    print('p-значение:', results.pvalue)\n",
    "\n",
    "    if (results.pvalue < alpha):\n",
    "        print(\"Отвергаем нулевую гипотезу\")\n",
    "    else:\n",
    "        print(\"Не получилось отвергнуть нулевую гипотезу\")\n",
    "        \n",
    "hypothesis(data_actual_xone, data_actual_pc, 0.05)\n",
    "# Альфа меньшее, чем 0.05, обычно используются в таких ситуациях, когда необходимо быть ОЧЕНЬ уверенным \n",
    "# в отверждении нулевой гипотезы. Поэтому обычно низкие значения альфа используются в точных науках (физика, химия, медицина).\n",
    "# Для нашего же расчета можно принять альфа 0.05\n",
    "# Гипотеза H0 c альтернативной H1 не отвергается при уровне значимости 0.05, что звучит вполне логично: \n",
    "# есть как разные игры для пк и xbox (эксклюзивы), у которых рейтинги маловероятно, что будут совпадать, так и одинаковые игры\n",
    "# (кросс-платформенные), в которых тоже может быть разный рейтинг (разная оптимизация для каждой из платформы, \n",
    "# наличие или отсутствие багов, разный уровень графики, выпуск DLC для одной из платформ)"
   ]
  },
  {
   "cell_type": "markdown",
   "metadata": {},
   "source": [
    "<li>Средние пользовательские рейтинги жанров Action (англ. «действие») и Sports (англ. «виды спорта») разные </li>"
   ]
  },
  {
   "cell_type": "code",
   "execution_count": 55,
   "metadata": {},
   "outputs": [
    {
     "name": "stdout",
     "output_type": "stream",
     "text": [
      "p-уровень значимости: 0.05\n",
      "p-значение: 6.346762900830976e-09\n",
      "Отвергаем нулевую гипотезу\n"
     ]
    }
   ],
   "source": [
    "# Рассмотрим первую гипотезу \"Средние пользовательские рейтинги жанров Action (англ. «действие») и Sports (англ. «виды спорта») разные \".\n",
    "# Так как выясняем, есть ли разница между совокупностями, то нулевая гипотеза будет такой:\n",
    "# \"Средние пользовательские рейтинги жанров Action (англ. «действие») и Sports (англ. «виды спорта») одинаковые\".\n",
    "# Альтернативная гипотеза - исходная.\n",
    "\n",
    "# Необходимые данные находятся в таблицы data_actual.\n",
    "# Разделим data_actual по жанрам:\n",
    "data_actual_action = data_actual[data_actual['genre'] == 'action']\n",
    "data_actual_action = data_actual_action.groupby('name')['user_score'].mean()\n",
    "\n",
    "data_actual_sports = data_actual[data_actual['genre'] == 'sports']\n",
    "data_actual_sports = data_actual_sports.groupby('name')['user_score'].mean()\n",
    "\n",
    "hypothesis(data_actual_action, data_actual_sports, 0.05) \n",
    "# Гипотеза H0 c альтернативной H1 отвергается при уровне значимости 0.05, что звучит вполне логично: \n",
    "# как правило, спортивным играм ставят меньше рейтинги (особенно - пользователи), чем экшенам. Яркий пример - Fifa:\n",
    "# многие пользователи считают, что из года в год ничего не меняется (в этом есть небольшая доля правды), поэтому и выставляются\n",
    "# оценки ниже, чем для любой из игр жанра экшн. "
   ]
  },
  {
   "cell_type": "markdown",
   "metadata": {},
   "source": [
    "### Вывод"
   ]
  },
  {
   "cell_type": "markdown",
   "metadata": {},
   "source": [
    "На данном этапе была проведена проверка гипотез: <ul>\n",
    "    <li> нулевая гипотеза \"Средние пользовательские рейтинги платформ Xbox One и PC не одинаковыe\" не отвергается при уровне значимости 0.05 </li>\n",
    "    <li> нулевая гипотеза \"Средние пользовательские рейтинги жанров Action (англ. «действие») и Sports (англ. «виды спорта») одинаковые\" отвергается при уровне значимости 0.05</li> "
   ]
  },
  {
   "cell_type": "markdown",
   "metadata": {},
   "source": [
    "### Шаг 6. Напишите общий вывод"
   ]
  },
  {
   "cell_type": "markdown",
   "metadata": {},
   "source": [
    "В данном работе необходимо было выявить закономерности, которые должны определить успешность игр в будущем, чтобы сделать ставку на потенциально популярный продукт и спланировать рекламную компанию. Для этого было сделано следующее: <ul>\n",
    "    <li> подготовлены данные: обработаны пропуски и изменены типы данных </li> \n",
    "    <li> проведен исследовательский анализ данных: </li> <ul>\n",
    "    <li> были выбраны платформы с наибольшими суммарными продажами за весь период времени, указанный в датафрейме (PS, PS2, PS3, xbox360, Wii и DS).\n",
    "    <li> был выбран актуальный период времени, который можно использовать для прогнозирования продаж в 2017 году (2010-2016 г.), так как раннее были платформы седьмого поколения и ниже, сейчас же актуальны платформы восьмого поколения </li>\n",
    "    <li> из данных за актуальный период были выбраны потенциально прибыльные платформы (PS4, XOne, 3DS), которые могут \"выстрелить\" в 2017 году </li>\n",
    "    <li> для этих платформ были построены графики \"ящик с усами\" (было выявлено, что стоит сделать ставку на 3DS в перспективе), графики зависимости прибыли от рейтингов (показано, что корреляция сильнее для оценок критиков и прибыли, чем для оценок пользователей и прибыли - возможно, связано с тем, что пользователи чаще доверяются своим вкусам), общее распределение игр по жанрам(было обнаружено, что самыми прибыльными жанрами являются action,  shooter, sports и role-playing, а низкие продажи у puzzle, strategy, adventure, simulation и fighting. Вероятно, что дело в количестве изданных игр по каждому из жанров (например, игр в жанре шутер больше, чем в жанре стратегий)) </li>\n",
    "    </ul>\n",
    "    <li> было проанализировано поведение пользователей в 3 регионах: в Северной Америке, Европе и Японии: </li> <ul>\n",
    "    <li> территориальное влияние на выбор платформы сильно сказывается на продажах игр </li>\n",
    "    <li> распределение игр по жанрам в зависимости от региона так же сильно сказывается на продажах игр: Япония отличается в этом плане от СА и Европы </li>\n",
    "    <li> влияние ESRB-рейтинга на продажи: в Европе и СА около 40% приходится на категорию \"только для взрослых\", в Японии же - \"для всех\", также в Японии много игр без рейтинга - связано с тем, что у них свой критерий оценки игр </li>\n",
    "    </ul> \n",
    "\n",
    "    \n",
    "Таким образом, используя машинное обучение, на основе этой работы можно прогнозировать продажи и сделать ставку на потенциально популярный продукт. "
   ]
  }
 ],
 "metadata": {
  "kernelspec": {
   "display_name": "Python 3",
   "language": "python",
   "name": "python3"
  },
  "language_info": {
   "codemirror_mode": {
    "name": "ipython",
    "version": 3
   },
   "file_extension": ".py",
   "mimetype": "text/x-python",
   "name": "python",
   "nbconvert_exporter": "python",
   "pygments_lexer": "ipython3",
   "version": "3.7.6"
  }
 },
 "nbformat": 4,
 "nbformat_minor": 2
}
